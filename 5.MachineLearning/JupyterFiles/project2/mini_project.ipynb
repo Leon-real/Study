{
 "cells": [
  {
   "cell_type": "markdown",
   "id": "3938ae3b",
   "metadata": {},
   "source": [
    "# 장애인 콜택시 대기시간 예측 프로젝트\n",
    "## 목표\n",
    "- 기상 예보를 바탕으로, 장애인 콜택시 평균 대기 시간을 예측하기.\n",
    "- 장애인 이동권 개선을 위하여서, 콜택시 대기시간을 예측하는 프로젝트이다.  \n",
    "- 이를 통하여 장애인 콜택시를 이용하는 고객들의 불편사항을 개선하고 서비스의 품질을 높여 교통약자의 이동 편의 증진에 기여한다.\n",
    "### 목차\n",
    "1. 데이터 처리\n",
    "2. 데이터 분석\n",
    "3. 머신러닝 모델링\n",
    "    - (나머지 3달 데이터는 테스트, 나머지는 학습데이터로 활용)\n",
    "    - MAE, MAPE를 사용해 성능 높은 모델 선정\n",
    "- 데이터 출처 : [서울시설공단_장애인콜택시 일별 이용현황](https://www.data.go.kr/data/15057705/openapi.do)  "
   ]
  },
  {
   "cell_type": "markdown",
   "id": "30b90328",
   "metadata": {},
   "source": [
    "## 라이브러리 불러오기"
   ]
  },
  {
   "cell_type": "code",
   "execution_count": 2,
   "id": "a430fd22",
   "metadata": {},
   "outputs": [],
   "source": [
    "import numpy as np\n",
    "import pandas as pd\n",
    "import matplotlib.pyplot as plt\n",
    "import seaborn as sns"
   ]
  },
  {
   "cell_type": "markdown",
   "id": "5cbe0f35",
   "metadata": {},
   "source": [
    "## 데이터 불러오기"
   ]
  },
  {
   "cell_type": "code",
   "execution_count": 3,
   "id": "f585f162",
   "metadata": {},
   "outputs": [],
   "source": [
    "file1 = pd.read_csv('./data/open_data.csv')\n",
    "file2 = pd.read_csv('./data/weather.csv')"
   ]
  },
  {
   "cell_type": "code",
   "execution_count": 7,
   "id": "53b46d37",
   "metadata": {},
   "outputs": [
    {
     "data": {
      "text/html": [
       "<div>\n",
       "<style scoped>\n",
       "    .dataframe tbody tr th:only-of-type {\n",
       "        vertical-align: middle;\n",
       "    }\n",
       "\n",
       "    .dataframe tbody tr th {\n",
       "        vertical-align: top;\n",
       "    }\n",
       "\n",
       "    .dataframe thead th {\n",
       "        text-align: right;\n",
       "    }\n",
       "</style>\n",
       "<table border=\"1\" class=\"dataframe\">\n",
       "  <thead>\n",
       "    <tr style=\"text-align: right;\">\n",
       "      <th></th>\n",
       "      <th>기준일</th>\n",
       "      <th>차량운행</th>\n",
       "      <th>접수건</th>\n",
       "      <th>탑승건</th>\n",
       "      <th>평균대기시간</th>\n",
       "      <th>평균요금</th>\n",
       "      <th>평균승차거리</th>\n",
       "    </tr>\n",
       "  </thead>\n",
       "  <tbody>\n",
       "    <tr>\n",
       "      <th>0</th>\n",
       "      <td>2015-01-01</td>\n",
       "      <td>213</td>\n",
       "      <td>1023</td>\n",
       "      <td>924</td>\n",
       "      <td>23.2</td>\n",
       "      <td>2427</td>\n",
       "      <td>10764</td>\n",
       "    </tr>\n",
       "    <tr>\n",
       "      <th>1</th>\n",
       "      <td>2015-01-02</td>\n",
       "      <td>420</td>\n",
       "      <td>3158</td>\n",
       "      <td>2839</td>\n",
       "      <td>17.2</td>\n",
       "      <td>2216</td>\n",
       "      <td>8611</td>\n",
       "    </tr>\n",
       "  </tbody>\n",
       "</table>\n",
       "</div>"
      ],
      "text/plain": [
       "          기준일  차량운행   접수건   탑승건  평균대기시간  평균요금  평균승차거리\n",
       "0  2015-01-01   213  1023   924    23.2  2427   10764\n",
       "1  2015-01-02   420  3158  2839    17.2  2216    8611"
      ]
     },
     "metadata": {},
     "output_type": "display_data"
    },
    {
     "data": {
      "text/html": [
       "<div>\n",
       "<style scoped>\n",
       "    .dataframe tbody tr th:only-of-type {\n",
       "        vertical-align: middle;\n",
       "    }\n",
       "\n",
       "    .dataframe tbody tr th {\n",
       "        vertical-align: top;\n",
       "    }\n",
       "\n",
       "    .dataframe thead th {\n",
       "        text-align: right;\n",
       "    }\n",
       "</style>\n",
       "<table border=\"1\" class=\"dataframe\">\n",
       "  <thead>\n",
       "    <tr style=\"text-align: right;\">\n",
       "      <th></th>\n",
       "      <th>Date</th>\n",
       "      <th>temp_max</th>\n",
       "      <th>temp_min</th>\n",
       "      <th>rain(mm)</th>\n",
       "      <th>humidity_max(%)</th>\n",
       "      <th>humidity_min(%)</th>\n",
       "      <th>sunshine(MJ/m2)</th>\n",
       "    </tr>\n",
       "  </thead>\n",
       "  <tbody>\n",
       "    <tr>\n",
       "      <th>0</th>\n",
       "      <td>2012-01-01</td>\n",
       "      <td>0.4</td>\n",
       "      <td>-6.6</td>\n",
       "      <td>0.0</td>\n",
       "      <td>77.0</td>\n",
       "      <td>45.0</td>\n",
       "      <td>4.90</td>\n",
       "    </tr>\n",
       "    <tr>\n",
       "      <th>1</th>\n",
       "      <td>2012-01-02</td>\n",
       "      <td>-1.2</td>\n",
       "      <td>-8.3</td>\n",
       "      <td>0.0</td>\n",
       "      <td>80.0</td>\n",
       "      <td>48.0</td>\n",
       "      <td>6.16</td>\n",
       "    </tr>\n",
       "  </tbody>\n",
       "</table>\n",
       "</div>"
      ],
      "text/plain": [
       "         Date  temp_max  temp_min  rain(mm)  humidity_max(%)  humidity_min(%)  \\\n",
       "0  2012-01-01       0.4      -6.6       0.0             77.0             45.0   \n",
       "1  2012-01-02      -1.2      -8.3       0.0             80.0             48.0   \n",
       "\n",
       "   sunshine(MJ/m2)  \n",
       "0             4.90  \n",
       "1             6.16  "
      ]
     },
     "metadata": {},
     "output_type": "display_data"
    }
   ],
   "source": [
    "display(file1.head(2))\n",
    "display(file2.head(2))"
   ]
  },
  {
   "cell_type": "markdown",
   "id": "17a8dac1",
   "metadata": {},
   "source": [
    "# 1. 데이터 처리\n",
    "- 기본 정보 확인\n",
    "- 두 데이터프레임 날짜 기준으로 합치기.(단, file2의 경우 예보로 활용할 데이터이기 때문에 날짜를 하나 앞으로 당겨주어 데이터프레임을 합쳐준다.)"
   ]
  },
  {
   "cell_type": "code",
   "execution_count": 27,
   "id": "b18a1af2",
   "metadata": {},
   "outputs": [],
   "source": [
    "file1['time'] = pd.to_datetime(file1['기준일'])\n",
    "file2['time'] = pd.to_datetime(file2['Date'].shift(-1))"
   ]
  },
  {
   "cell_type": "code",
   "execution_count": 28,
   "id": "f1be37bf",
   "metadata": {},
   "outputs": [
    {
     "data": {
      "text/html": [
       "<div>\n",
       "<style scoped>\n",
       "    .dataframe tbody tr th:only-of-type {\n",
       "        vertical-align: middle;\n",
       "    }\n",
       "\n",
       "    .dataframe tbody tr th {\n",
       "        vertical-align: top;\n",
       "    }\n",
       "\n",
       "    .dataframe thead th {\n",
       "        text-align: right;\n",
       "    }\n",
       "</style>\n",
       "<table border=\"1\" class=\"dataframe\">\n",
       "  <thead>\n",
       "    <tr style=\"text-align: right;\">\n",
       "      <th></th>\n",
       "      <th>기준일</th>\n",
       "      <th>차량운행</th>\n",
       "      <th>접수건</th>\n",
       "      <th>탑승건</th>\n",
       "      <th>평균대기시간</th>\n",
       "      <th>평균요금</th>\n",
       "      <th>평균승차거리</th>\n",
       "      <th>time</th>\n",
       "    </tr>\n",
       "  </thead>\n",
       "  <tbody>\n",
       "    <tr>\n",
       "      <th>0</th>\n",
       "      <td>2015-01-01</td>\n",
       "      <td>213</td>\n",
       "      <td>1023</td>\n",
       "      <td>924</td>\n",
       "      <td>23.2</td>\n",
       "      <td>2427</td>\n",
       "      <td>10764</td>\n",
       "      <td>2015-01-01</td>\n",
       "    </tr>\n",
       "    <tr>\n",
       "      <th>1</th>\n",
       "      <td>2015-01-02</td>\n",
       "      <td>420</td>\n",
       "      <td>3158</td>\n",
       "      <td>2839</td>\n",
       "      <td>17.2</td>\n",
       "      <td>2216</td>\n",
       "      <td>8611</td>\n",
       "      <td>2015-01-02</td>\n",
       "    </tr>\n",
       "  </tbody>\n",
       "</table>\n",
       "</div>"
      ],
      "text/plain": [
       "          기준일  차량운행   접수건   탑승건  평균대기시간  평균요금  평균승차거리       time\n",
       "0  2015-01-01   213  1023   924    23.2  2427   10764 2015-01-01\n",
       "1  2015-01-02   420  3158  2839    17.2  2216    8611 2015-01-02"
      ]
     },
     "metadata": {},
     "output_type": "display_data"
    },
    {
     "data": {
      "text/html": [
       "<div>\n",
       "<style scoped>\n",
       "    .dataframe tbody tr th:only-of-type {\n",
       "        vertical-align: middle;\n",
       "    }\n",
       "\n",
       "    .dataframe tbody tr th {\n",
       "        vertical-align: top;\n",
       "    }\n",
       "\n",
       "    .dataframe thead th {\n",
       "        text-align: right;\n",
       "    }\n",
       "</style>\n",
       "<table border=\"1\" class=\"dataframe\">\n",
       "  <thead>\n",
       "    <tr style=\"text-align: right;\">\n",
       "      <th></th>\n",
       "      <th>Date</th>\n",
       "      <th>temp_max</th>\n",
       "      <th>temp_min</th>\n",
       "      <th>rain(mm)</th>\n",
       "      <th>humidity_max(%)</th>\n",
       "      <th>humidity_min(%)</th>\n",
       "      <th>sunshine(MJ/m2)</th>\n",
       "      <th>time</th>\n",
       "    </tr>\n",
       "  </thead>\n",
       "  <tbody>\n",
       "    <tr>\n",
       "      <th>0</th>\n",
       "      <td>2012-01-01</td>\n",
       "      <td>0.4</td>\n",
       "      <td>-6.6</td>\n",
       "      <td>0.0</td>\n",
       "      <td>77.0</td>\n",
       "      <td>45.0</td>\n",
       "      <td>4.90</td>\n",
       "      <td>2012-01-02</td>\n",
       "    </tr>\n",
       "    <tr>\n",
       "      <th>1</th>\n",
       "      <td>2012-01-02</td>\n",
       "      <td>-1.2</td>\n",
       "      <td>-8.3</td>\n",
       "      <td>0.0</td>\n",
       "      <td>80.0</td>\n",
       "      <td>48.0</td>\n",
       "      <td>6.16</td>\n",
       "      <td>2012-01-03</td>\n",
       "    </tr>\n",
       "  </tbody>\n",
       "</table>\n",
       "</div>"
      ],
      "text/plain": [
       "         Date  temp_max  temp_min  rain(mm)  humidity_max(%)  humidity_min(%)  \\\n",
       "0  2012-01-01       0.4      -6.6       0.0             77.0             45.0   \n",
       "1  2012-01-02      -1.2      -8.3       0.0             80.0             48.0   \n",
       "\n",
       "   sunshine(MJ/m2)       time  \n",
       "0             4.90 2012-01-02  \n",
       "1             6.16 2012-01-03  "
      ]
     },
     "metadata": {},
     "output_type": "display_data"
    }
   ],
   "source": [
    "display(file1.head(2))\n",
    "display(file2.head(2))"
   ]
  },
  {
   "cell_type": "code",
   "execution_count": 33,
   "id": "7544d656",
   "metadata": {},
   "outputs": [
    {
     "data": {
      "text/html": [
       "<div>\n",
       "<style scoped>\n",
       "    .dataframe tbody tr th:only-of-type {\n",
       "        vertical-align: middle;\n",
       "    }\n",
       "\n",
       "    .dataframe tbody tr th {\n",
       "        vertical-align: top;\n",
       "    }\n",
       "\n",
       "    .dataframe thead th {\n",
       "        text-align: right;\n",
       "    }\n",
       "</style>\n",
       "<table border=\"1\" class=\"dataframe\">\n",
       "  <thead>\n",
       "    <tr style=\"text-align: right;\">\n",
       "      <th></th>\n",
       "      <th>차량운행</th>\n",
       "      <th>접수건</th>\n",
       "      <th>탑승건</th>\n",
       "      <th>평균대기시간</th>\n",
       "      <th>평균요금</th>\n",
       "      <th>평균승차거리</th>\n",
       "      <th>temp_max</th>\n",
       "      <th>temp_min</th>\n",
       "      <th>rain(mm)</th>\n",
       "      <th>humidity_max(%)</th>\n",
       "      <th>humidity_min(%)</th>\n",
       "      <th>sunshine(MJ/m2)</th>\n",
       "    </tr>\n",
       "    <tr>\n",
       "      <th>time</th>\n",
       "      <th></th>\n",
       "      <th></th>\n",
       "      <th></th>\n",
       "      <th></th>\n",
       "      <th></th>\n",
       "      <th></th>\n",
       "      <th></th>\n",
       "      <th></th>\n",
       "      <th></th>\n",
       "      <th></th>\n",
       "      <th></th>\n",
       "      <th></th>\n",
       "    </tr>\n",
       "  </thead>\n",
       "  <tbody>\n",
       "    <tr>\n",
       "      <th>2015-01-01</th>\n",
       "      <td>213</td>\n",
       "      <td>1023</td>\n",
       "      <td>924</td>\n",
       "      <td>23.2</td>\n",
       "      <td>2427</td>\n",
       "      <td>10764</td>\n",
       "      <td>-1.6</td>\n",
       "      <td>-1.6</td>\n",
       "      <td>0.0</td>\n",
       "      <td>64.0</td>\n",
       "      <td>64.0</td>\n",
       "      <td>0.00</td>\n",
       "    </tr>\n",
       "    <tr>\n",
       "      <th>2015-01-02</th>\n",
       "      <td>420</td>\n",
       "      <td>3158</td>\n",
       "      <td>2839</td>\n",
       "      <td>17.2</td>\n",
       "      <td>2216</td>\n",
       "      <td>8611</td>\n",
       "      <td>-4.3</td>\n",
       "      <td>-9.8</td>\n",
       "      <td>0.0</td>\n",
       "      <td>52.0</td>\n",
       "      <td>33.0</td>\n",
       "      <td>9.79</td>\n",
       "    </tr>\n",
       "  </tbody>\n",
       "</table>\n",
       "</div>"
      ],
      "text/plain": [
       "            차량운행   접수건   탑승건  평균대기시간  평균요금  평균승차거리  temp_max  temp_min  \\\n",
       "time                                                                     \n",
       "2015-01-01   213  1023   924    23.2  2427   10764      -1.6      -1.6   \n",
       "2015-01-02   420  3158  2839    17.2  2216    8611      -4.3      -9.8   \n",
       "\n",
       "            rain(mm)  humidity_max(%)  humidity_min(%)  sunshine(MJ/m2)  \n",
       "time                                                                     \n",
       "2015-01-01       0.0             64.0             64.0             0.00  \n",
       "2015-01-02       0.0             52.0             33.0             9.79  "
      ]
     },
     "execution_count": 33,
     "metadata": {},
     "output_type": "execute_result"
    }
   ],
   "source": [
    "df = pd.merge(file1, file2, on='time', how='left') # 데이터 프레임 합치기\n",
    "df.drop(['기준일','Date'], axis=1, inplace=True) # 필요 없는 열 제거 (file1의 '기준일', file2의 'Date' 열)\n",
    "df = df.set_index(keys='time')\n",
    "df = df.sort_index(ascending=True) # index 기준 정렬\n",
    "df.head(2)"
   ]
  },
  {
   "cell_type": "code",
   "execution_count": null,
   "id": "b0cb6832",
   "metadata": {},
   "outputs": [],
   "source": []
  },
  {
   "cell_type": "code",
   "execution_count": null,
   "id": "92d4d4ca",
   "metadata": {},
   "outputs": [],
   "source": []
  },
  {
   "cell_type": "markdown",
   "id": "d382bdbb",
   "metadata": {},
   "source": [
    "# 2. 데이터 분석"
   ]
  },
  {
   "cell_type": "code",
   "execution_count": null,
   "id": "fcad4aa9",
   "metadata": {},
   "outputs": [],
   "source": []
  },
  {
   "cell_type": "code",
   "execution_count": null,
   "id": "58f71314",
   "metadata": {},
   "outputs": [],
   "source": []
  },
  {
   "cell_type": "code",
   "execution_count": null,
   "id": "7a65900c",
   "metadata": {},
   "outputs": [],
   "source": []
  },
  {
   "cell_type": "code",
   "execution_count": null,
   "id": "9b7accb4",
   "metadata": {},
   "outputs": [],
   "source": []
  },
  {
   "cell_type": "code",
   "execution_count": null,
   "id": "7885fd8b",
   "metadata": {},
   "outputs": [],
   "source": []
  },
  {
   "cell_type": "code",
   "execution_count": null,
   "id": "f58c9d75",
   "metadata": {},
   "outputs": [],
   "source": []
  },
  {
   "cell_type": "markdown",
   "id": "f5dbd41d",
   "metadata": {},
   "source": [
    "# 3. 머신러닝 모델링"
   ]
  },
  {
   "cell_type": "code",
   "execution_count": null,
   "id": "3ddc1ee2",
   "metadata": {},
   "outputs": [],
   "source": []
  },
  {
   "cell_type": "code",
   "execution_count": null,
   "id": "9b3c17d2",
   "metadata": {},
   "outputs": [],
   "source": []
  },
  {
   "cell_type": "code",
   "execution_count": null,
   "id": "4e812796",
   "metadata": {},
   "outputs": [],
   "source": []
  },
  {
   "cell_type": "code",
   "execution_count": null,
   "id": "02f16795",
   "metadata": {},
   "outputs": [],
   "source": []
  },
  {
   "cell_type": "code",
   "execution_count": null,
   "id": "1f2392a9",
   "metadata": {},
   "outputs": [],
   "source": []
  },
  {
   "cell_type": "code",
   "execution_count": null,
   "id": "9952744f",
   "metadata": {},
   "outputs": [],
   "source": []
  },
  {
   "cell_type": "code",
   "execution_count": null,
   "id": "b0356205",
   "metadata": {},
   "outputs": [],
   "source": []
  },
  {
   "cell_type": "code",
   "execution_count": null,
   "id": "2a2b2500",
   "metadata": {},
   "outputs": [],
   "source": []
  },
  {
   "cell_type": "code",
   "execution_count": null,
   "id": "4f003266",
   "metadata": {},
   "outputs": [],
   "source": []
  },
  {
   "cell_type": "code",
   "execution_count": null,
   "id": "2d90571e",
   "metadata": {},
   "outputs": [],
   "source": []
  },
  {
   "cell_type": "code",
   "execution_count": null,
   "id": "af36c147",
   "metadata": {},
   "outputs": [],
   "source": []
  },
  {
   "cell_type": "code",
   "execution_count": null,
   "id": "f36868a5",
   "metadata": {},
   "outputs": [],
   "source": []
  },
  {
   "cell_type": "code",
   "execution_count": null,
   "id": "2c20db83",
   "metadata": {},
   "outputs": [],
   "source": []
  },
  {
   "cell_type": "code",
   "execution_count": null,
   "id": "efb85925",
   "metadata": {},
   "outputs": [],
   "source": []
  },
  {
   "cell_type": "code",
   "execution_count": null,
   "id": "f4459a21",
   "metadata": {},
   "outputs": [],
   "source": []
  },
  {
   "cell_type": "code",
   "execution_count": null,
   "id": "746e06c5",
   "metadata": {},
   "outputs": [],
   "source": []
  },
  {
   "cell_type": "code",
   "execution_count": null,
   "id": "fd06c405",
   "metadata": {},
   "outputs": [],
   "source": []
  },
  {
   "cell_type": "code",
   "execution_count": null,
   "id": "0730214f",
   "metadata": {},
   "outputs": [],
   "source": []
  },
  {
   "cell_type": "code",
   "execution_count": null,
   "id": "e0a5cf95",
   "metadata": {},
   "outputs": [],
   "source": []
  },
  {
   "cell_type": "code",
   "execution_count": null,
   "id": "e688b9f2",
   "metadata": {},
   "outputs": [],
   "source": []
  }
 ],
 "metadata": {
  "kernelspec": {
   "display_name": "Python 3 (ipykernel)",
   "language": "python",
   "name": "python3"
  },
  "language_info": {
   "codemirror_mode": {
    "name": "ipython",
    "version": 3
   },
   "file_extension": ".py",
   "mimetype": "text/x-python",
   "name": "python",
   "nbconvert_exporter": "python",
   "pygments_lexer": "ipython3",
   "version": "3.11.3"
  }
 },
 "nbformat": 4,
 "nbformat_minor": 5
}
