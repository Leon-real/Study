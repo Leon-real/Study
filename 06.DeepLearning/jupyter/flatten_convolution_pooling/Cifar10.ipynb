{
 "cells": [
  {
   "cell_type": "markdown",
   "id": "e1a14c9f",
   "metadata": {},
   "source": [
    "# Cifar 10"
   ]
  },
  {
   "cell_type": "code",
   "execution_count": 33,
   "id": "757bff42",
   "metadata": {},
   "outputs": [],
   "source": [
    "# 라이브러리 준비\n",
    "import tensorflow as tf"
   ]
  },
  {
   "cell_type": "code",
   "execution_count": 34,
   "id": "c0eb969f",
   "metadata": {},
   "outputs": [
    {
     "name": "stdout",
     "output_type": "stream",
     "text": [
      "(50000, 32, 32, 3) (50000, 10)\n",
      "(10000, 32, 32, 3) (10000, 10)\n"
     ]
    }
   ],
   "source": [
    "# 데이터 준비\n",
    "(x_train, y_train), (x_test, y_test) = tf.keras.datasets.cifar10.load_data()\n",
    "\n",
    "# 원핫 인코딩 수행\n",
    "y_train = tf.keras.utils.to_categorical(y_train)\n",
    "y_test = tf.keras.utils.to_categorical(y_test)\n",
    "\n",
    "print(x_train.shape, y_train.shape)\n",
    "print(x_test.shape, y_test.shape)"
   ]
  },
  {
   "cell_type": "code",
   "execution_count": 49,
   "id": "1e6d2279",
   "metadata": {
    "scrolled": true
   },
   "outputs": [
    {
     "name": "stdout",
     "output_type": "stream",
     "text": [
      "Model: \"model_18\"\n",
      "_________________________________________________________________\n",
      " Layer (type)                Output Shape              Param #   \n",
      "=================================================================\n",
      " input_21 (InputLayer)       [(None, 32, 32, 3)]       0         \n",
      "                                                                 \n",
      " flatten_17 (Flatten)        (None, 3072)              0         \n",
      "                                                                 \n",
      " dense_78 (Dense)            (None, 256)               786688    \n",
      "                                                                 \n",
      " batch_normalization_58 (Ba  (None, 256)               1024      \n",
      " tchNormalization)                                               \n",
      "                                                                 \n",
      " activation_40 (Activation)  (None, 256)               0         \n",
      "                                                                 \n",
      " dropout_31 (Dropout)        (None, 256)               0         \n",
      "                                                                 \n",
      " dense_79 (Dense)            (None, 128)               32896     \n",
      "                                                                 \n",
      " batch_normalization_59 (Ba  (None, 128)               512       \n",
      " tchNormalization)                                               \n",
      "                                                                 \n",
      " activation_41 (Activation)  (None, 128)               0         \n",
      "                                                                 \n",
      " dropout_32 (Dropout)        (None, 128)               0         \n",
      "                                                                 \n",
      " dense_80 (Dense)            (None, 64)                8256      \n",
      "                                                                 \n",
      " batch_normalization_60 (Ba  (None, 64)                256       \n",
      " tchNormalization)                                               \n",
      "                                                                 \n",
      " activation_42 (Activation)  (None, 64)                0         \n",
      "                                                                 \n",
      " dropout_33 (Dropout)        (None, 64)                0         \n",
      "                                                                 \n",
      " dense_81 (Dense)            (None, 32)                2080      \n",
      "                                                                 \n",
      " batch_normalization_61 (Ba  (None, 32)                128       \n",
      " tchNormalization)                                               \n",
      "                                                                 \n",
      " activation_43 (Activation)  (None, 32)                0         \n",
      "                                                                 \n",
      " dense_82 (Dense)            (None, 10)                330       \n",
      "                                                                 \n",
      "=================================================================\n",
      "Total params: 832170 (3.17 MB)\n",
      "Trainable params: 831210 (3.17 MB)\n",
      "Non-trainable params: 960 (3.75 KB)\n",
      "_________________________________________________________________\n"
     ]
    }
   ],
   "source": [
    "# 모델 생성\n",
    "\n",
    "X = tf.keras.Input([32, 32, 3])\n",
    "H = tf.keras.layers.Flatten()(X)\n",
    "\n",
    "H = tf.keras.layers.Dense(256)(H)\n",
    "H = tf.keras.layers.BatchNormalization()(H)\n",
    "H = tf.keras.layers.Activation(\"swish\")(H)\n",
    "\n",
    "H = tf.keras.layers.Dropout(0.5)(H) \n",
    "H = tf.keras.layers.Dense(128)(H)\n",
    "H = tf.keras.layers.BatchNormalization()(H)\n",
    "H = tf.keras.layers.Activation(\"swish\")(H)\n",
    "\n",
    "H = tf.keras.layers.Dropout(0.5)(H) \n",
    "H = tf.keras.layers.Dense(64)(H)\n",
    "H = tf.keras.layers.BatchNormalization()(H)\n",
    "H = tf.keras.layers.Activation(\"swish\")(H)\n",
    "\n",
    "H = tf.keras.layers.Dropout(0.5)(H) \n",
    "H = tf.keras.layers.Dense(32)(H)\n",
    "H = tf.keras.layers.BatchNormalization()(H)\n",
    "H = tf.keras.layers.Activation(\"swish\")(H)\n",
    "\n",
    "Y = tf.keras.layers.Dense(10, activation='softmax')(H)\n",
    "\n",
    "model = tf.keras.Model(X,Y)\n",
    "model.compile(loss='categorical_crossentropy', metrics='accuracy')\n",
    "model.summary()"
   ]
  },
  {
   "cell_type": "code",
   "execution_count": 53,
   "id": "5e5df53e",
   "metadata": {},
   "outputs": [
    {
     "name": "stdout",
     "output_type": "stream",
     "text": [
      "Model: \"model_19\"\n",
      "_________________________________________________________________\n",
      " Layer (type)                Output Shape              Param #   \n",
      "=================================================================\n",
      " input_22 (InputLayer)       [(None, 32, 32, 3)]       0         \n",
      "                                                                 \n",
      " flatten_18 (Flatten)        (None, 3072)              0         \n",
      "                                                                 \n",
      " dense_83 (Dense)            (None, 256)               786688    \n",
      "                                                                 \n",
      " batch_normalization_62 (Ba  (None, 256)               1024      \n",
      " tchNormalization)                                               \n",
      "                                                                 \n",
      " activation_44 (Activation)  (None, 256)               0         \n",
      "                                                                 \n",
      " dropout_34 (Dropout)        (None, 256)               0         \n",
      "                                                                 \n",
      " dense_84 (Dense)            (None, 128)               32896     \n",
      "                                                                 \n",
      " batch_normalization_63 (Ba  (None, 128)               512       \n",
      " tchNormalization)                                               \n",
      "                                                                 \n",
      " activation_45 (Activation)  (None, 128)               0         \n",
      "                                                                 \n",
      " dropout_35 (Dropout)        (None, 128)               0         \n",
      "                                                                 \n",
      " dense_85 (Dense)            (None, 64)                8256      \n",
      "                                                                 \n",
      " batch_normalization_64 (Ba  (None, 64)                256       \n",
      " tchNormalization)                                               \n",
      "                                                                 \n",
      " activation_46 (Activation)  (None, 64)                0         \n",
      "                                                                 \n",
      " dropout_36 (Dropout)        (None, 64)                0         \n",
      "                                                                 \n",
      " dense_86 (Dense)            (None, 32)                2080      \n",
      "                                                                 \n",
      " batch_normalization_65 (Ba  (None, 32)                128       \n",
      " tchNormalization)                                               \n",
      "                                                                 \n",
      " activation_47 (Activation)  (None, 32)                0         \n",
      "                                                                 \n",
      " dense_87 (Dense)            (None, 10)                330       \n",
      "                                                                 \n",
      "=================================================================\n",
      "Total params: 832170 (3.17 MB)\n",
      "Trainable params: 831210 (3.17 MB)\n",
      "Non-trainable params: 960 (3.75 KB)\n",
      "_________________________________________________________________\n"
     ]
    }
   ],
   "source": [
    "# 모델 생성\n",
    "\n",
    "X = tf.keras.Input([32, 32, 3])\n",
    "H = tf.keras.layers.Flatten()(X)\n",
    "\n",
    "H = tf.keras.layers.Dense(256)(H)\n",
    "H = tf.keras.layers.BatchNormalization()(H)\n",
    "H = tf.keras.layers.Activation(\"swish\")(H)\n",
    "\n",
    "H = tf.keras.layers.Dropout(0.5)(H) \n",
    "H = tf.keras.layers.Dense(128)(H)\n",
    "H = tf.keras.layers.BatchNormalization()(H)\n",
    "H = tf.keras.layers.Activation(\"swish\")(H)\n",
    "\n",
    "H = tf.keras.layers.Dropout(0.5)(H) \n",
    "H = tf.keras.layers.Dense(64)(H)\n",
    "H = tf.keras.layers.BatchNormalization()(H)\n",
    "H = tf.keras.layers.Activation(\"swish\")(H)\n",
    "\n",
    "H = tf.keras.layers.Dropout(0.5)(H) \n",
    "H = tf.keras.layers.Dense(32)(H)\n",
    "H = tf.keras.layers.BatchNormalization()(H)\n",
    "H = tf.keras.layers.Activation(\"swish\")(H)\n",
    "\n",
    "Y = tf.keras.layers.Dense(10, activation='softmax')(H)\n",
    "\n",
    "model = tf.keras.Model(X,Y)\n",
    "model.compile(\n",
    "            loss=tf.keras.losses.categorical_crossentropy,\n",
    "            optimizer=tf.keras.optimizers.Adam(),\n",
    "            metrics=tf.keras.metrics.categorical_accuracy\n",
    "            )\n",
    "model.summary()"
   ]
  },
  {
   "cell_type": "code",
   "execution_count": 54,
   "id": "d451f15c",
   "metadata": {},
   "outputs": [
    {
     "name": "stdout",
     "output_type": "stream",
     "text": [
      "Epoch 1/1000\n",
      "313/313 [==============================] - 8s 20ms/step - loss: 2.0154 - categorical_accuracy: 0.2680 - val_loss: 1.8133 - val_categorical_accuracy: 0.3347\n",
      "Epoch 2/1000\n",
      "313/313 [==============================] - 6s 19ms/step - loss: 1.8092 - categorical_accuracy: 0.3465 - val_loss: 1.6964 - val_categorical_accuracy: 0.3858\n",
      "Epoch 3/1000\n",
      "313/313 [==============================] - 6s 19ms/step - loss: 1.7323 - categorical_accuracy: 0.3733 - val_loss: 1.7107 - val_categorical_accuracy: 0.3991\n",
      "Epoch 4/1000\n",
      "313/313 [==============================] - 6s 21ms/step - loss: 1.6809 - categorical_accuracy: 0.3941 - val_loss: 1.6805 - val_categorical_accuracy: 0.4027\n",
      "Epoch 5/1000\n",
      "313/313 [==============================] - 6s 19ms/step - loss: 1.6444 - categorical_accuracy: 0.4101 - val_loss: 1.6792 - val_categorical_accuracy: 0.3962\n",
      "Epoch 6/1000\n",
      "313/313 [==============================] - 7s 21ms/step - loss: 1.6068 - categorical_accuracy: 0.4235 - val_loss: 1.8051 - val_categorical_accuracy: 0.3662\n",
      "Epoch 7/1000\n",
      "313/313 [==============================] - 7s 21ms/step - loss: 1.5800 - categorical_accuracy: 0.4345 - val_loss: 1.6495 - val_categorical_accuracy: 0.3994\n",
      "Epoch 8/1000\n",
      "313/313 [==============================] - 6s 20ms/step - loss: 1.5528 - categorical_accuracy: 0.4437 - val_loss: 1.6055 - val_categorical_accuracy: 0.4166\n",
      "Epoch 9/1000\n",
      "313/313 [==============================] - 7s 22ms/step - loss: 1.5309 - categorical_accuracy: 0.4510 - val_loss: 1.5655 - val_categorical_accuracy: 0.4259\n",
      "Epoch 10/1000\n",
      "313/313 [==============================] - 6s 20ms/step - loss: 1.5087 - categorical_accuracy: 0.4590 - val_loss: 1.5176 - val_categorical_accuracy: 0.4576\n",
      "Epoch 11/1000\n",
      "313/313 [==============================] - 7s 21ms/step - loss: 1.4935 - categorical_accuracy: 0.4629 - val_loss: 1.5622 - val_categorical_accuracy: 0.4316\n",
      "Epoch 12/1000\n",
      "313/313 [==============================] - 6s 20ms/step - loss: 1.4768 - categorical_accuracy: 0.4708 - val_loss: 1.5694 - val_categorical_accuracy: 0.4278\n",
      "Epoch 13/1000\n",
      "313/313 [==============================] - 6s 21ms/step - loss: 1.4601 - categorical_accuracy: 0.4760 - val_loss: 1.4989 - val_categorical_accuracy: 0.4579\n",
      "Epoch 14/1000\n",
      "313/313 [==============================] - 7s 21ms/step - loss: 1.4440 - categorical_accuracy: 0.4837 - val_loss: 1.5707 - val_categorical_accuracy: 0.4291\n",
      "Epoch 15/1000\n",
      "313/313 [==============================] - 6s 20ms/step - loss: 1.4303 - categorical_accuracy: 0.4885 - val_loss: 1.4580 - val_categorical_accuracy: 0.4774\n",
      "Epoch 16/1000\n",
      "313/313 [==============================] - 7s 21ms/step - loss: 1.4191 - categorical_accuracy: 0.4943 - val_loss: 1.5095 - val_categorical_accuracy: 0.4561\n",
      "Epoch 17/1000\n",
      "313/313 [==============================] - 6s 20ms/step - loss: 1.4061 - categorical_accuracy: 0.5004 - val_loss: 1.5202 - val_categorical_accuracy: 0.4626\n",
      "Epoch 18/1000\n",
      "313/313 [==============================] - 6s 20ms/step - loss: 1.3937 - categorical_accuracy: 0.5015 - val_loss: 1.5271 - val_categorical_accuracy: 0.4523\n",
      "Epoch 19/1000\n",
      "313/313 [==============================] - 7s 21ms/step - loss: 1.3777 - categorical_accuracy: 0.5063 - val_loss: 1.4310 - val_categorical_accuracy: 0.4910\n",
      "Epoch 20/1000\n",
      "313/313 [==============================] - 6s 20ms/step - loss: 1.3748 - categorical_accuracy: 0.5100 - val_loss: 1.4872 - val_categorical_accuracy: 0.4691\n",
      "Epoch 21/1000\n",
      "313/313 [==============================] - 7s 22ms/step - loss: 1.3612 - categorical_accuracy: 0.5154 - val_loss: 1.5698 - val_categorical_accuracy: 0.4410\n",
      "Epoch 22/1000\n",
      "313/313 [==============================] - 6s 21ms/step - loss: 1.3524 - categorical_accuracy: 0.5165 - val_loss: 1.4378 - val_categorical_accuracy: 0.4893\n",
      "Epoch 23/1000\n",
      "313/313 [==============================] - 7s 22ms/step - loss: 1.3385 - categorical_accuracy: 0.5214 - val_loss: 1.4043 - val_categorical_accuracy: 0.5027\n",
      "Epoch 24/1000\n",
      "313/313 [==============================] - 7s 21ms/step - loss: 1.3308 - categorical_accuracy: 0.5270 - val_loss: 1.5884 - val_categorical_accuracy: 0.4387\n",
      "Epoch 25/1000\n",
      "313/313 [==============================] - 6s 20ms/step - loss: 1.3230 - categorical_accuracy: 0.5287 - val_loss: 1.4100 - val_categorical_accuracy: 0.4952\n",
      "Epoch 26/1000\n",
      "313/313 [==============================] - 7s 21ms/step - loss: 1.3148 - categorical_accuracy: 0.5320 - val_loss: 1.4728 - val_categorical_accuracy: 0.4793\n",
      "Epoch 27/1000\n",
      "313/313 [==============================] - 6s 20ms/step - loss: 1.2999 - categorical_accuracy: 0.5378 - val_loss: 1.5417 - val_categorical_accuracy: 0.4618\n",
      "Epoch 28/1000\n",
      "313/313 [==============================] - 7s 21ms/step - loss: 1.2934 - categorical_accuracy: 0.5379 - val_loss: 1.6425 - val_categorical_accuracy: 0.4307\n",
      "Epoch 29/1000\n",
      "313/313 [==============================] - 6s 21ms/step - loss: 1.2834 - categorical_accuracy: 0.5422 - val_loss: 1.4899 - val_categorical_accuracy: 0.4724\n",
      "Epoch 30/1000\n",
      "313/313 [==============================] - 6s 21ms/step - loss: 1.2847 - categorical_accuracy: 0.5434 - val_loss: 1.6995 - val_categorical_accuracy: 0.3997\n",
      "Epoch 31/1000\n",
      "313/313 [==============================] - 7s 22ms/step - loss: 1.2695 - categorical_accuracy: 0.5505 - val_loss: 1.6831 - val_categorical_accuracy: 0.4429\n",
      "Epoch 32/1000\n",
      "313/313 [==============================] - 7s 22ms/step - loss: 1.2610 - categorical_accuracy: 0.5542 - val_loss: 1.4309 - val_categorical_accuracy: 0.4920\n",
      "Epoch 33/1000\n",
      "313/313 [==============================] - 7s 24ms/step - loss: 1.2542 - categorical_accuracy: 0.5559 - val_loss: 1.5275 - val_categorical_accuracy: 0.4606\n"
     ]
    }
   ],
   "source": [
    "# 콜백함수 만들기\n",
    "early = tf.keras.callbacks.EarlyStopping(monitor = 'val_loss',\n",
    "                                        min_delta = 0, # 이보다 작게 변하면 변한다고 안할거임.\n",
    "                                        patience = 10, # 이 회수(epoch)동안 개선이 없으면 끝냄\n",
    "                                        restore_best_weights=True)\n",
    "# 모델 학습\n",
    "result = model.fit(x_train,\n",
    "                   y_train, \n",
    "                   epochs=1000, \n",
    "                   batch_size=128, \n",
    "                   validation_split=0.2, \n",
    "                   callbacks=[early])"
   ]
  },
  {
   "cell_type": "code",
   "execution_count": 55,
   "id": "ab3442f2",
   "metadata": {},
   "outputs": [
    {
     "name": "stdout",
     "output_type": "stream",
     "text": [
      "313/313 [==============================] - 1s 4ms/step - loss: 1.4000 - categorical_accuracy: 0.5009\n"
     ]
    },
    {
     "data": {
      "text/plain": [
       "[1.4000221490859985, 0.5008999705314636]"
      ]
     },
     "execution_count": 55,
     "metadata": {},
     "output_type": "execute_result"
    }
   ],
   "source": [
    "# 모델 평가하기\n",
    "model.evaluate(x_test, y_test)"
   ]
  },
  {
   "cell_type": "code",
   "execution_count": 57,
   "id": "14152826",
   "metadata": {},
   "outputs": [
    {
     "data": {
      "image/png": "[encoded data removed]",
      "text/plain": [
       "<Figure size 640x480 with 1 Axes>"
      ]
     },
     "metadata": {},
     "output_type": "display_data"
    },
    {
     "ename": "KeyError",
     "evalue": "'accuracy'",
     "output_type": "error",
     "traceback": [
      "\u001b[1;31m---------------------------------------------------------------------------\u001b[0m",
      "\u001b[1;31mKeyError\u001b[0m                                  Traceback (most recent call last)",
      "Cell \u001b[1;32mIn[57], line 9\u001b[0m\n\u001b[0;32m      6\u001b[0m plt\u001b[38;5;241m.\u001b[39mlegend([\u001b[38;5;124m'\u001b[39m\u001b[38;5;124mloss\u001b[39m\u001b[38;5;124m'\u001b[39m,\u001b[38;5;124m'\u001b[39m\u001b[38;5;124mval_loss\u001b[39m\u001b[38;5;124m'\u001b[39m])\n\u001b[0;32m      7\u001b[0m plt\u001b[38;5;241m.\u001b[39mshow()\n\u001b[1;32m----> 9\u001b[0m plt\u001b[38;5;241m.\u001b[39m plot(result\u001b[38;5;241m.\u001b[39mhistory[\u001b[38;5;124m'\u001b[39m\u001b[38;5;124maccuracy\u001b[39m\u001b[38;5;124m'\u001b[39m])\n\u001b[0;32m     10\u001b[0m plt\u001b[38;5;241m.\u001b[39m plot(result\u001b[38;5;241m.\u001b[39mhistory[\u001b[38;5;124m'\u001b[39m\u001b[38;5;124mval_accuracy\u001b[39m\u001b[38;5;124m'\u001b[39m])\n\u001b[0;32m     11\u001b[0m plt\u001b[38;5;241m.\u001b[39mlegend([\u001b[38;5;124m'\u001b[39m\u001b[38;5;124maccuracy\u001b[39m\u001b[38;5;124m'\u001b[39m,\u001b[38;5;124m'\u001b[39m\u001b[38;5;124mval_accuracy\u001b[39m\u001b[38;5;124m'\u001b[39m])\n",
      "\u001b[1;31mKeyError\u001b[0m: 'accuracy'"
     ]
    }
   ],
   "source": [
    "# 학습 시각화\n",
    "import matplotlib.pyplot as plt\n",
    "\n",
    "plt. plot(result.history['loss'])\n",
    "plt. plot(result.history['val_loss'])\n",
    "plt.legend(['loss','val_loss'])\n",
    "plt.show()\n",
    "\n",
    "plt. plot(result.history['accuracy'])\n",
    "plt. plot(result.history['val_accuracy'])\n",
    "plt.legend(['accuracy','val_accuracy'])\n",
    "plt.show()"
   ]
  },
  {
   "cell_type": "code",
   "execution_count": null,
   "id": "0469583b",
   "metadata": {},
   "outputs": [],
   "source": []
  },
  {
   "cell_type": "code",
   "execution_count": null,
   "id": "98872119",
   "metadata": {},
   "outputs": [],
   "source": []
  },
  {
   "cell_type": "code",
   "execution_count": null,
   "id": "f8af21e2",
   "metadata": {},
   "outputs": [],
   "source": []
  },
  {
   "cell_type": "code",
   "execution_count": null,
   "id": "b65ea9b5",
   "metadata": {},
   "outputs": [],
   "source": []
  }
 ],
 "metadata": {
  "kernelspec": {
   "display_name": "Python 3 (ipykernel)",
   "language": "python",
   "name": "python3"
  },
  "language_info": {
   "codemirror_mode": {
    "name": "ipython",
    "version": 3
   },
   "file_extension": ".py",
   "mimetype": "text/x-python",
   "name": "python",
   "nbconvert_exporter": "python",
   "pygments_lexer": "ipython3",
   "version": "3.11.3"
  }
 },
 "nbformat": 4,
 "nbformat_minor": 5
}
