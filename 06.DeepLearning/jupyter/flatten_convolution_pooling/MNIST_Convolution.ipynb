{
 "cells": [
  {
   "cell_type": "markdown",
   "id": "a468cd23",
   "metadata": {},
   "source": [
    "# MNIST 손글씨 분류 - Convolution"
   ]
  },
  {
   "cell_type": "code",
   "execution_count": 1,
   "id": "9e71b47b",
   "metadata": {},
   "outputs": [],
   "source": [
    "# 라이브러리 준비\n",
    "import tensorflow as tf\n",
    "import pandas as pd"
   ]
  },
  {
   "cell_type": "code",
   "execution_count": 5,
   "id": "220b9957",
   "metadata": {},
   "outputs": [
    {
     "name": "stdout",
     "output_type": "stream",
     "text": [
      "(60000, 28, 28, 1) (60000, 10)\n",
      "(10000, 28, 28, 1) (10000, 10)\n"
     ]
    }
   ],
   "source": [
    "# 데이터 준비\n",
    "(x_train, y_train), (x_test, y_test) = tf.keras.datasets.mnist.load_data()\n",
    "x_train = x_train.reshape(60000, 28, 28, 1)\n",
    "x_test = x_test.reshape(10000, 28, 28, 1)\n",
    "y_train = pd.get_dummies(y_train)\n",
    "y_test = pd.get_dummies(y_test)\n",
    "\n",
    "print(x_train.shape, y_train.shape)\n",
    "print(x_test.shape, y_test.shape)"
   ]
  },
  {
   "cell_type": "code",
   "execution_count": 7,
   "id": "1400f91a",
   "metadata": {},
   "outputs": [
    {
     "name": "stdout",
     "output_type": "stream",
     "text": [
      "Model: \"model_1\"\n",
      "_________________________________________________________________\n",
      " Layer (type)                Output Shape              Param #   \n",
      "=================================================================\n",
      " input_2 (InputLayer)        [(None, 28, 28, 1)]       0         \n",
      "                                                                 \n",
      " conv2d_2 (Conv2D)           (None, 24, 24, 3)         78        \n",
      "                                                                 \n",
      " conv2d_3 (Conv2D)           (None, 20, 20, 6)         456       \n",
      "                                                                 \n",
      " flatten_1 (Flatten)         (None, 2400)              0         \n",
      "                                                                 \n",
      " dense_2 (Dense)             (None, 84)                201684    \n",
      "                                                                 \n",
      " dense_3 (Dense)             (None, 10)                850       \n",
      "                                                                 \n",
      "=================================================================\n",
      "Total params: 203068 (793.23 KB)\n",
      "Trainable params: 203068 (793.23 KB)\n",
      "Non-trainable params: 0 (0.00 Byte)\n",
      "_________________________________________________________________\n"
     ]
    }
   ],
   "source": [
    "# 모델 생성\n",
    "\n",
    "X = tf.keras.Input(shape=[28,28,1])\n",
    "H = tf.keras.layers.Conv2D(3, kernel_size=5, activation='swish')(X)\n",
    "H = tf.keras.layers.Conv2D(6, kernel_size=5, activation='swish')(H)\n",
    "H = tf.keras.layers.Flatten()(H)\n",
    "H = tf.keras.layers.Dense(84, activation='swish')(H)\n",
    "Y = tf.keras.layers.Dense(10, activation='softmax')(H)\n",
    "\n",
    "model = tf.keras.Model(X,Y)\n",
    "model.compile(loss='categorical_crossentropy', metrics='accuracy')\n",
    "model.summary()"
   ]
  },
  {
   "cell_type": "code",
   "execution_count": 8,
   "id": "e99a79f0",
   "metadata": {},
   "outputs": [
    {
     "name": "stdout",
     "output_type": "stream",
     "text": [
      "Epoch 1/10\n",
      "422/422 [==============================] - 14s 31ms/step - loss: 1.4845 - accuracy: 0.8880 - val_loss: 0.1303 - val_accuracy: 0.9623\n",
      "Epoch 2/10\n",
      "422/422 [==============================] - 13s 32ms/step - loss: 0.0953 - accuracy: 0.9720 - val_loss: 0.0958 - val_accuracy: 0.9728\n",
      "Epoch 3/10\n",
      "422/422 [==============================] - 14s 33ms/step - loss: 0.0474 - accuracy: 0.9850 - val_loss: 0.0895 - val_accuracy: 0.9783\n",
      "Epoch 4/10\n",
      "422/422 [==============================] - 14s 34ms/step - loss: 0.0291 - accuracy: 0.9908 - val_loss: 0.0926 - val_accuracy: 0.9802\n",
      "Epoch 5/10\n",
      "422/422 [==============================] - 14s 33ms/step - loss: 0.0167 - accuracy: 0.9943 - val_loss: 0.1073 - val_accuracy: 0.9772\n",
      "Epoch 6/10\n",
      "422/422 [==============================] - 14s 34ms/step - loss: 0.0121 - accuracy: 0.9959 - val_loss: 0.1180 - val_accuracy: 0.9793\n",
      "Epoch 7/10\n",
      "422/422 [==============================] - 14s 33ms/step - loss: 0.0083 - accuracy: 0.9974 - val_loss: 0.1149 - val_accuracy: 0.9815\n",
      "Epoch 8/10\n",
      "422/422 [==============================] - 15s 35ms/step - loss: 0.0073 - accuracy: 0.9975 - val_loss: 0.1119 - val_accuracy: 0.9825\n",
      "Epoch 9/10\n",
      "422/422 [==============================] - 17s 40ms/step - loss: 0.0054 - accuracy: 0.9982 - val_loss: 0.1315 - val_accuracy: 0.9823\n",
      "Epoch 10/10\n",
      "422/422 [==============================] - 19s 46ms/step - loss: 0.0058 - accuracy: 0.9984 - val_loss: 0.1445 - val_accuracy: 0.9823\n"
     ]
    },
    {
     "data": {
      "text/plain": [
       "<keras.src.callbacks.History at 0x2271fa1f1d0>"
      ]
     },
     "execution_count": 8,
     "metadata": {},
     "output_type": "execute_result"
    }
   ],
   "source": [
    "# 모델 확습\n",
    "model.fit(x_train, y_train, epochs=10, batch_size=128, validation_split=0.1)"
   ]
  },
  {
   "cell_type": "code",
   "execution_count": 9,
   "id": "0c89b45f",
   "metadata": {},
   "outputs": [
    {
     "name": "stdout",
     "output_type": "stream",
     "text": [
      "1875/1875 [==============================] - 19s 10ms/step - loss: 0.0171 - accuracy: 0.9975\n"
     ]
    },
    {
     "data": {
      "text/plain": [
       "[0.017148340120911598, 0.9974666833877563]"
      ]
     },
     "execution_count": 9,
     "metadata": {},
     "output_type": "execute_result"
    }
   ],
   "source": [
    "# 모델 평가\n",
    "model.evaluate(x_train, y_train)"
   ]
  },
  {
   "cell_type": "code",
   "execution_count": null,
   "id": "320596ed",
   "metadata": {},
   "outputs": [],
   "source": []
  }
 ],
 "metadata": {
  "kernelspec": {
   "display_name": "Python 3 (ipykernel)",
   "language": "python",
   "name": "python3"
  },
  "language_info": {
   "codemirror_mode": {
    "name": "ipython",
    "version": 3
   },
   "file_extension": ".py",
   "mimetype": "text/x-python",
   "name": "python",
   "nbconvert_exporter": "python",
   "pygments_lexer": "ipython3",
   "version": "3.11.3"
  }
 },
 "nbformat": 4,
 "nbformat_minor": 5
}
