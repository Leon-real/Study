{
 "cells": [
  {
   "cell_type": "markdown",
   "id": "9433c6b3",
   "metadata": {},
   "source": [
    "# 레모네이드 판매 예측"
   ]
  },
  {
   "cell_type": "code",
   "execution_count": 8,
   "id": "b7ec60b2",
   "metadata": {},
   "outputs": [],
   "source": [
    "# !pip install tensorflow"
   ]
  },
  {
   "cell_type": "markdown",
   "id": "c5b5e0f6",
   "metadata": {},
   "source": [
    "## 0. 라이브러리 및 데이터 준비"
   ]
  },
  {
   "cell_type": "code",
   "execution_count": 2,
   "id": "4d1f635c",
   "metadata": {},
   "outputs": [
    {
     "data": {
      "text/html": [
       "<div>\n",
       "<style scoped>\n",
       "    .dataframe tbody tr th:only-of-type {\n",
       "        vertical-align: middle;\n",
       "    }\n",
       "\n",
       "    .dataframe tbody tr th {\n",
       "        vertical-align: top;\n",
       "    }\n",
       "\n",
       "    .dataframe thead th {\n",
       "        text-align: right;\n",
       "    }\n",
       "</style>\n",
       "<table border=\"1\" class=\"dataframe\">\n",
       "  <thead>\n",
       "    <tr style=\"text-align: right;\">\n",
       "      <th></th>\n",
       "      <th>온도</th>\n",
       "      <th>판매량</th>\n",
       "    </tr>\n",
       "  </thead>\n",
       "  <tbody>\n",
       "    <tr>\n",
       "      <th>0</th>\n",
       "      <td>20</td>\n",
       "      <td>40</td>\n",
       "    </tr>\n",
       "    <tr>\n",
       "      <th>1</th>\n",
       "      <td>21</td>\n",
       "      <td>42</td>\n",
       "    </tr>\n",
       "  </tbody>\n",
       "</table>\n",
       "</div>"
      ],
      "text/plain": [
       "   온도  판매량\n",
       "0  20   40\n",
       "1  21   42"
      ]
     },
     "execution_count": 2,
     "metadata": {},
     "output_type": "execute_result"
    }
   ],
   "source": [
    "import pandas as pd\n",
    "import tensorflow as tf\n",
    "\n",
    "# 데이터를 준비합니다.\n",
    "path = \"../../data/lemonade.csv\"\n",
    "df = pd.read_csv(path)\n",
    "df.head(2)"
   ]
  },
  {
   "cell_type": "markdown",
   "id": "df72b22d",
   "metadata": {},
   "source": [
    "## 1. x,y 분리"
   ]
  },
  {
   "cell_type": "code",
   "execution_count": 3,
   "id": "b39b0f41",
   "metadata": {},
   "outputs": [
    {
     "name": "stdout",
     "output_type": "stream",
     "text": [
      "(6, 1) (6, 1)\n"
     ]
    }
   ],
   "source": [
    "x_train = df[['온도']]\n",
    "y_train = df[['판매량']]\n",
    "print(x_train.shape, y_train.shape)"
   ]
  },
  {
   "cell_type": "markdown",
   "id": "bdb7fcbc",
   "metadata": {},
   "source": [
    "## 2. 모델 준비"
   ]
  },
  {
   "cell_type": "code",
   "execution_count": 4,
   "id": "4169b9d3",
   "metadata": {},
   "outputs": [],
   "source": [
    "# 모델을 준비합니다.\n",
    "X = tf.keras.Input(shape=[1])\n",
    "Y = tf.keras.layers.Dense(1)(X)\n",
    "\n",
    "model = tf.keras.Model(X, Y)\n",
    "model.compile(loss='mse')"
   ]
  },
  {
   "cell_type": "markdown",
   "id": "de16429d",
   "metadata": {},
   "source": [
    "## 3. 모델 학습하기"
   ]
  },
  {
   "cell_type": "code",
   "execution_count": 5,
   "id": "0b457efd",
   "metadata": {
    "scrolled": true
   },
   "outputs": [
    {
     "name": "stdout",
     "output_type": "stream",
     "text": [
      "Epoch 1/5\n",
      "1/1 [==============================] - 0s 8ms/step - loss: 66.0808\n",
      "Epoch 2/5\n",
      "1/1 [==============================] - 0s 7ms/step - loss: 65.7079\n",
      "Epoch 3/5\n",
      "1/1 [==============================] - 0s 7ms/step - loss: 65.3361\n",
      "Epoch 4/5\n",
      "1/1 [==============================] - 0s 6ms/step - loss: 64.9654\n",
      "Epoch 5/5\n",
      "1/1 [==============================] - 0s 7ms/step - loss: 64.5957\n"
     ]
    },
    {
     "data": {
      "text/plain": [
       "<keras.src.callbacks.History at 0x245b984dd90>"
      ]
     },
     "execution_count": 5,
     "metadata": {},
     "output_type": "execute_result"
    }
   ],
   "source": [
    "# 데이터로 모델을 학습합니다.\n",
    "model.fit(x_train, y_train, epochs=1000, verbose=0)\n",
    "model.fit(x_train, y_train, epochs=5)"
   ]
  },
  {
   "cell_type": "markdown",
   "id": "85a3298c",
   "metadata": {},
   "source": [
    "## 4. 모델 이용하기"
   ]
  },
  {
   "cell_type": "code",
   "execution_count": 6,
   "id": "3d875587",
   "metadata": {
    "scrolled": true
   },
   "outputs": [
    {
     "name": "stdout",
     "output_type": "stream",
     "text": [
      "1/1 [==============================] - 0s 93ms/step\n",
      "[[25.010592]]\n"
     ]
    }
   ],
   "source": [
    "# 모델을 이용합니다.\n",
    "y_pred = model.predict([[15]])\n",
    "print(y_pred)"
   ]
  },
  {
   "cell_type": "code",
   "execution_count": 7,
   "id": "696c0296",
   "metadata": {},
   "outputs": [
    {
     "data": {
      "text/plain": [
       "[array([[1.600574]], dtype=float32), array([1.0019816], dtype=float32)]"
      ]
     },
     "execution_count": 7,
     "metadata": {},
     "output_type": "execute_result"
    }
   ],
   "source": [
    "model.get_weights()"
   ]
  },
  {
   "cell_type": "code",
   "execution_count": 8,
   "id": "009b940e",
   "metadata": {},
   "outputs": [
    {
     "name": "stdout",
     "output_type": "stream",
     "text": [
      "30.322062749999997\n"
     ]
    }
   ],
   "source": [
    "온도 = 15\n",
    "판매량 = 1.9593028 * 온도 + 0.93252075\n",
    "print(판매량)"
   ]
  },
  {
   "cell_type": "code",
   "execution_count": null,
   "id": "eb221e6c",
   "metadata": {},
   "outputs": [],
   "source": []
  }
 ],
 "metadata": {
  "kernelspec": {
   "display_name": "Python 3 (ipykernel)",
   "language": "python",
   "name": "python3"
  },
  "language_info": {
   "codemirror_mode": {
    "name": "ipython",
    "version": 3
   },
   "file_extension": ".py",
   "mimetype": "text/x-python",
   "name": "python",
   "nbconvert_exporter": "python",
   "pygments_lexer": "ipython3",
   "version": "3.11.3"
  }
 },
 "nbformat": 4,
 "nbformat_minor": 5
}
