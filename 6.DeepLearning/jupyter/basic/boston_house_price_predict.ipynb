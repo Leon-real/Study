{
 "cells": [
  {
   "cell_type": "markdown",
   "id": "63c5c1a1",
   "metadata": {},
   "source": [
    "# 레모네이드 판매 예측"
   ]
  },
  {
   "cell_type": "code",
   "execution_count": 8,
   "id": "497bd004",
   "metadata": {},
   "outputs": [],
   "source": [
    "# !pip install tensorflow"
   ]
  },
  {
   "cell_type": "markdown",
   "id": "f30e066d",
   "metadata": {},
   "source": [
    "## 0. 라이브러리 및 데이터 준비"
   ]
  },
  {
   "cell_type": "code",
   "execution_count": 1,
   "id": "b068a508",
   "metadata": {},
   "outputs": [
    {
     "data": {
      "text/html": [
       "<div>\n",
       "<style scoped>\n",
       "    .dataframe tbody tr th:only-of-type {\n",
       "        vertical-align: middle;\n",
       "    }\n",
       "\n",
       "    .dataframe tbody tr th {\n",
       "        vertical-align: top;\n",
       "    }\n",
       "\n",
       "    .dataframe thead th {\n",
       "        text-align: right;\n",
       "    }\n",
       "</style>\n",
       "<table border=\"1\" class=\"dataframe\">\n",
       "  <thead>\n",
       "    <tr style=\"text-align: right;\">\n",
       "      <th></th>\n",
       "      <th>crim</th>\n",
       "      <th>zn</th>\n",
       "      <th>indus</th>\n",
       "      <th>chas</th>\n",
       "      <th>nox</th>\n",
       "      <th>rm</th>\n",
       "      <th>age</th>\n",
       "      <th>dis</th>\n",
       "      <th>rad</th>\n",
       "      <th>tax</th>\n",
       "      <th>ptratio</th>\n",
       "      <th>b</th>\n",
       "      <th>lstat</th>\n",
       "      <th>medv</th>\n",
       "    </tr>\n",
       "  </thead>\n",
       "  <tbody>\n",
       "    <tr>\n",
       "      <th>0</th>\n",
       "      <td>0.00632</td>\n",
       "      <td>18.0</td>\n",
       "      <td>2.31</td>\n",
       "      <td>0</td>\n",
       "      <td>0.538</td>\n",
       "      <td>6.575</td>\n",
       "      <td>65.2</td>\n",
       "      <td>4.0900</td>\n",
       "      <td>1</td>\n",
       "      <td>296</td>\n",
       "      <td>15.3</td>\n",
       "      <td>396.9</td>\n",
       "      <td>4.98</td>\n",
       "      <td>24.0</td>\n",
       "    </tr>\n",
       "    <tr>\n",
       "      <th>1</th>\n",
       "      <td>0.02731</td>\n",
       "      <td>0.0</td>\n",
       "      <td>7.07</td>\n",
       "      <td>0</td>\n",
       "      <td>0.469</td>\n",
       "      <td>6.421</td>\n",
       "      <td>78.9</td>\n",
       "      <td>4.9671</td>\n",
       "      <td>2</td>\n",
       "      <td>242</td>\n",
       "      <td>17.8</td>\n",
       "      <td>396.9</td>\n",
       "      <td>9.14</td>\n",
       "      <td>21.6</td>\n",
       "    </tr>\n",
       "  </tbody>\n",
       "</table>\n",
       "</div>"
      ],
      "text/plain": [
       "      crim    zn  indus  chas    nox     rm   age     dis  rad  tax  ptratio  \\\n",
       "0  0.00632  18.0   2.31     0  0.538  6.575  65.2  4.0900    1  296     15.3   \n",
       "1  0.02731   0.0   7.07     0  0.469  6.421  78.9  4.9671    2  242     17.8   \n",
       "\n",
       "       b  lstat  medv  \n",
       "0  396.9   4.98  24.0  \n",
       "1  396.9   9.14  21.6  "
      ]
     },
     "execution_count": 1,
     "metadata": {},
     "output_type": "execute_result"
    }
   ],
   "source": [
    "import pandas as pd\n",
    "import tensorflow as tf\n",
    "\n",
    "# 데이터를 준비합니다.\n",
    "path = \"../../data/boston.csv\"\n",
    "df = pd.read_csv(path)\n",
    "df.head(2)"
   ]
  },
  {
   "cell_type": "markdown",
   "id": "eb013b5a",
   "metadata": {},
   "source": [
    "## 1. x,y 분리"
   ]
  },
  {
   "cell_type": "code",
   "execution_count": 2,
   "id": "7c1e4cae",
   "metadata": {},
   "outputs": [
    {
     "name": "stdout",
     "output_type": "stream",
     "text": [
      "(506, 13) (506, 1)\n"
     ]
    }
   ],
   "source": [
    "x_train = df[['crim', 'zn', 'indus', 'chas', 'nox', 'rm', 'age', 'dis',\n",
    "              'rad', 'tax','ptratio', 'b', 'lstat']]\n",
    "y_train = df[['medv']]\n",
    "print(x_train.shape, y_train.shape)"
   ]
  },
  {
   "cell_type": "markdown",
   "id": "f876e847",
   "metadata": {},
   "source": [
    "## 2. 모델 준비"
   ]
  },
  {
   "cell_type": "code",
   "execution_count": 3,
   "id": "c4c95a7e",
   "metadata": {},
   "outputs": [],
   "source": [
    "# 모델을 준비합니다.\n",
    "X = tf.keras.Input(shape=[13])\n",
    "Y = tf.keras.layers.Dense(1)(X)\n",
    "model = tf.keras.Model(X, Y)\n",
    "model.compile(loss='mse')"
   ]
  },
  {
   "cell_type": "markdown",
   "id": "ef21e596",
   "metadata": {},
   "source": [
    "## 3. 모델 학습하기"
   ]
  },
  {
   "cell_type": "code",
   "execution_count": 4,
   "id": "5c436dec",
   "metadata": {
    "scrolled": true
   },
   "outputs": [
    {
     "name": "stdout",
     "output_type": "stream",
     "text": [
      "Epoch 1/10\n",
      "16/16 [==============================] - 0s 2ms/step - loss: 26.6806\n",
      "Epoch 2/10\n",
      "16/16 [==============================] - 0s 2ms/step - loss: 26.7717\n",
      "Epoch 3/10\n",
      "16/16 [==============================] - 0s 2ms/step - loss: 26.4055\n",
      "Epoch 4/10\n",
      "16/16 [==============================] - 0s 2ms/step - loss: 26.9803\n",
      "Epoch 5/10\n",
      "16/16 [==============================] - 0s 2ms/step - loss: 26.7248\n",
      "Epoch 6/10\n",
      "16/16 [==============================] - 0s 2ms/step - loss: 26.4712\n",
      "Epoch 7/10\n",
      "16/16 [==============================] - 0s 2ms/step - loss: 26.9976\n",
      "Epoch 8/10\n",
      "16/16 [==============================] - 0s 2ms/step - loss: 27.0973\n",
      "Epoch 9/10\n",
      "16/16 [==============================] - 0s 2ms/step - loss: 26.8814\n",
      "Epoch 10/10\n",
      "16/16 [==============================] - 0s 2ms/step - loss: 26.1710\n"
     ]
    },
    {
     "data": {
      "text/plain": [
       "<keras.src.callbacks.History at 0x1bcc0b886d0>"
      ]
     },
     "execution_count": 4,
     "metadata": {},
     "output_type": "execute_result"
    }
   ],
   "source": [
    "# 모델을 학습합니다.\n",
    "model.fit(x_train, y_train, epochs=1000, verbose=0)\n",
    "model.fit(x_train, y_train, epochs=10)"
   ]
  },
  {
   "cell_type": "markdown",
   "id": "abc820f9",
   "metadata": {},
   "source": [
    "## 4. 모델 이용하기"
   ]
  },
  {
   "cell_type": "code",
   "execution_count": 5,
   "id": "e66576d1",
   "metadata": {
    "scrolled": true
   },
   "outputs": [
    {
     "name": "stdout",
     "output_type": "stream",
     "text": [
      "   medv\n",
      "0  24.0\n",
      "1  21.6\n",
      "2  34.7\n",
      "3  33.4\n",
      "4  36.2\n",
      "1/1 [==============================] - 0s 80ms/step\n"
     ]
    },
    {
     "data": {
      "text/plain": [
       "array([[30.205254],\n",
       "       [25.661251],\n",
       "       [31.141182],\n",
       "       [30.46328 ],\n",
       "       [29.82125 ]], dtype=float32)"
      ]
     },
     "execution_count": 5,
     "metadata": {},
     "output_type": "execute_result"
    }
   ],
   "source": [
    "# 모델을 이용합니다.\n",
    "print(y_train[0:5])\n",
    "model.predict(x_train[0:5])"
   ]
  },
  {
   "cell_type": "code",
   "execution_count": 6,
   "id": "bdc4ebf1",
   "metadata": {},
   "outputs": [
    {
     "data": {
      "text/plain": [
       "[array([[-0.08335064],\n",
       "        [ 0.07392037],\n",
       "        [-0.05113194],\n",
       "        [ 3.446214  ],\n",
       "        [ 1.8229979 ],\n",
       "        [ 3.783933  ],\n",
       "        [ 0.02169966],\n",
       "        [-0.7982567 ],\n",
       "        [ 0.14860849],\n",
       "        [-0.00809728],\n",
       "        [ 0.01526805],\n",
       "        [ 0.01775274],\n",
       "        [-0.59638155]], dtype=float32),\n",
       " array([2.92175], dtype=float32)]"
      ]
     },
     "execution_count": 6,
     "metadata": {},
     "output_type": "execute_result"
    }
   ],
   "source": [
    "model.get_weights()"
   ]
  },
  {
   "cell_type": "code",
   "execution_count": null,
   "id": "70c73e0f",
   "metadata": {},
   "outputs": [],
   "source": []
  }
 ],
 "metadata": {
  "kernelspec": {
   "display_name": "Python 3 (ipykernel)",
   "language": "python",
   "name": "python3"
  },
  "language_info": {
   "codemirror_mode": {
    "name": "ipython",
    "version": 3
   },
   "file_extension": ".py",
   "mimetype": "text/x-python",
   "name": "python",
   "nbconvert_exporter": "python",
   "pygments_lexer": "ipython3",
   "version": "3.11.3"
  }
 },
 "nbformat": 4,
 "nbformat_minor": 5
}
