{
 "cells": [
  {
   "cell_type": "markdown",
   "id": "cf2931df",
   "metadata": {},
   "source": [
    "# 모델 준비 part 클래스화 하기"
   ]
  },
  {
   "cell_type": "code",
   "execution_count": 1,
   "id": "ebc95fbd",
   "metadata": {},
   "outputs": [],
   "source": [
    "import tensorflow as tf\n",
    "import pandas as pd\n",
    "import numpy as np"
   ]
  },
  {
   "cell_type": "markdown",
   "id": "d7a09777",
   "metadata": {},
   "source": [
    "## 아래 코드는 클래스로 작성된 코드와 동일하다."
   ]
  },
  {
   "cell_type": "code",
   "execution_count": 7,
   "id": "35cef151",
   "metadata": {},
   "outputs": [],
   "source": [
    "# 모델을 준비합니다\n",
    "X = tf.keras.Input(shape=[1])\n",
    "Y = tf.keras.layers.Dense(1)(X)\n",
    "model = tf.keras.Model(X, Y) "
   ]
  },
  {
   "cell_type": "code",
   "execution_count": null,
   "id": "c81e8d99",
   "metadata": {},
   "outputs": [],
   "source": [
    "# 위 코드와 동일하다\n",
    "# 모델을 준비합니다\n",
    "class MyModel(tf.keras.Model): # tensorflow 모델 상속 받아옴\n",
    "    def __init__(self, **kwargs): # 초기화 함수\n",
    "        super(MyModel, self).__init__(**kwargs)\n",
    "        self.dense = tf.keras.layers.Dense(1) # Y레이어 설정\n",
    "        \n",
    "    def call(self, input):\n",
    "        Y = self.dense(input)\n",
    "        return Y"
   ]
  },
  {
   "cell_type": "code",
   "execution_count": 4,
   "id": "810e7053",
   "metadata": {},
   "outputs": [],
   "source": [
    "model = MyModel()\n",
    "model.compile(loss='mse')"
   ]
  },
  {
   "cell_type": "markdown",
   "id": "daae71ec",
   "metadata": {},
   "source": [
    "## 히든레이어 2개짜리를 만든다고 할 때,"
   ]
  },
  {
   "cell_type": "code",
   "execution_count": null,
   "id": "6252b513",
   "metadata": {},
   "outputs": [],
   "source": [
    "# 모델을 준비합니다\n",
    "X = tf.keras.Input(shape=[1])\n",
    "H = tf.keras.layers.Dense(2)(X, activation='swish')\n",
    "Y = tf.keras.layers.Dense(1)(H)\n",
    "model = tf.keras.Model(X, Y) "
   ]
  },
  {
   "cell_type": "code",
   "execution_count": null,
   "id": "a15d5d30",
   "metadata": {},
   "outputs": [],
   "source": [
    "# 위 코드와 동일하다\n",
    "# 모델을 준비합니다\n",
    "class MyModel(tf.keras.Model): # tensorflow 모델 상속 받아옴\n",
    "    def __init__(self, **kwargs): # 초기화 함수\n",
    "        super(MyModel, self).__init__(**kwargs)\n",
    "        self.dense1 = tf.keras.layers.Dense(2, activation='swish') # H 레이어 설정\n",
    "        self.dense2 = tf.keras.layers.Dense(1) # Y 레이어 설정\n",
    "        \n",
    "    def call(self, input):\n",
    "        H = self.dense1(input)\n",
    "        Y = self.dense2(H)\n",
    "        return Y"
   ]
  },
  {
   "cell_type": "code",
   "execution_count": null,
   "id": "f175a014",
   "metadata": {},
   "outputs": [],
   "source": [
    "model = MyModel()\n",
    "model.compile(loss='mse')"
   ]
  },
  {
   "cell_type": "code",
   "execution_count": null,
   "id": "f3d15dda",
   "metadata": {},
   "outputs": [],
   "source": []
  },
  {
   "cell_type": "code",
   "execution_count": null,
   "id": "222e424a",
   "metadata": {},
   "outputs": [],
   "source": []
  },
  {
   "cell_type": "code",
   "execution_count": null,
   "id": "606a9fd3",
   "metadata": {},
   "outputs": [],
   "source": []
  },
  {
   "cell_type": "code",
   "execution_count": null,
   "id": "dce4823e",
   "metadata": {},
   "outputs": [],
   "source": []
  },
  {
   "cell_type": "code",
   "execution_count": null,
   "id": "cd6198c6",
   "metadata": {},
   "outputs": [],
   "source": []
  },
  {
   "cell_type": "code",
   "execution_count": null,
   "id": "cc4aeca0",
   "metadata": {},
   "outputs": [],
   "source": []
  },
  {
   "cell_type": "code",
   "execution_count": null,
   "id": "450aa594",
   "metadata": {},
   "outputs": [],
   "source": []
  },
  {
   "cell_type": "code",
   "execution_count": null,
   "id": "a67757d9",
   "metadata": {},
   "outputs": [],
   "source": []
  }
 ],
 "metadata": {
  "kernelspec": {
   "display_name": "Python 3 (ipykernel)",
   "language": "python",
   "name": "python3"
  },
  "language_info": {
   "codemirror_mode": {
    "name": "ipython",
    "version": 3
   },
   "file_extension": ".py",
   "mimetype": "text/x-python",
   "name": "python",
   "nbconvert_exporter": "python",
   "pygments_lexer": "ipython3",
   "version": "3.11.3"
  }
 },
 "nbformat": 4,
 "nbformat_minor": 5
}
