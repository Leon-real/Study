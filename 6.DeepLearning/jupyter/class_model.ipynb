{
 "cells": [
  {
   "cell_type": "markdown",
   "id": "fce0b084",
   "metadata": {},
   "source": [
    "# 모델 준비 part 클래스화 하기"
   ]
  },
  {
   "cell_type": "code",
   "execution_count": 1,
   "id": "b152bcf3",
   "metadata": {},
   "outputs": [],
   "source": [
    "import tensorflow as tf\n",
    "import pandas as pd\n",
    "import numpy as np"
   ]
  },
  {
   "cell_type": "markdown",
   "id": "0ac1aa57",
   "metadata": {},
   "source": [
    "## 아래 코드는 클래스로 작성된 코드와 동일하다."
   ]
  },
  {
   "cell_type": "code",
   "execution_count": 7,
   "id": "a7839854",
   "metadata": {},
   "outputs": [],
   "source": [
    "# 모델을 준비합니다\n",
    "X = tf.keras.Input(shape=[1])\n",
    "Y = tf.keras.layers.Dense(1)(X)\n",
    "model = tf.keras.Model(X, Y) "
   ]
  },
  {
   "cell_type": "code",
   "execution_count": null,
   "id": "823b967c",
   "metadata": {},
   "outputs": [],
   "source": [
    "# 위 코드와 동일하다\n",
    "# 모델을 준비합니다\n",
    "class MyModel(tf.keras.Model): # tensorflow 모델 상속 받아옴\n",
    "    def __init__(self, **kwargs): # 초기화 함수\n",
    "        super(MyModel, self).__init__(**kwargs)\n",
    "        self.dense = tf.keras.layers.Dense(1) # Y레이어 설정\n",
    "        \n",
    "    def call(self, input):# 여기서 input은 X를 받는다.\n",
    "        Y = self.dense(input) # 여기서 input은 X를 받는다.\n",
    "        return Y"
   ]
  },
  {
   "cell_type": "code",
   "execution_count": 4,
   "id": "5d844644",
   "metadata": {},
   "outputs": [],
   "source": [
    "model = MyModel()\n",
    "model.compile(loss='mse')"
   ]
  },
  {
   "cell_type": "markdown",
   "id": "d963dffb",
   "metadata": {},
   "source": [
    "## 히든레이어 2개짜리를 만든다고 할 때,"
   ]
  },
  {
   "cell_type": "code",
   "execution_count": 10,
   "id": "8646a120",
   "metadata": {},
   "outputs": [],
   "source": [
    "# 모델을 준비합니다\n",
    "X = tf.keras.Input(shape=[1])\n",
    "H = tf.keras.layers.Dense(2, activation='swish')(X)\n",
    "Y = tf.keras.layers.Dense(1)(H)\n",
    "model = tf.keras.Model(X, Y) "
   ]
  },
  {
   "cell_type": "code",
   "execution_count": 11,
   "id": "ee544a48",
   "metadata": {},
   "outputs": [],
   "source": [
    "# 위 코드와 동일하다\n",
    "# 모델을 준비합니다\n",
    "class MyModel(tf.keras.Model): # tensorflow 모델 상속 받아옴\n",
    "    def __init__(self, **kwargs): # 초기화 함수\n",
    "        super(MyModel, self).__init__(**kwargs)\n",
    "        self.dense1 = tf.keras.layers.Dense(2, activation='swish') # H 레이어 설정\n",
    "        self.dense2 = tf.keras.layers.Dense(1) # Y 레이어 설정\n",
    "        \n",
    "    def call(self, input):# 여기서 input은 X를 받는다.\n",
    "        H = self.dense1(input) # 여기서 input은 X를 받는다.\n",
    "        Y = self.dense2(H)\n",
    "        return Y"
   ]
  },
  {
   "cell_type": "code",
   "execution_count": null,
   "id": "3046de72",
   "metadata": {},
   "outputs": [],
   "source": [
    "model = MyModel()\n",
    "model.compile(loss='mse')"
   ]
  },
  {
   "cell_type": "code",
   "execution_count": null,
   "id": "9b02d8e7",
   "metadata": {},
   "outputs": [],
   "source": []
  },
  {
   "cell_type": "code",
   "execution_count": null,
   "id": "0a03d93f",
   "metadata": {},
   "outputs": [],
   "source": []
  },
  {
   "cell_type": "code",
   "execution_count": null,
   "id": "757cf582",
   "metadata": {},
   "outputs": [],
   "source": []
  },
  {
   "cell_type": "code",
   "execution_count": null,
   "id": "0973bad7",
   "metadata": {},
   "outputs": [],
   "source": []
  },
  {
   "cell_type": "code",
   "execution_count": null,
   "id": "12c60344",
   "metadata": {},
   "outputs": [],
   "source": []
  },
  {
   "cell_type": "code",
   "execution_count": null,
   "id": "bf8a0a90",
   "metadata": {},
   "outputs": [],
   "source": []
  },
  {
   "cell_type": "code",
   "execution_count": null,
   "id": "93b80cd7",
   "metadata": {},
   "outputs": [],
   "source": []
  },
  {
   "cell_type": "code",
   "execution_count": null,
   "id": "0b14b045",
   "metadata": {},
   "outputs": [],
   "source": []
  }
 ],
 "metadata": {
  "kernelspec": {
   "display_name": "Python 3 (ipykernel)",
   "language": "python",
   "name": "python3"
  },
  "language_info": {
   "codemirror_mode": {
    "name": "ipython",
    "version": 3
   },
   "file_extension": ".py",
   "mimetype": "text/x-python",
   "name": "python",
   "nbconvert_exporter": "python",
   "pygments_lexer": "ipython3",
   "version": "3.11.3"
  }
 },
 "nbformat": 4,
 "nbformat_minor": 5
}
