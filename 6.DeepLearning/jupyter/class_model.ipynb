{
 "cells": [
  {
   "cell_type": "markdown",
   "id": "3e61713b",
   "metadata": {},
   "source": [
    "# 모델 준비 part 클래스화 하기"
   ]
  },
  {
   "cell_type": "code",
   "execution_count": 24,
   "id": "bc6880b7",
   "metadata": {},
   "outputs": [],
   "source": [
    "import tensorflow as tf\n",
    "import pandas as pd\n",
    "import numpy as np"
   ]
  },
  {
   "cell_type": "markdown",
   "id": "1d323e6a",
   "metadata": {},
   "source": [
    "## 아래 코드는 클래스로 작성된 코드와 동일하다."
   ]
  },
  {
   "cell_type": "code",
   "execution_count": 25,
   "id": "69fbf1f2",
   "metadata": {},
   "outputs": [],
   "source": [
    "# 모델을 준비합니다\n",
    "X = tf.keras.Input(shape=[1])\n",
    "Y = tf.keras.layers.Dense(1)(X)\n",
    "model = tf.keras.Model(X, Y) "
   ]
  },
  {
   "cell_type": "code",
   "execution_count": 26,
   "id": "b54f3069",
   "metadata": {},
   "outputs": [],
   "source": [
    "# 위 코드와 동일하다\n",
    "# 모델을 준비합니다\n",
    "class MyModel(tf.keras.Model): # tensorflow 모델 상속 받아옴\n",
    "    def __init__(self, **kwargs): # 초기화 함수\n",
    "        super(MyModel, self).__init__(**kwargs)\n",
    "        self.dense = tf.keras.layers.Dense(1) # Y레이어 설정\n",
    "        \n",
    "    def call(self, input):# 여기서 input은 X를 받는다.\n",
    "        Y = self.dense(input) # 여기서 input은 X를 받는다.\n",
    "        return Y"
   ]
  },
  {
   "cell_type": "code",
   "execution_count": 28,
   "id": "bddcd047",
   "metadata": {},
   "outputs": [],
   "source": [
    "model = MyModel()\n",
    "model.compile(loss='mse')"
   ]
  },
  {
   "cell_type": "markdown",
   "id": "41166031",
   "metadata": {},
   "source": [
    "## 히든레이어 2개짜리를 만든다고 할 때,"
   ]
  },
  {
   "cell_type": "code",
   "execution_count": 10,
   "id": "1b114056",
   "metadata": {},
   "outputs": [],
   "source": [
    "# 모델을 준비합니다\n",
    "X = tf.keras.Input(shape=[1])\n",
    "H = tf.keras.layers.Dense(2, activation='swish')(X)\n",
    "Y = tf.keras.layers.Dense(1)(H)\n",
    "model = tf.keras.Model(X, Y) "
   ]
  },
  {
   "cell_type": "code",
   "execution_count": 11,
   "id": "288a61a7",
   "metadata": {},
   "outputs": [],
   "source": [
    "# 위 코드와 동일하다\n",
    "# 모델을 준비합니다\n",
    "class MyModel(tf.keras.Model): # tensorflow 모델 상속 받아옴\n",
    "    def __init__(self, **kwargs): # 초기화 함수\n",
    "        super(MyModel, self).__init__(**kwargs)\n",
    "        self.dense1 = tf.keras.layers.Dense(2, activation='swish') # H 레이어 설정\n",
    "        self.dense2 = tf.keras.layers.Dense(1) # Y 레이어 설정\n",
    "        \n",
    "    def call(self, input):# 여기서 input은 X를 받는다.\n",
    "        H = self.dense1(input) # 여기서 input은 X를 받는다.\n",
    "        Y = self.dense2(H)\n",
    "        return Y"
   ]
  },
  {
   "cell_type": "code",
   "execution_count": null,
   "id": "09b59d54",
   "metadata": {},
   "outputs": [],
   "source": [
    "model = MyModel()\n",
    "model.compile(loss='mse')"
   ]
  },
  {
   "cell_type": "markdown",
   "id": "8e30ecf4",
   "metadata": {},
   "source": [
    "# MNIST 예시"
   ]
  },
  {
   "cell_type": "code",
   "execution_count": 165,
   "id": "b44dd59f",
   "metadata": {},
   "outputs": [
    {
     "name": "stdout",
     "output_type": "stream",
     "text": [
      "(60000, 28, 28) (60000,)\n",
      "(10000, 28, 28) (10000,)\n"
     ]
    }
   ],
   "source": [
    "# 데이터 준비\n",
    "(x_train, y_train), (x_test, y_test) = tf.keras.datasets.mnist.load_data()\n",
    "\n",
    "print(x_train.shape, y_train.shape)\n",
    "print(x_test.shape, y_test.shape)"
   ]
  },
  {
   "cell_type": "markdown",
   "id": "b7d4414c",
   "metadata": {},
   "source": [
    "```\n",
    "# 모델 생성\n",
    "X = tf.keras.Input(shape = [28,28]) \n",
    "\n",
    "H = tf.keras.layers.Dense(64, activation=tf.keras.activations.swish)(H)\n",
    "H = tf.keras.layers.Dense(20, activation=tf.keras.activations.swish)(H)\n",
    "Y = tf.keras.layers.Dense(10, activation=tf.keras.activations.softmax)(H)\n",
    "\n",
    "model = tf.keras.Model(X,Y)\n",
    "model.compile(optimizer=tf.keras.optimizers.Adam(learning_rate=0.001),\n",
    "            loss=tf.keras.losses.sparse_categorical_crossentropy,\n",
    "            metrics=tf.keras.metrics.SparseCategoricalAccuracy())\n",
    "model.summary()\n",
    "```"
   ]
  },
  {
   "cell_type": "code",
   "execution_count": 166,
   "id": "524a9f13",
   "metadata": {},
   "outputs": [],
   "source": [
    "# 모델 준비\n",
    "# 클래스화\n",
    "class MyModel1(tf.keras.Model):\n",
    "    def __init__(self, **kwargs):\n",
    "        super(MyModel1, self).__init__(**kwargs)\n",
    "        self.flatten = tf.keras.layers.Flatten()\n",
    "        self.dense1 = tf.keras.layers.Dense(64, activation='swish')\n",
    "        self.bn1 = tf.keras.layers.BatchNormalization()\n",
    "        self.dense2 = tf.keras.layers.Dense(20, activation='swish')\n",
    "        self.bn2 = tf.keras.layers.BatchNormalization()\n",
    "        self.dense3 = tf.keras.layers.Dense(10, activation='softmax')\n",
    "        \n",
    "    def call(self, X):\n",
    "        H = self.flatten(X)\n",
    "        H = self.dense1(H)\n",
    "        H = self.bn1(H)\n",
    "        H = self.dense2(H)\n",
    "        H = self.bn2(H)\n",
    "        Y = self.dense3(H)\n",
    "        return Y"
   ]
  },
  {
   "cell_type": "code",
   "execution_count": 167,
   "id": "b77b7108",
   "metadata": {},
   "outputs": [],
   "source": [
    "# 모델 준비\n",
    "# 응용 클래스화\n",
    "class MyModel2(tf.keras.Model):\n",
    "    def __init__(self, **kwargs):\n",
    "        super(MyModel2, self).__init__(**kwargs)\n",
    "        self.flatten = tf.keras.layers.Flatten()\n",
    "        self.dense1 = tf.keras.layers.Dense(64, activation='swish')\n",
    "        self.bn1 = tf.keras.layers.BatchNormalization()\n",
    "        self.dense2 = tf.keras.layers.Dense(20, activation='swish')\n",
    "        self.bn2 = tf.keras.layers.BatchNormalization()\n",
    "        self.dense3 = tf.keras.layers.Dense(10, activation='softmax')\n",
    "        \n",
    "    def call(self, X):\n",
    "        H = self.flatten(X)\n",
    "        H = self.dense1(H)\n",
    "        H = self.bn1(H)\n",
    "        H = self.dense2(H)\n",
    "        H = self.bn2(H)\n",
    "        Y = self.dense3(H)\n",
    "        return Y\n",
    "    \n",
    "    # 훈련 스텝\n",
    "    def train_step(self, batch):\n",
    "        x_batch, y_batch = batch\n",
    "        \n",
    "        with tf.GradientTape() as tape:\n",
    "                y_pred = self(x_batch, training=True)\n",
    "                loss = self.compiled_loss(y_batch, y_pred)\n",
    "\n",
    "        grad = tape.gradient(loss,self.trainable_weights)\n",
    "        self.optimizer.apply_gradients(zip(grad, self.trainable_weights))\n",
    "        \n",
    "        self.compiled_metrics.update_state(y_batch, y_pred)\n",
    "        return {m.name: m.result() for m in self.metrics}\n",
    "    \n",
    "    # 테스트 스탭\n",
    "    def test_step(self, batch):\n",
    "        x_batch, y_batch = batch\n",
    "        y_pred = self(x_batch, training=True)\n",
    "        self.compiled_metrics.update_state(y_batch, y_pred)\n",
    "        return {m.name: m.result() for m in self.metrics}"
   ]
  },
  {
   "cell_type": "code",
   "execution_count": 168,
   "id": "d33199f1",
   "metadata": {
    "scrolled": false
   },
   "outputs": [
    {
     "name": "stdout",
     "output_type": "stream",
     "text": [
      "Model: \"my_model2\"\n",
      "_________________________________________________________________\n",
      " Layer (type)                Output Shape              Param #   \n",
      "=================================================================\n",
      " flatten_32 (Flatten)        multiple                  0         \n",
      "                                                                 \n",
      " dense_115 (Dense)           multiple                  50240     \n",
      "                                                                 \n",
      " batch_normalization_70 (Ba  multiple                  256       \n",
      " tchNormalization)                                               \n",
      "                                                                 \n",
      " dense_116 (Dense)           multiple                  1300      \n",
      "                                                                 \n",
      " batch_normalization_71 (Ba  multiple                  80        \n",
      " tchNormalization)                                               \n",
      "                                                                 \n",
      " dense_117 (Dense)           multiple                  210       \n",
      "                                                                 \n",
      "=================================================================\n",
      "Total params: 52086 (203.46 KB)\n",
      "Trainable params: 51918 (202.80 KB)\n",
      "Non-trainable params: 168 (672.00 Byte)\n",
      "_________________________________________________________________\n"
     ]
    }
   ],
   "source": [
    "# 모델 생성\n",
    "model = MyModel1()\n",
    "model = MyModel2()\n",
    "model.compile(optimizer='adam', loss='sparse_categorical_crossentropy', metrics='accuracy')\n",
    "model.build(input_shape=[None, 28,28])\n",
    "model.summary()"
   ]
  },
  {
   "cell_type": "code",
   "execution_count": 169,
   "id": "fbc378e5",
   "metadata": {},
   "outputs": [
    {
     "name": "stdout",
     "output_type": "stream",
     "text": [
      "Epoch 1/10\n",
      "375/375 [==============================] - 3s 4ms/step - loss: 0.4391 - accuracy: 0.8839 - val_loss: 0.0000e+00 - val_accuracy: 0.9464\n",
      "Epoch 2/10\n",
      "375/375 [==============================] - 2s 6ms/step - loss: 0.1634 - accuracy: 0.9542 - val_loss: 0.0000e+00 - val_accuracy: 0.9579\n",
      "Epoch 3/10\n",
      "375/375 [==============================] - 3s 7ms/step - loss: 0.1164 - accuracy: 0.9659 - val_loss: 0.0000e+00 - val_accuracy: 0.9638\n",
      "Epoch 4/10\n",
      "375/375 [==============================] - 3s 8ms/step - loss: 0.0873 - accuracy: 0.9740 - val_loss: 0.0000e+00 - val_accuracy: 0.9668\n",
      "Epoch 5/10\n",
      "375/375 [==============================] - 3s 8ms/step - loss: 0.0724 - accuracy: 0.9784 - val_loss: 0.0000e+00 - val_accuracy: 0.9671\n",
      "Epoch 6/10\n",
      "375/375 [==============================] - 3s 7ms/step - loss: 0.0588 - accuracy: 0.9823 - val_loss: 0.0000e+00 - val_accuracy: 0.9689\n",
      "Epoch 7/10\n",
      "375/375 [==============================] - 3s 7ms/step - loss: 0.0496 - accuracy: 0.9857 - val_loss: 0.0000e+00 - val_accuracy: 0.9668\n",
      "Epoch 8/10\n",
      "375/375 [==============================] - 3s 7ms/step - loss: 0.0449 - accuracy: 0.9859 - val_loss: 0.0000e+00 - val_accuracy: 0.9678\n",
      "Epoch 9/10\n",
      "375/375 [==============================] - 3s 7ms/step - loss: 0.0371 - accuracy: 0.9885 - val_loss: 0.0000e+00 - val_accuracy: 0.9693\n",
      "Epoch 10/10\n",
      "375/375 [==============================] - 3s 7ms/step - loss: 0.0317 - accuracy: 0.9904 - val_loss: 0.0000e+00 - val_accuracy: 0.9683\n"
     ]
    },
    {
     "data": {
      "text/plain": [
       "<keras.src.callbacks.History at 0x138e0b3d710>"
      ]
     },
     "execution_count": 169,
     "metadata": {},
     "output_type": "execute_result"
    }
   ],
   "source": [
    "x_train, x_val = x_train[:48000], x_train[48000:]\n",
    "y_train, y_val = y_train[:48000], y_train[48000:]\n",
    "\n",
    "model.fit(x_train, y_train, epochs=10, batch_size=128, validation_data=(x_val, y_val))"
   ]
  },
  {
   "cell_type": "code",
   "execution_count": 158,
   "id": "12ae744e",
   "metadata": {},
   "outputs": [
    {
     "name": "stdout",
     "output_type": "stream",
     "text": [
      "Epoch 1/1000\n",
      "300/300 [==============================] - 3s 9ms/step - loss: 0.0242 - accuracy: 0.9930 - val_loss: 0.0323 - val_accuracy: 0.9896\n",
      "Epoch 2/1000\n",
      "300/300 [==============================] - 2s 8ms/step - loss: 0.0209 - accuracy: 0.9936 - val_loss: 0.0301 - val_accuracy: 0.9901\n",
      "Epoch 3/1000\n",
      "300/300 [==============================] - 2s 8ms/step - loss: 0.0161 - accuracy: 0.9956 - val_loss: 0.0368 - val_accuracy: 0.9868\n",
      "Epoch 4/1000\n",
      "300/300 [==============================] - 2s 8ms/step - loss: 0.0158 - accuracy: 0.9953 - val_loss: 0.0425 - val_accuracy: 0.9848\n",
      "Epoch 5/1000\n",
      "300/300 [==============================] - 2s 8ms/step - loss: 0.0160 - accuracy: 0.9948 - val_loss: 0.0476 - val_accuracy: 0.9831\n",
      "Epoch 6/1000\n",
      "300/300 [==============================] - 2s 7ms/step - loss: 0.0136 - accuracy: 0.9960 - val_loss: 0.0499 - val_accuracy: 0.9846\n",
      "Epoch 7/1000\n",
      "300/300 [==============================] - 2s 8ms/step - loss: 0.0128 - accuracy: 0.9962 - val_loss: 0.0565 - val_accuracy: 0.9821\n",
      "Epoch 8/1000\n",
      "300/300 [==============================] - 2s 7ms/step - loss: 0.0137 - accuracy: 0.9957 - val_loss: 0.0645 - val_accuracy: 0.9808\n",
      "Epoch 9/1000\n",
      "300/300 [==============================] - 2s 8ms/step - loss: 0.0135 - accuracy: 0.9959 - val_loss: 0.0735 - val_accuracy: 0.9784\n",
      "Epoch 10/1000\n",
      "300/300 [==============================] - 2s 8ms/step - loss: 0.0112 - accuracy: 0.9963 - val_loss: 0.0678 - val_accuracy: 0.9812\n",
      "Epoch 11/1000\n",
      "300/300 [==============================] - 2s 8ms/step - loss: 0.0105 - accuracy: 0.9967 - val_loss: 0.0829 - val_accuracy: 0.9773\n",
      "Epoch 12/1000\n",
      "300/300 [==============================] - 2s 8ms/step - loss: 0.0100 - accuracy: 0.9968 - val_loss: 0.0708 - val_accuracy: 0.9798\n"
     ]
    }
   ],
   "source": [
    "# # 콜백함수 만들기\n",
    "early = tf.keras.callbacks.EarlyStopping(monitor = 'val_loss',\n",
    "                                        min_delta = 0, # 이보다 작게 변하면 변한다고 안할거임.\n",
    "                                        patience = 10, # 이 회수(epoch)동안 개선이 없으면 끝냄\n",
    "                                        restore_best_weights=True)\n",
    "# # 모델 학습\n",
    "result = model.fit(x_train, y_train, epochs=1000, batch_size=128, validation_split=0.2, callbacks=[early])"
   ]
  },
  {
   "cell_type": "code",
   "execution_count": null,
   "id": "c603fd73",
   "metadata": {},
   "outputs": [],
   "source": []
  },
  {
   "cell_type": "code",
   "execution_count": 159,
   "id": "22606a0a",
   "metadata": {},
   "outputs": [
    {
     "data": {
      "image/png": "[encoded data removed]",
      "text/plain": [
       "<Figure size 640x480 with 1 Axes>"
      ]
     },
     "metadata": {},
     "output_type": "display_data"
    },
    {
     "data": {
      "image/png": "[encoded data removed]",
      "text/plain": [
       "<Figure size 640x480 with 1 Axes>"
      ]
     },
     "metadata": {},
     "output_type": "display_data"
    }
   ],
   "source": [
    "# 학습 시각화\n",
    "import matplotlib.pyplot as plt\n",
    "\n",
    "plt. plot(result.history['loss'])\n",
    "plt. plot(result.history['val_loss'])\n",
    "plt.legend(['loss','val_loss'])\n",
    "plt.show()\n",
    "\n",
    "plt. plot(result.history['accuracy'])\n",
    "plt. plot(result.history['val_accuracy'])\n",
    "plt.legend(['accuracy','val_accuracy'])\n",
    "plt.show()"
   ]
  },
  {
   "cell_type": "code",
   "execution_count": null,
   "id": "28257db1",
   "metadata": {},
   "outputs": [],
   "source": []
  },
  {
   "cell_type": "code",
   "execution_count": null,
   "id": "f01a1652",
   "metadata": {},
   "outputs": [],
   "source": []
  },
  {
   "cell_type": "code",
   "execution_count": null,
   "id": "e452500f",
   "metadata": {},
   "outputs": [],
   "source": []
  },
  {
   "cell_type": "code",
   "execution_count": null,
   "id": "0f1c6065",
   "metadata": {},
   "outputs": [],
   "source": []
  },
  {
   "cell_type": "code",
   "execution_count": null,
   "id": "081f51bd",
   "metadata": {},
   "outputs": [],
   "source": []
  },
  {
   "cell_type": "code",
   "execution_count": null,
   "id": "a6ab72e4",
   "metadata": {},
   "outputs": [],
   "source": []
  },
  {
   "cell_type": "code",
   "execution_count": null,
   "id": "60df812f",
   "metadata": {},
   "outputs": [],
   "source": []
  },
  {
   "cell_type": "code",
   "execution_count": null,
   "id": "ea0a51e4",
   "metadata": {},
   "outputs": [],
   "source": []
  },
  {
   "cell_type": "code",
   "execution_count": null,
   "id": "d17071cc",
   "metadata": {},
   "outputs": [],
   "source": []
  },
  {
   "cell_type": "code",
   "execution_count": null,
   "id": "0c2724dc",
   "metadata": {},
   "outputs": [],
   "source": []
  }
 ],
 "metadata": {
  "kernelspec": {
   "display_name": "Python 3 (ipykernel)",
   "language": "python",
   "name": "python3"
  },
  "language_info": {
   "codemirror_mode": {
    "name": "ipython",
    "version": 3
   },
   "file_extension": ".py",
   "mimetype": "text/x-python",
   "name": "python",
   "nbconvert_exporter": "python",
   "pygments_lexer": "ipython3",
   "version": "3.11.3"
  }
 },
 "nbformat": 4,
 "nbformat_minor": 5
}
