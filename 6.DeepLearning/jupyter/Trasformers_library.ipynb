{
 "cells": [
  {
   "cell_type": "code",
   "execution_count": 2,
   "id": "a19f0228",
   "metadata": {},
   "outputs": [],
   "source": [
    "#!pip install transformers xformers datasets -q"
   ]
  },
  {
   "cell_type": "code",
   "execution_count": 7,
   "id": "dc8ebcd7",
   "metadata": {},
   "outputs": [],
   "source": [
    "#!pip install transformers"
   ]
  },
  {
   "cell_type": "code",
   "execution_count": 15,
   "id": "632206f7",
   "metadata": {},
   "outputs": [],
   "source": [
    "#!pip install --upgrade tensorflow"
   ]
  },
  {
   "cell_type": "code",
   "execution_count": null,
   "id": "175fb103",
   "metadata": {},
   "outputs": [],
   "source": []
  },
  {
   "cell_type": "markdown",
   "id": "f2ce0a85",
   "metadata": {},
   "source": [
    "## pipeline - 감정 분석"
   ]
  },
  {
   "cell_type": "code",
   "execution_count": 19,
   "id": "8d3967ab",
   "metadata": {},
   "outputs": [
    {
     "ename": "ImportError",
     "evalue": "cannot import name 'pipeline' from 'transformers' (C:\\Users\\user\\anaconda3\\Lib\\site-packages\\transformers\\__init__.py)",
     "output_type": "error",
     "traceback": [
      "\u001b[1;31m---------------------------------------------------------------------------\u001b[0m",
      "\u001b[1;31mImportError\u001b[0m                               Traceback (most recent call last)",
      "Cell \u001b[1;32mIn[19], line 1\u001b[0m\n\u001b[1;32m----> 1\u001b[0m \u001b[38;5;28;01mfrom\u001b[39;00m \u001b[38;5;21;01mtransformers\u001b[39;00m \u001b[38;5;28;01mimport\u001b[39;00m pipeline\n\u001b[0;32m      3\u001b[0m classifier \u001b[38;5;241m=\u001b[39m pipeline(\u001b[38;5;124m\"\u001b[39m\u001b[38;5;124msentiment-analysis\u001b[39m\u001b[38;5;124m\"\u001b[39m)\n\u001b[0;32m      5\u001b[0m results \u001b[38;5;241m=\u001b[39m classifier(\u001b[38;5;124m\"\u001b[39m\u001b[38;5;124mWe are very happy.\u001b[39m\u001b[38;5;124m\"\u001b[39m)\n",
      "\u001b[1;31mImportError\u001b[0m: cannot import name 'pipeline' from 'transformers' (C:\\Users\\user\\anaconda3\\Lib\\site-packages\\transformers\\__init__.py)"
     ]
    }
   ],
   "source": [
    "from transformers import pipeline\n",
    "\n",
    "classifier = pipeline(\"sentiment-analysis\")\n",
    "\n",
    "results = classifier(\"We are very happy.\")\n",
    "print(results)\n",
    "\n",
    "results = classifier([\"We are very happy.\", \"We hope you don't hate it.\"])\n",
    "print(results)"
   ]
  },
  {
   "cell_type": "code",
   "execution_count": null,
   "id": "b2a77a41",
   "metadata": {},
   "outputs": [],
   "source": [
    "from transformers import pipeline\n",
    "\n",
    "classifier = pipeline(\"sentiment-analysis\", model=\"matthewburke/korean_sentiment\")\n",
    "classifier([\"괜찮은데?\", \"생각보단 별로네\", \"그저그래\", \"영화 재미있었다\", \"평범했어\"])"
   ]
  },
  {
   "cell_type": "markdown",
   "id": "2ad5c254",
   "metadata": {},
   "source": [
    "## pipeline - 텍스트 생성"
   ]
  },
  {
   "cell_type": "code",
   "execution_count": 6,
   "id": "de4f41a3",
   "metadata": {},
   "outputs": [
    {
     "ename": "ImportError",
     "evalue": "cannot import name 'pipeline' from 'transformers' (C:\\Users\\user\\anaconda3\\Lib\\site-packages\\transformers\\__init__.py)",
     "output_type": "error",
     "traceback": [
      "\u001b[1;31m---------------------------------------------------------------------------\u001b[0m",
      "\u001b[1;31mImportError\u001b[0m                               Traceback (most recent call last)",
      "Cell \u001b[1;32mIn[6], line 1\u001b[0m\n\u001b[1;32m----> 1\u001b[0m \u001b[38;5;28;01mfrom\u001b[39;00m \u001b[38;5;21;01mtransformers\u001b[39;00m \u001b[38;5;28;01mimport\u001b[39;00m pipeline\n\u001b[0;32m      3\u001b[0m generator \u001b[38;5;241m=\u001b[39m pipeline(\u001b[38;5;124m\"\u001b[39m\u001b[38;5;124mtext-generation\u001b[39m\u001b[38;5;124m\"\u001b[39m)\n\u001b[0;32m      5\u001b[0m result \u001b[38;5;241m=\u001b[39m generator(\u001b[38;5;124m\"\u001b[39m\u001b[38;5;124mI have a dream\u001b[39m\u001b[38;5;124m\"\u001b[39m, max_length\u001b[38;5;241m=\u001b[39m\u001b[38;5;241m1000\u001b[39m)\n",
      "\u001b[1;31mImportError\u001b[0m: cannot import name 'pipeline' from 'transformers' (C:\\Users\\user\\anaconda3\\Lib\\site-packages\\transformers\\__init__.py)"
     ]
    }
   ],
   "source": [
    "from transformers import pipeline\n",
    "\n",
    "generator = pipeline(\"text-generation\")\n",
    "\n",
    "result = generator(\"I have a dream\", max_length=1000)\n",
    "print(result[0]['generated_text'])"
   ]
  },
  {
   "cell_type": "code",
   "execution_count": null,
   "id": "fbf7ec96",
   "metadata": {},
   "outputs": [],
   "source": [
    "from transformers import pipeline\n",
    "\n",
    "# 모델 로딩\n",
    "generator = pipeline(\"text-generation\", max_length=1000,\n",
    "                     model=\"skt/kogpt2-base-v2\")\n",
    "\n",
    "# 모델 이용\n",
    "result = generator(\"아름다운 밤이에요.\")\n",
    "print(result[0]['generated_text'])"
   ]
  },
  {
   "cell_type": "markdown",
   "id": "58d3075a",
   "metadata": {},
   "source": [
    "## pipeline - 이미지 분류"
   ]
  },
  {
   "cell_type": "code",
   "execution_count": null,
   "id": "a74a4951",
   "metadata": {},
   "outputs": [],
   "source": [
    "from IPython.display import Image\n",
    "from transformers import pipeline\n",
    "\n",
    "img = \"https://huggingface.co/datasets/Narsil/image_dummy/raw/main/parrots.png\"\n",
    "\n",
    "# 이미지 분류\n",
    "classifier = pipeline(\"image-classification\")\n",
    "result = classifier(img)\n",
    "print(result)\n",
    "\n",
    "# 이미지 설명\n",
    "caption = pipeline(\"image-to-text\")\n",
    "result = caption(img)\n",
    "print(result)\n",
    "\n",
    "# 이미지 보기\n",
    "Image(img)\n"
   ]
  },
  {
   "cell_type": "markdown",
   "id": "58065f1a",
   "metadata": {},
   "source": [
    "## pipeline - 음성 인식"
   ]
  },
  {
   "cell_type": "code",
   "execution_count": null,
   "id": "f1da783d",
   "metadata": {},
   "outputs": [],
   "source": [
    "# 오디오 데이터셋 로딩\n",
    "from datasets import load_dataset\n",
    "\n",
    "dataset = load_dataset(\"PolyAI/minds14\", name=\"en-US\", split=\"train\")\n",
    "print(dataset)"
   ]
  },
  {
   "cell_type": "code",
   "execution_count": null,
   "id": "a28d25ac",
   "metadata": {},
   "outputs": [],
   "source": [
    "# 오디오 파일 재생\n",
    "from IPython.display import Audio\n",
    "Audio(dataset[0][\"audio\"]['path'])"
   ]
  },
  {
   "cell_type": "code",
   "execution_count": null,
   "id": "f5695905",
   "metadata": {},
   "outputs": [],
   "source": [
    "import torch\n",
    "from transformers import pipeline\n",
    "\n",
    "# 모델 로딩\n",
    "speech_recognizer = pipeline(\"automatic-speech-recognition\", model=\"facebook/wav2vec2-base-960h\")\n",
    "\n",
    "# 모델 사용\n",
    "result = speech_recognizer(dataset[0][\"audio\"])\n",
    "print(result)"
   ]
  },
  {
   "cell_type": "code",
   "execution_count": null,
   "id": "4efbe58c",
   "metadata": {},
   "outputs": [],
   "source": [
    "import torch\n",
    "from transformers import pipeline\n",
    "from datasets import load_dataset\n",
    "\n",
    "# 오디오 데이터셋 로딩\n",
    "dataset = load_dataset(\"PolyAI/minds14\", name=\"ko-KR\", split=\"train\")\n",
    "print(dataset)\n",
    "\n",
    "# 모델 로딩\n",
    "speech_recognizer = pipeline(\"automatic-speech-recognition\", model=\"Hyuk/wav2vec2-korean-v2\")\n",
    "\n",
    "# 모델 사용\n",
    "result = speech_recognizer(dataset[1][\"audio\"])\n",
    "print(result)\n",
    "\n",
    "# 오디오 파일 재생\n",
    "Audio(dataset[1][\"audio\"]['path'])"
   ]
  },
  {
   "cell_type": "code",
   "execution_count": null,
   "id": "1e813159",
   "metadata": {},
   "outputs": [],
   "source": []
  },
  {
   "cell_type": "code",
   "execution_count": null,
   "id": "c122e584",
   "metadata": {},
   "outputs": [],
   "source": []
  },
  {
   "cell_type": "code",
   "execution_count": null,
   "id": "ecabb8bf",
   "metadata": {},
   "outputs": [],
   "source": []
  },
  {
   "cell_type": "code",
   "execution_count": null,
   "id": "95428d82",
   "metadata": {},
   "outputs": [],
   "source": []
  },
  {
   "cell_type": "code",
   "execution_count": null,
   "id": "d6f55d4a",
   "metadata": {},
   "outputs": [],
   "source": []
  },
  {
   "cell_type": "code",
   "execution_count": null,
   "id": "2c87f6ed",
   "metadata": {},
   "outputs": [],
   "source": []
  },
  {
   "cell_type": "code",
   "execution_count": null,
   "id": "dc3862f0",
   "metadata": {},
   "outputs": [],
   "source": []
  },
  {
   "cell_type": "code",
   "execution_count": null,
   "id": "6495020a",
   "metadata": {},
   "outputs": [],
   "source": []
  },
  {
   "cell_type": "code",
   "execution_count": null,
   "id": "e1ccf1fe",
   "metadata": {},
   "outputs": [],
   "source": []
  },
  {
   "cell_type": "code",
   "execution_count": null,
   "id": "fb38e1a5",
   "metadata": {},
   "outputs": [],
   "source": []
  },
  {
   "cell_type": "code",
   "execution_count": null,
   "id": "f6b0bd53",
   "metadata": {},
   "outputs": [],
   "source": []
  },
  {
   "cell_type": "code",
   "execution_count": null,
   "id": "9f38dadc",
   "metadata": {},
   "outputs": [],
   "source": []
  },
  {
   "cell_type": "code",
   "execution_count": null,
   "id": "f0bdb682",
   "metadata": {},
   "outputs": [],
   "source": []
  },
  {
   "cell_type": "code",
   "execution_count": null,
   "id": "3ed3077f",
   "metadata": {},
   "outputs": [],
   "source": []
  }
 ],
 "metadata": {
  "kernelspec": {
   "display_name": "Python 3 (ipykernel)",
   "language": "python",
   "name": "python3"
  },
  "language_info": {
   "codemirror_mode": {
    "name": "ipython",
    "version": 3
   },
   "file_extension": ".py",
   "mimetype": "text/x-python",
   "name": "python",
   "nbconvert_exporter": "python",
   "pygments_lexer": "ipython3",
   "version": "3.11.3"
  }
 },
 "nbformat": 4,
 "nbformat_minor": 5
}
