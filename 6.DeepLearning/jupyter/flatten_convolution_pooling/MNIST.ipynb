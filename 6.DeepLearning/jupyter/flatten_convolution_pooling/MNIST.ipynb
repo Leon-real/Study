{
 "cells": [
  {
   "cell_type": "code",
   "execution_count": 1,
   "id": "8a5c5e2e",
   "metadata": {},
   "outputs": [],
   "source": [
    "import tensorflow as tf\n",
    "import pandas as pd"
   ]
  },
  {
   "cell_type": "code",
   "execution_count": 5,
   "id": "fd17c8f0",
   "metadata": {},
   "outputs": [
    {
     "name": "stdout",
     "output_type": "stream",
     "text": [
      "(60000, 784) (60000, 10)\n",
      "(10000, 784) (10000, 10)\n"
     ]
    }
   ],
   "source": [
    "# 데이터 준비\n",
    "(x_train, y_train), (x_test, y_test) = tf.keras.datasets.mnist.load_data()\n",
    "\n",
    "# 표로 만들기\n",
    "x_train = x_train.reshape(60000, 784)\n",
    "x_test = x_test.reshape(10000, 784)\n",
    "y_train = pd.get_dummies(y_train)\n",
    "y_test = pd.get_dummies(y_test)\n",
    "\n",
    "print(x_train.shape, y_train.shape)\n",
    "print(x_test.shape, y_test.shape)"
   ]
  },
  {
   "cell_type": "code",
   "execution_count": 14,
   "id": "15eeda7e",
   "metadata": {},
   "outputs": [
    {
     "name": "stdout",
     "output_type": "stream",
     "text": [
      "Model: \"model_2\"\n",
      "_________________________________________________________________\n",
      " Layer (type)                Output Shape              Param #   \n",
      "=================================================================\n",
      " input_4 (InputLayer)        [(None, 784)]             0         \n",
      "                                                                 \n",
      " dense_2 (Dense)             (None, 64)                50240     \n",
      "                                                                 \n",
      " dense_3 (Dense)             (None, 10)                650       \n",
      "                                                                 \n",
      "=================================================================\n",
      "Total params: 50890 (198.79 KB)\n",
      "Trainable params: 50890 (198.79 KB)\n",
      "Non-trainable params: 0 (0.00 Byte)\n",
      "_________________________________________________________________\n"
     ]
    }
   ],
   "source": [
    "# 모델 생성\n",
    "X = tf.keras.Input([784])\n",
    "H = tf.keras.layers.Dense(64, activation='swish')(X)\n",
    "Y = tf.keras.layers.Dense(10, activation='softmax')(H)\n",
    "model = tf.keras.Model(X,Y)\n",
    "\n",
    "model.compile(loss='categorical_crossentropy', metrics='accuracy')\n",
    "model.summary()"
   ]
  },
  {
   "cell_type": "code",
   "execution_count": 15,
   "id": "e296f1ba",
   "metadata": {},
   "outputs": [
    {
     "name": "stdout",
     "output_type": "stream",
     "text": [
      "Epoch 1/100\n",
      "375/375 [==============================] - 2s 4ms/step - loss: 4.7017 - accuracy: 0.7946 - val_loss: 0.6708 - val_accuracy: 0.8630\n",
      "Epoch 2/100\n",
      "375/375 [==============================] - 1s 3ms/step - loss: 0.5810 - accuracy: 0.8869 - val_loss: 0.4708 - val_accuracy: 0.9108\n",
      "Epoch 3/100\n",
      "375/375 [==============================] - 1s 3ms/step - loss: 0.4065 - accuracy: 0.9185 - val_loss: 0.3907 - val_accuracy: 0.9288\n",
      "Epoch 4/100\n",
      "375/375 [==============================] - 1s 3ms/step - loss: 0.3220 - accuracy: 0.9337 - val_loss: 0.3651 - val_accuracy: 0.9342\n",
      "Epoch 5/100\n",
      "375/375 [==============================] - 1s 3ms/step - loss: 0.2728 - accuracy: 0.9404 - val_loss: 0.3366 - val_accuracy: 0.9354\n",
      "Epoch 6/100\n",
      "375/375 [==============================] - 1s 4ms/step - loss: 0.2333 - accuracy: 0.9472 - val_loss: 0.3156 - val_accuracy: 0.9440\n",
      "Epoch 7/100\n",
      "375/375 [==============================] - 1s 3ms/step - loss: 0.2177 - accuracy: 0.9519 - val_loss: 0.3411 - val_accuracy: 0.9428\n",
      "Epoch 8/100\n",
      "375/375 [==============================] - 1s 3ms/step - loss: 0.2018 - accuracy: 0.9549 - val_loss: 0.3558 - val_accuracy: 0.9405\n",
      "Epoch 9/100\n",
      "375/375 [==============================] - 1s 4ms/step - loss: 0.1866 - accuracy: 0.9583 - val_loss: 0.3028 - val_accuracy: 0.9510\n",
      "Epoch 10/100\n",
      "375/375 [==============================] - 1s 4ms/step - loss: 0.1632 - accuracy: 0.9624 - val_loss: 0.2976 - val_accuracy: 0.9496\n",
      "Epoch 11/100\n",
      "375/375 [==============================] - 1s 3ms/step - loss: 0.1576 - accuracy: 0.9640 - val_loss: 0.3384 - val_accuracy: 0.9517\n",
      "Epoch 12/100\n",
      "375/375 [==============================] - 1s 4ms/step - loss: 0.1535 - accuracy: 0.9649 - val_loss: 0.2919 - val_accuracy: 0.9537\n",
      "Epoch 13/100\n",
      "375/375 [==============================] - 1s 4ms/step - loss: 0.1429 - accuracy: 0.9674 - val_loss: 0.3487 - val_accuracy: 0.9538\n",
      "Epoch 14/100\n",
      "375/375 [==============================] - 1s 4ms/step - loss: 0.1314 - accuracy: 0.9692 - val_loss: 0.3305 - val_accuracy: 0.9542\n",
      "Epoch 15/100\n",
      "375/375 [==============================] - 1s 4ms/step - loss: 0.1365 - accuracy: 0.9704 - val_loss: 0.3314 - val_accuracy: 0.9530\n",
      "Epoch 16/100\n",
      "375/375 [==============================] - 1s 4ms/step - loss: 0.1275 - accuracy: 0.9719 - val_loss: 0.3681 - val_accuracy: 0.9487\n",
      "Epoch 17/100\n",
      "375/375 [==============================] - 1s 4ms/step - loss: 0.1181 - accuracy: 0.9721 - val_loss: 0.3530 - val_accuracy: 0.9543\n",
      "Epoch 18/100\n",
      "375/375 [==============================] - 1s 4ms/step - loss: 0.1194 - accuracy: 0.9727 - val_loss: 0.3697 - val_accuracy: 0.9559\n",
      "Epoch 19/100\n",
      "375/375 [==============================] - 1s 4ms/step - loss: 0.1100 - accuracy: 0.9745 - val_loss: 0.3487 - val_accuracy: 0.9557\n",
      "Epoch 20/100\n",
      "375/375 [==============================] - 1s 4ms/step - loss: 0.1053 - accuracy: 0.9759 - val_loss: 0.3786 - val_accuracy: 0.9573\n",
      "Epoch 21/100\n",
      "375/375 [==============================] - 1s 4ms/step - loss: 0.1084 - accuracy: 0.9757 - val_loss: 0.3519 - val_accuracy: 0.9536\n",
      "Epoch 22/100\n",
      "375/375 [==============================] - 1s 4ms/step - loss: 0.0997 - accuracy: 0.9769 - val_loss: 0.3849 - val_accuracy: 0.9558\n",
      "Epoch 23/100\n",
      "375/375 [==============================] - 1s 4ms/step - loss: 0.0989 - accuracy: 0.9780 - val_loss: 0.4082 - val_accuracy: 0.9560\n",
      "Epoch 24/100\n",
      "375/375 [==============================] - 2s 4ms/step - loss: 0.0882 - accuracy: 0.9780 - val_loss: 0.4297 - val_accuracy: 0.9537\n",
      "Epoch 25/100\n",
      "375/375 [==============================] - 1s 4ms/step - loss: 0.0874 - accuracy: 0.9800 - val_loss: 0.3994 - val_accuracy: 0.9565\n",
      "Epoch 26/100\n",
      "375/375 [==============================] - 1s 4ms/step - loss: 0.0900 - accuracy: 0.9789 - val_loss: 0.4110 - val_accuracy: 0.9567\n",
      "Epoch 27/100\n",
      "375/375 [==============================] - 1s 3ms/step - loss: 0.0841 - accuracy: 0.9804 - val_loss: 0.4054 - val_accuracy: 0.9548\n",
      "Epoch 28/100\n",
      "375/375 [==============================] - 1s 4ms/step - loss: 0.0791 - accuracy: 0.9808 - val_loss: 0.4046 - val_accuracy: 0.9563\n",
      "Epoch 29/100\n",
      "375/375 [==============================] - 1s 3ms/step - loss: 0.0825 - accuracy: 0.9812 - val_loss: 0.4335 - val_accuracy: 0.9564\n",
      "Epoch 30/100\n",
      "375/375 [==============================] - 1s 3ms/step - loss: 0.0785 - accuracy: 0.9819 - val_loss: 0.4745 - val_accuracy: 0.9563\n",
      "Epoch 31/100\n",
      "375/375 [==============================] - 1s 3ms/step - loss: 0.0777 - accuracy: 0.9824 - val_loss: 0.4750 - val_accuracy: 0.9560\n",
      "Epoch 32/100\n",
      "375/375 [==============================] - 1s 3ms/step - loss: 0.0773 - accuracy: 0.9826 - val_loss: 0.4630 - val_accuracy: 0.9571\n",
      "Epoch 33/100\n",
      "375/375 [==============================] - 1s 3ms/step - loss: 0.0723 - accuracy: 0.9837 - val_loss: 0.4595 - val_accuracy: 0.9542\n",
      "Epoch 34/100\n",
      "375/375 [==============================] - 1s 3ms/step - loss: 0.0714 - accuracy: 0.9839 - val_loss: 0.4551 - val_accuracy: 0.9581\n",
      "Epoch 35/100\n",
      "375/375 [==============================] - 1s 4ms/step - loss: 0.0691 - accuracy: 0.9834 - val_loss: 0.4828 - val_accuracy: 0.9578\n",
      "Epoch 36/100\n",
      "375/375 [==============================] - 2s 4ms/step - loss: 0.0658 - accuracy: 0.9841 - val_loss: 0.4918 - val_accuracy: 0.9562\n",
      "Epoch 37/100\n",
      "375/375 [==============================] - 1s 4ms/step - loss: 0.0648 - accuracy: 0.9848 - val_loss: 0.5575 - val_accuracy: 0.9538\n",
      "Epoch 38/100\n",
      "375/375 [==============================] - 1s 4ms/step - loss: 0.0650 - accuracy: 0.9846 - val_loss: 0.5332 - val_accuracy: 0.9568\n",
      "Epoch 39/100\n",
      "375/375 [==============================] - 1s 4ms/step - loss: 0.0629 - accuracy: 0.9854 - val_loss: 0.4897 - val_accuracy: 0.9577\n",
      "Epoch 40/100\n",
      "375/375 [==============================] - 1s 4ms/step - loss: 0.0623 - accuracy: 0.9861 - val_loss: 0.4806 - val_accuracy: 0.9578\n",
      "Epoch 41/100\n",
      "375/375 [==============================] - 1s 4ms/step - loss: 0.0584 - accuracy: 0.9864 - val_loss: 0.5057 - val_accuracy: 0.9602\n",
      "Epoch 42/100\n",
      "375/375 [==============================] - 1s 4ms/step - loss: 0.0569 - accuracy: 0.9868 - val_loss: 0.5133 - val_accuracy: 0.9595\n",
      "Epoch 43/100\n",
      "375/375 [==============================] - 1s 4ms/step - loss: 0.0571 - accuracy: 0.9865 - val_loss: 0.5246 - val_accuracy: 0.9584\n",
      "Epoch 44/100\n",
      "375/375 [==============================] - 2s 4ms/step - loss: 0.0610 - accuracy: 0.9862 - val_loss: 0.5623 - val_accuracy: 0.9567\n",
      "Epoch 45/100\n",
      "375/375 [==============================] - 1s 4ms/step - loss: 0.0549 - accuracy: 0.9874 - val_loss: 0.5658 - val_accuracy: 0.9567\n",
      "Epoch 46/100\n",
      "375/375 [==============================] - 2s 4ms/step - loss: 0.0585 - accuracy: 0.9871 - val_loss: 0.5505 - val_accuracy: 0.9570\n",
      "Epoch 47/100\n",
      "375/375 [==============================] - 2s 4ms/step - loss: 0.0606 - accuracy: 0.9867 - val_loss: 0.5583 - val_accuracy: 0.9586\n",
      "Epoch 48/100\n",
      "375/375 [==============================] - 2s 4ms/step - loss: 0.0545 - accuracy: 0.9875 - val_loss: 0.5730 - val_accuracy: 0.9598\n",
      "Epoch 49/100\n",
      "375/375 [==============================] - 1s 4ms/step - loss: 0.0510 - accuracy: 0.9879 - val_loss: 0.6298 - val_accuracy: 0.9575\n",
      "Epoch 50/100\n",
      "375/375 [==============================] - 1s 4ms/step - loss: 0.0479 - accuracy: 0.9883 - val_loss: 0.5668 - val_accuracy: 0.9582\n",
      "Epoch 51/100\n",
      "375/375 [==============================] - 1s 4ms/step - loss: 0.0518 - accuracy: 0.9881 - val_loss: 0.6253 - val_accuracy: 0.9597\n",
      "Epoch 52/100\n",
      "375/375 [==============================] - 2s 4ms/step - loss: 0.0539 - accuracy: 0.9880 - val_loss: 0.5943 - val_accuracy: 0.9603\n",
      "Epoch 53/100\n",
      "375/375 [==============================] - 2s 4ms/step - loss: 0.0481 - accuracy: 0.9885 - val_loss: 0.5833 - val_accuracy: 0.9614\n",
      "Epoch 54/100\n",
      "375/375 [==============================] - 2s 4ms/step - loss: 0.0479 - accuracy: 0.9885 - val_loss: 0.5647 - val_accuracy: 0.9607\n",
      "Epoch 55/100\n",
      "375/375 [==============================] - 1s 4ms/step - loss: 0.0479 - accuracy: 0.9888 - val_loss: 0.5914 - val_accuracy: 0.9617\n",
      "Epoch 56/100\n",
      "375/375 [==============================] - 2s 4ms/step - loss: 0.0429 - accuracy: 0.9892 - val_loss: 0.5976 - val_accuracy: 0.9596\n",
      "Epoch 57/100\n",
      "375/375 [==============================] - 2s 4ms/step - loss: 0.0454 - accuracy: 0.9892 - val_loss: 0.5861 - val_accuracy: 0.9622\n"
     ]
    },
    {
     "name": "stdout",
     "output_type": "stream",
     "text": [
      "Epoch 58/100\n",
      "375/375 [==============================] - 2s 4ms/step - loss: 0.0458 - accuracy: 0.9887 - val_loss: 0.6632 - val_accuracy: 0.9597\n",
      "Epoch 59/100\n",
      "375/375 [==============================] - 2s 4ms/step - loss: 0.0450 - accuracy: 0.9902 - val_loss: 0.6319 - val_accuracy: 0.9595\n",
      "Epoch 60/100\n",
      "375/375 [==============================] - 1s 4ms/step - loss: 0.0429 - accuracy: 0.9895 - val_loss: 0.6511 - val_accuracy: 0.9597\n",
      "Epoch 61/100\n",
      "375/375 [==============================] - 1s 4ms/step - loss: 0.0432 - accuracy: 0.9898 - val_loss: 0.6281 - val_accuracy: 0.9612\n",
      "Epoch 62/100\n",
      "375/375 [==============================] - 1s 4ms/step - loss: 0.0430 - accuracy: 0.9902 - val_loss: 0.6870 - val_accuracy: 0.9583\n",
      "Epoch 63/100\n",
      "375/375 [==============================] - 1s 4ms/step - loss: 0.0413 - accuracy: 0.9897 - val_loss: 0.6669 - val_accuracy: 0.9588\n",
      "Epoch 64/100\n",
      "375/375 [==============================] - 1s 4ms/step - loss: 0.0401 - accuracy: 0.9899 - val_loss: 0.6632 - val_accuracy: 0.9607\n",
      "Epoch 65/100\n",
      "375/375 [==============================] - 1s 4ms/step - loss: 0.0432 - accuracy: 0.9908 - val_loss: 0.6929 - val_accuracy: 0.9577\n",
      "Epoch 66/100\n",
      "375/375 [==============================] - 1s 4ms/step - loss: 0.0419 - accuracy: 0.9906 - val_loss: 0.6673 - val_accuracy: 0.9602\n",
      "Epoch 67/100\n",
      "375/375 [==============================] - 1s 4ms/step - loss: 0.0424 - accuracy: 0.9906 - val_loss: 0.6900 - val_accuracy: 0.9594\n",
      "Epoch 68/100\n",
      "375/375 [==============================] - 1s 4ms/step - loss: 0.0409 - accuracy: 0.9908 - val_loss: 0.7137 - val_accuracy: 0.9584\n",
      "Epoch 69/100\n",
      "375/375 [==============================] - 2s 4ms/step - loss: 0.0415 - accuracy: 0.9903 - val_loss: 0.7139 - val_accuracy: 0.9588\n",
      "Epoch 70/100\n",
      "375/375 [==============================] - 2s 4ms/step - loss: 0.0373 - accuracy: 0.9912 - val_loss: 0.7086 - val_accuracy: 0.9601\n",
      "Epoch 71/100\n",
      "375/375 [==============================] - 1s 4ms/step - loss: 0.0375 - accuracy: 0.9908 - val_loss: 0.7324 - val_accuracy: 0.9612\n",
      "Epoch 72/100\n",
      "375/375 [==============================] - 1s 4ms/step - loss: 0.0380 - accuracy: 0.9909 - val_loss: 0.7256 - val_accuracy: 0.9618\n",
      "Epoch 73/100\n",
      "375/375 [==============================] - 1s 4ms/step - loss: 0.0323 - accuracy: 0.9919 - val_loss: 0.7163 - val_accuracy: 0.9611\n",
      "Epoch 74/100\n",
      "375/375 [==============================] - 1s 3ms/step - loss: 0.0408 - accuracy: 0.9910 - val_loss: 0.7389 - val_accuracy: 0.9626\n",
      "Epoch 75/100\n",
      "375/375 [==============================] - 1s 3ms/step - loss: 0.0345 - accuracy: 0.9914 - val_loss: 0.7504 - val_accuracy: 0.9612\n",
      "Epoch 76/100\n",
      "375/375 [==============================] - 1s 4ms/step - loss: 0.0351 - accuracy: 0.9912 - val_loss: 0.7676 - val_accuracy: 0.9599\n",
      "Epoch 77/100\n",
      "375/375 [==============================] - 1s 4ms/step - loss: 0.0371 - accuracy: 0.9916 - val_loss: 0.7955 - val_accuracy: 0.9597\n",
      "Epoch 78/100\n",
      "375/375 [==============================] - 1s 4ms/step - loss: 0.0370 - accuracy: 0.9914 - val_loss: 0.7599 - val_accuracy: 0.9600\n",
      "Epoch 79/100\n",
      "375/375 [==============================] - 1s 4ms/step - loss: 0.0333 - accuracy: 0.9922 - val_loss: 0.8028 - val_accuracy: 0.9605\n",
      "Epoch 80/100\n",
      "375/375 [==============================] - 2s 4ms/step - loss: 0.0365 - accuracy: 0.9916 - val_loss: 0.7878 - val_accuracy: 0.9593\n",
      "Epoch 81/100\n",
      "375/375 [==============================] - 1s 4ms/step - loss: 0.0337 - accuracy: 0.9922 - val_loss: 0.7935 - val_accuracy: 0.9613\n",
      "Epoch 82/100\n",
      "375/375 [==============================] - 1s 4ms/step - loss: 0.0344 - accuracy: 0.9918 - val_loss: 0.8098 - val_accuracy: 0.9615\n",
      "Epoch 83/100\n",
      "375/375 [==============================] - 1s 3ms/step - loss: 0.0333 - accuracy: 0.9923 - val_loss: 0.8469 - val_accuracy: 0.9579\n",
      "Epoch 84/100\n",
      "375/375 [==============================] - 1s 4ms/step - loss: 0.0322 - accuracy: 0.9922 - val_loss: 0.8547 - val_accuracy: 0.9592\n",
      "Epoch 85/100\n",
      "375/375 [==============================] - 1s 4ms/step - loss: 0.0322 - accuracy: 0.9923 - val_loss: 0.8144 - val_accuracy: 0.9592\n",
      "Epoch 86/100\n",
      "375/375 [==============================] - 1s 4ms/step - loss: 0.0290 - accuracy: 0.9927 - val_loss: 0.7980 - val_accuracy: 0.9616\n",
      "Epoch 87/100\n",
      "375/375 [==============================] - 1s 4ms/step - loss: 0.0304 - accuracy: 0.9926 - val_loss: 0.7967 - val_accuracy: 0.9596\n",
      "Epoch 88/100\n",
      "375/375 [==============================] - 1s 4ms/step - loss: 0.0295 - accuracy: 0.9925 - val_loss: 0.8120 - val_accuracy: 0.9613\n",
      "Epoch 89/100\n",
      "375/375 [==============================] - 2s 4ms/step - loss: 0.0303 - accuracy: 0.9927 - val_loss: 0.8317 - val_accuracy: 0.9599\n",
      "Epoch 90/100\n",
      "375/375 [==============================] - 1s 3ms/step - loss: 0.0323 - accuracy: 0.9926 - val_loss: 0.8252 - val_accuracy: 0.9617\n",
      "Epoch 91/100\n",
      "375/375 [==============================] - 1s 4ms/step - loss: 0.0327 - accuracy: 0.9921 - val_loss: 0.9089 - val_accuracy: 0.9588\n",
      "Epoch 92/100\n",
      "375/375 [==============================] - 2s 4ms/step - loss: 0.0297 - accuracy: 0.9931 - val_loss: 0.8596 - val_accuracy: 0.9586\n",
      "Epoch 93/100\n",
      "375/375 [==============================] - 1s 4ms/step - loss: 0.0302 - accuracy: 0.9928 - val_loss: 0.8936 - val_accuracy: 0.9600\n",
      "Epoch 94/100\n",
      "375/375 [==============================] - 1s 4ms/step - loss: 0.0264 - accuracy: 0.9935 - val_loss: 0.8762 - val_accuracy: 0.9580\n",
      "Epoch 95/100\n",
      "375/375 [==============================] - 1s 4ms/step - loss: 0.0292 - accuracy: 0.9928 - val_loss: 0.8717 - val_accuracy: 0.9596\n",
      "Epoch 96/100\n",
      "375/375 [==============================] - 1s 4ms/step - loss: 0.0324 - accuracy: 0.9926 - val_loss: 0.8954 - val_accuracy: 0.9592\n",
      "Epoch 97/100\n",
      "375/375 [==============================] - 1s 4ms/step - loss: 0.0336 - accuracy: 0.9925 - val_loss: 0.8472 - val_accuracy: 0.9603\n",
      "Epoch 98/100\n",
      "375/375 [==============================] - 1s 4ms/step - loss: 0.0332 - accuracy: 0.9926 - val_loss: 0.9200 - val_accuracy: 0.9591\n",
      "Epoch 99/100\n",
      "375/375 [==============================] - 1s 4ms/step - loss: 0.0322 - accuracy: 0.9926 - val_loss: 0.8829 - val_accuracy: 0.9619\n",
      "Epoch 100/100\n",
      "375/375 [==============================] - 1s 4ms/step - loss: 0.0313 - accuracy: 0.9932 - val_loss: 0.8519 - val_accuracy: 0.9618\n"
     ]
    },
    {
     "data": {
      "text/plain": [
       "<keras.src.callbacks.History at 0x18a99ce4490>"
      ]
     },
     "execution_count": 15,
     "metadata": {},
     "output_type": "execute_result"
    }
   ],
   "source": [
    "# 데이터로 모델을 학습하기\n",
    "model.fit(x_train, y_train, epochs=100, batch_size=128, validation_split=0.2) \n",
    "# validation_split 검증용 성능 평가를 통해 오버피팅을 확인할 수 있다/"
   ]
  },
  {
   "cell_type": "code",
   "execution_count": 12,
   "id": "3301a626",
   "metadata": {},
   "outputs": [
    {
     "name": "stdout",
     "output_type": "stream",
     "text": [
      "313/313 [==============================] - 1s 1ms/step - loss: 4.9813 - accuracy: 0.8491\n"
     ]
    },
    {
     "data": {
      "text/plain": [
       "[4.9813232421875, 0.8490999937057495]"
      ]
     },
     "execution_count": 12,
     "metadata": {},
     "output_type": "execute_result"
    }
   ],
   "source": [
    "# 모델 평가하기\n",
    "model.evaluate(x_test, y_test)"
   ]
  },
  {
   "cell_type": "code",
   "execution_count": null,
   "id": "d114ae59",
   "metadata": {},
   "outputs": [],
   "source": []
  },
  {
   "cell_type": "code",
   "execution_count": 16,
   "id": "96f43d64",
   "metadata": {},
   "outputs": [
    {
     "name": "stdout",
     "output_type": "stream",
     "text": [
      "Downloading data from https://storage.googleapis.com/tensorflow/tf-keras-datasets/train-labels-idx1-ubyte.gz\n",
      "29515/29515 [==============================] - 0s 0us/step\n",
      "Downloading data from https://storage.googleapis.com/tensorflow/tf-keras-datasets/train-images-idx3-ubyte.gz\n",
      "26421880/26421880 [==============================] - 1s 0us/step\n",
      "Downloading data from https://storage.googleapis.com/tensorflow/tf-keras-datasets/t10k-labels-idx1-ubyte.gz\n",
      "5148/5148 [==============================] - 0s 0s/step\n",
      "Downloading data from https://storage.googleapis.com/tensorflow/tf-keras-datasets/t10k-images-idx3-ubyte.gz\n",
      "4422102/4422102 [==============================] - 0s 0us/step\n",
      "(60000, 28, 28) (60000,)\n",
      "(10000, 28, 28) (10000,)\n"
     ]
    }
   ],
   "source": [
    "# 데이터 준비\n",
    "(x_train, y_train), (x_test, y_test) = tf.keras.datasets.fashion_mnist.load_data()\n",
    "print(x_train.shape, y_train.shape)\n",
    "print(x_test.shape, y_test.shape)"
   ]
  },
  {
   "cell_type": "code",
   "execution_count": 21,
   "id": "1c1cffad",
   "metadata": {},
   "outputs": [
    {
     "name": "stdout",
     "output_type": "stream",
     "text": [
      "0\n"
     ]
    },
    {
     "data": {
      "image/png": "[encoded data removed]",
      "text/plain": [
       "<Figure size 640x480 with 1 Axes>"
      ]
     },
     "metadata": {},
     "output_type": "display_data"
    }
   ],
   "source": [
    "import matplotlib.pyplot as plt\n",
    "num = 10\n",
    "print(y_train[num])\n",
    "plt.imshow(x_train[num], cmap='gray')\n",
    "plt.show()"
   ]
  },
  {
   "cell_type": "code",
   "execution_count": 22,
   "id": "20f26f87",
   "metadata": {},
   "outputs": [
    {
     "name": "stdout",
     "output_type": "stream",
     "text": [
      "(60000, 28, 28, 1) (60000, 10)\n",
      "(10000, 28, 28, 1) (10000, 10)\n"
     ]
    },
    {
     "data": {
      "text/plain": [
       "array([[0., 0., 0., 0., 0., 0., 0., 0., 0., 1.],\n",
       "       [1., 0., 0., 0., 0., 0., 0., 0., 0., 0.],\n",
       "       [1., 0., 0., 0., 0., 0., 0., 0., 0., 0.],\n",
       "       [0., 0., 0., 1., 0., 0., 0., 0., 0., 0.],\n",
       "       [1., 0., 0., 0., 0., 0., 0., 0., 0., 0.],\n",
       "       [0., 0., 1., 0., 0., 0., 0., 0., 0., 0.],\n",
       "       [0., 0., 0., 0., 0., 0., 0., 1., 0., 0.],\n",
       "       [0., 0., 1., 0., 0., 0., 0., 0., 0., 0.],\n",
       "       [0., 0., 0., 0., 0., 1., 0., 0., 0., 0.],\n",
       "       [0., 0., 0., 0., 0., 1., 0., 0., 0., 0.]], dtype=float32)"
      ]
     },
     "execution_count": 22,
     "metadata": {},
     "output_type": "execute_result"
    }
   ],
   "source": [
    "# 데이터 준비\n",
    "(x_train, y_train), (x_test, y_test) = tf.keras.datasets.fashion_mnist.load_data()\n",
    "\n",
    "x_train = x_train.reshape(60000, 28, 28, 1)\n",
    "x_test = x_test.reshape(10000, 28, 28, 1)\n",
    "\n",
    "# 텐서플로우의 원핫인코딩 함수\n",
    "y_train = tf.keras.utils.to_categorical(y_train)\n",
    "y_test = tf.keras.utils.to_categorical(y_test)\n",
    "\n",
    "print(x_train.shape, y_train.shape)\n",
    "print(x_test.shape, y_test.shape)\n",
    "\n",
    "y_train[:10]"
   ]
  },
  {
   "cell_type": "code",
   "execution_count": 23,
   "id": "69f3bf74",
   "metadata": {},
   "outputs": [
    {
     "name": "stdout",
     "output_type": "stream",
     "text": [
      "Model: \"model_3\"\n",
      "_________________________________________________________________\n",
      " Layer (type)                Output Shape              Param #   \n",
      "=================================================================\n",
      " input_5 (InputLayer)        [(None, 28, 28, 1)]       0         \n",
      "                                                                 \n",
      " conv2d_1 (Conv2D)           (None, 24, 24, 3)         78        \n",
      "                                                                 \n",
      " max_pooling2d (MaxPooling2  (None, 12, 12, 3)         0         \n",
      " D)                                                              \n",
      "                                                                 \n",
      " conv2d_2 (Conv2D)           (None, 8, 8, 6)           456       \n",
      "                                                                 \n",
      " max_pooling2d_1 (MaxPoolin  (None, 4, 4, 6)           0         \n",
      " g2D)                                                            \n",
      "                                                                 \n",
      " flatten (Flatten)           (None, 96)                0         \n",
      "                                                                 \n",
      " dense_4 (Dense)             (None, 84)                8148      \n",
      "                                                                 \n",
      " dense_5 (Dense)             (None, 10)                850       \n",
      "                                                                 \n",
      "=================================================================\n",
      "Total params: 9532 (37.23 KB)\n",
      "Trainable params: 9532 (37.23 KB)\n",
      "Non-trainable params: 0 (0.00 Byte)\n",
      "_________________________________________________________________\n"
     ]
    }
   ],
   "source": [
    "# 모델 생성\n",
    "X = tf.keras.Input(shape=[28, 28, 1])\n",
    "H = tf.keras.layers.Conv2D(3, 5, activation=\"swish\")(X)\n",
    "H = tf.keras.layers.MaxPool2D()(H)\n",
    "H = tf.keras.layers.Conv2D(6, 5, activation=\"swish\")(H)\n",
    "H = tf.keras.layers.MaxPool2D()(H)\n",
    "H = tf.keras.layers.Flatten()(H)\n",
    "H = tf.keras.layers.Dense(84, activation=\"swish\")(H)\n",
    "Y = tf.keras.layers.Dense(10, activation=\"softmax\")(H)\n",
    "model = tf.keras.Model(X, Y)\n",
    "model.compile(loss=\"categorical_crossentropy\", metrics=\"accuracy\")\n",
    "model.summary(0)"
   ]
  },
  {
   "cell_type": "code",
   "execution_count": 28,
   "id": "89dcaf2a",
   "metadata": {},
   "outputs": [
    {
     "name": "stdout",
     "output_type": "stream",
     "text": [
      "Epoch 1/10\n",
      "422/422 [==============================] - 7s 17ms/step - loss: 0.2606 - accuracy: 0.9007 - val_loss: 0.3965 - val_accuracy: 0.8652\n",
      "Epoch 2/10\n",
      "422/422 [==============================] - 8s 19ms/step - loss: 0.2579 - accuracy: 0.9027 - val_loss: 0.4015 - val_accuracy: 0.8677\n",
      "Epoch 3/10\n",
      "422/422 [==============================] - 8s 18ms/step - loss: 0.2578 - accuracy: 0.9021 - val_loss: 0.3899 - val_accuracy: 0.8618\n",
      "Epoch 4/10\n",
      "422/422 [==============================] - 8s 20ms/step - loss: 0.2564 - accuracy: 0.9040 - val_loss: 0.3972 - val_accuracy: 0.8672\n",
      "Epoch 5/10\n",
      "422/422 [==============================] - 8s 20ms/step - loss: 0.2565 - accuracy: 0.9041 - val_loss: 0.3937 - val_accuracy: 0.8593\n",
      "Epoch 6/10\n",
      "422/422 [==============================] - 9s 20ms/step - loss: 0.2539 - accuracy: 0.9043 - val_loss: 0.3830 - val_accuracy: 0.8658\n",
      "Epoch 7/10\n",
      "422/422 [==============================] - 8s 19ms/step - loss: 0.2526 - accuracy: 0.9037 - val_loss: 0.4083 - val_accuracy: 0.8617\n",
      "Epoch 8/10\n",
      "422/422 [==============================] - 8s 20ms/step - loss: 0.2516 - accuracy: 0.9052 - val_loss: 0.4175 - val_accuracy: 0.8588\n",
      "Epoch 9/10\n",
      "422/422 [==============================] - 8s 20ms/step - loss: 0.2513 - accuracy: 0.9052 - val_loss: 0.4021 - val_accuracy: 0.8573\n",
      "Epoch 10/10\n",
      "422/422 [==============================] - 9s 21ms/step - loss: 0.2493 - accuracy: 0.9068 - val_loss: 0.4029 - val_accuracy: 0.8645\n"
     ]
    },
    {
     "data": {
      "text/plain": [
       "<keras.src.callbacks.History at 0x18aaafd0890>"
      ]
     },
     "execution_count": 28,
     "metadata": {},
     "output_type": "execute_result"
    }
   ],
   "source": [
    "# 모델 학습\n",
    "model.fit(x_train, y_train, epochs=10, batch_size=128, validation_split=0.1)"
   ]
  },
  {
   "cell_type": "code",
   "execution_count": 27,
   "id": "c5054d6d",
   "metadata": {},
   "outputs": [
    {
     "name": "stdout",
     "output_type": "stream",
     "text": [
      "313/313 [==============================] - 1s 4ms/step - loss: 0.4333 - accuracy: 0.8646\n"
     ]
    },
    {
     "data": {
      "text/plain": [
       "[0.4332684576511383, 0.8646000027656555]"
      ]
     },
     "execution_count": 27,
     "metadata": {},
     "output_type": "execute_result"
    }
   ],
   "source": [
    "# 모델 평가하기\n",
    "model.evaluate(x_test, y_test)"
   ]
  },
  {
   "cell_type": "code",
   "execution_count": null,
   "id": "389ae718",
   "metadata": {},
   "outputs": [],
   "source": []
  },
  {
   "cell_type": "markdown",
   "id": "e9607c18",
   "metadata": {},
   "source": [
    "# Dropout"
   ]
  },
  {
   "cell_type": "code",
   "execution_count": 31,
   "id": "cbde3c18",
   "metadata": {},
   "outputs": [
    {
     "name": "stdout",
     "output_type": "stream",
     "text": [
      "(60000, 784) (60000, 10)\n",
      "(10000, 784) (10000, 10)\n"
     ]
    }
   ],
   "source": [
    "# 데이터 준비\n",
    "(x_train, y_train), (x_test, y_test) = tf.keras.datasets.fashion_mnist.load_data()\n",
    "\n",
    "x_train = x_train.reshape(60000, 784)\n",
    "x_test = x_test.reshape(10000, 784)\n",
    "\n",
    "# 텐서플로우의 원핫인코딩 함수\n",
    "y_train = tf.keras.utils.to_categorical(y_train)\n",
    "y_test = tf.keras.utils.to_categorical(y_test)\n",
    "\n",
    "print(x_train.shape, y_train.shape)\n",
    "print(x_test.shape, y_test.shape)\n"
   ]
  },
  {
   "cell_type": "code",
   "execution_count": 37,
   "id": "ab1d6dba",
   "metadata": {},
   "outputs": [
    {
     "name": "stdout",
     "output_type": "stream",
     "text": [
      "Model: \"model_7\"\n",
      "_________________________________________________________________\n",
      " Layer (type)                Output Shape              Param #   \n",
      "=================================================================\n",
      " input_9 (InputLayer)        [(None, 784)]             0         \n",
      "                                                                 \n",
      " dense_18 (Dense)            (None, 196)               153860    \n",
      "                                                                 \n",
      " batch_normalization_9 (Bat  (None, 196)               784       \n",
      " chNormalization)                                                \n",
      "                                                                 \n",
      " dropout_7 (Dropout)         (None, 196)               0         \n",
      "                                                                 \n",
      " dense_19 (Dense)            (None, 49)                9653      \n",
      "                                                                 \n",
      " batch_normalization_10 (Ba  (None, 49)                196       \n",
      " tchNormalization)                                               \n",
      "                                                                 \n",
      " dropout_8 (Dropout)         (None, 49)                0         \n",
      "                                                                 \n",
      " dense_20 (Dense)            (None, 16)                800       \n",
      "                                                                 \n",
      " batch_normalization_11 (Ba  (None, 16)                64        \n",
      " tchNormalization)                                               \n",
      "                                                                 \n",
      " dropout_9 (Dropout)         (None, 16)                0         \n",
      "                                                                 \n",
      " dense_21 (Dense)            (None, 10)                170       \n",
      "                                                                 \n",
      "=================================================================\n",
      "Total params: 165527 (646.59 KB)\n",
      "Trainable params: 165005 (644.55 KB)\n",
      "Non-trainable params: 522 (2.04 KB)\n",
      "_________________________________________________________________\n"
     ]
    }
   ],
   "source": [
    "# 모델 생성\n",
    "X = tf.keras.Input(shape = [784]) \n",
    "\n",
    "H = tf.keras.layers.Dense(196,activation='swish')(X) \n",
    "H = tf.keras.layers.BatchNormalization()(H) \n",
    "\n",
    "H = tf.keras.layers.Dropout(0.5)(H)\n",
    "H = tf.keras.layers.Dense(49,activation='swish')(H) \n",
    "H = tf.keras.layers.BatchNormalization()(H) \n",
    "\n",
    "H = tf.keras.layers.Dropout(0.5)(H)\n",
    "H = tf.keras.layers.Dense(16,activation='swish')(H) \n",
    "H = tf.keras.layers.BatchNormalization()(H) \n",
    "\n",
    "H = tf.keras.layers.Dropout(0.5)(H)\n",
    "Y = tf.keras.layers.Dense(10, activation=\"softmax\")(H)\n",
    "model = tf.keras.Model(X, Y)\n",
    "model.compile(loss=\"categorical_crossentropy\", metrics=\"accuracy\")\n",
    "model.summary()"
   ]
  },
  {
   "cell_type": "code",
   "execution_count": 38,
   "id": "98ce1044",
   "metadata": {},
   "outputs": [
    {
     "name": "stdout",
     "output_type": "stream",
     "text": [
      "Epoch 1/10\n",
      "422/422 [==============================] - 4s 6ms/step - loss: 1.2748 - accuracy: 0.5680 - val_loss: 0.5984 - val_accuracy: 0.8050\n",
      "Epoch 2/10\n",
      "422/422 [==============================] - 3s 6ms/step - loss: 0.8163 - accuracy: 0.7285 - val_loss: 0.4758 - val_accuracy: 0.8335\n",
      "Epoch 3/10\n",
      "422/422 [==============================] - 3s 6ms/step - loss: 0.7279 - accuracy: 0.7570 - val_loss: 0.4374 - val_accuracy: 0.8528\n",
      "Epoch 4/10\n",
      "422/422 [==============================] - 3s 7ms/step - loss: 0.6809 - accuracy: 0.7758 - val_loss: 0.4211 - val_accuracy: 0.8530\n",
      "Epoch 5/10\n",
      "422/422 [==============================] - 3s 7ms/step - loss: 0.6564 - accuracy: 0.7874 - val_loss: 0.4185 - val_accuracy: 0.8517\n",
      "Epoch 6/10\n",
      "422/422 [==============================] - 3s 7ms/step - loss: 0.6343 - accuracy: 0.7945 - val_loss: 0.4113 - val_accuracy: 0.8563\n",
      "Epoch 7/10\n",
      "422/422 [==============================] - 3s 6ms/step - loss: 0.6276 - accuracy: 0.7964 - val_loss: 0.4133 - val_accuracy: 0.8602\n",
      "Epoch 8/10\n",
      "422/422 [==============================] - 3s 6ms/step - loss: 0.6097 - accuracy: 0.8026 - val_loss: 0.4191 - val_accuracy: 0.8560\n",
      "Epoch 9/10\n",
      "422/422 [==============================] - 3s 6ms/step - loss: 0.6018 - accuracy: 0.8050 - val_loss: 0.4267 - val_accuracy: 0.8575\n",
      "Epoch 10/10\n",
      "422/422 [==============================] - 3s 6ms/step - loss: 0.5914 - accuracy: 0.8077 - val_loss: 0.4071 - val_accuracy: 0.8602\n"
     ]
    },
    {
     "data": {
      "text/plain": [
       "<keras.src.callbacks.History at 0x18a93586a50>"
      ]
     },
     "execution_count": 38,
     "metadata": {},
     "output_type": "execute_result"
    }
   ],
   "source": [
    "# 모델 학습\n",
    "model.fit(x_train, y_train, epochs=10, batch_size=128, validation_split=0.1)"
   ]
  },
  {
   "cell_type": "code",
   "execution_count": null,
   "id": "2e878860",
   "metadata": {},
   "outputs": [],
   "source": []
  },
  {
   "cell_type": "code",
   "execution_count": null,
   "id": "e4867b17",
   "metadata": {},
   "outputs": [],
   "source": []
  }
 ],
 "metadata": {
  "kernelspec": {
   "display_name": "Python 3 (ipykernel)",
   "language": "python",
   "name": "python3"
  },
  "language_info": {
   "codemirror_mode": {
    "name": "ipython",
    "version": 3
   },
   "file_extension": ".py",
   "mimetype": "text/x-python",
   "name": "python",
   "nbconvert_exporter": "python",
   "pygments_lexer": "ipython3",
   "version": "3.11.3"
  }
 },
 "nbformat": 4,
 "nbformat_minor": 5
}
