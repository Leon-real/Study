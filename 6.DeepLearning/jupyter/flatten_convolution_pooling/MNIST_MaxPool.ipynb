{
 "cells": [
  {
   "cell_type": "markdown",
   "id": "3c3c6b71",
   "metadata": {},
   "source": [
    "# MNIST 손글씨 분류 - MaxPool"
   ]
  },
  {
   "cell_type": "code",
   "execution_count": 1,
   "id": "fdf0507e",
   "metadata": {},
   "outputs": [],
   "source": [
    "# 라이브러리 불러오기\n",
    "import tensorflow as tf\n",
    "import pandas as pd"
   ]
  },
  {
   "cell_type": "code",
   "execution_count": 2,
   "id": "9bfebd50",
   "metadata": {},
   "outputs": [
    {
     "name": "stdout",
     "output_type": "stream",
     "text": [
      "(60000, 28, 28, 1) (60000, 10)\n",
      "(10000, 28, 28, 1) (10000, 10)\n"
     ]
    }
   ],
   "source": [
    "# 데이터 준비\n",
    "(x_train, y_train), (x_test, y_test) = tf.keras.datasets.mnist.load_data()\n",
    "x_train = x_train.reshape(60000, 28, 28, 1)\n",
    "x_test = x_test.reshape(10000, 28, 28, 1)\n",
    "y_train = pd.get_dummies(y_train)\n",
    "y_test = pd.get_dummies(y_test)\n",
    "\n",
    "print(x_train.shape, y_train.shape)\n",
    "print(x_test.shape, y_test.shape)"
   ]
  },
  {
   "cell_type": "code",
   "execution_count": 3,
   "id": "69661731",
   "metadata": {},
   "outputs": [
    {
     "name": "stdout",
     "output_type": "stream",
     "text": [
      "Model: \"model\"\n",
      "_________________________________________________________________\n",
      " Layer (type)                Output Shape              Param #   \n",
      "=================================================================\n",
      " input_1 (InputLayer)        [(None, 28, 28, 1)]       0         \n",
      "                                                                 \n",
      " conv2d (Conv2D)             (None, 24, 24, 3)         78        \n",
      "                                                                 \n",
      " max_pooling2d (MaxPooling2  (None, 12, 12, 3)         0         \n",
      " D)                                                              \n",
      "                                                                 \n",
      " conv2d_1 (Conv2D)           (None, 8, 8, 6)           456       \n",
      "                                                                 \n",
      " max_pooling2d_1 (MaxPoolin  (None, 4, 4, 6)           0         \n",
      " g2D)                                                            \n",
      "                                                                 \n",
      " flatten (Flatten)           (None, 96)                0         \n",
      "                                                                 \n",
      " dense (Dense)               (None, 84)                8148      \n",
      "                                                                 \n",
      " dense_1 (Dense)             (None, 10)                850       \n",
      "                                                                 \n",
      "=================================================================\n",
      "Total params: 9532 (37.23 KB)\n",
      "Trainable params: 9532 (37.23 KB)\n",
      "Non-trainable params: 0 (0.00 Byte)\n",
      "_________________________________________________________________\n"
     ]
    }
   ],
   "source": [
    "# 모델 생성\n",
    "X = tf.keras.Input(shape=[28, 28, 1])\n",
    "H = tf.keras.layers.Conv2D(3, 5, activation='swish')(X)\n",
    "H = tf.keras.layers.MaxPool2D()(H)\n",
    "H = tf.keras.layers.Conv2D(6, 5, activation='swish')(H)\n",
    "H = tf.keras.layers.MaxPool2D()(H)\n",
    "H = tf.keras.layers.Flatten()(H)\n",
    "H = tf.keras.layers.Dense(84, activation='swish')(H)\n",
    "Y = tf.keras.layers.Dense(10, activation='softmax')(H)\n",
    "\n",
    "model = tf.keras.Model(X, Y)\n",
    "model.compile(loss=\"categorical_crossentropy\", metrics=\"accuracy\")\n",
    "model.summary()"
   ]
  },
  {
   "cell_type": "code",
   "execution_count": 4,
   "id": "e0e18110",
   "metadata": {},
   "outputs": [
    {
     "name": "stdout",
     "output_type": "stream",
     "text": [
      "Epoch 1/10\n",
      "422/422 [==============================] - 20s 38ms/step - loss: 1.6573 - accuracy: 0.7860 - val_loss: 0.2306 - val_accuracy: 0.9325\n",
      "Epoch 2/10\n",
      "422/422 [==============================] - 14s 34ms/step - loss: 0.1893 - accuracy: 0.9424 - val_loss: 0.1445 - val_accuracy: 0.9532\n",
      "Epoch 3/10\n",
      "422/422 [==============================] - 11s 26ms/step - loss: 0.1281 - accuracy: 0.9609 - val_loss: 0.0977 - val_accuracy: 0.9697\n",
      "Epoch 4/10\n",
      "422/422 [==============================] - 11s 25ms/step - loss: 0.1004 - accuracy: 0.9690 - val_loss: 0.0905 - val_accuracy: 0.9750\n",
      "Epoch 5/10\n",
      "422/422 [==============================] - 10s 23ms/step - loss: 0.0849 - accuracy: 0.9733 - val_loss: 0.0848 - val_accuracy: 0.9753\n",
      "Epoch 6/10\n",
      "422/422 [==============================] - 9s 22ms/step - loss: 0.0745 - accuracy: 0.9765 - val_loss: 0.0686 - val_accuracy: 0.9798\n",
      "Epoch 7/10\n",
      "422/422 [==============================] - 9s 22ms/step - loss: 0.0647 - accuracy: 0.9798 - val_loss: 0.0741 - val_accuracy: 0.9778\n",
      "Epoch 8/10\n",
      "422/422 [==============================] - 9s 21ms/step - loss: 0.0604 - accuracy: 0.9810 - val_loss: 0.0722 - val_accuracy: 0.9783\n",
      "Epoch 9/10\n",
      "422/422 [==============================] - 9s 22ms/step - loss: 0.0561 - accuracy: 0.9824 - val_loss: 0.0666 - val_accuracy: 0.9797\n",
      "Epoch 10/10\n",
      "422/422 [==============================] - 9s 22ms/step - loss: 0.0524 - accuracy: 0.9836 - val_loss: 0.0675 - val_accuracy: 0.9808\n"
     ]
    },
    {
     "data": {
      "text/plain": [
       "<keras.src.callbacks.History at 0x2df7d3daf10>"
      ]
     },
     "execution_count": 4,
     "metadata": {},
     "output_type": "execute_result"
    }
   ],
   "source": [
    "# 모델 학습\n",
    "model.fit(x_train, y_train, epochs=10, batch_size=128, validation_split=0.1)"
   ]
  },
  {
   "cell_type": "code",
   "execution_count": null,
   "id": "59ab25f9",
   "metadata": {},
   "outputs": [],
   "source": []
  }
 ],
 "metadata": {
  "kernelspec": {
   "display_name": "Python 3 (ipykernel)",
   "language": "python",
   "name": "python3"
  },
  "language_info": {
   "codemirror_mode": {
    "name": "ipython",
    "version": 3
   },
   "file_extension": ".py",
   "mimetype": "text/x-python",
   "name": "python",
   "nbconvert_exporter": "python",
   "pygments_lexer": "ipython3",
   "version": "3.11.3"
  }
 },
 "nbformat": 4,
 "nbformat_minor": 5
}
