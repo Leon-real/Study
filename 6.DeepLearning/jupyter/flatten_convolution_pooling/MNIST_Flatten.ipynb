{
 "cells": [
  {
   "cell_type": "markdown",
   "id": "d081103f",
   "metadata": {},
   "source": [
    "# MNIST 손글씨 분류 - Flatten"
   ]
  },
  {
   "cell_type": "code",
   "execution_count": 9,
   "id": "de80fef5",
   "metadata": {},
   "outputs": [],
   "source": [
    "import tensorflow as tf\n",
    "import pandas as pd"
   ]
  },
  {
   "cell_type": "code",
   "execution_count": 10,
   "id": "75fb18b2",
   "metadata": {},
   "outputs": [
    {
     "name": "stdout",
     "output_type": "stream",
     "text": [
      "(60000, 28, 28) (60000,)\n",
      "(50000, 32, 32, 3) (50000, 1)\n"
     ]
    }
   ],
   "source": [
    "# MNIST\n",
    "(x_train, y_train), (x_test, y_test) = tf.keras.datasets.mnist.load_data()\n",
    "print(x_train.shape, y_train.shape)\n",
    "# (60000, 28, 28, 1) (60000,)\n",
    "\n",
    "# CIFAR-10\n",
    "(x_train, y_train), (x_test, y_test) = tf.keras.datasets.cifar10.load_data()\n",
    "print(x_train.shape, y_train.shape)\n",
    "# (50000, 28, 28, 1) (50000, 1)\n"
   ]
  },
  {
   "cell_type": "code",
   "execution_count": 12,
   "id": "758ab6ed",
   "metadata": {},
   "outputs": [
    {
     "name": "stdout",
     "output_type": "stream",
     "text": [
      "(60000, 28, 28) (60000,)\n",
      "(10000, 28, 28) (10000,)\n",
      "(60000, 784) (60000, 10)\n",
      "(10000, 784) (10000, 10)\n",
      "Model: \"model_3\"\n",
      "_________________________________________________________________\n",
      " Layer (type)                Output Shape              Param #   \n",
      "=================================================================\n",
      " input_4 (InputLayer)        [(None, 784)]             0         \n",
      "                                                                 \n",
      " flatten_2 (Flatten)         (None, 784)               0         \n",
      "                                                                 \n",
      " dense_6 (Dense)             (None, 84)                65940     \n",
      "                                                                 \n",
      " dense_7 (Dense)             (None, 10)                850       \n",
      "                                                                 \n",
      "=================================================================\n",
      "Total params: 66790 (260.90 KB)\n",
      "Trainable params: 66790 (260.90 KB)\n",
      "Non-trainable params: 0 (0.00 Byte)\n",
      "_________________________________________________________________\n",
      "Epoch 1/10\n",
      "422/422 [==============================] - 2s 4ms/step - loss: 3.9179 - accuracy: 0.8149 - val_loss: 0.5382 - val_accuracy: 0.8995\n",
      "Epoch 2/10\n",
      "422/422 [==============================] - 1s 3ms/step - loss: 0.4845 - accuracy: 0.9049 - val_loss: 0.3869 - val_accuracy: 0.9352\n",
      "Epoch 3/10\n",
      "422/422 [==============================] - 1s 3ms/step - loss: 0.3427 - accuracy: 0.9301 - val_loss: 0.3201 - val_accuracy: 0.9387\n",
      "Epoch 4/10\n",
      "422/422 [==============================] - 1s 3ms/step - loss: 0.2760 - accuracy: 0.9426 - val_loss: 0.2716 - val_accuracy: 0.9437\n",
      "Epoch 5/10\n",
      "422/422 [==============================] - 1s 3ms/step - loss: 0.2297 - accuracy: 0.9503 - val_loss: 0.2644 - val_accuracy: 0.9507\n",
      "Epoch 6/10\n",
      "422/422 [==============================] - 1s 3ms/step - loss: 0.2051 - accuracy: 0.9557 - val_loss: 0.2710 - val_accuracy: 0.9513\n",
      "Epoch 7/10\n",
      "422/422 [==============================] - 2s 4ms/step - loss: 0.1792 - accuracy: 0.9602 - val_loss: 0.2623 - val_accuracy: 0.9567\n",
      "Epoch 8/10\n",
      "422/422 [==============================] - 2s 4ms/step - loss: 0.1661 - accuracy: 0.9635 - val_loss: 0.2943 - val_accuracy: 0.9545\n",
      "Epoch 9/10\n",
      "422/422 [==============================] - 1s 3ms/step - loss: 0.1573 - accuracy: 0.9659 - val_loss: 0.2647 - val_accuracy: 0.9592\n",
      "Epoch 10/10\n",
      "422/422 [==============================] - 1s 3ms/step - loss: 0.1397 - accuracy: 0.9691 - val_loss: 0.2756 - val_accuracy: 0.9595\n"
     ]
    },
    {
     "data": {
      "text/plain": [
       "<keras.src.callbacks.History at 0x27c93861b90>"
      ]
     },
     "execution_count": 12,
     "metadata": {},
     "output_type": "execute_result"
    }
   ],
   "source": [
    "# 데이터 준비\n",
    "(x_train, y_train), (x_test, y_test)= tf.keras.datasets.mnist.load_data()\n",
    "print(x_train.shape, y_train.shape)\n",
    "print(x_test.shape, y_test.shape)\n",
    "\n",
    "x_train = x_train.reshape(60000, 28 * 28)\n",
    "x_test = x_test.reshape(10000, 28 * 28)\n",
    "y_train = pd.get_dummies(y_train)\n",
    "y_test = pd.get_dummies(y_test)\n",
    "\n",
    "print(x_train.shape, y_train.shape)\n",
    "print(x_test.shape, y_test.shape)\n",
    "\n",
    "# 모델 생성\n",
    "X = tf.keras.Input(shape=[28 * 28])\n",
    "H = tf.keras.layers.Flatten()(X)\n",
    "H = tf.keras.layers.Dense(84, activation=\"swish\")(H)\n",
    "Y = tf.keras.layers.Dense(10, activation=\"softmax\")(H)\n",
    "model = tf.keras.Model(X, Y)\n",
    "model.compile(loss=\"categorical_crossentropy\", metrics=\"accuracy\")\n",
    "model.summary()\n",
    "\n",
    "# 모델 학습\n",
    "model.fit(x_train, y_train, epochs=10, validation_split=0.1, batch_size=128)"
   ]
  },
  {
   "cell_type": "code",
   "execution_count": 13,
   "id": "1cc4af1b",
   "metadata": {},
   "outputs": [
    {
     "name": "stdout",
     "output_type": "stream",
     "text": [
      "313/313 [==============================] - 1s 2ms/step - loss: 0.3615 - accuracy: 0.9533\n"
     ]
    },
    {
     "data": {
      "text/plain": [
       "[0.3614608347415924, 0.9532999992370605]"
      ]
     },
     "execution_count": 13,
     "metadata": {},
     "output_type": "execute_result"
    }
   ],
   "source": [
    "# 모델 평가\n",
    "model.evaluate(x_test, y_test)"
   ]
  },
  {
   "cell_type": "code",
   "execution_count": 14,
   "id": "1eb1b483",
   "metadata": {},
   "outputs": [
    {
     "name": "stdout",
     "output_type": "stream",
     "text": [
      "      0  1  2  3  4  5  6  7  8  9\n",
      "9538  0  0  0  0  1  0  0  0  0  0\n",
      "1/1 [==============================] - 0s 62ms/step\n",
      "[[7.4501782e-15 4.2382955e-10 2.3427417e-12 8.9700143e-16 5.2363563e-01\n",
      "  1.6176422e-09 2.3396253e-19 1.1574499e-03 1.3283835e-02 4.6192306e-01]]\n"
     ]
    },
    {
     "data": {
      "image/png": "[encoded data removed]",
      "text/plain": [
       "<Figure size 640x480 with 1 Axes>"
      ]
     },
     "metadata": {},
     "output_type": "display_data"
    }
   ],
   "source": [
    "# 모델 이용\n",
    "import matplotlib.pyplot as plt\n",
    "\n",
    "num = 9538\n",
    "print(y_test[num:num+1])\n",
    "print(model.predict(x_test[num:num+1]))\n",
    "\n",
    "plt.imshow(x_test[num].reshape(28, 28), cmap=\"gray\")\n",
    "plt.show()"
   ]
  },
  {
   "cell_type": "code",
   "execution_count": null,
   "id": "0a84cb1a",
   "metadata": {},
   "outputs": [],
   "source": []
  }
 ],
 "metadata": {
  "kernelspec": {
   "display_name": "Python 3 (ipykernel)",
   "language": "python",
   "name": "python3"
  },
  "language_info": {
   "codemirror_mode": {
    "name": "ipython",
    "version": 3
   },
   "file_extension": ".py",
   "mimetype": "text/x-python",
   "name": "python",
   "nbconvert_exporter": "python",
   "pygments_lexer": "ipython3",
   "version": "3.11.3"
  }
 },
 "nbformat": 4,
 "nbformat_minor": 5
}
