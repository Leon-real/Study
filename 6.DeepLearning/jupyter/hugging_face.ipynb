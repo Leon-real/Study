{
 "cells": [
  {
   "cell_type": "markdown",
   "id": "879f9e44",
   "metadata": {},
   "source": [
    "# Hugging Face 활용하기"
   ]
  },
  {
   "cell_type": "markdown",
   "id": "4d59baa6",
   "metadata": {},
   "source": [
    "# 필요 라이브러리 설치"
   ]
  },
  {
   "cell_type": "code",
   "execution_count": 1,
   "id": "1661abea",
   "metadata": {},
   "outputs": [],
   "source": [
    "# 트랜스포머\n",
    "!pip install transformers -q\n",
    "# 데이터셋\n",
    "!pip install datasets -q\n",
    "# 연산 빠르게 해주는 기능\n",
    "!pip install xformers -q"
   ]
  },
  {
   "cell_type": "code",
   "execution_count": null,
   "id": "24497f8a",
   "metadata": {},
   "outputs": [],
   "source": []
  }
 ],
 "metadata": {
  "kernelspec": {
   "display_name": "Python 3 (ipykernel)",
   "language": "python",
   "name": "python3"
  },
  "language_info": {
   "codemirror_mode": {
    "name": "ipython",
    "version": 3
   },
   "file_extension": ".py",
   "mimetype": "text/x-python",
   "name": "python",
   "nbconvert_exporter": "python",
   "pygments_lexer": "ipython3",
   "version": "3.11.3"
  }
 },
 "nbformat": 4,
 "nbformat_minor": 5
}
