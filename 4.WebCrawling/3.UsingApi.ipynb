{
 "cells": [
  {
   "cell_type": "markdown",
   "id": "39eeb794",
   "metadata": {},
   "source": [
    "# Api 사용하기\n",
    "\n",
    "네이버의 rest api를 이용해보자.\n",
    "\n",
    "- 파파고 번역 api\n",
    "- 통합검색어 트렌드 api"
   ]
  },
  {
   "cell_type": "markdown",
   "id": "c9287ec4",
   "metadata": {},
   "source": [
    "## 라이브러리 불러오기"
   ]
  },
  {
   "cell_type": "code",
   "execution_count": 10,
   "id": "b25836e6",
   "metadata": {},
   "outputs": [],
   "source": [
    "import warnings\n",
    "warnings.filterwarnings('ignore')\n",
    "import pandas as pd\n",
    "import requests\n",
    "\n",
    "%config InlineBackend.figure_formats={'png','retina'}\n",
    "import matplotlib.pyplot as plt\n",
    "import seaborn as sns\n",
    "import json"
   ]
  },
  {
   "cell_type": "markdown",
   "id": "5458f41d",
   "metadata": {
    "id": "ZEU1PeYTYr4C"
   },
   "source": [
    "## 0. request token 얻기\n",
    "- `https://developers.naver.com`\n",
    "- 1. Request Token 얻기 : 애플리케이션등록 -> app_key 획득\n",
    "- 2. app_key를 이용해서 데이터 가져오기"
   ]
  },
  {
   "cell_type": "markdown",
   "id": "770800b5",
   "metadata": {},
   "source": [
    "<img src=\"./img/3.naver_application_button.png\" height=\"50%\" width=\"50%\">\n",
    "\n",
    "<img src=\"./img/3.naver_add_info.png\" height=\"70%\" width=\"70%\">"
   ]
  },
  {
   "cell_type": "code",
   "execution_count": 18,
   "id": "81678cd0",
   "metadata": {},
   "outputs": [],
   "source": [
    "# 애플리케이션 정보에 나오는 Client ID와 Client secret을 적어준다.\n",
    "client_id = '-'\n",
    "client_secret = '-'"
   ]
  },
  {
   "cell_type": "code",
   "execution_count": null,
   "id": "dd06dcca",
   "metadata": {},
   "outputs": [],
   "source": []
  },
  {
   "cell_type": "markdown",
   "id": "986f2779",
   "metadata": {
    "id": "Fjd55ZqEYr4D"
   },
   "source": [
    "## 1. 파파고 번역 api\n",
    "- `https://developers.naver.com/docs/papago/`\n",
    "- 사용법\n",
    "    - `https://developers.naver.com/docs/papago/papago-nmt-api-reference.md`\n",
    "    \n",
    "1. Document > URL\n",
    "2. Requests(URL) > Response(JSON(str))\n",
    "3. JSON(str) > list, dict > text"
   ]
  },
  {
   "cell_type": "code",
   "execution_count": 3,
   "id": "8066069c",
   "metadata": {},
   "outputs": [],
   "source": [
    "# 1. Document > URL\n",
    "url = 'https://openapi.naver.com/v1/papago/n2mt'"
   ]
  },
  {
   "cell_type": "code",
   "execution_count": 6,
   "id": "84e4c47b",
   "metadata": {},
   "outputs": [
    {
     "data": {
      "text/plain": [
       "{'source': 'ko', 'target': 'en', 'text': '당신을 사랑합니다.'}"
      ]
     },
     "execution_count": 6,
     "metadata": {},
     "output_type": "execute_result"
    }
   ],
   "source": [
    "# 2. Requests(URL) > Response(JSON(str))\n",
    "ko_text = '당신을 사랑합니다.'\n",
    "params = {\n",
    "    'source': 'ko',\n",
    "    'target': 'en',\n",
    "    'text': ko_text,\n",
    "}\n",
    "params"
   ]
  },
  {
   "cell_type": "code",
   "execution_count": 19,
   "id": "c1925fde",
   "metadata": {},
   "outputs": [
    {
     "data": {
      "text/plain": [
       "{'Content-Type': 'application/json',\n",
       " 'X-Naver-Client-Id': '-',\n",
       " 'X-Naver-Client-Secret': '-'}"
      ]
     },
     "execution_count": 19,
     "metadata": {},
     "output_type": "execute_result"
    }
   ],
   "source": [
    "headers = {\n",
    "    'Content-Type': 'application/json',\n",
    "    'X-Naver-Client-Id': client_id,\n",
    "    'X-Naver-Client-Secret': client_secret,\n",
    "}\n",
    "headers"
   ]
  },
  {
   "cell_type": "code",
   "execution_count": 11,
   "id": "943d5798",
   "metadata": {},
   "outputs": [
    {
     "data": {
      "text/plain": [
       "<Response [200]>"
      ]
     },
     "execution_count": 11,
     "metadata": {},
     "output_type": "execute_result"
    }
   ],
   "source": [
    "response = requests.post(url, json.dumps(params), headers=headers)\n",
    "response"
   ]
  },
  {
   "cell_type": "code",
   "execution_count": 17,
   "id": "04713c36",
   "metadata": {},
   "outputs": [
    {
     "data": {
      "text/plain": [
       "'I love you.'"
      ]
     },
     "execution_count": 17,
     "metadata": {},
     "output_type": "execute_result"
    }
   ],
   "source": [
    "# 3. JSON(str) > list, dict > text\n",
    "en_txt = response.json()['message']['result']['translatedText']\n",
    "\n",
    "en_txt"
   ]
  },
  {
   "cell_type": "markdown",
   "id": "40f72907",
   "metadata": {},
   "source": [
    "### 깔끔하게 함수로 정리하기"
   ]
  },
  {
   "cell_type": "code",
   "execution_count": 20,
   "id": "6111756e",
   "metadata": {},
   "outputs": [],
   "source": [
    "def translate(ko_txt):\n",
    "    url = 'https://openapi.naver.com/v1/papago/n2mt'\n",
    "    \n",
    "    client_id = '-'\n",
    "    client_secret = '-'\n",
    "    \n",
    "    params = {\n",
    "        'source': 'ko',\n",
    "        'target': 'en',\n",
    "        'text': ko_txt,\n",
    "        }\n",
    "    \n",
    "    headers = {\n",
    "        'Content-Type': 'application/json',\n",
    "        'X-Naver-Client-Id': client_id,\n",
    "        'X-Naver-Client-Secret': client_secret,\n",
    "        }\n",
    "    \n",
    "    response = requests.post(url, json.dumps(params), headers=headers)\n",
    "    \n",
    "    return response.json()['message']['result']['translatedText']"
   ]
  },
  {
   "cell_type": "markdown",
   "id": "2b1717cc",
   "metadata": {
    "id": "gEKpR7ibYr4G"
   },
   "source": [
    "## 2. 통합검색어 트렌드 api\n",
    "- 서비스 : `https://datalab.naver.com/keyword/trendSearch.naver`\n",
    "- 내 애플리케이션 > dss 애플리케이션 > API 설정 > 데이터랩(검색어 트렌드) 추가\n",
    "- 사용법 : `https://developers.naver.com/docs/serviceapi/datalab/search/search.md#통합-검색어-트렌드`"
   ]
  },
  {
   "cell_type": "code",
   "execution_count": null,
   "id": "1d2aabc6",
   "metadata": {},
   "outputs": [],
   "source": []
  },
  {
   "cell_type": "code",
   "execution_count": null,
   "id": "9d0b7be4",
   "metadata": {},
   "outputs": [],
   "source": []
  },
  {
   "cell_type": "code",
   "execution_count": null,
   "id": "4e2d5573",
   "metadata": {},
   "outputs": [],
   "source": []
  },
  {
   "cell_type": "code",
   "execution_count": null,
   "id": "79f01746",
   "metadata": {},
   "outputs": [],
   "source": []
  },
  {
   "cell_type": "code",
   "execution_count": null,
   "id": "40e07773",
   "metadata": {},
   "outputs": [],
   "source": []
  },
  {
   "cell_type": "code",
   "execution_count": null,
   "id": "61cdc8c3",
   "metadata": {},
   "outputs": [],
   "source": []
  },
  {
   "cell_type": "code",
   "execution_count": null,
   "id": "0d8800f6",
   "metadata": {},
   "outputs": [],
   "source": []
  },
  {
   "cell_type": "code",
   "execution_count": null,
   "id": "ad958b26",
   "metadata": {},
   "outputs": [],
   "source": []
  },
  {
   "cell_type": "code",
   "execution_count": null,
   "id": "9002143a",
   "metadata": {},
   "outputs": [],
   "source": []
  },
  {
   "cell_type": "code",
   "execution_count": null,
   "id": "cdfba0d7",
   "metadata": {},
   "outputs": [],
   "source": []
  }
 ],
 "metadata": {
  "kernelspec": {
   "display_name": "Python 3 (ipykernel)",
   "language": "python",
   "name": "python3"
  },
  "language_info": {
   "codemirror_mode": {
    "name": "ipython",
    "version": 3
   },
   "file_extension": ".py",
   "mimetype": "text/x-python",
   "name": "python",
   "nbconvert_exporter": "python",
   "pygments_lexer": "ipython3",
   "version": "3.11.3"
  }
 },
 "nbformat": 4,
 "nbformat_minor": 5
}
