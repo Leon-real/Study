{
 "cells": [
  {
   "cell_type": "markdown",
   "id": "2f1c959a",
   "metadata": {},
   "source": [
    "# Api 사용하기\n",
    "\n",
    "네이버의 rest api를 이용해보자.\n",
    "\n",
    "- 파파고 번역 api\n",
    "- 통합검색어 트렌드 api"
   ]
  },
  {
   "cell_type": "markdown",
   "id": "4f3d015f",
   "metadata": {},
   "source": [
    "## 라이브러리 불러오기"
   ]
  },
  {
   "cell_type": "code",
   "execution_count": 10,
   "id": "ba8dfcda",
   "metadata": {},
   "outputs": [],
   "source": [
    "import warnings\n",
    "warnings.filterwarnings('ignore')\n",
    "import pandas as pd\n",
    "import requests\n",
    "\n",
    "%config InlineBackend.figure_formats={'png','retina'}\n",
    "import matplotlib.pyplot as plt\n",
    "import seaborn as sns\n",
    "import json"
   ]
  },
  {
   "cell_type": "markdown",
   "id": "99d8b30b",
   "metadata": {
    "id": "ZEU1PeYTYr4C"
   },
   "source": [
    "## 0. request token 얻기\n",
    "- `https://developers.naver.com`\n",
    "- 1. Request Token 얻기 : 애플리케이션등록 -> app_key 획득\n",
    "- 2. app_key를 이용해서 데이터 가져오기"
   ]
  },
  {
   "cell_type": "markdown",
   "id": "496e4f9d",
   "metadata": {},
   "source": [
    "<img src=\"./img/3.naver_application_button.png\" height=\"50%\" width=\"50%\">\n",
    "\n",
    "<img src=\"./img/3.naver_add_info.png\" height=\"70%\" width=\"70%\">"
   ]
  },
  {
   "cell_type": "code",
   "execution_count": 2,
   "id": "4495534a",
   "metadata": {},
   "outputs": [],
   "source": [
    "# 애플리케이션 정보에 나오는 Client ID와 Client secret을 적어준다.\n",
    "client_id = '-'\n",
    "client_secret = '-'"
   ]
  },
  {
   "cell_type": "code",
   "execution_count": null,
   "id": "96f4e490",
   "metadata": {},
   "outputs": [],
   "source": []
  },
  {
   "cell_type": "markdown",
   "id": "41a28275",
   "metadata": {
    "id": "Fjd55ZqEYr4D"
   },
   "source": [
    "## 1. 파파고 번역 api\n",
    "- `https://developers.naver.com/docs/papago/`\n",
    "- 사용법\n",
    "    - `https://developers.naver.com/docs/papago/papago-nmt-api-reference.md`\n",
    "    \n",
    "1. Document > URL\n",
    "2. Requests(URL) > Response(JSON(str))\n",
    "3. JSON(str) > list, dict > text"
   ]
  },
  {
   "cell_type": "code",
   "execution_count": 3,
   "id": "2f378a67",
   "metadata": {},
   "outputs": [],
   "source": [
    "# 1. Document > URL\n",
    "url = 'https://openapi.naver.com/v1/papago/n2mt'"
   ]
  },
  {
   "cell_type": "code",
   "execution_count": 6,
   "id": "5f3bea8a",
   "metadata": {},
   "outputs": [
    {
     "data": {
      "text/plain": [
       "{'source': 'ko', 'target': 'en', 'text': '당신을 사랑합니다.'}"
      ]
     },
     "execution_count": 6,
     "metadata": {},
     "output_type": "execute_result"
    }
   ],
   "source": [
    "# 2. Requests(URL) > Response(JSON(str))\n",
    "ko_text = '당신을 사랑합니다.'\n",
    "params = {\n",
    "    'source': 'ko',\n",
    "    'target': 'en',\n",
    "    'text': ko_text,\n",
    "}\n",
    "params"
   ]
  },
  {
   "cell_type": "code",
   "execution_count": 8,
   "id": "8335039a",
   "metadata": {},
   "outputs": [
    {
     "data": {
      "text/plain": [
       "{'Content-Type': 'application/json',\n",
       " 'X-Naver-Client-Id': '76pOVlyzK63xjn3HmFpa',\n",
       " 'X-Naver-Client-Secret': 'W0nEhX6CY7'}"
      ]
     },
     "execution_count": 8,
     "metadata": {},
     "output_type": "execute_result"
    }
   ],
   "source": [
    "headers = {\n",
    "    'Content-Type': 'application/json',\n",
    "    'X-Naver-Client-Id': client_id,\n",
    "    'X-Naver-Client-Secret': client_secret,\n",
    "}\n",
    "headers"
   ]
  },
  {
   "cell_type": "code",
   "execution_count": 11,
   "id": "eea7b5a2",
   "metadata": {},
   "outputs": [
    {
     "data": {
      "text/plain": [
       "<Response [200]>"
      ]
     },
     "execution_count": 11,
     "metadata": {},
     "output_type": "execute_result"
    }
   ],
   "source": [
    "response = requests.post(url, json.dumps(params), headers=headers)\n",
    "response"
   ]
  },
  {
   "cell_type": "code",
   "execution_count": null,
   "id": "ac47eb5e",
   "metadata": {},
   "outputs": [],
   "source": [
    "# 3. JSON(str) > list, dict > text\n"
   ]
  },
  {
   "cell_type": "code",
   "execution_count": null,
   "id": "87788101",
   "metadata": {},
   "outputs": [],
   "source": []
  },
  {
   "cell_type": "markdown",
   "id": "24a0637a",
   "metadata": {
    "id": "gEKpR7ibYr4G"
   },
   "source": [
    "## 2. 통합검색어 트렌드 api\n",
    "- 서비스 : `https://datalab.naver.com/keyword/trendSearch.naver`\n",
    "- 내 애플리케이션 > dss 애플리케이션 > API 설정 > 데이터랩(검색어 트렌드) 추가\n",
    "- 사용법 : `https://developers.naver.com/docs/serviceapi/datalab/search/search.md#통합-검색어-트렌드`"
   ]
  },
  {
   "cell_type": "code",
   "execution_count": null,
   "id": "8ddd5ffa",
   "metadata": {},
   "outputs": [],
   "source": []
  },
  {
   "cell_type": "code",
   "execution_count": null,
   "id": "4dda74e4",
   "metadata": {},
   "outputs": [],
   "source": []
  },
  {
   "cell_type": "code",
   "execution_count": null,
   "id": "936ac2aa",
   "metadata": {},
   "outputs": [],
   "source": []
  },
  {
   "cell_type": "code",
   "execution_count": null,
   "id": "da85751e",
   "metadata": {},
   "outputs": [],
   "source": []
  },
  {
   "cell_type": "code",
   "execution_count": null,
   "id": "45bf30d8",
   "metadata": {},
   "outputs": [],
   "source": []
  },
  {
   "cell_type": "code",
   "execution_count": null,
   "id": "ad8cde18",
   "metadata": {},
   "outputs": [],
   "source": []
  },
  {
   "cell_type": "code",
   "execution_count": null,
   "id": "4e5f2bc8",
   "metadata": {},
   "outputs": [],
   "source": []
  },
  {
   "cell_type": "code",
   "execution_count": null,
   "id": "b31d9214",
   "metadata": {},
   "outputs": [],
   "source": []
  },
  {
   "cell_type": "code",
   "execution_count": null,
   "id": "da59612f",
   "metadata": {},
   "outputs": [],
   "source": []
  },
  {
   "cell_type": "code",
   "execution_count": null,
   "id": "b80f0db8",
   "metadata": {},
   "outputs": [],
   "source": []
  }
 ],
 "metadata": {
  "kernelspec": {
   "display_name": "Python 3 (ipykernel)",
   "language": "python",
   "name": "python3"
  },
  "language_info": {
   "codemirror_mode": {
    "name": "ipython",
    "version": 3
   },
   "file_extension": ".py",
   "mimetype": "text/x-python",
   "name": "python",
   "nbconvert_exporter": "python",
   "pygments_lexer": "ipython3",
   "version": "3.11.3"
  }
 },
 "nbformat": 4,
 "nbformat_minor": 5
}
