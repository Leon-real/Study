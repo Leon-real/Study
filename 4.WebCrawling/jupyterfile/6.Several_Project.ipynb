{
 "cells": [
  {
   "cell_type": "markdown",
   "id": "bfae707d",
   "metadata": {},
   "source": [
    "# 기타 웹 크롤링 프로젝트\n",
    "\n",
    "1. 네이버 연관 검색어 수집\n"
   ]
  },
  {
   "cell_type": "markdown",
   "id": "dba0244b",
   "metadata": {},
   "source": [
    "## 라이브러리 불러오기"
   ]
  },
  {
   "cell_type": "code",
   "execution_count": 8,
   "id": "a96218e4",
   "metadata": {},
   "outputs": [],
   "source": [
    "import pandas as pd\n",
    "import requests \n",
    "from bs4 import BeautifulSoup\n",
    "from datetime import datetime"
   ]
  },
  {
   "cell_type": "markdown",
   "id": "44af6185",
   "metadata": {},
   "source": [
    "## 1.네이버 연관 검색어 수집\n",
    "- 정적(static) 웹페이지 데이터 수집 \n",
    "- BeautifulSoup을 이용하여 HTML 문자열 데이터 parsing"
   ]
  },
  {
   "cell_type": "code",
   "execution_count": 9,
   "id": "20f54c24",
   "metadata": {},
   "outputs": [],
   "source": [
    "def naver_reate_keyowrds(query):\n",
    "    url = f'https://search.naver.com/search.naver?query={query}' \n",
    "    response = requests.get(url) \n",
    "    dom = BeautifulSoup(response.text, 'html.parser') \n",
    "    elements = dom.select('.lst_related_srch > .item')\n",
    "    keywords = [element.select_one('.tit').text for element in elements]\n",
    "    df = pd.DataFrame({'keyowrd':keywords})\n",
    "    df['query'] = query\n",
    "    \n",
    "    now = datetime.now().strftime(\"%Y-%m-%d %H:%M\")\n",
    "    df['datetime'] = now\n",
    "    return df"
   ]
  },
  {
   "cell_type": "markdown",
   "id": "eaa7348e",
   "metadata": {},
   "source": [
    "<img src=\"../img/7.naver_keywords_1.png\" height=\"80%\" width=\"80%\">"
   ]
  },
  {
   "cell_type": "code",
   "execution_count": 11,
   "id": "6a459f76",
   "metadata": {},
   "outputs": [
    {
     "data": {
      "text/html": [
       "<div>\n",
       "<style scoped>\n",
       "    .dataframe tbody tr th:only-of-type {\n",
       "        vertical-align: middle;\n",
       "    }\n",
       "\n",
       "    .dataframe tbody tr th {\n",
       "        vertical-align: top;\n",
       "    }\n",
       "\n",
       "    .dataframe thead th {\n",
       "        text-align: right;\n",
       "    }\n",
       "</style>\n",
       "<table border=\"1\" class=\"dataframe\">\n",
       "  <thead>\n",
       "    <tr style=\"text-align: right;\">\n",
       "      <th></th>\n",
       "      <th>keyowrd</th>\n",
       "      <th>query</th>\n",
       "      <th>datetime</th>\n",
       "    </tr>\n",
       "  </thead>\n",
       "  <tbody>\n",
       "    <tr>\n",
       "      <th>0</th>\n",
       "      <td>삼성전자주가</td>\n",
       "      <td>삼성전자</td>\n",
       "      <td>2023-08-25 12:28</td>\n",
       "    </tr>\n",
       "    <tr>\n",
       "      <th>1</th>\n",
       "      <td>삼성전자 배당금</td>\n",
       "      <td>삼성전자</td>\n",
       "      <td>2023-08-25 12:28</td>\n",
       "    </tr>\n",
       "    <tr>\n",
       "      <th>2</th>\n",
       "      <td>삼성전자서비스</td>\n",
       "      <td>삼성전자</td>\n",
       "      <td>2023-08-25 12:28</td>\n",
       "    </tr>\n",
       "    <tr>\n",
       "      <th>3</th>\n",
       "      <td>삼성전자주식</td>\n",
       "      <td>삼성전자</td>\n",
       "      <td>2023-08-25 12:28</td>\n",
       "    </tr>\n",
       "    <tr>\n",
       "      <th>4</th>\n",
       "      <td>오늘 삼성전자 주가</td>\n",
       "      <td>삼성전자</td>\n",
       "      <td>2023-08-25 12:28</td>\n",
       "    </tr>\n",
       "    <tr>\n",
       "      <th>5</th>\n",
       "      <td>삼성전자 배당금 지급일</td>\n",
       "      <td>삼성전자</td>\n",
       "      <td>2023-08-25 12:28</td>\n",
       "    </tr>\n",
       "    <tr>\n",
       "      <th>6</th>\n",
       "      <td>삼성전자몰</td>\n",
       "      <td>삼성전자</td>\n",
       "      <td>2023-08-25 12:28</td>\n",
       "    </tr>\n",
       "    <tr>\n",
       "      <th>7</th>\n",
       "      <td>삼성 전자레인지</td>\n",
       "      <td>삼성전자</td>\n",
       "      <td>2023-08-25 12:28</td>\n",
       "    </tr>\n",
       "    <tr>\n",
       "      <th>8</th>\n",
       "      <td>삼성전자 채용</td>\n",
       "      <td>삼성전자</td>\n",
       "      <td>2023-08-25 12:28</td>\n",
       "    </tr>\n",
       "    <tr>\n",
       "      <th>9</th>\n",
       "      <td>삼성전자 고객센터</td>\n",
       "      <td>삼성전자</td>\n",
       "      <td>2023-08-25 12:28</td>\n",
       "    </tr>\n",
       "  </tbody>\n",
       "</table>\n",
       "</div>"
      ],
      "text/plain": [
       "        keyowrd query          datetime\n",
       "0        삼성전자주가  삼성전자  2023-08-25 12:28\n",
       "1      삼성전자 배당금  삼성전자  2023-08-25 12:28\n",
       "2       삼성전자서비스  삼성전자  2023-08-25 12:28\n",
       "3        삼성전자주식  삼성전자  2023-08-25 12:28\n",
       "4    오늘 삼성전자 주가  삼성전자  2023-08-25 12:28\n",
       "5  삼성전자 배당금 지급일  삼성전자  2023-08-25 12:28\n",
       "6         삼성전자몰  삼성전자  2023-08-25 12:28\n",
       "7      삼성 전자레인지  삼성전자  2023-08-25 12:28\n",
       "8       삼성전자 채용  삼성전자  2023-08-25 12:28\n",
       "9     삼성전자 고객센터  삼성전자  2023-08-25 12:28"
      ]
     },
     "execution_count": 11,
     "metadata": {},
     "output_type": "execute_result"
    }
   ],
   "source": [
    "naver_reate_keyowrds('삼성전자')"
   ]
  },
  {
   "cell_type": "code",
   "execution_count": 16,
   "id": "911e746f",
   "metadata": {},
   "outputs": [
    {
     "data": {
      "text/html": [
       "<div>\n",
       "<style scoped>\n",
       "    .dataframe tbody tr th:only-of-type {\n",
       "        vertical-align: middle;\n",
       "    }\n",
       "\n",
       "    .dataframe tbody tr th {\n",
       "        vertical-align: top;\n",
       "    }\n",
       "\n",
       "    .dataframe thead th {\n",
       "        text-align: right;\n",
       "    }\n",
       "</style>\n",
       "<table border=\"1\" class=\"dataframe\">\n",
       "  <thead>\n",
       "    <tr style=\"text-align: right;\">\n",
       "      <th></th>\n",
       "      <th>keyowrd</th>\n",
       "      <th>query</th>\n",
       "      <th>datetime</th>\n",
       "    </tr>\n",
       "  </thead>\n",
       "  <tbody>\n",
       "    <tr>\n",
       "      <th>0</th>\n",
       "      <td>책상 의자</td>\n",
       "      <td>의자</td>\n",
       "      <td>2023-08-25 12:30</td>\n",
       "    </tr>\n",
       "    <tr>\n",
       "      <th>1</th>\n",
       "      <td>공부 의자</td>\n",
       "      <td>의자</td>\n",
       "      <td>2023-08-25 12:30</td>\n",
       "    </tr>\n",
       "    <tr>\n",
       "      <th>2</th>\n",
       "      <td>명품 의자</td>\n",
       "      <td>의자</td>\n",
       "      <td>2023-08-25 12:30</td>\n",
       "    </tr>\n",
       "    <tr>\n",
       "      <th>3</th>\n",
       "      <td>푹신한 의자</td>\n",
       "      <td>의자</td>\n",
       "      <td>2023-08-25 12:30</td>\n",
       "    </tr>\n",
       "    <tr>\n",
       "      <th>4</th>\n",
       "      <td>팔걸이 없는 의자</td>\n",
       "      <td>의자</td>\n",
       "      <td>2023-08-25 12:30</td>\n",
       "    </tr>\n",
       "    <tr>\n",
       "      <th>5</th>\n",
       "      <td>허리 편한 의자</td>\n",
       "      <td>의자</td>\n",
       "      <td>2023-08-25 12:30</td>\n",
       "    </tr>\n",
       "    <tr>\n",
       "      <th>6</th>\n",
       "      <td>도서관 의자</td>\n",
       "      <td>의자</td>\n",
       "      <td>2023-08-25 12:30</td>\n",
       "    </tr>\n",
       "    <tr>\n",
       "      <th>7</th>\n",
       "      <td>튼튼한 의자</td>\n",
       "      <td>의자</td>\n",
       "      <td>2023-08-25 12:30</td>\n",
       "    </tr>\n",
       "    <tr>\n",
       "      <th>8</th>\n",
       "      <td>높낮이 의자</td>\n",
       "      <td>의자</td>\n",
       "      <td>2023-08-25 12:30</td>\n",
       "    </tr>\n",
       "    <tr>\n",
       "      <th>9</th>\n",
       "      <td>대기용 의자</td>\n",
       "      <td>의자</td>\n",
       "      <td>2023-08-25 12:30</td>\n",
       "    </tr>\n",
       "  </tbody>\n",
       "</table>\n",
       "</div>"
      ],
      "text/plain": [
       "     keyowrd query          datetime\n",
       "0      책상 의자    의자  2023-08-25 12:30\n",
       "1      공부 의자    의자  2023-08-25 12:30\n",
       "2      명품 의자    의자  2023-08-25 12:30\n",
       "3     푹신한 의자    의자  2023-08-25 12:30\n",
       "4  팔걸이 없는 의자    의자  2023-08-25 12:30\n",
       "5   허리 편한 의자    의자  2023-08-25 12:30\n",
       "6     도서관 의자    의자  2023-08-25 12:30\n",
       "7     튼튼한 의자    의자  2023-08-25 12:30\n",
       "8     높낮이 의자    의자  2023-08-25 12:30\n",
       "9     대기용 의자    의자  2023-08-25 12:30"
      ]
     },
     "execution_count": 16,
     "metadata": {},
     "output_type": "execute_result"
    }
   ],
   "source": [
    "naver_reate_keyowrds('의자')"
   ]
  },
  {
   "cell_type": "markdown",
   "id": "de842b4c",
   "metadata": {},
   "source": [
    "---"
   ]
  },
  {
   "cell_type": "code",
   "execution_count": null,
   "id": "73f324ff",
   "metadata": {},
   "outputs": [],
   "source": []
  }
 ],
 "metadata": {
  "kernelspec": {
   "display_name": "Python 3 (ipykernel)",
   "language": "python",
   "name": "python3"
  },
  "language_info": {
   "codemirror_mode": {
    "name": "ipython",
    "version": 3
   },
   "file_extension": ".py",
   "mimetype": "text/x-python",
   "name": "python",
   "nbconvert_exporter": "python",
   "pygments_lexer": "ipython3",
   "version": "3.11.3"
  }
 },
 "nbformat": 4,
 "nbformat_minor": 5
}
