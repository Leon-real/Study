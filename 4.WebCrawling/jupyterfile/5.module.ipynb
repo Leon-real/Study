{
 "cells": [
  {
   "cell_type": "code",
   "execution_count": 1,
   "id": "f685910e",
   "metadata": {},
   "outputs": [],
   "source": [
    "import zigbang as zb"
   ]
  },
  {
   "cell_type": "code",
   "execution_count": 3,
   "id": "2b41f8c4",
   "metadata": {},
   "outputs": [
    {
     "data": {
      "text/html": [
       "<div>\n",
       "<style scoped>\n",
       "    .dataframe tbody tr th:only-of-type {\n",
       "        vertical-align: middle;\n",
       "    }\n",
       "\n",
       "    .dataframe tbody tr th {\n",
       "        vertical-align: top;\n",
       "    }\n",
       "\n",
       "    .dataframe thead th {\n",
       "        text-align: right;\n",
       "    }\n",
       "</style>\n",
       "<table border=\"1\" class=\"dataframe\">\n",
       "  <thead>\n",
       "    <tr style=\"text-align: right;\">\n",
       "      <th></th>\n",
       "      <th>item_id</th>\n",
       "      <th>sales_type</th>\n",
       "      <th>deposit</th>\n",
       "      <th>rent</th>\n",
       "      <th>size_m2</th>\n",
       "      <th>floor</th>\n",
       "      <th>floor_string</th>\n",
       "      <th>building_floor</th>\n",
       "      <th>title</th>\n",
       "      <th>service_type</th>\n",
       "      <th>manage_cost</th>\n",
       "      <th>address1</th>\n",
       "    </tr>\n",
       "  </thead>\n",
       "  <tbody>\n",
       "    <tr>\n",
       "      <th>57</th>\n",
       "      <td>37804362</td>\n",
       "      <td>월세</td>\n",
       "      <td>300</td>\n",
       "      <td>72</td>\n",
       "      <td>19.83</td>\n",
       "      <td>2</td>\n",
       "      <td>2</td>\n",
       "      <td>3</td>\n",
       "      <td>신축급즉시입주깔끔원룸 주차가능</td>\n",
       "      <td>원룸</td>\n",
       "      <td>7</td>\n",
       "      <td>서울시 마포구 망원동</td>\n",
       "    </tr>\n",
       "    <tr>\n",
       "      <th>58</th>\n",
       "      <td>37811722</td>\n",
       "      <td>월세</td>\n",
       "      <td>2000</td>\n",
       "      <td>110</td>\n",
       "      <td>48.00</td>\n",
       "      <td>1</td>\n",
       "      <td>1</td>\n",
       "      <td>3</td>\n",
       "      <td>리모델링후 첫입주 쓰리룸월세 풀옵션</td>\n",
       "      <td>빌라</td>\n",
       "      <td>1</td>\n",
       "      <td>서울시 마포구 망원동</td>\n",
       "    </tr>\n",
       "  </tbody>\n",
       "</table>\n",
       "</div>"
      ],
      "text/plain": [
       "     item_id sales_type  deposit  rent  size_m2 floor floor_string  \\\n",
       "57  37804362         월세      300    72    19.83     2            2   \n",
       "58  37811722         월세     2000   110    48.00     1            1   \n",
       "\n",
       "   building_floor                title service_type manage_cost     address1  \n",
       "57              3     신축급즉시입주깔끔원룸 주차가능           원룸           7  서울시 마포구 망원동  \n",
       "58              3  리모델링후 첫입주 쓰리룸월세 풀옵션           빌라           1  서울시 마포구 망원동  "
      ]
     },
     "execution_count": 3,
     "metadata": {},
     "output_type": "execute_result"
    }
   ],
   "source": [
    "df = zb.oneroom('망원동')\n",
    "df.tail(2)"
   ]
  },
  {
   "cell_type": "code",
   "execution_count": null,
   "id": "c64386c2",
   "metadata": {},
   "outputs": [],
   "source": []
  }
 ],
 "metadata": {
  "kernelspec": {
   "display_name": "Python 3 (ipykernel)",
   "language": "python",
   "name": "python3"
  },
  "language_info": {
   "codemirror_mode": {
    "name": "ipython",
    "version": 3
   },
   "file_extension": ".py",
   "mimetype": "text/x-python",
   "name": "python",
   "nbconvert_exporter": "python",
   "pygments_lexer": "ipython3",
   "version": "3.11.3"
  }
 },
 "nbformat": 4,
 "nbformat_minor": 5
}
