{
 "cells": [
  {
   "cell_type": "markdown",
   "id": "8a3eb01c",
   "metadata": {},
   "source": [
    "# Simple RNN\n",
    "\n",
    "### 시계열 데이터와 RNN\n",
    "- 시계열 데이터는 과거 현재가 종속 관계에 있다.\n",
    "- RNN은 시계열 데이터, 자연어 데이터 등에 널리 활용된다.\n",
    "\n",
    "- 과거의 출력 정보가 현재의 입력 데이터와 함께 다시 입력된다 => 재귀적 구조"
   ]
  },
  {
   "cell_type": "markdown",
   "id": "f8133998",
   "metadata": {},
   "source": [
    "# Simple RNN - Many to One"
   ]
  },
  {
   "cell_type": "code",
   "execution_count": null,
   "id": "cb74b3df",
   "metadata": {},
   "outputs": [],
   "source": [
    "import numpy as np\n",
    "import tensorflow as tf\n",
    "from keras.layers import Input, Dense, Layer\n",
    "from keras.models import Model\n",
    "from keras.optimizers import Adam\n",
    "import matplotlib.pyplot as plt"
   ]
  },
  {
   "cell_type": "code",
   "execution_count": null,
   "id": "a3d927ae",
   "metadata": {},
   "outputs": [],
   "source": [
    "# 2D의 feature 데이터로 3D의 학습 데이터를 만들기\n",
    "def build_rnn_data(data, t_step, n_jump=1):\n",
    "    n_data = data.shape[0] # number of data\n",
    "    n = np.arange(0, n_data - t_step, n_jump)\n",
    "    x = np.array([data[i:(i+t_step), :] for i in m]) # feature data\n",
    "    y = np.array([data[i, :] for i in (m + t_step)]) # target data\n",
    "    return x, y"
   ]
  },
  {
   "cell_type": "code",
   "execution_count": null,
   "id": "63852e2b",
   "metadata": {},
   "outputs": [],
   "source": [
    "# 시계열 데이터 (noisy sin 2개)\n",
    "n = 1000\n",
    "s1 = np.sin(np.pi * 0.06 * np.arange(n)) + np.random.random(n)\n",
    "s2 = 0.5*np.sin(np.pi * 0.05 * np.arange(n)) + np.random.random(n)\n",
    "data = np.vstack([s1,s2]).T"
   ]
  },
  {
   "cell_type": "code",
   "execution_count": null,
   "id": "f6c21ddc",
   "metadata": {},
   "outputs": [],
   "source": [
    "# 학습 데이터 생성\n",
    "t_step = 20\n",
    "x_train, y_train = build_rnn_data(data, t_step)"
   ]
  },
  {
   "cell_type": "code",
   "execution_count": null,
   "id": "44e86952",
   "metadata": {},
   "outputs": [],
   "source": [
    "# SimpleRNN 모델 생성하기\n",
    "n_input = x_train.shape[-1]\n",
    "n_output = y_trian.shape[-1]\n",
    "n_hidden = 50"
   ]
  },
  {
   "cell_type": "code",
   "execution_count": null,
   "id": "dbc43b29",
   "metadata": {},
   "outputs": [],
   "source": [
    "# Simple RNN 기능 구현\n",
    "class MySimpleRNN(Layer):\n",
    "    # nf : feature 개수, nh : hidden unit 개수\n",
    "    def __init(self, nf, nh):\n",
    "        super().__init__()\n",
    "        self.nh = nh\n",
    "        w_init = tf.random_noral_initializer()\n",
    "        b_init = tf.zeros_initializer()\n",
    "        \n",
    "        self.wx = tf.Variable(w_init([nf,nh]), trainable=True)\n",
    "        self.wh = tf.Variable(w_init)([nh,nh], trainable=True)\n",
    "        self.b = tf.Variable(b_init([1,nh]), trainable=True)\n",
    "        \n",
    "    def call(self, x):\n",
    "        h = tf.zeros(shape=(1, self.nh)) # 초기화\n",
    "        # time step만큼 recurrent 수행\n",
    "        for t in range(x.shape[1]):\n",
    "            # shape : [None, nf]*[nf,nh] + [1,ng]*[nh,nh] + [1,nh]\n",
    "            z = tf.matmul(x[:, t, :], self.wx) + tf.matmul(h,self.wh) + self.b\n",
    "            h = tf.math.tanh(z)\n",
    "        return h"
   ]
  },
  {
   "cell_type": "code",
   "execution_count": null,
   "id": "783c2305",
   "metadata": {},
   "outputs": [],
   "source": [
    "# RNN 모델 생성\n",
    "x_input = Input(batch_shape=(None, t_step, n_input))\n",
    "h = MySimpleRNN(n_input, n_hidden)(x_input)\n",
    "y_output = Dense(n_output, activation='linear')(h)\n",
    "\n",
    "model = Model(x_input, y_output)\n",
    "model.comlile(loss='mse', optimizer=Adam(learning_rate=0.001))\n",
    "model.summary()"
   ]
  },
  {
   "cell_type": "code",
   "execution_count": 1,
   "id": "0e36bc6c",
   "metadata": {},
   "outputs": [
    {
     "name": "stdout",
     "output_type": "stream",
     "text": [
      "1\n"
     ]
    }
   ],
   "source": [
    "print(1)"
   ]
  },
  {
   "cell_type": "code",
   "execution_count": null,
   "id": "ae222985",
   "metadata": {},
   "outputs": [],
   "source": []
  },
  {
   "cell_type": "code",
   "execution_count": null,
   "id": "9f01e7ed",
   "metadata": {},
   "outputs": [],
   "source": []
  }
 ],
 "metadata": {
  "kernelspec": {
   "display_name": "Python 3 (ipykernel)",
   "language": "python",
   "name": "python3"
  },
  "language_info": {
   "codemirror_mode": {
    "name": "ipython",
    "version": 3
   },
   "file_extension": ".py",
   "mimetype": "text/x-python",
   "name": "python",
   "nbconvert_exporter": "python",
   "pygments_lexer": "ipython3",
   "version": "3.9.7"
  }
 },
 "nbformat": 4,
 "nbformat_minor": 5
}
