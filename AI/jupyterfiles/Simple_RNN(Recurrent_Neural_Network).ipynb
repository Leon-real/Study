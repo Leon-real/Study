{
 "cells": [
  {
   "cell_type": "markdown",
   "id": "8a3eb01c",
   "metadata": {},
   "source": [
    "# Simple RNN\n",
    "\n",
    "### 시계열 데이터와 RNN\n",
    "- 시계열 데이터는 과거 현재가 종속 관계에 있다.\n",
    "- RNN은 시계열 데이터, 자연어 데이터 등에 널리 활용된다.\n",
    "\n",
    "- 과거의 출력 정보가 현재의 입력 데이터와 함께 다시 입력된다 => 재귀적 구조"
   ]
  },
  {
   "cell_type": "markdown",
   "id": "f8133998",
   "metadata": {},
   "source": [
    "# Simple RNN - Many to One"
   ]
  },
  {
   "cell_type": "code",
   "execution_count": null,
   "id": "cb74b3df",
   "metadata": {},
   "outputs": [],
   "source": [
    "import numpy as np\n",
    "import tensorflow as tf"
   ]
  },
  {
   "cell_type": "code",
   "execution_count": null,
   "id": "a3d927ae",
   "metadata": {},
   "outputs": [],
   "source": []
  }
 ],
 "metadata": {
  "kernelspec": {
   "display_name": "Python 3 (ipykernel)",
   "language": "python",
   "name": "python3"
  },
  "language_info": {
   "codemirror_mode": {
    "name": "ipython",
    "version": 3
   },
   "file_extension": ".py",
   "mimetype": "text/x-python",
   "name": "python",
   "nbconvert_exporter": "python",
   "pygments_lexer": "ipython3",
   "version": "3.9.7"
  }
 },
 "nbformat": 4,
 "nbformat_minor": 5
}
