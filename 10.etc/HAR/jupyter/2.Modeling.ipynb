{
 "cells": [
  {
   "cell_type": "markdown",
   "id": "f748ee67",
   "metadata": {},
   "source": [
    "# 여러 머신러닝 알고리즘을 활용하자\n",
    "- 여러 머신러닝 및 딥러닝 알고리즘을 활용하고 예측한다.\n",
    "- 그리고 성능을 비교하여 본다."
   ]
  },
  {
   "cell_type": "code",
   "execution_count": 1,
   "id": "5d74198f",
   "metadata": {},
   "outputs": [],
   "source": [
    "import pandas as pd\n",
    "import numpy as np\n",
    "import matplotlib.pyplot as plt\n",
    "import seaborn as sns"
   ]
  },
  {
   "cell_type": "markdown",
   "id": "9a28b789",
   "metadata": {},
   "source": [
    "# 데이터 불러오기"
   ]
  },
  {
   "cell_type": "code",
   "execution_count": 2,
   "id": "410ae0ca",
   "metadata": {},
   "outputs": [
    {
     "data": {
      "text/html": [
       "<div>\n",
       "<style scoped>\n",
       "    .dataframe tbody tr th:only-of-type {\n",
       "        vertical-align: middle;\n",
       "    }\n",
       "\n",
       "    .dataframe tbody tr th {\n",
       "        vertical-align: top;\n",
       "    }\n",
       "\n",
       "    .dataframe thead th {\n",
       "        text-align: right;\n",
       "    }\n",
       "</style>\n",
       "<table border=\"1\" class=\"dataframe\">\n",
       "  <thead>\n",
       "    <tr style=\"text-align: right;\">\n",
       "      <th></th>\n",
       "      <th>tBodyAcc-mean()-X</th>\n",
       "      <th>tBodyAcc-mean()-Y</th>\n",
       "      <th>tBodyAcc-mean()-Z</th>\n",
       "      <th>tBodyAcc-std()-X</th>\n",
       "      <th>tBodyAcc-std()-Y</th>\n",
       "      <th>tBodyAcc-std()-Z</th>\n",
       "      <th>tBodyAcc-mad()-X</th>\n",
       "      <th>tBodyAcc-mad()-Y</th>\n",
       "      <th>tBodyAcc-mad()-Z</th>\n",
       "      <th>tBodyAcc-max()-X</th>\n",
       "      <th>...</th>\n",
       "      <th>fBodyBodyGyroJerkMag-skewness()</th>\n",
       "      <th>fBodyBodyGyroJerkMag-kurtosis()</th>\n",
       "      <th>angle(tBodyAccMean,gravity)</th>\n",
       "      <th>angle(tBodyAccJerkMean),gravityMean)</th>\n",
       "      <th>angle(tBodyGyroMean,gravityMean)</th>\n",
       "      <th>angle(tBodyGyroJerkMean,gravityMean)</th>\n",
       "      <th>angle(X,gravityMean)</th>\n",
       "      <th>angle(Y,gravityMean)</th>\n",
       "      <th>angle(Z,gravityMean)</th>\n",
       "      <th>Activity</th>\n",
       "    </tr>\n",
       "  </thead>\n",
       "  <tbody>\n",
       "    <tr>\n",
       "      <th>0</th>\n",
       "      <td>0.288508</td>\n",
       "      <td>-0.009196</td>\n",
       "      <td>-0.103362</td>\n",
       "      <td>-0.988986</td>\n",
       "      <td>-0.962797</td>\n",
       "      <td>-0.967422</td>\n",
       "      <td>-0.989000</td>\n",
       "      <td>-0.962596</td>\n",
       "      <td>-0.965650</td>\n",
       "      <td>-0.929747</td>\n",
       "      <td>...</td>\n",
       "      <td>-0.487737</td>\n",
       "      <td>-0.816696</td>\n",
       "      <td>-0.042494</td>\n",
       "      <td>-0.044218</td>\n",
       "      <td>0.307873</td>\n",
       "      <td>0.072790</td>\n",
       "      <td>-0.601120</td>\n",
       "      <td>0.331298</td>\n",
       "      <td>0.165163</td>\n",
       "      <td>STANDING</td>\n",
       "    </tr>\n",
       "    <tr>\n",
       "      <th>1</th>\n",
       "      <td>0.265757</td>\n",
       "      <td>-0.016576</td>\n",
       "      <td>-0.098163</td>\n",
       "      <td>-0.989551</td>\n",
       "      <td>-0.994636</td>\n",
       "      <td>-0.987435</td>\n",
       "      <td>-0.990189</td>\n",
       "      <td>-0.993870</td>\n",
       "      <td>-0.987558</td>\n",
       "      <td>-0.937337</td>\n",
       "      <td>...</td>\n",
       "      <td>-0.237820</td>\n",
       "      <td>-0.693515</td>\n",
       "      <td>-0.062899</td>\n",
       "      <td>0.388459</td>\n",
       "      <td>-0.765014</td>\n",
       "      <td>0.771524</td>\n",
       "      <td>0.345205</td>\n",
       "      <td>-0.769186</td>\n",
       "      <td>-0.147944</td>\n",
       "      <td>LAYING</td>\n",
       "    </tr>\n",
       "    <tr>\n",
       "      <th>2</th>\n",
       "      <td>0.278709</td>\n",
       "      <td>-0.014511</td>\n",
       "      <td>-0.108717</td>\n",
       "      <td>-0.997720</td>\n",
       "      <td>-0.981088</td>\n",
       "      <td>-0.994008</td>\n",
       "      <td>-0.997934</td>\n",
       "      <td>-0.982187</td>\n",
       "      <td>-0.995017</td>\n",
       "      <td>-0.942584</td>\n",
       "      <td>...</td>\n",
       "      <td>-0.535287</td>\n",
       "      <td>-0.829311</td>\n",
       "      <td>0.000265</td>\n",
       "      <td>-0.525022</td>\n",
       "      <td>-0.891875</td>\n",
       "      <td>0.021528</td>\n",
       "      <td>-0.833564</td>\n",
       "      <td>0.202434</td>\n",
       "      <td>-0.032755</td>\n",
       "      <td>STANDING</td>\n",
       "    </tr>\n",
       "    <tr>\n",
       "      <th>3</th>\n",
       "      <td>0.289795</td>\n",
       "      <td>-0.035536</td>\n",
       "      <td>-0.150354</td>\n",
       "      <td>-0.231727</td>\n",
       "      <td>-0.006412</td>\n",
       "      <td>-0.338117</td>\n",
       "      <td>-0.273557</td>\n",
       "      <td>0.014245</td>\n",
       "      <td>-0.347916</td>\n",
       "      <td>0.008288</td>\n",
       "      <td>...</td>\n",
       "      <td>-0.004012</td>\n",
       "      <td>-0.408956</td>\n",
       "      <td>-0.255125</td>\n",
       "      <td>0.612804</td>\n",
       "      <td>0.747381</td>\n",
       "      <td>-0.072944</td>\n",
       "      <td>-0.695819</td>\n",
       "      <td>0.287154</td>\n",
       "      <td>0.111388</td>\n",
       "      <td>WALKING</td>\n",
       "    </tr>\n",
       "    <tr>\n",
       "      <th>4</th>\n",
       "      <td>0.394807</td>\n",
       "      <td>0.034098</td>\n",
       "      <td>0.091229</td>\n",
       "      <td>0.088489</td>\n",
       "      <td>-0.106636</td>\n",
       "      <td>-0.388502</td>\n",
       "      <td>-0.010469</td>\n",
       "      <td>-0.109680</td>\n",
       "      <td>-0.346372</td>\n",
       "      <td>0.584131</td>\n",
       "      <td>...</td>\n",
       "      <td>-0.157832</td>\n",
       "      <td>-0.563437</td>\n",
       "      <td>-0.044344</td>\n",
       "      <td>-0.845268</td>\n",
       "      <td>-0.974650</td>\n",
       "      <td>-0.887846</td>\n",
       "      <td>-0.705029</td>\n",
       "      <td>0.264952</td>\n",
       "      <td>0.137758</td>\n",
       "      <td>WALKING_DOWNSTAIRS</td>\n",
       "    </tr>\n",
       "  </tbody>\n",
       "</table>\n",
       "<p>5 rows × 562 columns</p>\n",
       "</div>"
      ],
      "text/plain": [
       "   tBodyAcc-mean()-X  tBodyAcc-mean()-Y  tBodyAcc-mean()-Z  tBodyAcc-std()-X  \\\n",
       "0           0.288508          -0.009196          -0.103362         -0.988986   \n",
       "1           0.265757          -0.016576          -0.098163         -0.989551   \n",
       "2           0.278709          -0.014511          -0.108717         -0.997720   \n",
       "3           0.289795          -0.035536          -0.150354         -0.231727   \n",
       "4           0.394807           0.034098           0.091229          0.088489   \n",
       "\n",
       "   tBodyAcc-std()-Y  tBodyAcc-std()-Z  tBodyAcc-mad()-X  tBodyAcc-mad()-Y  \\\n",
       "0         -0.962797         -0.967422         -0.989000         -0.962596   \n",
       "1         -0.994636         -0.987435         -0.990189         -0.993870   \n",
       "2         -0.981088         -0.994008         -0.997934         -0.982187   \n",
       "3         -0.006412         -0.338117         -0.273557          0.014245   \n",
       "4         -0.106636         -0.388502         -0.010469         -0.109680   \n",
       "\n",
       "   tBodyAcc-mad()-Z  tBodyAcc-max()-X  ...  fBodyBodyGyroJerkMag-skewness()  \\\n",
       "0         -0.965650         -0.929747  ...                        -0.487737   \n",
       "1         -0.987558         -0.937337  ...                        -0.237820   \n",
       "2         -0.995017         -0.942584  ...                        -0.535287   \n",
       "3         -0.347916          0.008288  ...                        -0.004012   \n",
       "4         -0.346372          0.584131  ...                        -0.157832   \n",
       "\n",
       "   fBodyBodyGyroJerkMag-kurtosis()  angle(tBodyAccMean,gravity)  \\\n",
       "0                        -0.816696                    -0.042494   \n",
       "1                        -0.693515                    -0.062899   \n",
       "2                        -0.829311                     0.000265   \n",
       "3                        -0.408956                    -0.255125   \n",
       "4                        -0.563437                    -0.044344   \n",
       "\n",
       "   angle(tBodyAccJerkMean),gravityMean)  angle(tBodyGyroMean,gravityMean)  \\\n",
       "0                             -0.044218                          0.307873   \n",
       "1                              0.388459                         -0.765014   \n",
       "2                             -0.525022                         -0.891875   \n",
       "3                              0.612804                          0.747381   \n",
       "4                             -0.845268                         -0.974650   \n",
       "\n",
       "   angle(tBodyGyroJerkMean,gravityMean)  angle(X,gravityMean)  \\\n",
       "0                              0.072790             -0.601120   \n",
       "1                              0.771524              0.345205   \n",
       "2                              0.021528             -0.833564   \n",
       "3                             -0.072944             -0.695819   \n",
       "4                             -0.887846             -0.705029   \n",
       "\n",
       "   angle(Y,gravityMean)  angle(Z,gravityMean)            Activity  \n",
       "0              0.331298              0.165163            STANDING  \n",
       "1             -0.769186             -0.147944              LAYING  \n",
       "2              0.202434             -0.032755            STANDING  \n",
       "3              0.287154              0.111388             WALKING  \n",
       "4              0.264952              0.137758  WALKING_DOWNSTAIRS  \n",
       "\n",
       "[5 rows x 562 columns]"
      ]
     },
     "execution_count": 2,
     "metadata": {},
     "output_type": "execute_result"
    }
   ],
   "source": [
    "data = pd.read_csv('../data/data01_train.csv')\n",
    "data.drop('subject', axis=1, inplace=True)\n",
    "data.head()"
   ]
  },
  {
   "cell_type": "markdown",
   "id": "53813392",
   "metadata": {},
   "source": [
    "# 데이터 전처리"
   ]
  },
  {
   "cell_type": "code",
   "execution_count": 3,
   "id": "6e8b0c59",
   "metadata": {},
   "outputs": [],
   "source": [
    "target = 'Activity'\n",
    "\n",
    "X = data.drop(target, axis=1)\n",
    "y = data.loc[:, target]"
   ]
  },
  {
   "cell_type": "markdown",
   "id": "59245bc1",
   "metadata": {},
   "source": [
    "##### 스케일링"
   ]
  },
  {
   "cell_type": "code",
   "execution_count": 4,
   "id": "83053432",
   "metadata": {},
   "outputs": [],
   "source": [
    "from sklearn.preprocessing import StandardScaler\n",
    "\n",
    "scaler = StandardScaler()"
   ]
  },
  {
   "cell_type": "markdown",
   "id": "50d2d10f",
   "metadata": {},
   "source": [
    "##### feature importance 중 선택된 feature 이름들"
   ]
  },
  {
   "cell_type": "code",
   "execution_count": 5,
   "id": "7c987f4a",
   "metadata": {},
   "outputs": [],
   "source": [
    "from sklearn.metrics import classification_report, accuracy_score, confusion_matrix\n",
    "\n",
    "\n",
    "feature_cols_lists = ['tGravityAcc-min()-Y',\n",
    "                     'tGravityAcc-mean()-Y',\n",
    "                     'fBodyAcc-bandsEnergy()-1,8',\n",
    "                     'tBodyAccJerk-energy()-X',\n",
    "                     'tGravityAcc-arCoeff()-Z,4',\n",
    "                     'angle(X,gravityMean)',\n",
    "                     'fBodyAccMag-energy()',\n",
    "                     'tGravityAccMag-arCoeff()1',\n",
    "                     'tBodyAccMag-std()',\n",
    "                     'tGravityAcc-min()-X',\n",
    "                     'fBodyAccJerk-bandsEnergy()-17,24.2',\n",
    "                     'tGravityAcc-max()-X',\n",
    "                     'tBodyAcc-correlation()-X,Y',\n",
    "                     'tGravityAcc-mean()-X',\n",
    "                     'tBodyAccJerk-iqr()-Y',\n",
    "                     'tGravityAccMag-std()',\n",
    "                     'fBodyAccJerk-std()-X',\n",
    "                     'fBodyAccMag-sma()',\n",
    "                     'tGravityAcc-min()-Z',\n",
    "                     'fBodyAccJerk-bandsEnergy()-1,24',\n",
    "                     'fBodyAccMag-mad()',\n",
    "                     'tGravityAcc-energy()-X',\n",
    "                     'fBodyAccJerk-energy()-X',\n",
    "                     'angle(Y,gravityMean)',\n",
    "                     'tGravityAcc-max()-Y',\n",
    "                     'tBodyAccJerk-sma()',\n",
    "                     'tGravityAcc-arCoeff()-Z,2']"
   ]
  },
  {
   "cell_type": "markdown",
   "id": "56652df2",
   "metadata": {},
   "source": [
    "##### train, validation 분리하기"
   ]
  },
  {
   "cell_type": "code",
   "execution_count": 6,
   "id": "591e00ab",
   "metadata": {},
   "outputs": [],
   "source": [
    "from sklearn.model_selection import train_test_split\n",
    "\n",
    "x_train, x_valid, y_train, y_valid = train_test_split(X, y, test_size=0.2, random_state=42)\n",
    "\n",
    "x_train_s = scaler.fit_transform(x_train)\n",
    "x_valid_s = scaler.fit_transform(x_valid)"
   ]
  },
  {
   "cell_type": "markdown",
   "id": "01c54dda",
   "metadata": {},
   "source": [
    "# 모델링"
   ]
  },
  {
   "cell_type": "markdown",
   "id": "c2eb714e",
   "metadata": {},
   "source": [
    "### 알고리즘 1"
   ]
  },
  {
   "cell_type": "code",
   "execution_count": 7,
   "id": "caf19082",
   "metadata": {},
   "outputs": [
    {
     "data": {
      "text/plain": [
       "0.9821580288870009"
      ]
     },
     "execution_count": 7,
     "metadata": {},
     "output_type": "execute_result"
    }
   ],
   "source": [
    "from sklearn.linear_model import LogisticRegression\n",
    "\n",
    "lg = LogisticRegression(max_iter=1000)\n",
    "\n",
    "lg.fit(x_train_s, y_train)\n",
    "lg.score(x_valid_s,y_valid)"
   ]
  },
  {
   "cell_type": "code",
   "execution_count": 8,
   "id": "bd111431",
   "metadata": {},
   "outputs": [
    {
     "data": {
      "text/plain": [
       "0.9473237043330501"
      ]
     },
     "execution_count": 8,
     "metadata": {},
     "output_type": "execute_result"
    }
   ],
   "source": [
    "# feature importance 높은것만 뽑아서 돌림\n",
    "newx_train_s = scaler.fit_transform(x_train[feature_cols_lists])\n",
    "newx_valid_s = scaler.fit_transform(x_valid[feature_cols_lists])\n",
    "\n",
    "\n",
    "lg = LogisticRegression(max_iter=1000)\n",
    "lg.fit(newx_train_s, y_train)\n",
    "\n",
    "lg.score(newx_valid_s,y_valid)"
   ]
  },
  {
   "cell_type": "markdown",
   "id": "298b09e6",
   "metadata": {},
   "source": [
    "### 알고리즘 2"
   ]
  },
  {
   "cell_type": "code",
   "execution_count": 9,
   "id": "74c12a99",
   "metadata": {},
   "outputs": [
    {
     "data": {
      "text/plain": [
       "0.9566694987255735"
      ]
     },
     "execution_count": 9,
     "metadata": {},
     "output_type": "execute_result"
    }
   ],
   "source": [
    "from sklearn.neighbors import KNeighborsClassifier\n",
    "\n",
    "kn = KNeighborsClassifier()\n",
    "\n",
    "kn.fit(x_train_s, y_train)\n",
    "kn.score(x_valid_s, y_valid)"
   ]
  },
  {
   "cell_type": "code",
   "execution_count": 10,
   "id": "c54b5c93",
   "metadata": {},
   "outputs": [
    {
     "data": {
      "text/plain": [
       "0.9583687340696686"
      ]
     },
     "execution_count": 10,
     "metadata": {},
     "output_type": "execute_result"
    }
   ],
   "source": [
    "# feature importance 높은것만 뽑아서 돌림\n",
    "kn = KNeighborsClassifier()\n",
    "kn.fit(newx_train_s, y_train)\n",
    "\n",
    "kn.score(newx_valid_s, y_valid)"
   ]
  },
  {
   "cell_type": "markdown",
   "id": "43c899d7",
   "metadata": {},
   "source": [
    "### 알고리즘 3"
   ]
  },
  {
   "cell_type": "code",
   "execution_count": 11,
   "id": "5e80cb25",
   "metadata": {},
   "outputs": [
    {
     "data": {
      "text/plain": [
       "0.9855564995751912"
      ]
     },
     "execution_count": 11,
     "metadata": {},
     "output_type": "execute_result"
    }
   ],
   "source": [
    "from sklearn.ensemble import RandomForestClassifier\n",
    "x_train, x_valid, y_train, y_valid = train_test_split(X, y, test_size=0.2, random_state=42)\n",
    "\n",
    "rf = RandomForestClassifier()\n",
    "\n",
    "rf.fit(x_train, y_train)\n",
    "rf.score(x_valid, y_valid)"
   ]
  },
  {
   "cell_type": "code",
   "execution_count": 12,
   "id": "7b49364b",
   "metadata": {},
   "outputs": [
    {
     "data": {
      "text/plain": [
       "0.9745114698385726"
      ]
     },
     "execution_count": 12,
     "metadata": {},
     "output_type": "execute_result"
    }
   ],
   "source": [
    "# feature importance 높은것만 뽑아서 돌림\n",
    "rf = RandomForestClassifier()\n",
    "rf.fit(x_train[feature_cols_lists], y_train)\n",
    "\n",
    "rf.score(x_valid[feature_cols_lists], y_valid)"
   ]
  },
  {
   "cell_type": "markdown",
   "id": "bfbbaf87",
   "metadata": {},
   "source": [
    "### 알고리즘 4"
   ]
  },
  {
   "cell_type": "code",
   "execution_count": 13,
   "id": "9f7b5b48",
   "metadata": {},
   "outputs": [
    {
     "data": {
      "text/plain": [
       "0.994052676295667"
      ]
     },
     "execution_count": 13,
     "metadata": {},
     "output_type": "execute_result"
    }
   ],
   "source": [
    "from xgboost import XGBClassifier\n",
    "from sklearn.preprocessing import LabelEncoder\n",
    "\n",
    "label_encoder = LabelEncoder()\n",
    "y_encoded = label_encoder.fit_transform(y)\n",
    "\n",
    "x_train_e, x_valid_e, y_train_e, y_valid_e = train_test_split(X, y_encoded, test_size=0.2, random_state=42)\n",
    "\n",
    "xg = XGBClassifier()\n",
    "\n",
    "xg.fit(x_train_e, y_train_e)\n",
    "xg.score(x_valid_e, y_valid_e)"
   ]
  },
  {
   "cell_type": "code",
   "execution_count": 14,
   "id": "b8831389",
   "metadata": {},
   "outputs": [
    {
     "data": {
      "text/plain": [
       "0.9796091758708582"
      ]
     },
     "execution_count": 14,
     "metadata": {},
     "output_type": "execute_result"
    }
   ],
   "source": [
    "# feature importance 높은것만 뽑아서 돌림\n",
    "xg = XGBClassifier()\n",
    "xg.fit(x_train_e[feature_cols_lists], y_train_e)\n",
    "\n",
    "xg.score(x_valid_e[feature_cols_lists], y_valid_e)"
   ]
  },
  {
   "cell_type": "markdown",
   "id": "365e0d67",
   "metadata": {},
   "source": [
    "### 알고리즘 5"
   ]
  },
  {
   "cell_type": "code",
   "execution_count": 15,
   "id": "7538f6ea",
   "metadata": {},
   "outputs": [],
   "source": [
    "from keras.layers import Dense\n",
    "from keras import Sequential\n",
    "import tensorflow as tf"
   ]
  },
  {
   "cell_type": "code",
   "execution_count": 16,
   "id": "a98d4609",
   "metadata": {},
   "outputs": [
    {
     "data": {
      "text/plain": [
       "((4704, 561), 6)"
      ]
     },
     "execution_count": 16,
     "metadata": {},
     "output_type": "execute_result"
    }
   ],
   "source": [
    "x_train.shape, len(y_train.unique())"
   ]
  },
  {
   "cell_type": "code",
   "execution_count": 17,
   "id": "63945cb6",
   "metadata": {},
   "outputs": [],
   "source": [
    "model = Sequential()\n",
    "model.add(Dense(256, input_shape=(x_train.shape[1],), activation='swish'))\n",
    "model.add(Dense(128, activation='swish'))\n",
    "model.add(Dense(64, activation='swish'))\n",
    "model.add(Dense(32, activation='swish'))\n",
    "model.add(Dense(len(set(y_train_e)), activation='softmax'))\n",
    "\n",
    "model.compile(optimizer='adam', loss='sparse_categorical_crossentropy', metrics=['accuracy'])"
   ]
  },
  {
   "cell_type": "code",
   "execution_count": 20,
   "id": "629d40cb",
   "metadata": {},
   "outputs": [
    {
     "name": "stdout",
     "output_type": "stream",
     "text": [
      "Epoch 1/20\n",
      "147/147 [==============================] - 1s 7ms/step - loss: 0.0500 - accuracy: 0.9807 - val_loss: 0.0616 - val_accuracy: 0.9805\n",
      "Epoch 2/20\n",
      "147/147 [==============================] - 1s 6ms/step - loss: 0.0447 - accuracy: 0.9830 - val_loss: 0.0524 - val_accuracy: 0.9813\n",
      "Epoch 3/20\n",
      "147/147 [==============================] - 1s 6ms/step - loss: 0.0646 - accuracy: 0.9741 - val_loss: 0.0687 - val_accuracy: 0.9762\n",
      "Epoch 4/20\n",
      "147/147 [==============================] - 1s 6ms/step - loss: 0.0580 - accuracy: 0.9802 - val_loss: 0.0487 - val_accuracy: 0.9839\n",
      "Epoch 5/20\n",
      "147/147 [==============================] - 1s 6ms/step - loss: 0.0499 - accuracy: 0.9815 - val_loss: 0.0744 - val_accuracy: 0.9677\n",
      "Epoch 6/20\n",
      "147/147 [==============================] - 1s 6ms/step - loss: 0.0361 - accuracy: 0.9855 - val_loss: 0.0674 - val_accuracy: 0.9728\n",
      "Epoch 7/20\n",
      "147/147 [==============================] - 1s 6ms/step - loss: 0.0432 - accuracy: 0.9813 - val_loss: 0.0625 - val_accuracy: 0.9762\n",
      "Epoch 8/20\n",
      "147/147 [==============================] - 1s 6ms/step - loss: 0.0468 - accuracy: 0.9807 - val_loss: 0.0646 - val_accuracy: 0.9805\n",
      "Epoch 9/20\n",
      "147/147 [==============================] - 1s 6ms/step - loss: 0.0405 - accuracy: 0.9841 - val_loss: 0.0533 - val_accuracy: 0.9839\n",
      "Epoch 10/20\n",
      "147/147 [==============================] - 1s 6ms/step - loss: 0.0376 - accuracy: 0.9858 - val_loss: 0.1072 - val_accuracy: 0.9643\n",
      "Epoch 11/20\n",
      "147/147 [==============================] - 1s 6ms/step - loss: 0.0445 - accuracy: 0.9851 - val_loss: 0.1196 - val_accuracy: 0.9482\n",
      "Epoch 12/20\n",
      "147/147 [==============================] - 1s 6ms/step - loss: 0.0470 - accuracy: 0.9813 - val_loss: 0.0558 - val_accuracy: 0.9779\n",
      "Epoch 13/20\n",
      "147/147 [==============================] - 1s 6ms/step - loss: 0.0439 - accuracy: 0.9811 - val_loss: 0.0491 - val_accuracy: 0.9839\n",
      "Epoch 14/20\n",
      "147/147 [==============================] - 1s 6ms/step - loss: 0.0313 - accuracy: 0.9885 - val_loss: 0.0581 - val_accuracy: 0.9839\n",
      "Epoch 15/20\n",
      "147/147 [==============================] - 1s 7ms/step - loss: 0.0721 - accuracy: 0.9719 - val_loss: 0.0512 - val_accuracy: 0.9873\n",
      "Epoch 16/20\n",
      "147/147 [==============================] - 1s 6ms/step - loss: 0.0272 - accuracy: 0.9896 - val_loss: 0.0899 - val_accuracy: 0.9771\n",
      "Epoch 17/20\n",
      "147/147 [==============================] - 1s 6ms/step - loss: 0.0375 - accuracy: 0.9843 - val_loss: 0.0863 - val_accuracy: 0.9686\n",
      "Epoch 18/20\n",
      "147/147 [==============================] - 1s 6ms/step - loss: 0.0259 - accuracy: 0.9911 - val_loss: 0.0894 - val_accuracy: 0.9728\n",
      "Epoch 19/20\n",
      "147/147 [==============================] - 1s 6ms/step - loss: 0.0267 - accuracy: 0.9889 - val_loss: 0.0451 - val_accuracy: 0.9873\n",
      "Epoch 20/20\n",
      "147/147 [==============================] - 1s 6ms/step - loss: 0.0278 - accuracy: 0.9894 - val_loss: 0.0423 - val_accuracy: 0.9839\n"
     ]
    }
   ],
   "source": [
    "history = model.fit(x_train_e, y_train_e, epochs=20, batch_size=32, validation_data=(x_valid_e, y_valid_e))"
   ]
  },
  {
   "cell_type": "code",
   "execution_count": 28,
   "id": "0649f876",
   "metadata": {
    "scrolled": true
   },
   "outputs": [
    {
     "name": "stdout",
     "output_type": "stream",
     "text": [
      "37/37 [==============================] - 0s 3ms/step\n"
     ]
    },
    {
     "data": {
      "text/plain": [
       "0.983857264231096"
      ]
     },
     "execution_count": 28,
     "metadata": {},
     "output_type": "execute_result"
    }
   ],
   "source": [
    "pred = model.predict(x_valid_e)\n",
    "predicted_classes = np.argmax(pred, axis=1)\n",
    "\n",
    "accuracy_score(y_valid_e, predicted_classes)"
   ]
  },
  {
   "cell_type": "code",
   "execution_count": 21,
   "id": "989ac492",
   "metadata": {},
   "outputs": [
    {
     "data": {
      "image/png": "[encoded data removed]",
      "text/plain": [
       "<Figure size 640x480 with 1 Axes>"
      ]
     },
     "metadata": {},
     "output_type": "display_data"
    }
   ],
   "source": [
    "plt.plot(history.history['accuracy'])\n",
    "plt.plot(history.history['val_accuracy'])\n",
    "plt.title('model accuracy')\n",
    "plt.ylabel('accuracy')\n",
    "plt.xlabel('Epoch')\n",
    "plt.legend(['Train Accuracy', 'Test Accuracy'], loc='upper left')\n",
    "plt.show()"
   ]
  },
  {
   "cell_type": "code",
   "execution_count": 22,
   "id": "010afc82",
   "metadata": {},
   "outputs": [
    {
     "data": {
      "image/png": "[encoded data removed]",
      "text/plain": [
       "<Figure size 640x480 with 1 Axes>"
      ]
     },
     "metadata": {},
     "output_type": "display_data"
    }
   ],
   "source": [
    "plt.plot(history.history['loss'])\n",
    "plt.plot(history.history['val_loss'])\n",
    "plt.title('model accuracy')\n",
    "plt.ylabel('accuracy')\n",
    "plt.xlabel('Epoch')\n",
    "plt.legend(['Train Loss', 'Test validation'], loc='upper left')\n",
    "plt.show()"
   ]
  },
  {
   "cell_type": "code",
   "execution_count": null,
   "id": "231ecbf4",
   "metadata": {},
   "outputs": [],
   "source": []
  }
 ],
 "metadata": {
  "kernelspec": {
   "display_name": "Python 3 (ipykernel)",
   "language": "python",
   "name": "python3"
  },
  "language_info": {
   "codemirror_mode": {
    "name": "ipython",
    "version": 3
   },
   "file_extension": ".py",
   "mimetype": "text/x-python",
   "name": "python",
   "nbconvert_exporter": "python",
   "pygments_lexer": "ipython3",
   "version": "3.11.5"
  }
 },
 "nbformat": 4,
 "nbformat_minor": 5
}
