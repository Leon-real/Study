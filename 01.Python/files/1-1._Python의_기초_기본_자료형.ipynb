{
 "cells": [
  {
   "cell_type": "markdown",
   "id": "91aedcd2",
   "metadata": {},
   "source": [
    "# 파이썬의 기초\n",
    "\n",
    "## 기본 자료형\n",
    "\n",
    "### 숫자형: 정수형(Integer), 부동소수점형(Float)\n",
    "- 정수형 : 1,2,3,4,5 ...\n",
    "- 소수점 숫자 : 3.25, 52.3E-4 ..."
   ]
  },
  {
   "cell_type": "code",
   "execution_count": 1,
   "id": "951c5218",
   "metadata": {},
   "outputs": [
    {
     "data": {
      "text/plain": [
       "1"
      ]
     },
     "execution_count": 1,
     "metadata": {},
     "output_type": "execute_result"
    }
   ],
   "source": [
    "y= 1\n",
    "y"
   ]
  },
  {
   "cell_type": "markdown",
   "id": "47b6b841",
   "metadata": {},
   "source": [
    "### 문자열\n",
    "- 작은따옴표, 큰따옴표, 따옴표 세 개를 사용하여 나타낼 수 있다.\n",
    "```\n",
    "x = \"글 작성하기~\"\n",
    "x = '글 작성하기~'\n",
    "x = '''글 작성하기~'''\n",
    "\n",
    "print(x)\n",
    "---\n",
    ">>> 글 작성하기~\n",
    "```"
   ]
  },
  {
   "cell_type": "code",
   "execution_count": null,
   "id": "b4c9c35d",
   "metadata": {},
   "outputs": [
    {
     "data": {
      "text/plain": [
       "'아무글이나 작성해볼까나'"
      ]
     },
     "execution_count": 2,
     "metadata": {},
     "output_type": "execute_result"
    }
   ],
   "source": [
    "x = \"아무글이나 작성해볼까나\"\n",
    "x"
   ]
  },
  {
   "cell_type": "markdown",
   "id": "0b10bf40",
   "metadata": {},
   "source": [
    "### 리스트(list)\n",
    "구조는 아래와 같다.\n",
    "```\n",
    "리스트명 = [요소1, 요소2, ...요소n]\n",
    "```\n",
    "- 리스트 생성\n",
    "```\n",
    "a = [] # 또는 a= list()\n",
    "b = [1, 2, 3]\n",
    "c = ['Life', 'is', 'too', 'short']\n",
    "d = [1, 2, 'Life', 'is']\n",
    "e = [1, 2, ['Life', 'is']]\n",
    "e\n",
    "```"
   ]
  },
  {
   "cell_type": "code",
   "execution_count": 3,
   "id": "fc6c3992",
   "metadata": {},
   "outputs": [
    {
     "data": {
      "text/plain": [
       "[1, 2, ['Life', 'is']]"
      ]
     },
     "execution_count": 3,
     "metadata": {},
     "output_type": "execute_result"
    }
   ],
   "source": [
    "a = [] # 또는 a= list()\n",
    "b = [1, 2, 3]\n",
    "c = ['Life', 'is', 'too', 'short']\n",
    "d = [1, 2, 'Life', 'is']\n",
    "e = [1, 2, ['Life', 'is']]\n",
    "e"
   ]
  },
  {
   "cell_type": "markdown",
   "id": "805f32a4",
   "metadata": {},
   "source": [
    "- 리스트의 특징\n",
    "    - 리스트의 경우 순서화된 요소(인덱스 이용)\n",
    "    - 추가/변경/삭제 가능\n",
    "    \n",
    "- 리스트 함수\n",
    "    - len : 요소의 개수\n",
    "    - insert : 정해진 위치에 요소 삽입\n",
    "    - append : 맨 뒤에 요소 추가\n",
    "    - sort : 정렬하기 (역순 정렬은 reverse=True 추가)\n",
    "    - index : 주어진 값(요소)이 나타내는 리스트의 첫번째 위치\n",
    "    - pop : 정해진 요소값을 추출하고 리스트에서는 삭제 됌"
   ]
  },
  {
   "cell_type": "code",
   "execution_count": 4,
   "id": "b8e89e24",
   "metadata": {},
   "outputs": [
    {
     "name": "stdout",
     "output_type": "stream",
     "text": [
      "len(a)를 하면 4\n",
      "\n",
      "a.insert(1,9)를 하면 [1, 9, 4, 3, 0]\n",
      "\n",
      "a.append('2')를 하면 [1, 9, 4, 3, 0, 2]\n",
      "\n",
      "sorted(a)를 하면 [0, 1, 2, 3, 4, 9]\n",
      "\n",
      "현재 a는 [1, 9, 4, 3, 0, 2]\n",
      "a.index(2)를 하면 5\n",
      "\n",
      "현재 a는 [1, 9, 4, 3, 0, 2]\n",
      "a.pop(1)를 하면 첫번째 요소인 9가 리턴되고, a리스트에서 삭제된다\n",
      "a.pop(1)하고 난 뒤, a는 [1, 4, 3, 0, 2]\n"
     ]
    }
   ],
   "source": [
    "a = [1,4,3,0]\n",
    "\n",
    "# len\n",
    "print(f\"len(a)를 하면 {len(a)}\\n\") # 4\n",
    "\n",
    "# insert\n",
    "a.insert(1,9)\n",
    "print(f\"a.insert(1,9)를 하면 {a}\\n\") # [1, 9, 4, 3, 0]\n",
    "\n",
    "# append\n",
    "a.append(2)\n",
    "print(f\"a.append('2')를 하면 {a}\\n\") # [1, 9, 4, 3, 0, 2]\n",
    "\n",
    "# sort\n",
    "print(f\"sorted(a)를 하면 {sorted(a)}\\n\") # [0, 1, 2, 3, 4, 9]\n",
    "\n",
    "# index\n",
    "print(f\"현재 a는 {a}\") # [1, 9, 4, 3, 0, 2]\n",
    "print(f\"a.index(2)를 하면 {a.index(2)}\\n\") # 2가 5번째에 있으므로 5 출력\n",
    "\n",
    "# pop\n",
    "print(f\"현재 a는 {a}\") # [1, 9, 4, 3, 0, 2]\n",
    "print(f\"a.pop(1)를 하면 첫번째 요소인 9가 리턴되고, a리스트에서 삭제된다\")\n",
    "a.pop(1)\n",
    "print(f\"a.pop(1)하고 난 뒤, a는 {a}\") # [1, 4, 3, 0, 2]"
   ]
  },
  {
   "cell_type": "markdown",
   "id": "a96ceb78",
   "metadata": {},
   "source": [
    "- 리스트 인덱싱과 슬리이싱  \n",
    "    리스트명[ ] 을 이용해서 접근할 수 있다. 대괄호 사이에 순서를 적어서 사용가능"
   ]
  },
  {
   "cell_type": "code",
   "execution_count": 5,
   "id": "d7d09804",
   "metadata": {},
   "outputs": [
    {
     "name": "stdout",
     "output_type": "stream",
     "text": [
      "파이썬\n",
      "도구이다.\n",
      "['필수적인', '도구이다.']\n",
      "['파이썬', '프로그램은']\n",
      "['프로그램은', '빅데이터분석을', '위한', '필수적인', '도구이다.']\n",
      "['프로그램은', '빅데이터분석을']\n"
     ]
    }
   ],
   "source": [
    "a = ['파이썬', '프로그램은', '빅데이터분석을', '위한' , '필수적인', '도구이다.']\n",
    "print(a[0]) # 0번째 요소 추출\n",
    "\n",
    "print(a[-1]) # 마지막 첫번째 값\n",
    "\n",
    "print(a[-2:]) # 뒤로 두번째부터 마지막까지\n",
    "\n",
    "print(a[:2]) # 0부터 2직전 까지 요소값 \n",
    "\n",
    "print(a[1:]) # 1부터 마지막까지\n",
    "\n",
    "print(a[1:3]) # 1부터 3직전(즉, 2)까지"
   ]
  },
  {
   "cell_type": "markdown",
   "id": "7e6294c0",
   "metadata": {},
   "source": [
    "### 튜플\n",
    "1. 튜플(tuple)과 리스트(list)의 차이점\n",
    "\n",
    "    - 리스트는 [ ], 튜플은 ( )\n",
    "    - 리스트는 요소값의 삭제, 수정이 가능, 튜플은 불가\n",
    "    \n",
    "- 튜플의 생성\n",
    "```\n",
    "zoo = ('python', 'elephant', 'penguin')\n",
    "print(zoo)\n",
    "```"
   ]
  },
  {
   "cell_type": "code",
   "execution_count": 6,
   "id": "34da4531",
   "metadata": {},
   "outputs": [
    {
     "name": "stdout",
     "output_type": "stream",
     "text": [
      "('python', 'elephant', 'penguin')\n"
     ]
    }
   ],
   "source": [
    "zoo = ('python', 'elephant', 'penguin')\n",
    "print(zoo)"
   ]
  },
  {
   "cell_type": "markdown",
   "id": "dd856d83",
   "metadata": {},
   "source": [
    "### 딕셔너리\n",
    "1. 특징\n",
    "    - key와 value의 쌍을 갖는 자료형\n",
    "    - key는 반드시 유일해야 한다.(중복되면 마지막 키에 해당되는 것만 저장됨)\n",
    "    - key에는 리스트 사용 불가, 즉 상수만 가능\n",
    "2. 딕셔너리 생성 예제\n",
    "```\n",
    "dic = {'A': 'a입니다.',\n",
    "       'B': [1,2,5,3,4],\n",
    "       'C': 2,\n",
    "    }\n",
    "dic\n",
    "```"
   ]
  },
  {
   "cell_type": "code",
   "execution_count": 2,
   "id": "08c5aa0c",
   "metadata": {},
   "outputs": [
    {
     "data": {
      "text/plain": [
       "{'A': 'a입니다.', 'B': [1, 2, 5, 3, 4], 'C': 2}"
      ]
     },
     "execution_count": 2,
     "metadata": {},
     "output_type": "execute_result"
    }
   ],
   "source": [
    "dic = {'A': 'a입니다.',\n",
    "       'B': [1,2,5,3,4],\n",
    "       'C': 2,\n",
    "    }\n",
    "dic"
   ]
  },
  {
   "cell_type": "code",
   "execution_count": 3,
   "id": "da94a837",
   "metadata": {},
   "outputs": [
    {
     "data": {
      "text/plain": [
       "dict_keys(['A', 'B', 'C'])"
      ]
     },
     "execution_count": 3,
     "metadata": {},
     "output_type": "execute_result"
    }
   ],
   "source": [
    "dic.keys()"
   ]
  },
  {
   "cell_type": "code",
   "execution_count": 4,
   "id": "3d7b6bd6",
   "metadata": {},
   "outputs": [
    {
     "data": {
      "text/plain": [
       "dict_items([('A', 'a입니다.'), ('B', [1, 2, 5, 3, 4]), ('C', 2)])"
      ]
     },
     "execution_count": 4,
     "metadata": {},
     "output_type": "execute_result"
    }
   ],
   "source": [
    "dic.items()"
   ]
  },
  {
   "cell_type": "code",
   "execution_count": 5,
   "id": "4f3b0fae",
   "metadata": {},
   "outputs": [
    {
     "data": {
      "text/plain": [
       "dict_values(['a입니다.', [1, 2, 5, 3, 4], 2])"
      ]
     },
     "execution_count": 5,
     "metadata": {},
     "output_type": "execute_result"
    }
   ],
   "source": [
    "dic.values()"
   ]
  },
  {
   "cell_type": "markdown",
   "id": "bf296c66",
   "metadata": {},
   "source": [
    "### 집합\n",
    "- 정렬되지 않은 단순 객체의 묶음\n",
    "- 객체의 순서나 중복에 상관"
   ]
  },
  {
   "cell_type": "code",
   "execution_count": null,
   "id": "3985ccf8",
   "metadata": {},
   "outputs": [],
   "source": [
    "bri = set(['brazil', 'russia', 'india'])\n",
    "'india' in bri       # 원소의 포함 여부  "
   ]
  },
  {
   "cell_type": "code",
   "execution_count": null,
   "id": "388de3ea",
   "metadata": {},
   "outputs": [],
   "source": [
    "'usa' in bri"
   ]
  },
  {
   "cell_type": "code",
   "execution_count": null,
   "id": "03c6d3ed",
   "metadata": {},
   "outputs": [],
   "source": []
  }
 ],
 "metadata": {
  "kernelspec": {
   "display_name": "Python 3 (ipykernel)",
   "language": "python",
   "name": "python3"
  },
  "language_info": {
   "codemirror_mode": {
    "name": "ipython",
    "version": 3
   },
   "file_extension": ".py",
   "mimetype": "text/x-python",
   "name": "python",
   "nbconvert_exporter": "python",
   "pygments_lexer": "ipython3",
   "version": "3.11.3"
  }
 },
 "nbformat": 4,
 "nbformat_minor": 5
}
