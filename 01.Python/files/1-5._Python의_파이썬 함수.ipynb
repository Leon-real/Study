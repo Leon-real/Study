{
 "cells": [
  {
   "cell_type": "markdown",
   "id": "5e8ef1b7",
   "metadata": {},
   "source": [
    "# 파이썬의 기초\n",
    "\n",
    "## 파이썬 함수\n",
    "\n",
    "### 함수의 정의 및 호출\n",
    "1. 문법\n",
    "```\n",
    "def 함수이름(매개변수,...):\n",
    "    함수 정의\n",
    "    return() #반환값\n",
    "    \n",
    "# 함수호출    \n",
    "함수이름(매개변수값들)\n",
    "```"
   ]
  },
  {
   "cell_type": "code",
   "execution_count": 3,
   "id": "7ea0fb19",
   "metadata": {},
   "outputs": [
    {
     "name": "stdout",
     "output_type": "stream",
     "text": [
      "7 is maximum\n"
     ]
    }
   ],
   "source": [
    "def print_max(a,b):\n",
    "    if a>b:\n",
    "        print (a,'is maximum')\n",
    "    elif a==b:\n",
    "        print (a,'is equal to',b)\n",
    "    else:\n",
    "        print (b,'is maximum')\n",
    "# 호출            \n",
    "x=5; y=7\n",
    "print_max(x,y)"
   ]
  },
  {
   "cell_type": "markdown",
   "id": "e5cd9de5",
   "metadata": {},
   "source": [
    "### 전역변수 지역변수\n",
    "- 지역변수 : 함수 안에서만 사용되는 변수, 함수 밖의 같은 이름의 변수와 관계없음"
   ]
  },
  {
   "cell_type": "code",
   "execution_count": 6,
   "id": "496aebb7",
   "metadata": {},
   "outputs": [
    {
     "name": "stdout",
     "output_type": "stream",
     "text": [
      "x is 5\n",
      "Changed local x to 2\n",
      "x is still 5\n"
     ]
    }
   ],
   "source": [
    "def func(x):\n",
    "    # 여기서 x는 지역변수\n",
    "    print('x is',x)\n",
    "    x=2\n",
    "    print('Changed local x to',x)\n",
    "\n",
    "func(x)\n",
    "print('x is still',x)"
   ]
  },
  {
   "cell_type": "markdown",
   "id": "2d0d5363",
   "metadata": {},
   "source": [
    "- 전역변수: 함수나 클래스 밖에서 선언된 변수가 함수안에 영향을 미치고, 함수안에서 변경가능\n"
   ]
  },
  {
   "cell_type": "code",
   "execution_count": 8,
   "id": "fc1994cc",
   "metadata": {},
   "outputs": [
    {
     "name": "stdout",
     "output_type": "stream",
     "text": [
      "x is 50\n",
      "Changed global x to 2\n"
     ]
    }
   ],
   "source": [
    "x=50\n",
    "def func():\n",
    "    global x # 전역변수\n",
    "    print( 'x is',x)\n",
    "    x=2\n",
    "    print('Changed global x to',x)\n",
    "\n",
    "func()"
   ]
  },
  {
   "cell_type": "code",
   "execution_count": null,
   "id": "a38938fa",
   "metadata": {},
   "outputs": [],
   "source": []
  }
 ],
 "metadata": {
  "kernelspec": {
   "display_name": "Python 3 (ipykernel)",
   "language": "python",
   "name": "python3"
  },
  "language_info": {
   "codemirror_mode": {
    "name": "ipython",
    "version": 3
   },
   "file_extension": ".py",
   "mimetype": "text/x-python",
   "name": "python",
   "nbconvert_exporter": "python",
   "pygments_lexer": "ipython3",
   "version": "3.11.3"
  }
 },
 "nbformat": 4,
 "nbformat_minor": 5
}
