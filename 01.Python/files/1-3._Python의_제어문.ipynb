{
 "cells": [
  {
   "cell_type": "markdown",
   "id": "8e2c4098",
   "metadata": {},
   "source": [
    "# 파이썬의 기초\n",
    "\n",
    "## 제어문\n",
    "\n",
    "1. 조건문\n",
    "2. 순환문"
   ]
  },
  {
   "cell_type": "markdown",
   "id": "5f085ea0",
   "metadata": {},
   "source": [
    "### 조건문\n",
    "\n",
    "- if, elif, else 구문의 기본형식\n",
    "\n",
    "```\n",
    "   if 조건1:\n",
    "      수행문1\n",
    "   elif 조건2:\n",
    "      수행문2\n",
    "   else:\n",
    "      수행문3\n",
    "\n",
    "```\n",
    "\n",
    "- 삼항연산자를 이용하는 방법\n",
    "\n",
    "```\n",
    " x = [조건이 참일 때 결과]  if 조건 else [거짓일때 결과]\n",
    "```"
   ]
  },
  {
   "cell_type": "code",
   "execution_count": 3,
   "id": "bad712ca",
   "metadata": {},
   "outputs": [
    {
     "name": "stdout",
     "output_type": "stream",
     "text": [
      "good\n"
     ]
    }
   ],
   "source": [
    "x = 120\n",
    "if x > 100:\n",
    "    o = 'good'\n",
    "else:\n",
    "    o = 'common'\n",
    "print(o)"
   ]
  },
  {
   "cell_type": "code",
   "execution_count": 5,
   "id": "c8a9cd97",
   "metadata": {},
   "outputs": [
    {
     "name": "stdout",
     "output_type": "stream",
     "text": [
      "good\n"
     ]
    }
   ],
   "source": [
    "o = 'good' if x > 100 else 'common'\n",
    "print(o)"
   ]
  },
  {
   "cell_type": "markdown",
   "id": "65ec85f0",
   "metadata": {},
   "source": [
    "### 반복문 / 순환문 / loop\n",
    "\n",
    "1. while문\n",
    "    - **while 조건**은 조건이 참인 경우 반복 실행\n",
    "    - 기본형식\n",
    "    ```\n",
    "    while 조건:\n",
    "       수행문1\n",
    "       수행문2\n",
    "    ```"
   ]
  },
  {
   "cell_type": "code",
   "execution_count": 7,
   "id": "78961539",
   "metadata": {},
   "outputs": [
    {
     "name": "stdout",
     "output_type": "stream",
     "text": [
      "45\n"
     ]
    }
   ],
   "source": [
    "i = 0\n",
    "total = 0\n",
    "while i < 10:\n",
    "    total += i\n",
    "    i += 1\n",
    "print(total)"
   ]
  },
  {
   "cell_type": "markdown",
   "id": "53c0deff",
   "metadata": {},
   "source": [
    "2. for문\n",
    "    - 기본 형식\n",
    "    ```\n",
    "    for 조건:\n",
    "       수행문....\n",
    "\n",
    "    for 조건:\n",
    "       수행문1\n",
    "    else:\n",
    "       수행문2\n",
    "    ```"
   ]
  },
  {
   "cell_type": "code",
   "execution_count": 10,
   "id": "dd974ceb",
   "metadata": {},
   "outputs": [
    {
     "name": "stdout",
     "output_type": "stream",
     "text": [
      "1\n",
      "2\n",
      "3\n",
      "4\n",
      "The for loop is over\n"
     ]
    }
   ],
   "source": [
    "for i in range(1, 5):\n",
    "    print (i)\n",
    "else:\n",
    "    print ('The for loop is over')"
   ]
  },
  {
   "cell_type": "markdown",
   "id": "2668df22",
   "metadata": {},
   "source": [
    "3. break: 루프 문을 강제로 빠져나오거나 정지시킬 때 사용"
   ]
  },
  {
   "cell_type": "code",
   "execution_count": 12,
   "id": "a17f2c43",
   "metadata": {},
   "outputs": [
    {
     "name": "stdout",
     "output_type": "stream",
     "text": [
      "55\n"
     ]
    }
   ],
   "source": [
    "i = 1\n",
    "total = 0\n",
    "while True:\n",
    "    total += i\n",
    "    i += 1\n",
    "    if i > 10:\n",
    "        break\n",
    "print(total)"
   ]
  },
  {
   "cell_type": "markdown",
   "id": "e3a9abe2",
   "metadata": {},
   "source": [
    "4. contunue: 실행중인 루프 블록의 나머지를 실행하지 않고, 다음 루프로 넘김"
   ]
  },
  {
   "cell_type": "code",
   "execution_count": 14,
   "id": "41cd3663",
   "metadata": {},
   "outputs": [
    {
     "name": "stdout",
     "output_type": "stream",
     "text": [
      "20\n"
     ]
    }
   ],
   "source": [
    "total = 0\n",
    "for s in [1,2,3,4,5,6,7,8]:\n",
    "    if s % 2 == 1:\n",
    "        continue\n",
    "    total += s\n",
    "print (total)"
   ]
  },
  {
   "cell_type": "code",
   "execution_count": null,
   "id": "635e615e",
   "metadata": {},
   "outputs": [],
   "source": []
  }
 ],
 "metadata": {
  "kernelspec": {
   "display_name": "Python 3 (ipykernel)",
   "language": "python",
   "name": "python3"
  },
  "language_info": {
   "codemirror_mode": {
    "name": "ipython",
    "version": 3
   },
   "file_extension": ".py",
   "mimetype": "text/x-python",
   "name": "python",
   "nbconvert_exporter": "python",
   "pygments_lexer": "ipython3",
   "version": "3.11.3"
  }
 },
 "nbformat": 4,
 "nbformat_minor": 5
}
