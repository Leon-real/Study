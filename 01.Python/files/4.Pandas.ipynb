{
 "cells": [
  {
   "cell_type": "markdown",
   "id": "40c8fc6a",
   "metadata": {},
   "source": [
    "# Pandas 판다스\n",
    "---\n",
    "- 데이터 처리와 분석을 위한 라이브러리\n",
    "\n",
    "- 행과 열로 이루어진 데이터 객체를 만들어 다룰 수 있음\n",
    "\n",
    "- 대용량의 데이터들을 처리하는데 매우 편리\n",
    "\n",
    "- pandas 자료구조\n",
    "\n",
    "    Series: 1차원  \n",
    "    DataFrame: 2차원  \n",
    "    Panel: 3차원  \n",
    "###### 목차\n",
    "1. Pandas DataFrame 판다스 데이터프레임\n",
    "2. Pandas 판다스 통계 처리\n",
    "3. Pandas plot 판다스 그래프 그리기\n",
    "4. Read & write data in Pandas 판다스를 이용해 데이터 읽고 쓰기\n",
    "    \n",
    "- pandas 로딩\n",
    "```\n",
    "import numpy as np # 보통 numpy와 함께 import\n",
    "import pandas as pd\n",
    "```"
   ]
  },
  {
   "cell_type": "markdown",
   "id": "16d84167",
   "metadata": {},
   "source": [
    "## 1. Pandas DataFrame 판다스 데이터프레임\n",
    "\n",
    "##### 목차\n",
    "1. 1-1. 데이터 조회 및 추출\n",
    "    1. 1-1. 열 조회\n",
    "    2. 1-1-2. 조건으로 조회 : .loc\n",
    "    3. 1-1-3. 여러 조건으로 조회\n",
    "    4. 1-1-4. 정렬해서 보기\n",
    "---\n",
    "- 2차원 자료구조\n",
    "- 행레이블/ 열레이블, 데이터로 구성된다.\n",
    "- 딕셔너리에서 데이터프레임 생성한다.\n",
    "\n",
    "- Pandas 사용 목적이 데이터프레임을 사용하기 위한 목적으로 봐도 된다.\n",
    "- 데이터를 처리, 조회, 분석하는 가장 효율적인 방법이 데이터프레임을 사용하는 것이다.\n",
    "- 일반적으로 접하게 되는 **테이블** 형태, **엑셀** 형태로 생각하시면 된다.\n",
    "- 직접 만들 수 있으나 보통은 **csv 파일**, **엑셀 파일** 또는 DB에서 읽어온다다.\n",
    "\n",
    "```\n",
    "★[참고] 자주 사용할 만한 메서드들★\n",
    "\n",
    "- head(): 상위 데이터 확인\n",
    "- tail(): 하위 데이터 확인\n",
    "- shape: 데이터프레임 크기\n",
    "- values: 값 정보 확인(저장하면 2차원 numpy 배열이 됨)\n",
    "- columns: 열 정보 확인\n",
    "- dtypes: 열 자료형 확인\n",
    "- info(): 열에 대한 상세한 정보 확인\n",
    "- describe(): 기초통계정보 확인\n",
    "    ㄴ describe() 메소드는 데이터에 대한 많은 정보를 제공하는 매우 중요한 메소드입니다.\n",
    "    ㄴ데이터분석과정에서 자세히 살펴볼 예정이므로 여기서는 **가볍게 실행만** 해봅니다.\n",
    "    ㄴ 개수(count), 평균(mean), 표준편차(std), 최솟값(min), 사분위값(25%, 50%, 75%), 최댓값(max)을 표시합니다.\n",
    "\n",
    "```"
   ]
  },
  {
   "cell_type": "code",
   "execution_count": 61,
   "id": "13588fea",
   "metadata": {},
   "outputs": [
    {
     "name": "stdout",
     "output_type": "stream",
     "text": [
      "      year  GDP rate     GDP     GDP2  rank\n",
      "2016  2016       2.8  1.637M  111.17M     1\n",
      "2017  2017       3.1   1.73M    2.22M     2\n",
      "2018  2018       3.0   1.87M     1.1M     3\n",
      "2019  2019       3.0   1.83M     0.1M     4\n",
      "-----------------------------\n",
      "head:       year  GDP rate     GDP     GDP2  rank\n",
      "2016  2016       2.8  1.637M  111.17M     1\n",
      "2017  2017       3.1   1.73M    2.22M     2\n",
      "2018  2018       3.0   1.87M     1.1M     3\n",
      "2019  2019       3.0   1.83M     0.1M     4\n",
      "-----------------------------\n",
      "row labels: Int64Index([2016, 2017, 2018, 2019], dtype='int64')\n",
      "-----------------------------\n",
      "column labels: Index(['year', 'GDP rate', 'GDP', 'GDP2', 'rank'], dtype='object')\n",
      "-----------------------------\n"
     ]
    }
   ],
   "source": [
    "import pandas as pd\n",
    "# 딕셔너리\n",
    "data = {\n",
    "    'year':[2016, 2017, 2018, 2019],\n",
    "    'GDP rate': [2.8, 3.1, 3.0, 3.0],\n",
    "    'GDP': ['1.637M', '1.73M', '1.87M', '1.83M' ],\n",
    "    'GDP2': ['111.17M', '2.22M', '1.1M', '0.1M' ],\n",
    "    'rank': [1, 2, 3, 4 ]\n",
    "}\n",
    "df = pd.DataFrame(data, index=data['year']) # index추가할 수 있음\n",
    "\n",
    "print(df) # 데이터프레임 전체 보기\n",
    "print(\"-----------------------------\")\n",
    "print(\"head:\", df.head()) # 데이터프레임 상위 5개 보여주기\n",
    "print(\"-----------------------------\")\n",
    "print(\"row labels:\", df.index) # 데이터프레임 인덱스와 데이터 타입\n",
    "print(\"-----------------------------\")\n",
    "print(\"column labels:\", df.columns) # 데이터프레임 열 값\n",
    "print(\"-----------------------------\")"
   ]
  },
  {
   "cell_type": "markdown",
   "id": "615eff18",
   "metadata": {},
   "source": [
    "### 1-1. 데이터 조회 및 추출\n",
    "\n",
    "- **df.loc[ : , [열 이름1, 열 이름2,...]]** 형태로 조회할 열 이름을 리스트로 지정.\n",
    "- 열 부분은 생략할 수 있었지만, **행 부분을 생략할 수는 없다.**\n",
    "- 하지만 **df[[열 이름1, 열 이름2,...]]** 형태로 인덱서를 생략함이 일반적이다.\n",
    "- 조회할 열이 하나면 리스트 형태가 아니어도 된다.\n",
    "\n",
    "\n",
    "1. 열 조회\n",
    "    - \"df[열 이름]\" 또는 \"df.열이름\"\n",
    "2. 조건으로 조회 : .loc\n",
    "    - **df.loc[조건]** 형태로 조건을 지정해 조건에 만족하는 데이터만 조회할 수 있다.\n",
    "    - 우선 조건이 제대로 판단이 되는지 확인한 후 그 **조건을 대 괄호 안에** 넣으면 된다."
   ]
  },
  {
   "cell_type": "markdown",
   "id": "ea26b4ff",
   "metadata": {},
   "source": [
    "#### 1-1-1. 열 조회"
   ]
  },
  {
   "cell_type": "code",
   "execution_count": 64,
   "id": "f241fc73",
   "metadata": {},
   "outputs": [
    {
     "name": "stdout",
     "output_type": "stream",
     "text": [
      "2016    1.637M\n",
      "2017     1.73M\n",
      "2018     1.87M\n",
      "2019     1.83M\n",
      "Name: GDP, dtype: object\n",
      "2016    1.637M\n",
      "2017     1.73M\n",
      "2018     1.87M\n",
      "2019     1.83M\n",
      "Name: GDP, dtype: object\n"
     ]
    }
   ],
   "source": [
    "#df에서 GDP변수의 값 추출\n",
    "print(df['GDP']) \n",
    "# 또는 \n",
    "print(df.GDP)"
   ]
  },
  {
   "cell_type": "markdown",
   "id": "770595dc",
   "metadata": {},
   "source": [
    "- 부분 추출"
   ]
  },
  {
   "cell_type": "code",
   "execution_count": 65,
   "id": "35288b97",
   "metadata": {},
   "outputs": [
    {
     "name": "stdout",
     "output_type": "stream",
     "text": [
      "      GDP rate     GDP\n",
      "2016       2.8  1.637M\n",
      "2017       3.1   1.73M\n",
      "2018       3.0   1.87M\n",
      "2019       3.0   1.83M\n"
     ]
    }
   ],
   "source": [
    "print(df[['GDP rate', 'GDP']]) # DataFrame"
   ]
  },
  {
   "cell_type": "markdown",
   "id": "87d1a2a4",
   "metadata": {},
   "source": [
    "### 1-1-2. 조건으로 조회 : .loc"
   ]
  },
  {
   "cell_type": "code",
   "execution_count": 73,
   "id": "ff0e47c0",
   "metadata": {},
   "outputs": [
    {
     "data": {
      "text/html": [
       "<div>\n",
       "<style scoped>\n",
       "    .dataframe tbody tr th:only-of-type {\n",
       "        vertical-align: middle;\n",
       "    }\n",
       "\n",
       "    .dataframe tbody tr th {\n",
       "        vertical-align: top;\n",
       "    }\n",
       "\n",
       "    .dataframe thead th {\n",
       "        text-align: right;\n",
       "    }\n",
       "</style>\n",
       "<table border=\"1\" class=\"dataframe\">\n",
       "  <thead>\n",
       "    <tr style=\"text-align: right;\">\n",
       "      <th></th>\n",
       "      <th>year</th>\n",
       "      <th>GDP rate</th>\n",
       "      <th>GDP</th>\n",
       "      <th>GDP2</th>\n",
       "      <th>rank</th>\n",
       "    </tr>\n",
       "  </thead>\n",
       "  <tbody>\n",
       "    <tr>\n",
       "      <th>2016</th>\n",
       "      <td>2016</td>\n",
       "      <td>2.8</td>\n",
       "      <td>1.637M</td>\n",
       "      <td>111.17M</td>\n",
       "      <td>1</td>\n",
       "    </tr>\n",
       "    <tr>\n",
       "      <th>2017</th>\n",
       "      <td>2017</td>\n",
       "      <td>3.1</td>\n",
       "      <td>1.73M</td>\n",
       "      <td>2.22M</td>\n",
       "      <td>2</td>\n",
       "    </tr>\n",
       "    <tr>\n",
       "      <th>2018</th>\n",
       "      <td>2018</td>\n",
       "      <td>3.0</td>\n",
       "      <td>1.87M</td>\n",
       "      <td>1.1M</td>\n",
       "      <td>3</td>\n",
       "    </tr>\n",
       "    <tr>\n",
       "      <th>2019</th>\n",
       "      <td>2019</td>\n",
       "      <td>3.0</td>\n",
       "      <td>1.83M</td>\n",
       "      <td>0.1M</td>\n",
       "      <td>4</td>\n",
       "    </tr>\n",
       "  </tbody>\n",
       "</table>\n",
       "</div>"
      ],
      "text/plain": [
       "      year  GDP rate     GDP     GDP2  rank\n",
       "2016  2016       2.8  1.637M  111.17M     1\n",
       "2017  2017       3.1   1.73M    2.22M     2\n",
       "2018  2018       3.0   1.87M     1.1M     3\n",
       "2019  2019       3.0   1.83M     0.1M     4"
      ]
     },
     "execution_count": 73,
     "metadata": {},
     "output_type": "execute_result"
    }
   ],
   "source": [
    "df"
   ]
  },
  {
   "cell_type": "code",
   "execution_count": 67,
   "id": "71aacf1c",
   "metadata": {},
   "outputs": [
    {
     "data": {
      "text/html": [
       "<div>\n",
       "<style scoped>\n",
       "    .dataframe tbody tr th:only-of-type {\n",
       "        vertical-align: middle;\n",
       "    }\n",
       "\n",
       "    .dataframe tbody tr th {\n",
       "        vertical-align: top;\n",
       "    }\n",
       "\n",
       "    .dataframe thead th {\n",
       "        text-align: right;\n",
       "    }\n",
       "</style>\n",
       "<table border=\"1\" class=\"dataframe\">\n",
       "  <thead>\n",
       "    <tr style=\"text-align: right;\">\n",
       "      <th></th>\n",
       "      <th>year</th>\n",
       "      <th>GDP rate</th>\n",
       "      <th>GDP</th>\n",
       "      <th>GDP2</th>\n",
       "      <th>rank</th>\n",
       "    </tr>\n",
       "  </thead>\n",
       "  <tbody>\n",
       "    <tr>\n",
       "      <th>2017</th>\n",
       "      <td>2017</td>\n",
       "      <td>3.1</td>\n",
       "      <td>1.73M</td>\n",
       "      <td>2.22M</td>\n",
       "      <td>2</td>\n",
       "    </tr>\n",
       "  </tbody>\n",
       "</table>\n",
       "</div>"
      ],
      "text/plain": [
       "      year  GDP rate    GDP   GDP2  rank\n",
       "2017  2017       3.1  1.73M  2.22M     2"
      ]
     },
     "execution_count": 67,
     "metadata": {},
     "output_type": "execute_result"
    }
   ],
   "source": [
    "df.loc[df[\"GDP rate\"] >3]\n",
    "\n",
    "# 또는\n",
    "# df[\"GDP rate\"] >3"
   ]
  },
  {
   "cell_type": "markdown",
   "id": "1c13a656",
   "metadata": {},
   "source": [
    "### 1-1-2. 여러 조건으로 조회\n",
    "- [ ]안에 조건을 여러개 연결할 때 **and와 or 대신에 &와 |**를 사용해야 한다.\n",
    "- 그리고 각 조건들은 **(조건1) & (조건2)** 형태로 **괄호**로 묶어야 한다.\n",
    "\n",
    "#### loc를 활용하여 조건 조회\n",
    "1. & : and 연산자로 &로 연결된 조건들이 만족 될 경우\n",
    "2. | : or 연산자로 둘중 어느 하나라도 만족할 경우\n",
    "3. **isin([값1, 값2,..., 값n])**: 값1 또는 값2 또는...값n인 데이터만 조회\n",
    "4. **between(값1, 값2)**: 값1 ~ 값2까지 범위안의 데이터만 조회"
   ]
  },
  {
   "cell_type": "code",
   "execution_count": 68,
   "id": "11d3b04a",
   "metadata": {},
   "outputs": [
    {
     "data": {
      "text/html": [
       "<div>\n",
       "<style scoped>\n",
       "    .dataframe tbody tr th:only-of-type {\n",
       "        vertical-align: middle;\n",
       "    }\n",
       "\n",
       "    .dataframe tbody tr th {\n",
       "        vertical-align: top;\n",
       "    }\n",
       "\n",
       "    .dataframe thead th {\n",
       "        text-align: right;\n",
       "    }\n",
       "</style>\n",
       "<table border=\"1\" class=\"dataframe\">\n",
       "  <thead>\n",
       "    <tr style=\"text-align: right;\">\n",
       "      <th></th>\n",
       "      <th>year</th>\n",
       "      <th>GDP rate</th>\n",
       "      <th>GDP</th>\n",
       "      <th>GDP2</th>\n",
       "      <th>rank</th>\n",
       "    </tr>\n",
       "  </thead>\n",
       "  <tbody>\n",
       "    <tr>\n",
       "      <th>2019</th>\n",
       "      <td>2019</td>\n",
       "      <td>3.0</td>\n",
       "      <td>1.83M</td>\n",
       "      <td>0.1M</td>\n",
       "      <td>4</td>\n",
       "    </tr>\n",
       "  </tbody>\n",
       "</table>\n",
       "</div>"
      ],
      "text/plain": [
       "      year  GDP rate    GDP  GDP2  rank\n",
       "2019  2019       3.0  1.83M  0.1M     4"
      ]
     },
     "execution_count": 68,
     "metadata": {},
     "output_type": "execute_result"
    }
   ],
   "source": [
    "# and로 여러 조건 연결\n",
    "df.loc[(df['rank'] > 3) & (df['GDP rate'] == 3)]"
   ]
  },
  {
   "cell_type": "code",
   "execution_count": 69,
   "id": "7ba4ea06",
   "metadata": {
    "scrolled": true
   },
   "outputs": [
    {
     "data": {
      "text/html": [
       "<div>\n",
       "<style scoped>\n",
       "    .dataframe tbody tr th:only-of-type {\n",
       "        vertical-align: middle;\n",
       "    }\n",
       "\n",
       "    .dataframe tbody tr th {\n",
       "        vertical-align: top;\n",
       "    }\n",
       "\n",
       "    .dataframe thead th {\n",
       "        text-align: right;\n",
       "    }\n",
       "</style>\n",
       "<table border=\"1\" class=\"dataframe\">\n",
       "  <thead>\n",
       "    <tr style=\"text-align: right;\">\n",
       "      <th></th>\n",
       "      <th>year</th>\n",
       "      <th>GDP rate</th>\n",
       "      <th>GDP</th>\n",
       "      <th>GDP2</th>\n",
       "      <th>rank</th>\n",
       "    </tr>\n",
       "  </thead>\n",
       "  <tbody>\n",
       "    <tr>\n",
       "      <th>2018</th>\n",
       "      <td>2018</td>\n",
       "      <td>3.0</td>\n",
       "      <td>1.87M</td>\n",
       "      <td>1.1M</td>\n",
       "      <td>3</td>\n",
       "    </tr>\n",
       "    <tr>\n",
       "      <th>2019</th>\n",
       "      <td>2019</td>\n",
       "      <td>3.0</td>\n",
       "      <td>1.83M</td>\n",
       "      <td>0.1M</td>\n",
       "      <td>4</td>\n",
       "    </tr>\n",
       "  </tbody>\n",
       "</table>\n",
       "</div>"
      ],
      "text/plain": [
       "      year  GDP rate    GDP  GDP2  rank\n",
       "2018  2018       3.0  1.87M  1.1M     3\n",
       "2019  2019       3.0  1.83M  0.1M     4"
      ]
     },
     "execution_count": 69,
     "metadata": {},
     "output_type": "execute_result"
    }
   ],
   "source": [
    "# or 조건 : |\n",
    "df.loc[(df['rank'] > 3) | (df['GDP rate'] == 3)]"
   ]
  },
  {
   "cell_type": "code",
   "execution_count": 72,
   "id": "0a4e3243",
   "metadata": {},
   "outputs": [
    {
     "data": {
      "text/html": [
       "<div>\n",
       "<style scoped>\n",
       "    .dataframe tbody tr th:only-of-type {\n",
       "        vertical-align: middle;\n",
       "    }\n",
       "\n",
       "    .dataframe tbody tr th {\n",
       "        vertical-align: top;\n",
       "    }\n",
       "\n",
       "    .dataframe thead th {\n",
       "        text-align: right;\n",
       "    }\n",
       "</style>\n",
       "<table border=\"1\" class=\"dataframe\">\n",
       "  <thead>\n",
       "    <tr style=\"text-align: right;\">\n",
       "      <th></th>\n",
       "      <th>year</th>\n",
       "      <th>GDP rate</th>\n",
       "      <th>GDP</th>\n",
       "      <th>GDP2</th>\n",
       "      <th>rank</th>\n",
       "    </tr>\n",
       "  </thead>\n",
       "  <tbody>\n",
       "    <tr>\n",
       "      <th>2016</th>\n",
       "      <td>2016</td>\n",
       "      <td>2.8</td>\n",
       "      <td>1.637M</td>\n",
       "      <td>111.17M</td>\n",
       "      <td>1</td>\n",
       "    </tr>\n",
       "    <tr>\n",
       "      <th>2019</th>\n",
       "      <td>2019</td>\n",
       "      <td>3.0</td>\n",
       "      <td>1.83M</td>\n",
       "      <td>0.1M</td>\n",
       "      <td>4</td>\n",
       "    </tr>\n",
       "  </tbody>\n",
       "</table>\n",
       "</div>"
      ],
      "text/plain": [
       "      year  GDP rate     GDP     GDP2  rank\n",
       "2016  2016       2.8  1.637M  111.17M     1\n",
       "2019  2019       3.0   1.83M     0.1M     4"
      ]
     },
     "execution_count": 72,
     "metadata": {},
     "output_type": "execute_result"
    }
   ],
   "source": [
    "# .isin()\n",
    "df.loc[df['year'].isin([2016,2019])]"
   ]
  },
  {
   "cell_type": "code",
   "execution_count": 71,
   "id": "f89593fe",
   "metadata": {},
   "outputs": [
    {
     "data": {
      "text/html": [
       "<div>\n",
       "<style scoped>\n",
       "    .dataframe tbody tr th:only-of-type {\n",
       "        vertical-align: middle;\n",
       "    }\n",
       "\n",
       "    .dataframe tbody tr th {\n",
       "        vertical-align: top;\n",
       "    }\n",
       "\n",
       "    .dataframe thead th {\n",
       "        text-align: right;\n",
       "    }\n",
       "</style>\n",
       "<table border=\"1\" class=\"dataframe\">\n",
       "  <thead>\n",
       "    <tr style=\"text-align: right;\">\n",
       "      <th></th>\n",
       "      <th>year</th>\n",
       "      <th>GDP rate</th>\n",
       "      <th>GDP</th>\n",
       "      <th>GDP2</th>\n",
       "      <th>rank</th>\n",
       "    </tr>\n",
       "  </thead>\n",
       "  <tbody>\n",
       "    <tr>\n",
       "      <th>2017</th>\n",
       "      <td>2017</td>\n",
       "      <td>3.1</td>\n",
       "      <td>1.73M</td>\n",
       "      <td>2.22M</td>\n",
       "      <td>2</td>\n",
       "    </tr>\n",
       "    <tr>\n",
       "      <th>2018</th>\n",
       "      <td>2018</td>\n",
       "      <td>3.0</td>\n",
       "      <td>1.87M</td>\n",
       "      <td>1.1M</td>\n",
       "      <td>3</td>\n",
       "    </tr>\n",
       "  </tbody>\n",
       "</table>\n",
       "</div>"
      ],
      "text/plain": [
       "      year  GDP rate    GDP   GDP2  rank\n",
       "2017  2017       3.1  1.73M  2.22M     2\n",
       "2018  2018       3.0  1.87M   1.1M     3"
      ]
     },
     "execution_count": 71,
     "metadata": {},
     "output_type": "execute_result"
    }
   ],
   "source": [
    "# between 조회\n",
    "df.loc[df['year'].between(2017, 2018)]"
   ]
  },
  {
   "cell_type": "markdown",
   "id": "e6c773fa",
   "metadata": {},
   "source": [
    "### 1-1-4. 정렬해서 보기\n",
    "\n",
    "- 인덱스를 기준으로 정렬하는 방법과 특정 열을 기준으로 정렬하는 방법이 있습니다.\n",
    "- **sort_values()** 메소드로 **특정 열**을 기준으로 정렬합니다.\n",
    "- **ascending** 옵션을 설정해 오름차순, 내림차순을 설정할 수 있습니다.\n",
    "    - ascending=True: 오름차순 정렬(기본값)\n",
    "    - ascending=False: 내림차순 정렬"
   ]
  },
  {
   "cell_type": "code",
   "execution_count": 37,
   "id": "09c31353",
   "metadata": {},
   "outputs": [
    {
     "data": {
      "text/html": [
       "<div>\n",
       "<style scoped>\n",
       "    .dataframe tbody tr th:only-of-type {\n",
       "        vertical-align: middle;\n",
       "    }\n",
       "\n",
       "    .dataframe tbody tr th {\n",
       "        vertical-align: top;\n",
       "    }\n",
       "\n",
       "    .dataframe thead th {\n",
       "        text-align: right;\n",
       "    }\n",
       "</style>\n",
       "<table border=\"1\" class=\"dataframe\">\n",
       "  <thead>\n",
       "    <tr style=\"text-align: right;\">\n",
       "      <th></th>\n",
       "      <th>year</th>\n",
       "      <th>GDP rate</th>\n",
       "      <th>GDP</th>\n",
       "      <th>GDP2</th>\n",
       "    </tr>\n",
       "  </thead>\n",
       "  <tbody>\n",
       "    <tr>\n",
       "      <th>2017</th>\n",
       "      <td>2017</td>\n",
       "      <td>3.1</td>\n",
       "      <td>1.73M</td>\n",
       "      <td>2.22M</td>\n",
       "    </tr>\n",
       "    <tr>\n",
       "      <th>2018</th>\n",
       "      <td>2018</td>\n",
       "      <td>3.0</td>\n",
       "      <td>1.87M</td>\n",
       "      <td>1.1M</td>\n",
       "    </tr>\n",
       "    <tr>\n",
       "      <th>2019</th>\n",
       "      <td>2019</td>\n",
       "      <td>3.0</td>\n",
       "      <td>1.83M</td>\n",
       "      <td>0.1M</td>\n",
       "    </tr>\n",
       "    <tr>\n",
       "      <th>2016</th>\n",
       "      <td>2016</td>\n",
       "      <td>2.8</td>\n",
       "      <td>1.637M</td>\n",
       "      <td>111.17M</td>\n",
       "    </tr>\n",
       "  </tbody>\n",
       "</table>\n",
       "</div>"
      ],
      "text/plain": [
       "      year  GDP rate     GDP     GDP2\n",
       "2017  2017       3.1   1.73M    2.22M\n",
       "2018  2018       3.0   1.87M     1.1M\n",
       "2019  2019       3.0   1.83M     0.1M\n",
       "2016  2016       2.8  1.637M  111.17M"
      ]
     },
     "execution_count": 37,
     "metadata": {},
     "output_type": "execute_result"
    }
   ],
   "source": [
    "# 단일 열 정렬\n",
    "df.sort_values(by='GDP rate', ascending=False)"
   ]
  },
  {
   "cell_type": "code",
   "execution_count": 38,
   "id": "7f08e30b",
   "metadata": {},
   "outputs": [
    {
     "data": {
      "text/html": [
       "<div>\n",
       "<style scoped>\n",
       "    .dataframe tbody tr th:only-of-type {\n",
       "        vertical-align: middle;\n",
       "    }\n",
       "\n",
       "    .dataframe tbody tr th {\n",
       "        vertical-align: top;\n",
       "    }\n",
       "\n",
       "    .dataframe thead th {\n",
       "        text-align: right;\n",
       "    }\n",
       "</style>\n",
       "<table border=\"1\" class=\"dataframe\">\n",
       "  <thead>\n",
       "    <tr style=\"text-align: right;\">\n",
       "      <th></th>\n",
       "      <th>year</th>\n",
       "      <th>GDP rate</th>\n",
       "      <th>GDP</th>\n",
       "      <th>GDP2</th>\n",
       "    </tr>\n",
       "  </thead>\n",
       "  <tbody>\n",
       "    <tr>\n",
       "      <th>2016</th>\n",
       "      <td>2016</td>\n",
       "      <td>2.8</td>\n",
       "      <td>1.637M</td>\n",
       "      <td>111.17M</td>\n",
       "    </tr>\n",
       "    <tr>\n",
       "      <th>2018</th>\n",
       "      <td>2018</td>\n",
       "      <td>3.0</td>\n",
       "      <td>1.87M</td>\n",
       "      <td>1.1M</td>\n",
       "    </tr>\n",
       "    <tr>\n",
       "      <th>2019</th>\n",
       "      <td>2019</td>\n",
       "      <td>3.0</td>\n",
       "      <td>1.83M</td>\n",
       "      <td>0.1M</td>\n",
       "    </tr>\n",
       "    <tr>\n",
       "      <th>2017</th>\n",
       "      <td>2017</td>\n",
       "      <td>3.1</td>\n",
       "      <td>1.73M</td>\n",
       "      <td>2.22M</td>\n",
       "    </tr>\n",
       "  </tbody>\n",
       "</table>\n",
       "</div>"
      ],
      "text/plain": [
       "      year  GDP rate     GDP     GDP2\n",
       "2016  2016       2.8  1.637M  111.17M\n",
       "2018  2018       3.0   1.87M     1.1M\n",
       "2019  2019       3.0   1.83M     0.1M\n",
       "2017  2017       3.1   1.73M    2.22M"
      ]
     },
     "execution_count": 38,
     "metadata": {},
     "output_type": "execute_result"
    }
   ],
   "source": [
    "# 복합 열 정렬\n",
    "df.sort_values(by=['GDP rate', 'GDP'], ascending=[True, False])"
   ]
  },
  {
   "cell_type": "markdown",
   "id": "2997fdbf",
   "metadata": {},
   "source": [
    "## 2. Pandas 판다스 통계 처리\n",
    "---\n",
    "![Pandas 통계처리 메소드](../img/pandas_statistic_method.png)"
   ]
  },
  {
   "cell_type": "markdown",
   "id": "fba439e6",
   "metadata": {},
   "source": [
    "## 3. Pandas plot 판다스 그래프 그리기\n",
    "---\n",
    "1. Boxplot"
   ]
  },
  {
   "cell_type": "code",
   "execution_count": 41,
   "id": "109aa76d",
   "metadata": {},
   "outputs": [
    {
     "name": "stdout",
     "output_type": "stream",
     "text": [
      "       unif      norm\n",
      "0  1.092558 -0.149245\n",
      "1 -1.815163  0.103848\n",
      "2 -1.676686 -1.070283\n",
      "3  1.436918  1.678937\n",
      "4  2.216808  0.153341\n"
     ]
    },
    {
     "data": {
      "text/plain": [
       "<Axes: >"
      ]
     },
     "execution_count": 41,
     "metadata": {},
     "output_type": "execute_result"
    },
    {
     "data": {
      "image/png": "[encoded data removed]",
      "text/plain": [
       "<Figure size 640x480 with 1 Axes>"
      ]
     },
     "metadata": {},
     "output_type": "display_data"
    }
   ],
   "source": [
    "import pandas as pd\n",
    "import numpy as np\n",
    "df = pd.DataFrame({\n",
    "         'unif': np.random.uniform(-3, 3, 20),\n",
    "         'norm': np.random.normal(0, 1, 20)\n",
    "    })\n",
    "print(df.head())  \n",
    "\n",
    "df.boxplot(column=['unif', 'norm'])"
   ]
  },
  {
   "cell_type": "markdown",
   "id": "2163c7c9",
   "metadata": {},
   "source": [
    "2. Time series plot"
   ]
  },
  {
   "cell_type": "code",
   "execution_count": 44,
   "id": "0d58f72c",
   "metadata": {},
   "outputs": [
    {
     "data": {
      "text/plain": [
       "<Axes: >"
      ]
     },
     "execution_count": 44,
     "metadata": {},
     "output_type": "execute_result"
    }
   ],
   "source": [
    "df.index = pd.date_range('2000', freq='Y', periods=df.shape[0])\n",
    "df.plot()"
   ]
  },
  {
   "cell_type": "markdown",
   "id": "43c19b42",
   "metadata": {},
   "source": [
    "3. Scatter plot"
   ]
  },
  {
   "cell_type": "code",
   "execution_count": 48,
   "id": "450386d2",
   "metadata": {},
   "outputs": [
    {
     "data": {
      "text/plain": [
       "<Axes: xlabel='unif', ylabel='norm'>"
      ]
     },
     "execution_count": 48,
     "metadata": {},
     "output_type": "execute_result"
    }
   ],
   "source": [
    "df.plot.scatter(x='unif', y='norm')"
   ]
  },
  {
   "cell_type": "code",
   "execution_count": null,
   "id": "bc27d9d3",
   "metadata": {},
   "outputs": [],
   "source": []
  },
  {
   "cell_type": "markdown",
   "id": "eb75bf5f",
   "metadata": {},
   "source": [
    "## 4. Read & write data in Pandas 판다스를 이용해 데이터 읽고 쓰기\n",
    "---\n",
    "\n",
    "###  Pandas로 읽기\n",
    "- **read_csv 혹은 아래 확장자에 맞게 작성**\n",
    "- pd.read_csv('data/finance.csv')\n",
    "### Pandas로 저장하기\n",
    "- **to_csv 혹은 아래 확장자에 맞게 작성**\n",
    "- pd.to_csv(\"저장할이름.csv\")\n",
    "\n",
    "![Pandas 읽고 쓰기](../img/pandas_read_write.png)"
   ]
  },
  {
   "cell_type": "code",
   "execution_count": null,
   "id": "af9210c8",
   "metadata": {},
   "outputs": [],
   "source": []
  }
 ],
 "metadata": {
  "kernelspec": {
   "display_name": "Python 3 (ipykernel)",
   "language": "python",
   "name": "python3"
  },
  "language_info": {
   "codemirror_mode": {
    "name": "ipython",
    "version": 3
   },
   "file_extension": ".py",
   "mimetype": "text/x-python",
   "name": "python",
   "nbconvert_exporter": "python",
   "pygments_lexer": "ipython3",
   "version": "3.11.3"
  }
 },
 "nbformat": 4,
 "nbformat_minor": 5
}
