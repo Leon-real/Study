{
 "cells": [
  {
   "cell_type": "markdown",
   "id": "05858a48",
   "metadata": {},
   "source": [
    "## 비교하는 방법\n",
    "\n",
    "- **평균 비교 :** barplot\n",
    "    - 범주가 2개 : 두 평균의 차이 비교\n",
    "    - 범주가 3개 이상 : 전체 평균과 각 범주의 평균 비교\n",
    "- **수치화** : t-test, anova(분산분석)\n",
    "    - 범주가 **두 개**일 때와 **세 개 이상**일 때 평균을 비교하는 방법\n",
    "    - **t-test (범주의 수 2개일 때 사용)**\n",
    "        - **두 그룹간 평균**에 차이가 있는가?\n",
    "        - 두그룹 A의 평균 vs 그룹 b의 평균 비교\n",
    "        - t 통계량 : 두 그룹의 평균 간 차이를 표준오차로 나눈 값(두 평균의 차이로 이해해도 좋다) → 정규분포랑 많이 가깝다\n",
    "        \n",
    "        **T-test : t통계량, p-value**\n",
    "        \n",
    "        - p-value가 0.05보다 작으면 차이가 있다. ⇒ 데이터 간 관련이 있다\n",
    "        - t 통계량이 -2보다 작거나, 2보다 크면, 차이가 있다고 본다. ⇒ 데이터 간 관련이 있다\n",
    "        \n",
    "        ---\n",
    "        \n",
    "    - **anova(범주의 수 3개 이상일 때 사용) : Analysis Of Variance**\n",
    "        \n",
    "        $F = 집단간 분산/집단내분산 = (전체평균- 각집단 평균)/(각집단의 평균 - 개별값)$\n",
    "            \n",
    "        - 전체 평균과 각 그룹 평균에 차이가 있는가 ?\n",
    "        - [전체 평균과 그룹 평균의 차이(분산)]와 [그룹 내 차이(분산)]를 비교\n",
    "        - 여러 집단 간에 차이 비교 : 기준은 **전체 평균**\n",
    "        \n",
    "        - 값이 대략 2~3이상이면 차이가 있다고 판단 ⇒ 데이터 간 관련이 있다\n",
    "        \n",
    "        ※ 주의 : 분산 분석은 전체 평균 대비 각 그룹 간 차이가 있는 지만 알려줌.\n",
    "        \n",
    "    \n",
    "\n",
    "### 요약 : 범주 vs 숫자\n",
    "\n",
    "**Focus** : 평균 비교\n",
    "\n",
    "**시각화** : 평균 비교 barplot(sns.barplot)\n",
    "\n",
    "- 평균과 신뢰 구간 비교\n",
    "\n",
    "**수치화** : 상관분석\n",
    "\n",
    "- 범주 2개 : t-test\n",
    "    - 두 범주 간에 평균 비교\n",
    "    - t-통계량 : -2보다 작거나, 2보다 크면 관계가 있다고 판단\n",
    "    - p-value : 0.05보다 작으면 관계가 있다고 판단\n",
    "- 범주가 3개 이상 : 분산 분석 (ANOVA)\n",
    "    - [전체 평균과 각 범주의 평균의 차이(분산)] / [각 범주 내 분산]\n",
    "    - f-통계량 : 2~3보다 크면 관계가 있다고 판단\n",
    "    - p-value : 0.05보다 작으면 관계가 있다고 판단"
   ]
  },
  {
   "cell_type": "markdown",
   "id": "f55a4664",
   "metadata": {},
   "source": [
    "# 0. 환경 준비"
   ]
  },
  {
   "cell_type": "code",
   "execution_count": 2,
   "id": "85987521",
   "metadata": {},
   "outputs": [
    {
     "data": {
      "text/html": [
       "<div>\n",
       "<style scoped>\n",
       "    .dataframe tbody tr th:only-of-type {\n",
       "        vertical-align: middle;\n",
       "    }\n",
       "\n",
       "    .dataframe tbody tr th {\n",
       "        vertical-align: top;\n",
       "    }\n",
       "\n",
       "    .dataframe thead th {\n",
       "        text-align: right;\n",
       "    }\n",
       "</style>\n",
       "<table border=\"1\" class=\"dataframe\">\n",
       "  <thead>\n",
       "    <tr style=\"text-align: right;\">\n",
       "      <th></th>\n",
       "      <th>PassengerId</th>\n",
       "      <th>Survived</th>\n",
       "      <th>Pclass</th>\n",
       "      <th>Name</th>\n",
       "      <th>Sex</th>\n",
       "      <th>Age</th>\n",
       "      <th>SibSp</th>\n",
       "      <th>Parch</th>\n",
       "      <th>Ticket</th>\n",
       "      <th>Fare</th>\n",
       "      <th>Cabin</th>\n",
       "      <th>Embarked</th>\n",
       "    </tr>\n",
       "  </thead>\n",
       "  <tbody>\n",
       "    <tr>\n",
       "      <th>0</th>\n",
       "      <td>1</td>\n",
       "      <td>0</td>\n",
       "      <td>3</td>\n",
       "      <td>Braund, Mr. Owen Harris</td>\n",
       "      <td>male</td>\n",
       "      <td>22.0</td>\n",
       "      <td>1</td>\n",
       "      <td>0</td>\n",
       "      <td>A/5 21171</td>\n",
       "      <td>7.2500</td>\n",
       "      <td>NaN</td>\n",
       "      <td>S</td>\n",
       "    </tr>\n",
       "    <tr>\n",
       "      <th>1</th>\n",
       "      <td>2</td>\n",
       "      <td>1</td>\n",
       "      <td>1</td>\n",
       "      <td>Cumings, Mrs. John Bradley (Florence Briggs Th...</td>\n",
       "      <td>female</td>\n",
       "      <td>38.0</td>\n",
       "      <td>1</td>\n",
       "      <td>0</td>\n",
       "      <td>PC 17599</td>\n",
       "      <td>71.2833</td>\n",
       "      <td>C85</td>\n",
       "      <td>C</td>\n",
       "    </tr>\n",
       "    <tr>\n",
       "      <th>2</th>\n",
       "      <td>3</td>\n",
       "      <td>1</td>\n",
       "      <td>3</td>\n",
       "      <td>Heikkinen, Miss. Laina</td>\n",
       "      <td>female</td>\n",
       "      <td>26.0</td>\n",
       "      <td>0</td>\n",
       "      <td>0</td>\n",
       "      <td>STON/O2. 3101282</td>\n",
       "      <td>7.9250</td>\n",
       "      <td>NaN</td>\n",
       "      <td>S</td>\n",
       "    </tr>\n",
       "    <tr>\n",
       "      <th>3</th>\n",
       "      <td>4</td>\n",
       "      <td>1</td>\n",
       "      <td>1</td>\n",
       "      <td>Futrelle, Mrs. Jacques Heath (Lily May Peel)</td>\n",
       "      <td>female</td>\n",
       "      <td>35.0</td>\n",
       "      <td>1</td>\n",
       "      <td>0</td>\n",
       "      <td>113803</td>\n",
       "      <td>53.1000</td>\n",
       "      <td>C123</td>\n",
       "      <td>S</td>\n",
       "    </tr>\n",
       "    <tr>\n",
       "      <th>4</th>\n",
       "      <td>5</td>\n",
       "      <td>0</td>\n",
       "      <td>3</td>\n",
       "      <td>Allen, Mr. William Henry</td>\n",
       "      <td>male</td>\n",
       "      <td>35.0</td>\n",
       "      <td>0</td>\n",
       "      <td>0</td>\n",
       "      <td>373450</td>\n",
       "      <td>8.0500</td>\n",
       "      <td>NaN</td>\n",
       "      <td>S</td>\n",
       "    </tr>\n",
       "  </tbody>\n",
       "</table>\n",
       "</div>"
      ],
      "text/plain": [
       "   PassengerId  Survived  Pclass  \\\n",
       "0            1         0       3   \n",
       "1            2         1       1   \n",
       "2            3         1       3   \n",
       "3            4         1       1   \n",
       "4            5         0       3   \n",
       "\n",
       "                                                Name     Sex   Age  SibSp  \\\n",
       "0                            Braund, Mr. Owen Harris    male  22.0      1   \n",
       "1  Cumings, Mrs. John Bradley (Florence Briggs Th...  female  38.0      1   \n",
       "2                             Heikkinen, Miss. Laina  female  26.0      0   \n",
       "3       Futrelle, Mrs. Jacques Heath (Lily May Peel)  female  35.0      1   \n",
       "4                           Allen, Mr. William Henry    male  35.0      0   \n",
       "\n",
       "   Parch            Ticket     Fare Cabin Embarked  \n",
       "0      0         A/5 21171   7.2500   NaN        S  \n",
       "1      0          PC 17599  71.2833   C85        C  \n",
       "2      0  STON/O2. 3101282   7.9250   NaN        S  \n",
       "3      0            113803  53.1000  C123        S  \n",
       "4      0            373450   8.0500   NaN        S  "
      ]
     },
     "execution_count": 2,
     "metadata": {},
     "output_type": "execute_result"
    }
   ],
   "source": [
    "import pandas as pd\n",
    "import numpy as np\n",
    "\n",
    "import matplotlib.pyplot as plt\n",
    "import seaborn as sns\n",
    "\n",
    "import scipy.stats as spst\n",
    "\n",
    "# 타이타닉 데이터\n",
    "titanic = pd.read_csv('https://raw.githubusercontent.com/DA4BAM/dataset/master/titanic.0.csv')\n",
    "titanic.head()"
   ]
  },
  {
   "cell_type": "markdown",
   "id": "9570febe",
   "metadata": {},
   "source": [
    "# 1. 시각화 (범주가 2개일 경우)"
   ]
  },
  {
   "cell_type": "code",
   "execution_count": 3,
   "id": "188ef8f8",
   "metadata": {},
   "outputs": [
    {
     "data": {
      "image/png": "[encoded data removed]",
      "text/plain": [
       "<Figure size 640x480 with 1 Axes>"
      ]
     },
     "metadata": {},
     "output_type": "display_data"
    }
   ],
   "source": [
    "sns.barplot(x=\"Survived\", y=\"Age\", data=titanic)\n",
    "plt.grid()\n",
    "plt.show()"
   ]
  },
  {
   "cell_type": "markdown",
   "id": "af7d067e",
   "metadata": {},
   "source": [
    "# 2. 수치화 (범주가 2개일 경우)\n",
    "\n",
    "- t-test : 두 집단의 평균을 비교한다"
   ]
  },
  {
   "cell_type": "code",
   "execution_count": 5,
   "id": "2f0a433d",
   "metadata": {},
   "outputs": [
    {
     "data": {
      "text/plain": [
       "PassengerId      0\n",
       "Survived         0\n",
       "Pclass           0\n",
       "Name             0\n",
       "Sex              0\n",
       "Age            177\n",
       "SibSp            0\n",
       "Parch            0\n",
       "Ticket           0\n",
       "Fare             0\n",
       "Cabin          687\n",
       "Embarked         2\n",
       "dtype: int64"
      ]
     },
     "execution_count": 5,
     "metadata": {},
     "output_type": "execute_result"
    }
   ],
   "source": [
    "# 먼저 NaN이 있는지 확인 !\n",
    "titanic.isna().sum()"
   ]
  },
  {
   "cell_type": "code",
   "execution_count": 6,
   "id": "78f9b817",
   "metadata": {},
   "outputs": [
    {
     "data": {
      "text/plain": [
       "Ttest_indResult(statistic=-2.06668694625381, pvalue=0.03912465401348249)"
      ]
     },
     "execution_count": 6,
     "metadata": {},
     "output_type": "execute_result"
    }
   ],
   "source": [
    "# NaN 행 제외\n",
    "temp = titanic.loc[titanic['Age'].notnull()]\n",
    "\n",
    "# 두 그룹으로 데이터 저장\n",
    "died = temp.loc[temp['Survived']==0, 'Age']\n",
    "survived = temp.loc[temp['Survived']==1, 'Age']\n",
    "\n",
    "# t-test 실행\n",
    "spst.ttest_ind(survived, died)"
   ]
  },
  {
   "cell_type": "markdown",
   "id": "f0aac8df",
   "metadata": {},
   "source": [
    "# 3. 시각화 (범주가 3개 이상일 경우)"
   ]
  },
  {
   "cell_type": "code",
   "execution_count": 7,
   "id": "3d94cbdc",
   "metadata": {},
   "outputs": [
    {
     "data": {
      "image/png": "[encoded data removed]",
      "text/plain": [
       "<Figure size 640x480 with 1 Axes>"
      ]
     },
     "metadata": {},
     "output_type": "display_data"
    }
   ],
   "source": [
    "# Pclass(3 범주) --> Age\n",
    "sns.barplot(x=\"Pclass\", y=\"Age\", data=titanic)\n",
    "plt.grid()\n",
    "plt.show()"
   ]
  },
  {
   "cell_type": "markdown",
   "id": "17ddb3b9",
   "metadata": {},
   "source": [
    "# 4. 수치화 (범주가 3개 이상일 경우)"
   ]
  },
  {
   "cell_type": "code",
   "execution_count": 8,
   "id": "4de9531f",
   "metadata": {},
   "outputs": [
    {
     "data": {
      "text/plain": [
       "F_onewayResult(statistic=57.443484340676214, pvalue=7.487984171959904e-24)"
      ]
     },
     "execution_count": 8,
     "metadata": {},
     "output_type": "execute_result"
    }
   ],
   "source": [
    "# 1) 분산 분석을 위한 데이터 만들기\n",
    "# NaN 행 제외\n",
    "temp = titanic.loc[titanic['Age'].notnull()]\n",
    "# 그룹별 저장\n",
    "P_1 = temp.loc[temp.Pclass == 1, 'Age']\n",
    "P_2 = temp.loc[temp.Pclass == 2, 'Age']\n",
    "P_3 = temp.loc[temp.Pclass == 3, 'Age']\n",
    "\n",
    "spst.f_oneway(P_1, P_2, P_3)"
   ]
  },
  {
   "cell_type": "code",
   "execution_count": null,
   "id": "d8b7643f",
   "metadata": {},
   "outputs": [],
   "source": []
  },
  {
   "cell_type": "code",
   "execution_count": null,
   "id": "cd09976d",
   "metadata": {},
   "outputs": [],
   "source": []
  },
  {
   "cell_type": "code",
   "execution_count": null,
   "id": "1798911c",
   "metadata": {},
   "outputs": [],
   "source": []
  }
 ],
 "metadata": {
  "kernelspec": {
   "display_name": "Python 3 (ipykernel)",
   "language": "python",
   "name": "python3"
  },
  "language_info": {
   "codemirror_mode": {
    "name": "ipython",
    "version": 3
   },
   "file_extension": ".py",
   "mimetype": "text/x-python",
   "name": "python",
   "nbconvert_exporter": "python",
   "pygments_lexer": "ipython3",
   "version": "3.11.3"
  }
 },
 "nbformat": 4,
 "nbformat_minor": 5
}
