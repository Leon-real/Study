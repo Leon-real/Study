{
 "cells": [
  {
   "cell_type": "markdown",
   "id": "2c776c79",
   "metadata": {},
   "source": [
    "# [활용] 자연어 처리 : 영화 리뷰 분석하기"
   ]
  },
  {
   "cell_type": "code",
   "execution_count": 17,
   "id": "e7dfbb1e",
   "metadata": {},
   "outputs": [],
   "source": [
    "import os\n",
    "import re\n",
    "\n",
    "import pandas as pd\n",
    "import numpy as np\n",
    "\n",
    "import tensorflow as tf\n",
    "from tensorflow.keras import utils\n",
    "\n",
    "from keras.models import Sequential # keras 모델 만들기\n",
    "from keras.layers import Dense # keras 레이어를 쌓기\n",
    "\n",
    "from sklearn.feature_extraction.text import TfidfVectorizer # 문자열 벡터 변환\n",
    "from sklearn.model_selection import train_test_split # 데이터를 train과 test로 분리하기\n",
    "\n",
    "from bs4 import BeautifulSoup # 혹시 모를 html 태그 제거를 위해 사용할 예정"
   ]
  },
  {
   "cell_type": "markdown",
   "id": "1afdcb6b",
   "metadata": {},
   "source": [
    "# 데이터 셋 다운"
   ]
  },
  {
   "cell_type": "code",
   "execution_count": 2,
   "id": "ba5f01d2",
   "metadata": {},
   "outputs": [],
   "source": [
    "# 데이터 셋 다운 받기\n",
    "data_set = tf.keras.utils.get_file(fname=\"imdb.tar.gz\",\n",
    "                                    origin = 'http://ai.stanford.edu/~amaas/data/sentiment/aclImdb_v1.tar.gz',\n",
    "                                    extract = True)"
   ]
  },
  {
   "cell_type": "markdown",
   "id": "7724f135",
   "metadata": {},
   "source": [
    "# 데이터 셋으로 데이터 프레임 만들기\n",
    "##### 데이터 셋 구성\n",
    "- data_set(폴더)\n",
    "    - aclImdb(폴더)\n",
    "        - train(폴더)\n",
    "            - pos(폴더)\n",
    "            - neg(폴더)\n",
    "        - test(폴더)\n",
    "            - pos(폴더)\n",
    "            - neg(폴더)"
   ]
  },
  {
   "cell_type": "markdown",
   "id": "f8c5d605",
   "metadata": {},
   "source": [
    "##### 함수 정의하기"
   ]
  },
  {
   "cell_type": "code",
   "execution_count": 3,
   "id": "b051b0bb",
   "metadata": {},
   "outputs": [],
   "source": [
    "# 데이터 읽고 데이터 프레임 만들기 함수\n",
    "def directory_data(directory):\n",
    "    data={}\n",
    "    data['review']=[]\n",
    "    \n",
    "    for file_path in os.listdir(directory):\n",
    "        with open(os.path.join(directory, file_path), 'r', encoding='utf=8') as file: # 파일 읽기\n",
    "            data['review'].append(file.read()) # data['review']에 내용 저장하기\n",
    "    return pd.DataFrame.from_dict(data) # 데이터 프레임 반환하기\n",
    "\n",
    "# 긍정, 부정 데이터 프레임 만들기\n",
    "def make_data(directory):\n",
    "    pos_df = directory_data(os.path.join(directory, 'pos')) # 긍정적 데이터 프레임\n",
    "    neg_df = directory_data(os.path.join(directory, 'neg')) # 부정적 데이터 프레임\n",
    "    \n",
    "    pos_df['sentiment']=1\n",
    "    neg_df['sentiment']=0\n",
    "    \n",
    "    return pd.concat([pos_df, neg_df])"
   ]
  },
  {
   "cell_type": "markdown",
   "id": "3ebdda74",
   "metadata": {},
   "source": [
    "##### Train, Test폴더 안에 데이터를 데이터 프레임 저장하기"
   ]
  },
  {
   "cell_type": "code",
   "execution_count": 4,
   "id": "90a75a1e",
   "metadata": {},
   "outputs": [],
   "source": [
    "train_df = make_data(os.path.join(os.path.dirname(data_set),\"aclImdb\",\"train\"))\n",
    "test_df = make_data(os.path.join(os.path.dirname(data_set),\"aclImdb\",\"test\"))"
   ]
  },
  {
   "cell_type": "markdown",
   "id": "77f9a535",
   "metadata": {},
   "source": [
    "##### 분리된 데이터 확인하기"
   ]
  },
  {
   "cell_type": "code",
   "execution_count": 5,
   "id": "00d55678",
   "metadata": {},
   "outputs": [
    {
     "data": {
      "text/html": [
       "<div>\n",
       "<style scoped>\n",
       "    .dataframe tbody tr th:only-of-type {\n",
       "        vertical-align: middle;\n",
       "    }\n",
       "\n",
       "    .dataframe tbody tr th {\n",
       "        vertical-align: top;\n",
       "    }\n",
       "\n",
       "    .dataframe thead th {\n",
       "        text-align: right;\n",
       "    }\n",
       "</style>\n",
       "<table border=\"1\" class=\"dataframe\">\n",
       "  <thead>\n",
       "    <tr style=\"text-align: right;\">\n",
       "      <th></th>\n",
       "      <th>review</th>\n",
       "      <th>sentiment</th>\n",
       "    </tr>\n",
       "  </thead>\n",
       "  <tbody>\n",
       "    <tr>\n",
       "      <th>0</th>\n",
       "      <td>I went and saw this movie last night after bei...</td>\n",
       "      <td>1</td>\n",
       "    </tr>\n",
       "    <tr>\n",
       "      <th>1</th>\n",
       "      <td>Actor turned director Bill Paxton follows up h...</td>\n",
       "      <td>1</td>\n",
       "    </tr>\n",
       "    <tr>\n",
       "      <th>2</th>\n",
       "      <td>As a recreational golfer with some knowledge o...</td>\n",
       "      <td>1</td>\n",
       "    </tr>\n",
       "    <tr>\n",
       "      <th>3</th>\n",
       "      <td>I saw this film in a sneak preview, and it is ...</td>\n",
       "      <td>1</td>\n",
       "    </tr>\n",
       "    <tr>\n",
       "      <th>4</th>\n",
       "      <td>Bill Paxton has taken the true story of the 19...</td>\n",
       "      <td>1</td>\n",
       "    </tr>\n",
       "  </tbody>\n",
       "</table>\n",
       "</div>"
      ],
      "text/plain": [
       "                                              review  sentiment\n",
       "0  I went and saw this movie last night after bei...          1\n",
       "1  Actor turned director Bill Paxton follows up h...          1\n",
       "2  As a recreational golfer with some knowledge o...          1\n",
       "3  I saw this film in a sneak preview, and it is ...          1\n",
       "4  Bill Paxton has taken the true story of the 19...          1"
      ]
     },
     "execution_count": 5,
     "metadata": {},
     "output_type": "execute_result"
    }
   ],
   "source": [
    "test_df.head()"
   ]
  },
  {
   "cell_type": "markdown",
   "id": "7981fb3f",
   "metadata": {},
   "source": [
    "# 데이터 내용 분석하기"
   ]
  },
  {
   "cell_type": "code",
   "execution_count": 6,
   "id": "9d749d3a",
   "metadata": {},
   "outputs": [],
   "source": [
    "import matplotlib.pyplot as plt"
   ]
  },
  {
   "cell_type": "code",
   "execution_count": 7,
   "id": "957e82d0",
   "metadata": {},
   "outputs": [],
   "source": [
    "reviews = list(train_df['review'])\n",
    "tokenized_reviews = [r.split() for r in reviews] # 문장별 띄어쓰기를 기준으로 단어 분리해주기\n",
    "\n",
    "review_len_by_words = [len(t) for t in tokenized_reviews] # 문장별 토큰별 길이값 저장\n",
    "review_len_by_alphabet = [len(s.replace(\" \",'')) for s in reviews] # 문장별 글자의 개수 저장"
   ]
  },
  {
   "cell_type": "markdown",
   "id": "740e044e",
   "metadata": {},
   "source": [
    "##### 시각화"
   ]
  },
  {
   "cell_type": "code",
   "execution_count": 8,
   "id": "bd135129",
   "metadata": {},
   "outputs": [
    {
     "data": {
      "image/png": "[encoded data removed]",
      "text/plain": [
       "<Figure size 1200x500 with 1 Axes>"
      ]
     },
     "metadata": {},
     "output_type": "display_data"
    }
   ],
   "source": [
    "plt.figure(figsize=(12,5))\n",
    "\n",
    "plt.hist(review_len_by_words, bins=50, alpha=0.5, color='r')\n",
    "plt.hist(review_len_by_alphabet, bins=50, alpha=0.5, color='b')\n",
    "plt.yscale('log')\n",
    "plt.title(\"Review Length Histogram\")\n",
    "plt.xlabel('Review Length')\n",
    "plt.ylabel(\"Number of Reviews\")\n",
    "plt.show()"
   ]
  },
  {
   "cell_type": "markdown",
   "id": "457a5f2e",
   "metadata": {},
   "source": [
    "##### 문장 분석"
   ]
  },
  {
   "cell_type": "code",
   "execution_count": 9,
   "id": "65a3aa97",
   "metadata": {},
   "outputs": [
    {
     "name": "stdout",
     "output_type": "stream",
     "text": [
      "문장안 단어의 최대 갯수 : 2470\n",
      "문장안 단어의 최대 갯수 : 10\n",
      "문장안 단어의 갯수의 평균 길이 : 233.7872\n",
      "문장안 단어의 갯수 표준편차 : 173.72955740506566\n",
      "문장안 단어 갯수의 중간값 : 174.0\n",
      "문장안 단어 갯수의 하위 10% 길이 : 91.0\n"
     ]
    }
   ],
   "source": [
    "print(f\"문장안 단어의 최대 갯수 : {np.max(review_len_by_words)}\")\n",
    "print(f\"문장안 단어의 최대 갯수 : {np.min(review_len_by_words)}\")\n",
    "print(f\"문장안 단어의 갯수의 평균 길이 : {np.mean(review_len_by_words)}\")\n",
    "print(f\"문장안 단어의 갯수 표준편차 : {np.std(review_len_by_words)}\")\n",
    "print(f\"문장안 단어 갯수의 중간값 : {np.median(review_len_by_words)}\")\n",
    "print(f\"문장안 단어 갯수의 하위 10% 길이 : {np.percentile(review_len_by_words, 10)}\")"
   ]
  },
  {
   "cell_type": "markdown",
   "id": "ffcc63c7",
   "metadata": {},
   "source": [
    "##### 분리된 train_df, test_df 데이터 프레임 합치기"
   ]
  },
  {
   "cell_type": "code",
   "execution_count": 19,
   "id": "d8cbc9ce",
   "metadata": {},
   "outputs": [
    {
     "data": {
      "text/html": [
       "<div>\n",
       "<style scoped>\n",
       "    .dataframe tbody tr th:only-of-type {\n",
       "        vertical-align: middle;\n",
       "    }\n",
       "\n",
       "    .dataframe tbody tr th {\n",
       "        vertical-align: top;\n",
       "    }\n",
       "\n",
       "    .dataframe thead th {\n",
       "        text-align: right;\n",
       "    }\n",
       "</style>\n",
       "<table border=\"1\" class=\"dataframe\">\n",
       "  <thead>\n",
       "    <tr style=\"text-align: right;\">\n",
       "      <th></th>\n",
       "      <th>review</th>\n",
       "      <th>sentiment</th>\n",
       "    </tr>\n",
       "  </thead>\n",
       "  <tbody>\n",
       "    <tr>\n",
       "      <th>0</th>\n",
       "      <td>Bromwell High is a cartoon comedy. It ran at t...</td>\n",
       "      <td>1</td>\n",
       "    </tr>\n",
       "    <tr>\n",
       "      <th>1</th>\n",
       "      <td>Homelessness (or Houselessness as George Carli...</td>\n",
       "      <td>1</td>\n",
       "    </tr>\n",
       "    <tr>\n",
       "      <th>2</th>\n",
       "      <td>Brilliant over-acting by Lesley Ann Warren. Be...</td>\n",
       "      <td>1</td>\n",
       "    </tr>\n",
       "    <tr>\n",
       "      <th>3</th>\n",
       "      <td>This is easily the most underrated film inn th...</td>\n",
       "      <td>1</td>\n",
       "    </tr>\n",
       "    <tr>\n",
       "      <th>4</th>\n",
       "      <td>This is not the typical Mel Brooks film. It wa...</td>\n",
       "      <td>1</td>\n",
       "    </tr>\n",
       "    <tr>\n",
       "      <th>...</th>\n",
       "      <td>...</td>\n",
       "      <td>...</td>\n",
       "    </tr>\n",
       "    <tr>\n",
       "      <th>12495</th>\n",
       "      <td>I occasionally let my kids watch this garbage ...</td>\n",
       "      <td>0</td>\n",
       "    </tr>\n",
       "    <tr>\n",
       "      <th>12496</th>\n",
       "      <td>When all we have anymore is pretty much realit...</td>\n",
       "      <td>0</td>\n",
       "    </tr>\n",
       "    <tr>\n",
       "      <th>12497</th>\n",
       "      <td>The basic genre is a thriller intercut with an...</td>\n",
       "      <td>0</td>\n",
       "    </tr>\n",
       "    <tr>\n",
       "      <th>12498</th>\n",
       "      <td>Four things intrigued me as to this film - fir...</td>\n",
       "      <td>0</td>\n",
       "    </tr>\n",
       "    <tr>\n",
       "      <th>12499</th>\n",
       "      <td>David Bryce's comments nearby are exceptionall...</td>\n",
       "      <td>0</td>\n",
       "    </tr>\n",
       "  </tbody>\n",
       "</table>\n",
       "<p>50000 rows × 2 columns</p>\n",
       "</div>"
      ],
      "text/plain": [
       "                                                  review  sentiment\n",
       "0      Bromwell High is a cartoon comedy. It ran at t...          1\n",
       "1      Homelessness (or Houselessness as George Carli...          1\n",
       "2      Brilliant over-acting by Lesley Ann Warren. Be...          1\n",
       "3      This is easily the most underrated film inn th...          1\n",
       "4      This is not the typical Mel Brooks film. It wa...          1\n",
       "...                                                  ...        ...\n",
       "12495  I occasionally let my kids watch this garbage ...          0\n",
       "12496  When all we have anymore is pretty much realit...          0\n",
       "12497  The basic genre is a thriller intercut with an...          0\n",
       "12498  Four things intrigued me as to this film - fir...          0\n",
       "12499  David Bryce's comments nearby are exceptionall...          0\n",
       "\n",
       "[50000 rows x 2 columns]"
      ]
     },
     "execution_count": 19,
     "metadata": {},
     "output_type": "execute_result"
    }
   ],
   "source": [
    "imdb_pd = pd.concat([train_df, test_df])\n",
    "imdb_pd"
   ]
  },
  {
   "cell_type": "markdown",
   "id": "239f82fe",
   "metadata": {},
   "source": [
    "##### 불용어 처리하기"
   ]
  },
  {
   "cell_type": "code",
   "execution_count": 24,
   "id": "42777e62",
   "metadata": {},
   "outputs": [
    {
     "name": "stderr",
     "output_type": "stream",
     "text": [
      "[nltk_data] Downloading package stopwords to\n",
      "[nltk_data]     C:\\Users\\user\\AppData\\Roaming\\nltk_data...\n",
      "[nltk_data]   Package stopwords is already up-to-date!\n"
     ]
    },
    {
     "data": {
      "text/plain": [
       "{'a',\n",
       " 'about',\n",
       " 'above',\n",
       " 'after',\n",
       " 'again',\n",
       " 'against',\n",
       " 'ain',\n",
       " 'all',\n",
       " 'am',\n",
       " 'an',\n",
       " 'and',\n",
       " 'any',\n",
       " 'are',\n",
       " 'aren',\n",
       " \"aren't\",\n",
       " 'as',\n",
       " 'at',\n",
       " 'be',\n",
       " 'because',\n",
       " 'been',\n",
       " 'before',\n",
       " 'being',\n",
       " 'below',\n",
       " 'between',\n",
       " 'both',\n",
       " 'but',\n",
       " 'by',\n",
       " 'can',\n",
       " 'couldn',\n",
       " \"couldn't\",\n",
       " 'd',\n",
       " 'did',\n",
       " 'didn',\n",
       " \"didn't\",\n",
       " 'do',\n",
       " 'does',\n",
       " 'doesn',\n",
       " \"doesn't\",\n",
       " 'doing',\n",
       " 'don',\n",
       " \"don't\",\n",
       " 'down',\n",
       " 'during',\n",
       " 'each',\n",
       " 'few',\n",
       " 'for',\n",
       " 'from',\n",
       " 'further',\n",
       " 'had',\n",
       " 'hadn',\n",
       " \"hadn't\",\n",
       " 'has',\n",
       " 'hasn',\n",
       " \"hasn't\",\n",
       " 'have',\n",
       " 'haven',\n",
       " \"haven't\",\n",
       " 'having',\n",
       " 'he',\n",
       " 'her',\n",
       " 'here',\n",
       " 'hers',\n",
       " 'herself',\n",
       " 'him',\n",
       " 'himself',\n",
       " 'his',\n",
       " 'how',\n",
       " 'i',\n",
       " 'if',\n",
       " 'in',\n",
       " 'into',\n",
       " 'is',\n",
       " 'isn',\n",
       " \"isn't\",\n",
       " 'it',\n",
       " \"it's\",\n",
       " 'its',\n",
       " 'itself',\n",
       " 'just',\n",
       " 'll',\n",
       " 'm',\n",
       " 'ma',\n",
       " 'me',\n",
       " 'mightn',\n",
       " \"mightn't\",\n",
       " 'more',\n",
       " 'most',\n",
       " 'mustn',\n",
       " \"mustn't\",\n",
       " 'my',\n",
       " 'myself',\n",
       " 'needn',\n",
       " \"needn't\",\n",
       " 'no',\n",
       " 'nor',\n",
       " 'not',\n",
       " 'now',\n",
       " 'o',\n",
       " 'of',\n",
       " 'off',\n",
       " 'on',\n",
       " 'once',\n",
       " 'only',\n",
       " 'or',\n",
       " 'other',\n",
       " 'our',\n",
       " 'ours',\n",
       " 'ourselves',\n",
       " 'out',\n",
       " 'over',\n",
       " 'own',\n",
       " 're',\n",
       " 's',\n",
       " 'same',\n",
       " 'shan',\n",
       " \"shan't\",\n",
       " 'she',\n",
       " \"she's\",\n",
       " 'should',\n",
       " \"should've\",\n",
       " 'shouldn',\n",
       " \"shouldn't\",\n",
       " 'so',\n",
       " 'some',\n",
       " 'such',\n",
       " 't',\n",
       " 'than',\n",
       " 'that',\n",
       " \"that'll\",\n",
       " 'the',\n",
       " 'their',\n",
       " 'theirs',\n",
       " 'them',\n",
       " 'themselves',\n",
       " 'then',\n",
       " 'there',\n",
       " 'these',\n",
       " 'they',\n",
       " 'this',\n",
       " 'those',\n",
       " 'through',\n",
       " 'to',\n",
       " 'too',\n",
       " 'under',\n",
       " 'until',\n",
       " 'up',\n",
       " 've',\n",
       " 'very',\n",
       " 'was',\n",
       " 'wasn',\n",
       " \"wasn't\",\n",
       " 'we',\n",
       " 'were',\n",
       " 'weren',\n",
       " \"weren't\",\n",
       " 'what',\n",
       " 'when',\n",
       " 'where',\n",
       " 'which',\n",
       " 'while',\n",
       " 'who',\n",
       " 'whom',\n",
       " 'why',\n",
       " 'will',\n",
       " 'with',\n",
       " 'won',\n",
       " \"won't\",\n",
       " 'wouldn',\n",
       " \"wouldn't\",\n",
       " 'y',\n",
       " 'you',\n",
       " \"you'd\",\n",
       " \"you'll\",\n",
       " \"you're\",\n",
       " \"you've\",\n",
       " 'your',\n",
       " 'yours',\n",
       " 'yourself',\n",
       " 'yourselves'}"
      ]
     },
     "execution_count": 24,
     "metadata": {},
     "output_type": "execute_result"
    }
   ],
   "source": [
    "from nltk.corpus import stopwords # 불용어 사전을 가져오기\n",
    "import nltk\n",
    "\n",
    "nltk.download('stopwords') # 불용어(stopwords)를 다운 받기\n",
    "stop_words = set(stopwords.words('english')) # 영어로된 불용어 set로 만들기\n",
    "stop_words"
   ]
  },
  {
   "cell_type": "markdown",
   "id": "053b4693",
   "metadata": {},
   "source": [
    "##### 불용어 처리 함수 정의하기"
   ]
  },
  {
   "cell_type": "code",
   "execution_count": 28,
   "id": "a39a0044",
   "metadata": {},
   "outputs": [],
   "source": [
    "def preprocessing(review, remove_stopwords=True):\n",
    "    review_text = BeautifulSoup(review, 'html5lib').get_text() # html 태크 제거\n",
    "    review_text = re.sub(\"[^a-zA-Z]\", \" \", review_text)\n",
    "    if remove_stopwords:\n",
    "        words = review_text.split()\n",
    "        words = [w for w in words if not w in stop_words]\n",
    "        review_text = ' '.join(words)\n",
    "    return review_text"
   ]
  },
  {
   "cell_type": "code",
   "execution_count": 34,
   "id": "54fec932",
   "metadata": {},
   "outputs": [
    {
     "name": "stderr",
     "output_type": "stream",
     "text": [
      "C:\\Users\\user\\AppData\\Local\\Temp\\ipykernel_13216\\752022826.py:2: MarkupResemblesLocatorWarning: The input looks more like a filename than markup. You may want to open this file and pass the filehandle into Beautiful Soup.\n",
      "  review_text = BeautifulSoup(review, 'html5lib').get_text() # html 태크 제거\n"
     ]
    }
   ],
   "source": [
    "list_reviews = list(imdb_pd['review'])\n",
    "\n",
    "list_clean_reviews = [preprocessing(r) for r in list_reviews]\n",
    "\n",
    "list_clean_reviews_df = pd.DataFrame({'review': list_clean_reviews,\n",
    "                                     'sentiment': imdb_pd['sentiment']})"
   ]
  },
  {
   "cell_type": "code",
   "execution_count": 38,
   "id": "e6219cc7",
   "metadata": {},
   "outputs": [
    {
     "data": {
      "text/html": [
       "<div>\n",
       "<style scoped>\n",
       "    .dataframe tbody tr th:only-of-type {\n",
       "        vertical-align: middle;\n",
       "    }\n",
       "\n",
       "    .dataframe tbody tr th {\n",
       "        vertical-align: top;\n",
       "    }\n",
       "\n",
       "    .dataframe thead th {\n",
       "        text-align: right;\n",
       "    }\n",
       "</style>\n",
       "<table border=\"1\" class=\"dataframe\">\n",
       "  <thead>\n",
       "    <tr style=\"text-align: right;\">\n",
       "      <th></th>\n",
       "      <th>review</th>\n",
       "      <th>sentiment</th>\n",
       "    </tr>\n",
       "  </thead>\n",
       "  <tbody>\n",
       "    <tr>\n",
       "      <th>0</th>\n",
       "      <td>Bromwell High is a cartoon comedy. It ran at t...</td>\n",
       "      <td>1</td>\n",
       "    </tr>\n",
       "    <tr>\n",
       "      <th>1</th>\n",
       "      <td>Homelessness (or Houselessness as George Carli...</td>\n",
       "      <td>1</td>\n",
       "    </tr>\n",
       "    <tr>\n",
       "      <th>2</th>\n",
       "      <td>Brilliant over-acting by Lesley Ann Warren. Be...</td>\n",
       "      <td>1</td>\n",
       "    </tr>\n",
       "    <tr>\n",
       "      <th>3</th>\n",
       "      <td>This is easily the most underrated film inn th...</td>\n",
       "      <td>1</td>\n",
       "    </tr>\n",
       "    <tr>\n",
       "      <th>4</th>\n",
       "      <td>This is not the typical Mel Brooks film. It wa...</td>\n",
       "      <td>1</td>\n",
       "    </tr>\n",
       "    <tr>\n",
       "      <th>...</th>\n",
       "      <td>...</td>\n",
       "      <td>...</td>\n",
       "    </tr>\n",
       "    <tr>\n",
       "      <th>12495</th>\n",
       "      <td>I occasionally let my kids watch this garbage ...</td>\n",
       "      <td>0</td>\n",
       "    </tr>\n",
       "    <tr>\n",
       "      <th>12496</th>\n",
       "      <td>When all we have anymore is pretty much realit...</td>\n",
       "      <td>0</td>\n",
       "    </tr>\n",
       "    <tr>\n",
       "      <th>12497</th>\n",
       "      <td>The basic genre is a thriller intercut with an...</td>\n",
       "      <td>0</td>\n",
       "    </tr>\n",
       "    <tr>\n",
       "      <th>12498</th>\n",
       "      <td>Four things intrigued me as to this film - fir...</td>\n",
       "      <td>0</td>\n",
       "    </tr>\n",
       "    <tr>\n",
       "      <th>12499</th>\n",
       "      <td>David Bryce's comments nearby are exceptionall...</td>\n",
       "      <td>0</td>\n",
       "    </tr>\n",
       "  </tbody>\n",
       "</table>\n",
       "<p>50000 rows × 2 columns</p>\n",
       "</div>"
      ],
      "text/plain": [
       "                                                  review  sentiment\n",
       "0      Bromwell High is a cartoon comedy. It ran at t...          1\n",
       "1      Homelessness (or Houselessness as George Carli...          1\n",
       "2      Brilliant over-acting by Lesley Ann Warren. Be...          1\n",
       "3      This is easily the most underrated film inn th...          1\n",
       "4      This is not the typical Mel Brooks film. It wa...          1\n",
       "...                                                  ...        ...\n",
       "12495  I occasionally let my kids watch this garbage ...          0\n",
       "12496  When all we have anymore is pretty much realit...          0\n",
       "12497  The basic genre is a thriller intercut with an...          0\n",
       "12498  Four things intrigued me as to this film - fir...          0\n",
       "12499  David Bryce's comments nearby are exceptionall...          0\n",
       "\n",
       "[50000 rows x 2 columns]"
      ]
     },
     "metadata": {},
     "output_type": "display_data"
    },
    {
     "data": {
      "text/html": [
       "<div>\n",
       "<style scoped>\n",
       "    .dataframe tbody tr th:only-of-type {\n",
       "        vertical-align: middle;\n",
       "    }\n",
       "\n",
       "    .dataframe tbody tr th {\n",
       "        vertical-align: top;\n",
       "    }\n",
       "\n",
       "    .dataframe thead th {\n",
       "        text-align: right;\n",
       "    }\n",
       "</style>\n",
       "<table border=\"1\" class=\"dataframe\">\n",
       "  <thead>\n",
       "    <tr style=\"text-align: right;\">\n",
       "      <th></th>\n",
       "      <th>review</th>\n",
       "      <th>sentiment</th>\n",
       "    </tr>\n",
       "  </thead>\n",
       "  <tbody>\n",
       "    <tr>\n",
       "      <th>0</th>\n",
       "      <td>Bromwell High cartoon comedy It ran time progr...</td>\n",
       "      <td>1</td>\n",
       "    </tr>\n",
       "    <tr>\n",
       "      <th>1</th>\n",
       "      <td>Homelessness Houselessness George Carlin state...</td>\n",
       "      <td>1</td>\n",
       "    </tr>\n",
       "    <tr>\n",
       "      <th>2</th>\n",
       "      <td>Brilliant acting Lesley Ann Warren Best dramat...</td>\n",
       "      <td>1</td>\n",
       "    </tr>\n",
       "    <tr>\n",
       "      <th>3</th>\n",
       "      <td>This easily underrated film inn Brooks cannon ...</td>\n",
       "      <td>1</td>\n",
       "    </tr>\n",
       "    <tr>\n",
       "      <th>4</th>\n",
       "      <td>This typical Mel Brooks film It much less slap...</td>\n",
       "      <td>1</td>\n",
       "    </tr>\n",
       "    <tr>\n",
       "      <th>...</th>\n",
       "      <td>...</td>\n",
       "      <td>...</td>\n",
       "    </tr>\n",
       "    <tr>\n",
       "      <th>12495</th>\n",
       "      <td>I occasionally let kids watch garbage understa...</td>\n",
       "      <td>0</td>\n",
       "    </tr>\n",
       "    <tr>\n",
       "      <th>12496</th>\n",
       "      <td>When anymore pretty much reality TV shows peop...</td>\n",
       "      <td>0</td>\n",
       "    </tr>\n",
       "    <tr>\n",
       "      <th>12497</th>\n",
       "      <td>The basic genre thriller intercut uncomfortabl...</td>\n",
       "      <td>0</td>\n",
       "    </tr>\n",
       "    <tr>\n",
       "      <th>12498</th>\n",
       "      <td>Four things intrigued film firstly stars Carly...</td>\n",
       "      <td>0</td>\n",
       "    </tr>\n",
       "    <tr>\n",
       "      <th>12499</th>\n",
       "      <td>David Bryce comments nearby exceptionally well...</td>\n",
       "      <td>0</td>\n",
       "    </tr>\n",
       "  </tbody>\n",
       "</table>\n",
       "<p>50000 rows × 2 columns</p>\n",
       "</div>"
      ],
      "text/plain": [
       "                                                  review  sentiment\n",
       "0      Bromwell High cartoon comedy It ran time progr...          1\n",
       "1      Homelessness Houselessness George Carlin state...          1\n",
       "2      Brilliant acting Lesley Ann Warren Best dramat...          1\n",
       "3      This easily underrated film inn Brooks cannon ...          1\n",
       "4      This typical Mel Brooks film It much less slap...          1\n",
       "...                                                  ...        ...\n",
       "12495  I occasionally let kids watch garbage understa...          0\n",
       "12496  When anymore pretty much reality TV shows peop...          0\n",
       "12497  The basic genre thriller intercut uncomfortabl...          0\n",
       "12498  Four things intrigued film firstly stars Carly...          0\n",
       "12499  David Bryce comments nearby exceptionally well...          0\n",
       "\n",
       "[50000 rows x 2 columns]"
      ]
     },
     "metadata": {},
     "output_type": "display_data"
    }
   ],
   "source": [
    "display(imdb_pd)\n",
    "display(list_clean_reviews_df)"
   ]
  },
  {
   "cell_type": "markdown",
   "id": "c8098753",
   "metadata": {},
   "source": [
    "##### 리뷰 벡터화 하기"
   ]
  },
  {
   "cell_type": "code",
   "execution_count": 43,
   "id": "25be4f45",
   "metadata": {},
   "outputs": [],
   "source": [
    "list_reviews = list(list_clean_reviews_df['review'])\n",
    "list_sentiments = list(list_clean_reviews_df['sentiment'])"
   ]
  },
  {
   "cell_type": "code",
   "execution_count": 44,
   "id": "317a967a",
   "metadata": {},
   "outputs": [],
   "source": [
    "encoder = TfidfVectorizer(max_features=5000)\n",
    "\n",
    "# 이진분류기의 입력 값 : 리뷰를 수치 벡터화 하여 만든다.\n",
    "X = encoder.fit_transform(list_reviews).toarray()\n",
    "# 이진분류기의 출력 값 : sentiment를 기반하여 수치 벡터화 한 값을 넣는다.\n",
    "y = np.array(list_sentiments) # 이미 1또는 0으로 벡터화 되어 있다."
   ]
  },
  {
   "cell_type": "markdown",
   "id": "d8ec9cb0",
   "metadata": {},
   "source": [
    "##### Train, Test 데이터 나누기"
   ]
  },
  {
   "cell_type": "code",
   "execution_count": 45,
   "id": "4b3377a4",
   "metadata": {},
   "outputs": [],
   "source": [
    "X_train, X_test, y_train, y_test = train_test_split(X, y, test_size=0.2, random_state=42)"
   ]
  },
  {
   "cell_type": "markdown",
   "id": "1cf1abaf",
   "metadata": {},
   "source": [
    "##### keras 모델 만들기(인공신경망 만들기)"
   ]
  },
  {
   "cell_type": "code",
   "execution_count": 48,
   "id": "93209dca",
   "metadata": {},
   "outputs": [],
   "source": [
    "model =  Sequential()\n",
    "\n",
    "model.add(Dense(1, activation='sigmoid')) # output layer\n",
    "\n",
    "model.compile(loss='binary_crossentropy', optimizer='sgd', metrics='accuracy')"
   ]
  },
  {
   "cell_type": "markdown",
   "id": "6bdca042",
   "metadata": {},
   "source": [
    "##### 모델 학습하기"
   ]
  },
  {
   "cell_type": "code",
   "execution_count": 50,
   "id": "20fd1dc5",
   "metadata": {},
   "outputs": [
    {
     "name": "stdout",
     "output_type": "stream",
     "text": [
      "Epoch 1/50\n",
      "1250/1250 [==============================] - 3s 2ms/step - loss: 0.6912 - accuracy: 0.5612\n",
      "Epoch 2/50\n",
      "1250/1250 [==============================] - 2s 2ms/step - loss: 0.6861 - accuracy: 0.6940\n",
      "Epoch 3/50\n",
      "1250/1250 [==============================] - 2s 2ms/step - loss: 0.6813 - accuracy: 0.7536\n",
      "Epoch 4/50\n",
      "1250/1250 [==============================] - 2s 2ms/step - loss: 0.6765 - accuracy: 0.7886\n",
      "Epoch 5/50\n",
      "1250/1250 [==============================] - 2s 2ms/step - loss: 0.6718 - accuracy: 0.8036\n",
      "Epoch 6/50\n",
      "1250/1250 [==============================] - 2s 2ms/step - loss: 0.6672 - accuracy: 0.8085\n",
      "Epoch 7/50\n",
      "1250/1250 [==============================] - 2s 2ms/step - loss: 0.6628 - accuracy: 0.8186\n",
      "Epoch 8/50\n",
      "1250/1250 [==============================] - 2s 1ms/step - loss: 0.6584 - accuracy: 0.8203\n",
      "Epoch 9/50\n",
      "1250/1250 [==============================] - 2s 1ms/step - loss: 0.6541 - accuracy: 0.8205\n",
      "Epoch 10/50\n",
      "1250/1250 [==============================] - 2s 2ms/step - loss: 0.6499 - accuracy: 0.8245\n",
      "Epoch 11/50\n",
      "1250/1250 [==============================] - 2s 1ms/step - loss: 0.6458 - accuracy: 0.8249\n",
      "Epoch 12/50\n",
      "1250/1250 [==============================] - 2s 1ms/step - loss: 0.6418 - accuracy: 0.8252\n",
      "Epoch 13/50\n",
      "1250/1250 [==============================] - 2s 2ms/step - loss: 0.6379 - accuracy: 0.8269\n",
      "Epoch 14/50\n",
      "1250/1250 [==============================] - 2s 2ms/step - loss: 0.6340 - accuracy: 0.8263\n",
      "Epoch 15/50\n",
      "1250/1250 [==============================] - 2s 2ms/step - loss: 0.6303 - accuracy: 0.8296\n",
      "Epoch 16/50\n",
      "1250/1250 [==============================] - 2s 2ms/step - loss: 0.6266 - accuracy: 0.8280\n",
      "Epoch 17/50\n",
      "1250/1250 [==============================] - 2s 1ms/step - loss: 0.6230 - accuracy: 0.8298\n",
      "Epoch 18/50\n",
      "1250/1250 [==============================] - 2s 1ms/step - loss: 0.6195 - accuracy: 0.8307\n",
      "Epoch 19/50\n",
      "1250/1250 [==============================] - 2s 1ms/step - loss: 0.6160 - accuracy: 0.8303\n",
      "Epoch 20/50\n",
      "1250/1250 [==============================] - 2s 1ms/step - loss: 0.6126 - accuracy: 0.8312\n",
      "Epoch 21/50\n",
      "1250/1250 [==============================] - 2s 2ms/step - loss: 0.6093 - accuracy: 0.8317\n",
      "Epoch 22/50\n",
      "1250/1250 [==============================] - 2s 1ms/step - loss: 0.6060 - accuracy: 0.8328\n",
      "Epoch 23/50\n",
      "1250/1250 [==============================] - 2s 2ms/step - loss: 0.6028 - accuracy: 0.8332\n",
      "Epoch 24/50\n",
      "1250/1250 [==============================] - 2s 2ms/step - loss: 0.5997 - accuracy: 0.8342\n",
      "Epoch 25/50\n",
      "1250/1250 [==============================] - 2s 1ms/step - loss: 0.5966 - accuracy: 0.8327\n",
      "Epoch 26/50\n",
      "1250/1250 [==============================] - 2s 2ms/step - loss: 0.5936 - accuracy: 0.8345\n",
      "Epoch 27/50\n",
      "1250/1250 [==============================] - 2s 2ms/step - loss: 0.5906 - accuracy: 0.8354\n",
      "Epoch 28/50\n",
      "1250/1250 [==============================] - 2s 2ms/step - loss: 0.5877 - accuracy: 0.8357\n",
      "Epoch 29/50\n",
      "1250/1250 [==============================] - 2s 1ms/step - loss: 0.5848 - accuracy: 0.8360\n",
      "Epoch 30/50\n",
      "1250/1250 [==============================] - 2s 1ms/step - loss: 0.5820 - accuracy: 0.8360\n",
      "Epoch 31/50\n",
      "1250/1250 [==============================] - 2s 2ms/step - loss: 0.5793 - accuracy: 0.8365\n",
      "Epoch 32/50\n",
      "1250/1250 [==============================] - 2s 2ms/step - loss: 0.5766 - accuracy: 0.8381\n",
      "Epoch 33/50\n",
      "1250/1250 [==============================] - 2s 2ms/step - loss: 0.5739 - accuracy: 0.8370\n",
      "Epoch 34/50\n",
      "1250/1250 [==============================] - 2s 2ms/step - loss: 0.5713 - accuracy: 0.8382\n",
      "Epoch 35/50\n",
      "1250/1250 [==============================] - 2s 2ms/step - loss: 0.5687 - accuracy: 0.8388\n",
      "Epoch 36/50\n",
      "1250/1250 [==============================] - 2s 1ms/step - loss: 0.5662 - accuracy: 0.8396\n",
      "Epoch 37/50\n",
      "1250/1250 [==============================] - 2s 1ms/step - loss: 0.5637 - accuracy: 0.8399\n",
      "Epoch 38/50\n",
      "1250/1250 [==============================] - 2s 2ms/step - loss: 0.5613 - accuracy: 0.8400\n",
      "Epoch 39/50\n",
      "1250/1250 [==============================] - 3s 2ms/step - loss: 0.5589 - accuracy: 0.8413\n",
      "Epoch 40/50\n",
      "1250/1250 [==============================] - 2s 2ms/step - loss: 0.5566 - accuracy: 0.8406\n",
      "Epoch 41/50\n",
      "1250/1250 [==============================] - 2s 2ms/step - loss: 0.5542 - accuracy: 0.8414\n",
      "Epoch 42/50\n",
      "1250/1250 [==============================] - 2s 2ms/step - loss: 0.5519 - accuracy: 0.8408\n",
      "Epoch 43/50\n",
      "1250/1250 [==============================] - 2s 2ms/step - loss: 0.5497 - accuracy: 0.8421\n",
      "Epoch 44/50\n",
      "1250/1250 [==============================] - 2s 2ms/step - loss: 0.5475 - accuracy: 0.8419\n",
      "Epoch 45/50\n",
      "1250/1250 [==============================] - 2s 2ms/step - loss: 0.5453 - accuracy: 0.8436\n",
      "Epoch 46/50\n",
      "1250/1250 [==============================] - 2s 2ms/step - loss: 0.5432 - accuracy: 0.8435\n",
      "Epoch 47/50\n",
      "1250/1250 [==============================] - 3s 2ms/step - loss: 0.5411 - accuracy: 0.8429\n",
      "Epoch 48/50\n",
      "1250/1250 [==============================] - 2s 2ms/step - loss: 0.5390 - accuracy: 0.8442\n",
      "Epoch 49/50\n",
      "1250/1250 [==============================] - 2s 1ms/step - loss: 0.5370 - accuracy: 0.8450\n",
      "Epoch 50/50\n",
      "1250/1250 [==============================] - 2s 1ms/step - loss: 0.5350 - accuracy: 0.8440\n"
     ]
    },
    {
     "data": {
      "text/plain": [
       "<keras.src.callbacks.History at 0x1c133b3ae90>"
      ]
     },
     "execution_count": 50,
     "metadata": {},
     "output_type": "execute_result"
    }
   ],
   "source": [
    "model.fit(X_train, y_train, epochs=50, verbose=1)"
   ]
  },
  {
   "cell_type": "markdown",
   "id": "faa8c994",
   "metadata": {},
   "source": [
    "##### 모델 평가하기"
   ]
  },
  {
   "cell_type": "code",
   "execution_count": 52,
   "id": "bfc069e8",
   "metadata": {},
   "outputs": [
    {
     "name": "stdout",
     "output_type": "stream",
     "text": [
      "313/313 [==============================] - 1s 1ms/step - loss: 0.5364 - accuracy: 0.8444\n",
      "Accuracy : 0.8443999886512756\n"
     ]
    }
   ],
   "source": [
    "_,accuracy =  model.evaluate(X_test, y_test)\n",
    "print(f\"Accuracy : {accuracy}\")"
   ]
  },
  {
   "cell_type": "code",
   "execution_count": null,
   "id": "d2ff9eac",
   "metadata": {},
   "outputs": [],
   "source": []
  },
  {
   "cell_type": "code",
   "execution_count": null,
   "id": "59972ed1",
   "metadata": {},
   "outputs": [],
   "source": []
  },
  {
   "cell_type": "code",
   "execution_count": null,
   "id": "5b4d9e10",
   "metadata": {},
   "outputs": [],
   "source": []
  },
  {
   "cell_type": "code",
   "execution_count": null,
   "id": "ec1d5a56",
   "metadata": {},
   "outputs": [],
   "source": []
  },
  {
   "cell_type": "code",
   "execution_count": null,
   "id": "93c8b01c",
   "metadata": {},
   "outputs": [],
   "source": []
  },
  {
   "cell_type": "code",
   "execution_count": null,
   "id": "3c387517",
   "metadata": {},
   "outputs": [],
   "source": []
  },
  {
   "cell_type": "code",
   "execution_count": null,
   "id": "da3913e6",
   "metadata": {},
   "outputs": [],
   "source": []
  },
  {
   "cell_type": "code",
   "execution_count": null,
   "id": "725d4fa7",
   "metadata": {},
   "outputs": [],
   "source": []
  },
  {
   "cell_type": "code",
   "execution_count": null,
   "id": "e4383d6a",
   "metadata": {},
   "outputs": [],
   "source": []
  },
  {
   "cell_type": "code",
   "execution_count": null,
   "id": "4e6636cd",
   "metadata": {},
   "outputs": [],
   "source": []
  },
  {
   "cell_type": "code",
   "execution_count": null,
   "id": "f1339197",
   "metadata": {},
   "outputs": [],
   "source": []
  },
  {
   "cell_type": "code",
   "execution_count": null,
   "id": "c095a7af",
   "metadata": {},
   "outputs": [],
   "source": []
  }
 ],
 "metadata": {
  "kernelspec": {
   "display_name": "Python 3 (ipykernel)",
   "language": "python",
   "name": "python3"
  },
  "language_info": {
   "codemirror_mode": {
    "name": "ipython",
    "version": 3
   },
   "file_extension": ".py",
   "mimetype": "text/x-python",
   "name": "python",
   "nbconvert_exporter": "python",
   "pygments_lexer": "ipython3",
   "version": "3.11.5"
  }
 },
 "nbformat": 4,
 "nbformat_minor": 5
}
