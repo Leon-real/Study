{
 "cells": [
  {
   "cell_type": "code",
   "execution_count": 1,
   "id": "962119ab",
   "metadata": {},
   "outputs": [],
   "source": [
    "from tensorflow.python.keras.utils import np_utils\n",
    "from keras.datasets import cifar10\n",
    "from keras.models import Sequential\n",
    "from keras.layers import Conv2D, MaxPooling2D, Flatten, Dense"
   ]
  },
  {
   "cell_type": "markdown",
   "id": "eb4b1701",
   "metadata": {},
   "source": [
    "# CIFAR10 데이터"
   ]
  },
  {
   "cell_type": "code",
   "execution_count": 2,
   "id": "fd7d4117",
   "metadata": {
    "scrolled": true
   },
   "outputs": [
    {
     "name": "stdout",
     "output_type": "stream",
     "text": [
      "(50000, 32, 32, 3) (50000, 1) (10000, 32, 32, 3) (10000, 1)\n"
     ]
    }
   ],
   "source": [
    "(train_images, train_labels),(test_images, test_labels) = cifar10.load_data()\n",
    "print(train_images.shape, train_labels.shape,test_images.shape, test_labels.shape)"
   ]
  },
  {
   "cell_type": "code",
   "execution_count": 3,
   "id": "f261ef55",
   "metadata": {},
   "outputs": [],
   "source": [
    "# 0~1사이 값으로 정규화 및 reshape를 통한 차원 변경\n",
    "train_images = train_images.reshape(train_images.shape[0],32,32,3).astype('float32')/255.0\n",
    "test_images = test_images.reshape(test_images.shape[0],32,32,3).astype('float32')/255.0\n",
    "\n",
    "train_labels = np_utils.to_categorical(train_labels) # One-Hot Encoding\n",
    "test_labels = np_utils.to_categorical(test_labels) # One-Hot Encoding"
   ]
  },
  {
   "cell_type": "markdown",
   "id": "f2a5bcc2",
   "metadata": {},
   "source": [
    "# 모델"
   ]
  },
  {
   "cell_type": "code",
   "execution_count": 4,
   "id": "dff2c5aa",
   "metadata": {},
   "outputs": [
    {
     "name": "stdout",
     "output_type": "stream",
     "text": [
      "(None, 32, 32, 32)\n",
      "(None, 16, 16, 32)\n",
      "(None, 16, 16, 64)\n",
      "(None, 8, 8, 64)\n"
     ]
    }
   ],
   "source": [
    "model = Sequential()\n",
    "model.add(Conv2D(32, (3,3), padding='same', strides=(1,1), activation='relu', input_shape=(32,32,3)))\n",
    "print(model.output_shape)\n",
    "model.add(MaxPooling2D(pool_size=(2,2)))\n",
    "print(model.output_shape)\n",
    "model.add(Conv2D(64, (3,3), padding='same', strides=(1,1), activation='relu'))\n",
    "print(model.output_shape)\n",
    "model.add(MaxPooling2D(pool_size=(2,2)))\n",
    "print(model.output_shape)\n",
    "model.add(Flatten())\n",
    "model.add(Dense(10, activation='softmax')) # units=10, activation='softmax'\n",
    "model.compile(loss='categorical_crossentropy', optimizer='adam', metrics=['accuracy'])"
   ]
  },
  {
   "cell_type": "markdown",
   "id": "84aad2c9",
   "metadata": {},
   "source": [
    "### 모델 학습"
   ]
  },
  {
   "cell_type": "code",
   "execution_count": 5,
   "id": "3d7cdccd",
   "metadata": {},
   "outputs": [
    {
     "name": "stdout",
     "output_type": "stream",
     "text": [
      "Epoch 1/5\n",
      "1563/1563 [==============================] - 57s 35ms/step - loss: 1.4071 - accuracy: 0.5022\n",
      "Epoch 2/5\n",
      "1563/1563 [==============================] - 54s 35ms/step - loss: 1.0435 - accuracy: 0.6377\n",
      "Epoch 3/5\n",
      "1563/1563 [==============================] - 54s 35ms/step - loss: 0.9217 - accuracy: 0.6825\n",
      "Epoch 4/5\n",
      "1563/1563 [==============================] - 55s 35ms/step - loss: 0.8463 - accuracy: 0.7094\n",
      "Epoch 5/5\n",
      "1563/1563 [==============================] - 39s 25ms/step - loss: 0.7927 - accuracy: 0.7286\n"
     ]
    },
    {
     "data": {
      "text/plain": [
       "<keras.src.callbacks.History at 0x16455e57cd0>"
      ]
     },
     "execution_count": 5,
     "metadata": {},
     "output_type": "execute_result"
    }
   ],
   "source": [
    "model.fit(train_images, train_labels, epochs=5, batch_size=32, verbose=1)"
   ]
  },
  {
   "cell_type": "markdown",
   "id": "174ef8b7",
   "metadata": {},
   "source": [
    "### 모델 테스트"
   ]
  },
  {
   "cell_type": "code",
   "execution_count": 6,
   "id": "5e308dae",
   "metadata": {},
   "outputs": [
    {
     "name": "stdout",
     "output_type": "stream",
     "text": [
      "313/313 [==============================] - 3s 9ms/step - loss: 0.9301 - accuracy: 0.6818\n",
      "0.6818000078201294\n"
     ]
    }
   ],
   "source": [
    "_, accuracy = model.evaluate(test_images, test_labels)\n",
    "print(accuracy)"
   ]
  },
  {
   "cell_type": "code",
   "execution_count": 7,
   "id": "54c6593d",
   "metadata": {},
   "outputs": [
    {
     "name": "stdout",
     "output_type": "stream",
     "text": [
      "Model: \"sequential\"\n",
      "_________________________________________________________________\n",
      " Layer (type)                Output Shape              Param #   \n",
      "=================================================================\n",
      " conv2d (Conv2D)             (None, 32, 32, 32)        896       \n",
      "                                                                 \n",
      " max_pooling2d (MaxPooling2  (None, 16, 16, 32)        0         \n",
      " D)                                                              \n",
      "                                                                 \n",
      " conv2d_1 (Conv2D)           (None, 16, 16, 64)        18496     \n",
      "                                                                 \n",
      " max_pooling2d_1 (MaxPoolin  (None, 8, 8, 64)          0         \n",
      " g2D)                                                            \n",
      "                                                                 \n",
      " flatten (Flatten)           (None, 4096)              0         \n",
      "                                                                 \n",
      " dense (Dense)               (None, 10)                40970     \n",
      "                                                                 \n",
      "=================================================================\n",
      "Total params: 60362 (235.79 KB)\n",
      "Trainable params: 60362 (235.79 KB)\n",
      "Non-trainable params: 0 (0.00 Byte)\n",
      "_________________________________________________________________\n"
     ]
    }
   ],
   "source": [
    "model.summary()"
   ]
  },
  {
   "cell_type": "code",
   "execution_count": null,
   "id": "1d6734a2",
   "metadata": {},
   "outputs": [],
   "source": []
  }
 ],
 "metadata": {
  "kernelspec": {
   "display_name": "Python 3 (ipykernel)",
   "language": "python",
   "name": "python3"
  },
  "language_info": {
   "codemirror_mode": {
    "name": "ipython",
    "version": 3
   },
   "file_extension": ".py",
   "mimetype": "text/x-python",
   "name": "python",
   "nbconvert_exporter": "python",
   "pygments_lexer": "ipython3",
   "version": "3.11.5"
  }
 },
 "nbformat": 4,
 "nbformat_minor": 5
}
