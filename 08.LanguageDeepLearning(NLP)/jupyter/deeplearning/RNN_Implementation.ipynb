{
 "cells": [
  {
   "cell_type": "code",
   "execution_count": 18,
   "id": "e5e4c5e8",
   "metadata": {},
   "outputs": [],
   "source": [
    "from keras.models import Sequential\n",
    "from keras.layers import LSTM\n",
    "from sklearn.model_selection import train_test_split\n",
    "import numpy as np\n",
    "import matplotlib.pyplot as plt"
   ]
  },
  {
   "cell_type": "code",
   "execution_count": 19,
   "id": "846ad40e",
   "metadata": {},
   "outputs": [
    {
     "data": {
      "text/plain": [
       "[[[0.0], [0.01], [0.02], [0.03], [0.04]],\n",
       " [[0.01], [0.02], [0.03], [0.04], [0.05]],\n",
       " [[0.02], [0.03], [0.04], [0.05], [0.06]],\n",
       " [[0.03], [0.04], [0.05], [0.06], [0.07]],\n",
       " [[0.04], [0.05], [0.06], [0.07], [0.08]],\n",
       " [[0.05], [0.06], [0.07], [0.08], [0.09]],\n",
       " [[0.06], [0.07], [0.08], [0.09], [0.1]],\n",
       " [[0.07], [0.08], [0.09], [0.1], [0.11]],\n",
       " [[0.08], [0.09], [0.1], [0.11], [0.12]],\n",
       " [[0.09], [0.1], [0.11], [0.12], [0.13]],\n",
       " [[0.1], [0.11], [0.12], [0.13], [0.14]],\n",
       " [[0.11], [0.12], [0.13], [0.14], [0.15]],\n",
       " [[0.12], [0.13], [0.14], [0.15], [0.16]],\n",
       " [[0.13], [0.14], [0.15], [0.16], [0.17]],\n",
       " [[0.14], [0.15], [0.16], [0.17], [0.18]],\n",
       " [[0.15], [0.16], [0.17], [0.18], [0.19]],\n",
       " [[0.16], [0.17], [0.18], [0.19], [0.2]],\n",
       " [[0.17], [0.18], [0.19], [0.2], [0.21]],\n",
       " [[0.18], [0.19], [0.2], [0.21], [0.22]],\n",
       " [[0.19], [0.2], [0.21], [0.22], [0.23]],\n",
       " [[0.2], [0.21], [0.22], [0.23], [0.24]],\n",
       " [[0.21], [0.22], [0.23], [0.24], [0.25]],\n",
       " [[0.22], [0.23], [0.24], [0.25], [0.26]],\n",
       " [[0.23], [0.24], [0.25], [0.26], [0.27]],\n",
       " [[0.24], [0.25], [0.26], [0.27], [0.28]],\n",
       " [[0.25], [0.26], [0.27], [0.28], [0.29]],\n",
       " [[0.26], [0.27], [0.28], [0.29], [0.3]],\n",
       " [[0.27], [0.28], [0.29], [0.3], [0.31]],\n",
       " [[0.28], [0.29], [0.3], [0.31], [0.32]],\n",
       " [[0.29], [0.3], [0.31], [0.32], [0.33]],\n",
       " [[0.3], [0.31], [0.32], [0.33], [0.34]],\n",
       " [[0.31], [0.32], [0.33], [0.34], [0.35]],\n",
       " [[0.32], [0.33], [0.34], [0.35], [0.36]],\n",
       " [[0.33], [0.34], [0.35], [0.36], [0.37]],\n",
       " [[0.34], [0.35], [0.36], [0.37], [0.38]],\n",
       " [[0.35], [0.36], [0.37], [0.38], [0.39]],\n",
       " [[0.36], [0.37], [0.38], [0.39], [0.4]],\n",
       " [[0.37], [0.38], [0.39], [0.4], [0.41]],\n",
       " [[0.38], [0.39], [0.4], [0.41], [0.42]],\n",
       " [[0.39], [0.4], [0.41], [0.42], [0.43]],\n",
       " [[0.4], [0.41], [0.42], [0.43], [0.44]],\n",
       " [[0.41], [0.42], [0.43], [0.44], [0.45]],\n",
       " [[0.42], [0.43], [0.44], [0.45], [0.46]],\n",
       " [[0.43], [0.44], [0.45], [0.46], [0.47]],\n",
       " [[0.44], [0.45], [0.46], [0.47], [0.48]],\n",
       " [[0.45], [0.46], [0.47], [0.48], [0.49]],\n",
       " [[0.46], [0.47], [0.48], [0.49], [0.5]],\n",
       " [[0.47], [0.48], [0.49], [0.5], [0.51]],\n",
       " [[0.48], [0.49], [0.5], [0.51], [0.52]],\n",
       " [[0.49], [0.5], [0.51], [0.52], [0.53]],\n",
       " [[0.5], [0.51], [0.52], [0.53], [0.54]],\n",
       " [[0.51], [0.52], [0.53], [0.54], [0.55]],\n",
       " [[0.52], [0.53], [0.54], [0.55], [0.56]],\n",
       " [[0.53], [0.54], [0.55], [0.56], [0.57]],\n",
       " [[0.54], [0.55], [0.56], [0.57], [0.58]],\n",
       " [[0.55], [0.56], [0.57], [0.58], [0.59]],\n",
       " [[0.56], [0.57], [0.58], [0.59], [0.6]],\n",
       " [[0.57], [0.58], [0.59], [0.6], [0.61]],\n",
       " [[0.58], [0.59], [0.6], [0.61], [0.62]],\n",
       " [[0.59], [0.6], [0.61], [0.62], [0.63]],\n",
       " [[0.6], [0.61], [0.62], [0.63], [0.64]],\n",
       " [[0.61], [0.62], [0.63], [0.64], [0.65]],\n",
       " [[0.62], [0.63], [0.64], [0.65], [0.66]],\n",
       " [[0.63], [0.64], [0.65], [0.66], [0.67]],\n",
       " [[0.64], [0.65], [0.66], [0.67], [0.68]],\n",
       " [[0.65], [0.66], [0.67], [0.68], [0.69]],\n",
       " [[0.66], [0.67], [0.68], [0.69], [0.7]],\n",
       " [[0.67], [0.68], [0.69], [0.7], [0.71]],\n",
       " [[0.68], [0.69], [0.7], [0.71], [0.72]],\n",
       " [[0.69], [0.7], [0.71], [0.72], [0.73]],\n",
       " [[0.7], [0.71], [0.72], [0.73], [0.74]],\n",
       " [[0.71], [0.72], [0.73], [0.74], [0.75]],\n",
       " [[0.72], [0.73], [0.74], [0.75], [0.76]],\n",
       " [[0.73], [0.74], [0.75], [0.76], [0.77]],\n",
       " [[0.74], [0.75], [0.76], [0.77], [0.78]],\n",
       " [[0.75], [0.76], [0.77], [0.78], [0.79]],\n",
       " [[0.76], [0.77], [0.78], [0.79], [0.8]],\n",
       " [[0.77], [0.78], [0.79], [0.8], [0.81]],\n",
       " [[0.78], [0.79], [0.8], [0.81], [0.82]],\n",
       " [[0.79], [0.8], [0.81], [0.82], [0.83]],\n",
       " [[0.8], [0.81], [0.82], [0.83], [0.84]],\n",
       " [[0.81], [0.82], [0.83], [0.84], [0.85]],\n",
       " [[0.82], [0.83], [0.84], [0.85], [0.86]],\n",
       " [[0.83], [0.84], [0.85], [0.86], [0.87]],\n",
       " [[0.84], [0.85], [0.86], [0.87], [0.88]],\n",
       " [[0.85], [0.86], [0.87], [0.88], [0.89]],\n",
       " [[0.86], [0.87], [0.88], [0.89], [0.9]],\n",
       " [[0.87], [0.88], [0.89], [0.9], [0.91]],\n",
       " [[0.88], [0.89], [0.9], [0.91], [0.92]],\n",
       " [[0.89], [0.9], [0.91], [0.92], [0.93]],\n",
       " [[0.9], [0.91], [0.92], [0.93], [0.94]],\n",
       " [[0.91], [0.92], [0.93], [0.94], [0.95]],\n",
       " [[0.92], [0.93], [0.94], [0.95], [0.96]],\n",
       " [[0.93], [0.94], [0.95], [0.96], [0.97]],\n",
       " [[0.94], [0.95], [0.96], [0.97], [0.98]],\n",
       " [[0.95], [0.96], [0.97], [0.98], [0.99]],\n",
       " [[0.96], [0.97], [0.98], [0.99], [1.0]],\n",
       " [[0.97], [0.98], [0.99], [1.0], [1.01]],\n",
       " [[0.98], [0.99], [1.0], [1.01], [1.02]],\n",
       " [[0.99], [1.0], [1.01], [1.02], [1.03]]]"
      ]
     },
     "execution_count": 19,
     "metadata": {},
     "output_type": "execute_result"
    }
   ],
   "source": [
    "data = [[[(i+j)/100] for i in range(5)] for j in range(100)]\n",
    "data"
   ]
  },
  {
   "cell_type": "code",
   "execution_count": 20,
   "id": "b6aa8e23",
   "metadata": {},
   "outputs": [
    {
     "data": {
      "text/plain": [
       "[0.05,\n",
       " 0.06,\n",
       " 0.07,\n",
       " 0.08,\n",
       " 0.09,\n",
       " 0.1,\n",
       " 0.11,\n",
       " 0.12,\n",
       " 0.13,\n",
       " 0.14,\n",
       " 0.15,\n",
       " 0.16,\n",
       " 0.17,\n",
       " 0.18,\n",
       " 0.19,\n",
       " 0.2,\n",
       " 0.21,\n",
       " 0.22,\n",
       " 0.23,\n",
       " 0.24,\n",
       " 0.25,\n",
       " 0.26,\n",
       " 0.27,\n",
       " 0.28,\n",
       " 0.29,\n",
       " 0.3,\n",
       " 0.31,\n",
       " 0.32,\n",
       " 0.33,\n",
       " 0.34,\n",
       " 0.35,\n",
       " 0.36,\n",
       " 0.37,\n",
       " 0.38,\n",
       " 0.39,\n",
       " 0.4,\n",
       " 0.41,\n",
       " 0.42,\n",
       " 0.43,\n",
       " 0.44,\n",
       " 0.45,\n",
       " 0.46,\n",
       " 0.47,\n",
       " 0.48,\n",
       " 0.49,\n",
       " 0.5,\n",
       " 0.51,\n",
       " 0.52,\n",
       " 0.53,\n",
       " 0.54,\n",
       " 0.55,\n",
       " 0.56,\n",
       " 0.57,\n",
       " 0.58,\n",
       " 0.59,\n",
       " 0.6,\n",
       " 0.61,\n",
       " 0.62,\n",
       " 0.63,\n",
       " 0.64,\n",
       " 0.65,\n",
       " 0.66,\n",
       " 0.67,\n",
       " 0.68,\n",
       " 0.69,\n",
       " 0.7,\n",
       " 0.71,\n",
       " 0.72,\n",
       " 0.73,\n",
       " 0.74,\n",
       " 0.75,\n",
       " 0.76,\n",
       " 0.77,\n",
       " 0.78,\n",
       " 0.79,\n",
       " 0.8,\n",
       " 0.81,\n",
       " 0.82,\n",
       " 0.83,\n",
       " 0.84,\n",
       " 0.85,\n",
       " 0.86,\n",
       " 0.87,\n",
       " 0.88,\n",
       " 0.89,\n",
       " 0.9,\n",
       " 0.91,\n",
       " 0.92,\n",
       " 0.93,\n",
       " 0.94,\n",
       " 0.95,\n",
       " 0.96,\n",
       " 0.97,\n",
       " 0.98,\n",
       " 0.99,\n",
       " 1.0,\n",
       " 1.01,\n",
       " 1.02,\n",
       " 1.03,\n",
       " 1.04]"
      ]
     },
     "execution_count": 20,
     "metadata": {},
     "output_type": "execute_result"
    }
   ],
   "source": [
    "target = [(i+5)/100 for i in range(100)]\n",
    "target"
   ]
  },
  {
   "cell_type": "code",
   "execution_count": 21,
   "id": "ce7719b6",
   "metadata": {},
   "outputs": [],
   "source": [
    "data = np.array(data, dtype=float)\n",
    "target = np.array(target, dtype=float)"
   ]
  },
  {
   "cell_type": "code",
   "execution_count": 22,
   "id": "2422753a",
   "metadata": {},
   "outputs": [],
   "source": [
    "x_train, x_test, y_train, y_test = train_test_split(data, target, test_size=0.2)"
   ]
  },
  {
   "cell_type": "markdown",
   "id": "5df668ee",
   "metadata": {},
   "source": [
    "# 모델 생성"
   ]
  },
  {
   "cell_type": "code",
   "execution_count": 23,
   "id": "5086888e",
   "metadata": {},
   "outputs": [
    {
     "name": "stdout",
     "output_type": "stream",
     "text": [
      "Model: \"sequential_2\"\n",
      "_________________________________________________________________\n",
      " Layer (type)                Output Shape              Param #   \n",
      "=================================================================\n",
      " lstm_2 (LSTM)               (None, 1)                 12        \n",
      "                                                                 \n",
      "=================================================================\n",
      "Total params: 12 (48.00 Byte)\n",
      "Trainable params: 12 (48.00 Byte)\n",
      "Non-trainable params: 0 (0.00 Byte)\n",
      "_________________________________________________________________\n"
     ]
    }
   ],
   "source": [
    "model = Sequential()\n",
    "model.add(LSTM(1, input_dim=1, input_length=5, return_sequences=False))\n",
    "model.compile(loss='mse', optimizer='adam')\n",
    "model.summary()"
   ]
  },
  {
   "cell_type": "markdown",
   "id": "17b85005",
   "metadata": {},
   "source": [
    "# 모델 학습"
   ]
  },
  {
   "cell_type": "code",
   "execution_count": 27,
   "id": "09954aaa",
   "metadata": {},
   "outputs": [],
   "source": [
    "history = model.fit(x_train, y_train, epochs=1000, verbose=0)"
   ]
  },
  {
   "cell_type": "markdown",
   "id": "fc18afc3",
   "metadata": {},
   "source": [
    "# 모델 예측 및 시각화"
   ]
  },
  {
   "cell_type": "code",
   "execution_count": 28,
   "id": "f5584c64",
   "metadata": {},
   "outputs": [
    {
     "name": "stdout",
     "output_type": "stream",
     "text": [
      "1/1 [==============================] - 0s 30ms/step\n"
     ]
    }
   ],
   "source": [
    "results = model.predict(x_test)"
   ]
  },
  {
   "cell_type": "code",
   "execution_count": 29,
   "id": "5036f88b",
   "metadata": {},
   "outputs": [
    {
     "data": {
      "image/png": "[encoded data removed]",
      "text/plain": [
       "<Figure size 640x480 with 1 Axes>"
      ]
     },
     "metadata": {},
     "output_type": "display_data"
    }
   ],
   "source": [
    "plt.scatter(range(20), results, c='r')\n",
    "plt.scatter(range(20), y_test, c='g')\n",
    "plt.show()"
   ]
  },
  {
   "cell_type": "code",
   "execution_count": 30,
   "id": "f23d71f7",
   "metadata": {},
   "outputs": [
    {
     "data": {
      "image/png": "[encoded data removed]",
      "text/plain": [
       "<Figure size 640x480 with 1 Axes>"
      ]
     },
     "metadata": {},
     "output_type": "display_data"
    }
   ],
   "source": [
    "plt.plot(history.history['loss'])\n",
    "plt.show()"
   ]
  },
  {
   "cell_type": "code",
   "execution_count": null,
   "id": "4a5d1f78",
   "metadata": {},
   "outputs": [],
   "source": []
  }
 ],
 "metadata": {
  "kernelspec": {
   "display_name": "Python 3 (ipykernel)",
   "language": "python",
   "name": "python3"
  },
  "language_info": {
   "codemirror_mode": {
    "name": "ipython",
    "version": 3
   },
   "file_extension": ".py",
   "mimetype": "text/x-python",
   "name": "python",
   "nbconvert_exporter": "python",
   "pygments_lexer": "ipython3",
   "version": "3.11.5"
  }
 },
 "nbformat": 4,
 "nbformat_minor": 5
}
