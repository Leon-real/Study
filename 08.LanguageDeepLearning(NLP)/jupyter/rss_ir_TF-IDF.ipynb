{
 "cells": [
  {
   "cell_type": "markdown",
   "id": "bf73e9c7",
   "metadata": {},
   "source": [
    "# RSS Infomation Research"
   ]
  },
  {
   "cell_type": "code",
   "execution_count": 5,
   "id": "bcc065a7",
   "metadata": {},
   "outputs": [
    {
     "name": "stdout",
     "output_type": "stream",
     "text": [
      "Requirement already satisfied: feedparser in c:\\users\\user\\anaconda3\\lib\\site-packages (6.0.10)\n",
      "Requirement already satisfied: sgmllib3k in c:\\users\\user\\anaconda3\\lib\\site-packages (from feedparser) (1.0.0)\n"
     ]
    }
   ],
   "source": [
    "# RSS에서 xml태그 별 정보 추출\n",
    "!pip install feedparser \n",
    "\n",
    "# 인터넷 신문기사 분석(라이브러리 내의 \"Article()\"사용하기 위해)\n",
    "!pip install newspaper3k \n",
    "\n",
    "# 한국어 형태소 분석기 (주어진 문장에서 명사만 추출할 목적으로 사용)\n",
    "!pip install konlpy "
   ]
  },
  {
   "cell_type": "markdown",
   "id": "65217f00",
   "metadata": {},
   "source": [
    "# 라이브러리 불러오기"
   ]
  },
  {
   "cell_type": "code",
   "execution_count": 6,
   "id": "12e4917f",
   "metadata": {},
   "outputs": [],
   "source": [
    "import feedparser # xml 태그별 정보 추출\n",
    "from newspaper import Article # 인터넷 신문 기사 분석\n",
    "from konlpy.tag import Okt # 한국어 형태소 분석기\n",
    "from collections import Counter # 갯수 세기(TF계산용)\n",
    "from operator import eq # 동일한 단어인지 여부 확인 위해 사용\n",
    "from bs4 import BeautifulSoup # 글에 존재할지 모르는 html 태그 삭제를 위해 사용"
   ]
  },
  {
   "cell_type": "markdown",
   "id": "12bb309d",
   "metadata": {},
   "source": [
    "# 정보 수집할 rss 링크 설정 및 정보 수집하기\n",
    "\n",
    "##### 전자신문 (https://www.etnews.com/rss/) 의 오늘의 뉴스 부분 "
   ]
  },
  {
   "cell_type": "markdown",
   "id": "9023fe36",
   "metadata": {},
   "source": [
    "##### 함수 정의"
   ]
  },
  {
   "cell_type": "code",
   "execution_count": 7,
   "id": "f110fa3d",
   "metadata": {},
   "outputs": [],
   "source": [
    "# 제목, 링크 수집 함수\n",
    "def crawl_rss(urls):\n",
    "    array_rss = [] # 모든 기사를 넣을 리스트\n",
    "    set_link = set() # 중복된 기사를 제거하기 위한 기사 제목들 집합\n",
    "    \n",
    "    for url in urls: # url 순회\n",
    "        print(f\"[Crawl Rss] {url}\") # 현재 크롤링하는 rss 링크 출력\n",
    "        parser_rss = feedparser.parse(url) # 현재 url을 파싱해서, 그 결과를 저장\n",
    "        for p in parser_rss.entries:\n",
    "            if p.link not in set_link: # 중복되지 않은 기사 일 경우 if 문 실행\n",
    "                array_rss.append({'link':p.link})\n",
    "                set_link.add(p.link)\n",
    "    return array_rss\n",
    "\n",
    "# 링크를 통해 제목, 본문 내용 추출\n",
    "def crawl_article(url, language='ko'):\n",
    "    print(f\"[Crawling. . .] {url}\") # 현재 크롤링하는 링크 출력\n",
    "    news_paper = Article(url, language=language)\n",
    "    news_paper.download()\n",
    "    news_paper.parse()\n",
    "    return news_paper.title, preprocessing(news_paper.text)\n",
    "\n",
    "# 불용어 전처리\n",
    "def preprocessing(text): \n",
    "    text_article = BeautifulSoup(text, 'html5lib').get_text() # html 태그 제거하기\n",
    "    return text_article"
   ]
  },
  {
   "cell_type": "code",
   "execution_count": 8,
   "id": "e62bcca4",
   "metadata": {
    "scrolled": true
   },
   "outputs": [
    {
     "name": "stdout",
     "output_type": "stream",
     "text": [
      "[Crawl Rss] http://rss.etnews.com/Section901.xml\n",
      "[Crawl Rss] http://rss.etnews.com/Section902.xml\n",
      "[Crawl Rss] http://rss.etnews.com/Section903.xml\n",
      "Requirement already satisfied: konlpy in c:\\users\\user\\anaconda3\\lib\\site-packages (0.6.0)\n",
      "Requirement already satisfied: JPype1>=0.7.0 in c:\\users\\user\\anaconda3\\lib\\site-packages (from konlpy) (1.4.1)\n",
      "Requirement already satisfied: lxml>=4.1.0 in c:\\users\\user\\anaconda3\\lib\\site-packages (from konlpy) (4.9.2)\n",
      "Requirement already satisfied: numpy>=1.6 in c:\\users\\user\\anaconda3\\lib\\site-packages (from konlpy) (1.24.3)\n",
      "Requirement already satisfied: packaging in c:\\users\\user\\anaconda3\\lib\\site-packages (from JPype1>=0.7.0->konlpy) (23.0)\n",
      "[Crawl Rss] http://rss.etnews.com/Section904.xml\n",
      "Requirement already satisfied: newspaper3k in c:\\users\\user\\anaconda3\\lib\\site-packages (0.2.8)\n",
      "Requirement already satisfied: beautifulsoup4>=4.4.1 in c:\\users\\user\\anaconda3\\lib\\site-packages (from newspaper3k) (4.12.2)\n",
      "Requirement already satisfied: Pillow>=3.3.0 in c:\\users\\user\\anaconda3\\lib\\site-packages (from newspaper3k) (9.4.0)\n",
      "Requirement already satisfied: PyYAML>=3.11 in c:\\users\\user\\anaconda3\\lib\\site-packages (from newspaper3k) (6.0)\n",
      "Requirement already satisfied: cssselect>=0.9.2 in c:\\users\\user\\anaconda3\\lib\\site-packages (from newspaper3k) (1.1.0)\n",
      "Requirement already satisfied: lxml>=3.6.0 in c:\\users\\user\\anaconda3\\lib\\site-packages (from newspaper3k) (4.9.2)\n",
      "Requirement already satisfied: nltk>=3.2.1 in c:\\users\\user\\anaconda3\\lib\\site-packages (from newspaper3k) (3.7)\n",
      "Requirement already satisfied: requests>=2.10.0 in c:\\users\\user\\anaconda3\\lib\\site-packages (from newspaper3k) (2.31.0)\n",
      "Requirement already satisfied: feedparser>=5.2.1 in c:\\users\\user\\anaconda3\\lib\\site-packages (from newspaper3k) (6.0.10)\n",
      "Requirement already satisfied: tldextract>=2.0.1 in c:\\users\\user\\anaconda3\\lib\\site-packages (from newspaper3k) (3.2.0)\n",
      "Requirement already satisfied: feedfinder2>=0.0.4 in c:\\users\\user\\anaconda3\\lib\\site-packages (from newspaper3k) (0.0.4)\n",
      "Requirement already satisfied: jieba3k>=0.35.1 in c:\\users\\user\\anaconda3\\lib\\site-packages (from newspaper3k) (0.35.1)\n",
      "Requirement already satisfied: python-dateutil>=2.5.3 in c:\\users\\user\\anaconda3\\lib\\site-packages (from newspaper3k) (2.8.2)\n",
      "Requirement already satisfied: tinysegmenter==0.3 in c:\\users\\user\\anaconda3\\lib\\site-packages (from newspaper3k) (0.3)\n",
      "Requirement already satisfied: soupsieve>1.2 in c:\\users\\user\\anaconda3\\lib\\site-packages (from beautifulsoup4>=4.4.1->newspaper3k) (2.4)\n",
      "Requirement already satisfied: six in c:\\users\\user\\anaconda3\\lib\\site-packages (from feedfinder2>=0.0.4->newspaper3k) (1.16.0)\n",
      "Requirement already satisfied: sgmllib3k in c:\\users\\user\\anaconda3\\lib\\site-packages (from feedparser>=5.2.1->newspaper3k) (1.0.0)\n",
      "Requirement already satisfied: click in c:\\users\\user\\anaconda3\\lib\\site-packages (from nltk>=3.2.1->newspaper3k) (8.0.4)\n",
      "Requirement already satisfied: joblib in c:\\users\\user\\anaconda3\\lib\\site-packages (from nltk>=3.2.1->newspaper3k) (1.2.0)\n",
      "Requirement already satisfied: regex>=2021.8.3 in c:\\users\\user\\anaconda3\\lib\\site-packages (from nltk>=3.2.1->newspaper3k) (2022.7.9)\n",
      "Requirement already satisfied: tqdm in c:\\users\\user\\anaconda3\\lib\\site-packages (from nltk>=3.2.1->newspaper3k) (4.65.0)\n",
      "Requirement already satisfied: charset-normalizer<4,>=2 in c:\\users\\user\\anaconda3\\lib\\site-packages (from requests>=2.10.0->newspaper3k) (2.0.4)\n",
      "Requirement already satisfied: idna<4,>=2.5 in c:\\users\\user\\anaconda3\\lib\\site-packages (from requests>=2.10.0->newspaper3k) (3.4)\n",
      "Requirement already satisfied: urllib3<3,>=1.21.1 in c:\\users\\user\\anaconda3\\lib\\site-packages (from requests>=2.10.0->newspaper3k) (1.26.16)\n",
      "Requirement already satisfied: certifi>=2017.4.17 in c:\\users\\user\\anaconda3\\lib\\site-packages (from requests>=2.10.0->newspaper3k) (2023.7.22)\n",
      "Requirement already satisfied: requests-file>=1.4 in c:\\users\\user\\anaconda3\\lib\\site-packages (from tldextract>=2.0.1->newspaper3k) (1.5.1)\n",
      "Requirement already satisfied: filelock>=3.0.8 in c:\\users\\user\\anaconda3\\lib\\site-packages (from tldextract>=2.0.1->newspaper3k) (3.9.0)\n",
      "Requirement already satisfied: colorama in c:\\users\\user\\anaconda3\\lib\\site-packages (from click->nltk>=3.2.1->newspaper3k) (0.4.6)\n",
      "[Crawling. . .] https://www.etnews.com/20231004000087\n",
      "[Crawling. . .] https://www.etnews.com/20231004000053\n",
      "[Crawling. . .] https://www.etnews.com/20231004000021\n",
      "[Crawling. . .] https://www.etnews.com/20231003000006\n",
      "[Crawling. . .] https://www.etnews.com/20230927000112\n",
      "[Crawling. . .] https://www.etnews.com/20231004000004\n",
      "[Crawling. . .] https://www.etnews.com/20231004000003\n",
      "[Crawling. . .] https://www.etnews.com/20231004000002\n",
      "[Crawling. . .] https://www.etnews.com/20231003000103\n",
      "[Crawling. . .] https://www.etnews.com/20230926000252\n",
      "[Crawling. . .] https://www.etnews.com/20231002000054\n",
      "[Crawling. . .] https://www.etnews.com/20231002000053\n",
      "[Crawling. . .] https://www.etnews.com/20230926000326\n",
      "[Crawling. . .] https://www.etnews.com/20230926000306\n",
      "[Crawling. . .] https://www.etnews.com/20230926000298\n",
      "[Crawling. . .] https://www.etnews.com/20231003000057\n",
      "[Crawling. . .] https://www.etnews.com/20231003000019\n",
      "[Crawling. . .] https://www.etnews.com/20231003000017\n",
      "[Crawling. . .] https://www.etnews.com/20231003000087\n",
      "[Crawling. . .] https://www.etnews.com/20231003000085\n",
      "[Crawling. . .] https://www.etnews.com/20231002000050\n",
      "[Crawling. . .] https://www.etnews.com/20231002000047\n",
      "[Crawling. . .] https://www.etnews.com/20230927000041\n",
      "[Crawling. . .] https://www.etnews.com/20231003000077\n",
      "[Crawling. . .] https://www.etnews.com/20231003000056\n",
      "[Crawling. . .] https://www.etnews.com/20231002000058\n",
      "[Crawling. . .] https://www.etnews.com/20231002000057\n",
      "[Crawling. . .] https://www.etnews.com/20231002000056\n",
      "[Crawling. . .] https://www.etnews.com/20231003000062\n",
      "[Crawling. . .] https://www.etnews.com/20231003000060\n",
      "[Crawling. . .] https://www.etnews.com/20231004000086\n",
      "[Crawling. . .] https://www.etnews.com/20231004000085\n",
      "[Crawling. . .] https://www.etnews.com/20231004000083\n",
      "[Crawling. . .] https://www.etnews.com/20231004000081\n",
      "[Crawling. . .] https://www.etnews.com/20231004000084\n",
      "[Crawling. . .] https://www.etnews.com/20231004000082\n",
      "[Crawling. . .] https://www.etnews.com/20231004000080\n",
      "[Crawling. . .] https://www.etnews.com/20231004000079\n",
      "[Crawling. . .] https://www.etnews.com/20231004000077\n",
      "[Crawling. . .] https://www.etnews.com/20231004000076\n",
      "[Crawling. . .] https://www.etnews.com/20231004000073\n",
      "[Crawling. . .] https://www.etnews.com/20231004000072\n",
      "[Crawling. . .] https://www.etnews.com/20231004000071\n",
      "[Crawling. . .] https://www.etnews.com/20231004000070\n",
      "[Crawling. . .] https://www.etnews.com/20231004000069\n",
      "[Crawling. . .] https://www.etnews.com/20231004000068\n",
      "[Crawling. . .] https://www.etnews.com/20231004000067\n",
      "[Crawling. . .] https://www.etnews.com/20231004000066\n",
      "[Crawling. . .] https://www.etnews.com/20231004000065\n",
      "[Crawling. . .] https://www.etnews.com/20231004000064\n",
      "[Crawling. . .] https://www.etnews.com/20231004000063\n",
      "[Crawling. . .] https://www.etnews.com/20231004000062\n",
      "[Crawling. . .] https://www.etnews.com/20231004000061\n",
      "[Crawling. . .] https://www.etnews.com/20231004000060\n",
      "[Crawling. . .] https://www.etnews.com/20231004000059\n",
      "[Crawling. . .] https://www.etnews.com/20231004000058\n",
      "[Crawling. . .] https://www.etnews.com/20231004000057\n",
      "[Crawling. . .] https://www.etnews.com/20231004000056\n",
      "[Crawling. . .] https://www.etnews.com/20231004000055\n",
      "[Crawling. . .] https://www.etnews.com/20231002000004\n",
      "[Crawling. . .] https://www.etnews.com/20231002000022\n",
      "[Crawling. . .] https://www.etnews.com/20230930000215\n",
      "[Crawling. . .] https://www.etnews.com/20231002000027\n",
      "[Crawling. . .] https://www.etnews.com/20231001000090\n",
      "[Crawling. . .] https://www.etnews.com/20231001000089\n",
      "[Crawling. . .] https://www.etnews.com/20231002000007\n",
      "[Crawling. . .] https://www.etnews.com/20231002000001\n",
      "[Crawling. . .] https://www.etnews.com/20230930000218\n",
      "[Crawling. . .] https://www.etnews.com/20231003000013\n",
      "[Crawling. . .] https://www.etnews.com/20230930000013\n",
      "[Crawling. . .] https://www.etnews.com/20231001000020\n",
      "[Crawling. . .] https://www.etnews.com/20231001000005\n",
      "[Crawling. . .] https://www.etnews.com/20231001000167\n"
     ]
    },
    {
     "name": "stdout",
     "output_type": "stream",
     "text": [
      "[Crawling. . .] https://www.etnews.com/20230930000031\n",
      "[Crawling. . .] https://www.etnews.com/20230930000032\n",
      "[Crawling. . .] https://www.etnews.com/20230927000060\n"
     ]
    }
   ],
   "source": [
    "# 정보 수집할 rss 링크 모음\n",
    "urls = ['http://rss.etnews.com/Section901.xml',\n",
    "        'http://rss.etnews.com/Section902.xml',\n",
    "        'http://rss.etnews.com/Section903.xml',\n",
    "        'http://rss.etnews.com/Section904.xml']\n",
    "\n",
    "# 제목과 기사 링크 수집하기\n",
    "list_articles = crawl_rss(urls)\n",
    "\n",
    "# 수집한 (제목,기사링크)를 토대로 제목과 본문 내용 수집하기\n",
    "for article in list_articles:\n",
    "    title, text = crawl_article(article['link'])\n",
    "    article['title'] = title\n",
    "    article['text'] = text"
   ]
  },
  {
   "cell_type": "markdown",
   "id": "b18a3360",
   "metadata": {},
   "source": [
    "# 수집 내용 확인하기"
   ]
  },
  {
   "cell_type": "code",
   "execution_count": 9,
   "id": "15ae06d8",
   "metadata": {},
   "outputs": [
    {
     "data": {
      "text/plain": [
       "{'link': 'https://www.etnews.com/20231004000087',\n",
       " 'title': \"빗썸 메타버스 출격준비 완료…16조 시장 '패션·데이팅' 잡는다\",\n",
       " 'text': \"출시를 앞둔 빗썸의 메타버스 플랫폼 '네모월드'가 패션 커머스 시장과 데이팅 플랫폼 시장을 정조준한다. 기존에 존재하던 웹 2.0 서비스를 화려한 3D 그래픽의 '메타 커머스' 플랫폼으로 그대로 옮겨온다는 구상이다.\\n\\n\\n\\n업계에 따르면 빗썸의 웹3.0 메타버스 플랫폼 자회사 빗썸메타(대표 조현식)는 패션 브랜드사와 협업한 디지털 쇼룸과 커머스 시스템을 네모월드 내에 구현, 이르면 올해 4분기 소프트론칭한다. 내년 공식 출시까지 20여개 브랜드를 메타버스로 가져오는 것이 목표다.\\n\\n\\n\\n단순히 메타버스 내 사이버 상품만 구입하는 것이 아니라, 현실세계에서 이용자가 입을 패션 상품도 함께 구입하는 '메타 커머스' 플랫폼을 구현한다. 대체불가토큰(NFT) 시스템을 적용해 한정판 구입 고객만 초대받을 수 있는 패션쇼나 라운지 개념도 검토 중이다.\\n\\n\\n\\n이를 활용해 메타버스 내에서 이용자들이 교류할 수 있는 소셜 스페이스 플랫폼으로 확장한다. 틴더와 같은 데이팅 앱, 사회관계망서비스(SNS)가 갖고 있는 기능을 아바타 시스템을 통해 가져오겠다는 계획이다. 이처럼 메타버스 수용(Metaverse-Adoption) 가능한 웹2.0 서비스는 커머스가 약 8.4조원, 소셜스페이스 시장이 약 7.5조원 수준으로 추산된다.\\n\\n\\n\\n빗썸메타 네모월드 지향점은 '실사와 같은 3D 메타버스'다. 게임개발에 사용되는 '언리얼5 엔진'을 기반으로 아바타, 공간, 상품을 실제 수준에 가깝게 그려냈다. 특히 주력 타깃 시장인 패션상품의 경우 현실 상품의 재질감까지 구현했다. 성인들도 메타버스 세계관에 재미와 몰입감을 느낄 수 있을뿐만 아니라, 구매 소비와 경제활동으로 이어질 수 있을 가능성을 염두했다.\\n\\n\\n\\n앞서 빗썸메타는 지난달 국내 최대 패션 박람회인 '프리뷰 인 서울(Preview In Seoul) 2023'에서 가상세계의 3D 디지털 쇼룸을 선보여 눈길을 끌었다. 이용자들이 메타버스 내 아바타를 통해 실제 의상을 입어보고 다양한 활동을 하는 플랫폼을 선보였고, 이는 패션회사들이 저비용으로 신상품을 홍보할 수 있는 새로운 채널로 주목받았다.\\n\\n\\n\\n2022년 2월 설립한 빗썸메타는 LG CNS, CJ올리브네트웍스, SK그룹(드림어스컴퍼니) 등 대기업 관계사들이 투자 라운드에 참여하며 큰 기대를 모았다. 조현식 빗썸메타 대표가 하이텔과 엔씨소프트, 네이버, NHN를 거쳐 웹 1.0과 2.0 서비스 이해도가 높다는 점도 핵심 경쟁력으로 평가된다.\\n\\n\\n\\n조현식 빗썸메타 대표는 “트렌드에 민감하면서도 경제력을 갖춘 성인 유저를 끌어들이고 실제 구매로 연결시킬 수 있다는 점은, 기존 메타버스 서비스 대비 타깃 시장규모 자체를 달라지게 하는 요소”라며 “B2C 서비스로서도 훨씬 큰 수익 모델이 기대되며, B2B나 블록체인 영역에서도 기존에 없던 다양한 비즈니스모델(BM)이 가능해진다”고 말했다.\\n\\n\\n\\n이형두 기자 dudu@etnews.com\"}"
      ]
     },
     "execution_count": 9,
     "metadata": {},
     "output_type": "execute_result"
    }
   ],
   "source": [
    "list_articles[0]"
   ]
  },
  {
   "cell_type": "markdown",
   "id": "63d9b67d",
   "metadata": {},
   "source": [
    "# 모든 본문 text에서 명사  (키워드, 빈도수) 추출"
   ]
  },
  {
   "cell_type": "markdown",
   "id": "04f6e73d",
   "metadata": {},
   "source": [
    "##### 키워드와 빈도수 추출하는 함수 정의"
   ]
  },
  {
   "cell_type": "code",
   "execution_count": 10,
   "id": "450e2398",
   "metadata": {},
   "outputs": [],
   "source": [
    "def get_keywords_and_frequency(text,nKeywords=10): #텍스트와  추출할 키워드 개수\n",
    "    spliter = Okt() # Okt 객체 생성\n",
    "    nouns = spliter.nouns(text) # 명사 추출 \n",
    "    count = Counter(nouns) # 명사별 빈도수 추출\n",
    "    list_keywords = []\n",
    "    \n",
    "    for n,c in count.most_common(nKeywords): # 최빈값 높은 명사 순으로, nKeywords까지 출력\n",
    "        item = {'keyword':n, 'count':c}\n",
    "        list_keywords.append(item)\n",
    "    return list_keywords"
   ]
  },
  {
   "cell_type": "markdown",
   "id": "391703b6",
   "metadata": {},
   "source": [
    "##### 추출 내용 저장하기"
   ]
  },
  {
   "cell_type": "code",
   "execution_count": 11,
   "id": "0d12a9ac",
   "metadata": {},
   "outputs": [],
   "source": [
    "for article in list_articles:\n",
    "    keywords = get_keywords_and_frequency(article['text'])\n",
    "    article['keywords'] = keywords"
   ]
  },
  {
   "cell_type": "markdown",
   "id": "8761ff0c",
   "metadata": {},
   "source": [
    "# 검색어를 입력받아서 그 검색어를 가지고 있는 기사를 출력하기"
   ]
  },
  {
   "cell_type": "code",
   "execution_count": 12,
   "id": "3755f33f",
   "metadata": {},
   "outputs": [],
   "source": [
    "# 검색어와 동일한 키워드가 있을 때, 빈도수 반환\n",
    "def search_articles(query, list_keywords): # 쿼리가 키워드 리스트에 있으면 출력 (없으면 0)\n",
    "    nWords = 0 # 키워드 빈도수 초기화\n",
    "    for kw in list_keywords:\n",
    "        if eq(query, kw['keyword']):\n",
    "            nWords = kw['count']\n",
    "    return nWords"
   ]
  },
  {
   "cell_type": "code",
   "execution_count": 13,
   "id": "ab4d2b05",
   "metadata": {},
   "outputs": [
    {
     "name": "stdout",
     "output_type": "stream",
     "text": [
      "키워드를 입력하세요 : 반도체\n",
      "[TF] 17, [Title] [미래 반도체 유니콘 열전]〈4〉퀄리타스반도체, 대규모 R&D로 '글로벌 인터커넥트 IP 기업' 도전, [URL] https://www.etnews.com/20231003000006\n",
      "[TF] 6, [Title] 산업부, '무역·기술 안보 종합전략' 세운다…연내 포럼 구성, [URL] https://www.etnews.com/20231004000002\n",
      "[TF] 15, [Title] 경북도, 4일 반도체 특화단지 추진단 출범, [URL] https://www.etnews.com/20231004000062\n",
      "[TF] 12, [Title] 美, 반도체 투자 3억달러 미만 기업도 지원금…산업부 “韓 기업 지원”, [URL] https://www.etnews.com/20230930000218\n"
     ]
    }
   ],
   "source": [
    "query = input(\"키워드를 입력하세요 : \")\n",
    "\n",
    "for article in list_articles:\n",
    "    nQuery = search_articles(query, article['keywords'])\n",
    "    if nQuery != 0:\n",
    "        print(f\"[TF] {nQuery}, [Title] {article['title']}, [URL] {article['link']}\")"
   ]
  },
  {
   "cell_type": "code",
   "execution_count": 14,
   "id": "eae7e75e",
   "metadata": {},
   "outputs": [
    {
     "data": {
      "text/plain": [
       "{'link': 'https://www.etnews.com/20231004000087',\n",
       " 'title': \"빗썸 메타버스 출격준비 완료…16조 시장 '패션·데이팅' 잡는다\",\n",
       " 'text': \"출시를 앞둔 빗썸의 메타버스 플랫폼 '네모월드'가 패션 커머스 시장과 데이팅 플랫폼 시장을 정조준한다. 기존에 존재하던 웹 2.0 서비스를 화려한 3D 그래픽의 '메타 커머스' 플랫폼으로 그대로 옮겨온다는 구상이다.\\n\\n\\n\\n업계에 따르면 빗썸의 웹3.0 메타버스 플랫폼 자회사 빗썸메타(대표 조현식)는 패션 브랜드사와 협업한 디지털 쇼룸과 커머스 시스템을 네모월드 내에 구현, 이르면 올해 4분기 소프트론칭한다. 내년 공식 출시까지 20여개 브랜드를 메타버스로 가져오는 것이 목표다.\\n\\n\\n\\n단순히 메타버스 내 사이버 상품만 구입하는 것이 아니라, 현실세계에서 이용자가 입을 패션 상품도 함께 구입하는 '메타 커머스' 플랫폼을 구현한다. 대체불가토큰(NFT) 시스템을 적용해 한정판 구입 고객만 초대받을 수 있는 패션쇼나 라운지 개념도 검토 중이다.\\n\\n\\n\\n이를 활용해 메타버스 내에서 이용자들이 교류할 수 있는 소셜 스페이스 플랫폼으로 확장한다. 틴더와 같은 데이팅 앱, 사회관계망서비스(SNS)가 갖고 있는 기능을 아바타 시스템을 통해 가져오겠다는 계획이다. 이처럼 메타버스 수용(Metaverse-Adoption) 가능한 웹2.0 서비스는 커머스가 약 8.4조원, 소셜스페이스 시장이 약 7.5조원 수준으로 추산된다.\\n\\n\\n\\n빗썸메타 네모월드 지향점은 '실사와 같은 3D 메타버스'다. 게임개발에 사용되는 '언리얼5 엔진'을 기반으로 아바타, 공간, 상품을 실제 수준에 가깝게 그려냈다. 특히 주력 타깃 시장인 패션상품의 경우 현실 상품의 재질감까지 구현했다. 성인들도 메타버스 세계관에 재미와 몰입감을 느낄 수 있을뿐만 아니라, 구매 소비와 경제활동으로 이어질 수 있을 가능성을 염두했다.\\n\\n\\n\\n앞서 빗썸메타는 지난달 국내 최대 패션 박람회인 '프리뷰 인 서울(Preview In Seoul) 2023'에서 가상세계의 3D 디지털 쇼룸을 선보여 눈길을 끌었다. 이용자들이 메타버스 내 아바타를 통해 실제 의상을 입어보고 다양한 활동을 하는 플랫폼을 선보였고, 이는 패션회사들이 저비용으로 신상품을 홍보할 수 있는 새로운 채널로 주목받았다.\\n\\n\\n\\n2022년 2월 설립한 빗썸메타는 LG CNS, CJ올리브네트웍스, SK그룹(드림어스컴퍼니) 등 대기업 관계사들이 투자 라운드에 참여하며 큰 기대를 모았다. 조현식 빗썸메타 대표가 하이텔과 엔씨소프트, 네이버, NHN를 거쳐 웹 1.0과 2.0 서비스 이해도가 높다는 점도 핵심 경쟁력으로 평가된다.\\n\\n\\n\\n조현식 빗썸메타 대표는 “트렌드에 민감하면서도 경제력을 갖춘 성인 유저를 끌어들이고 실제 구매로 연결시킬 수 있다는 점은, 기존 메타버스 서비스 대비 타깃 시장규모 자체를 달라지게 하는 요소”라며 “B2C 서비스로서도 훨씬 큰 수익 모델이 기대되며, B2B나 블록체인 영역에서도 기존에 없던 다양한 비즈니스모델(BM)이 가능해진다”고 말했다.\\n\\n\\n\\n이형두 기자 dudu@etnews.com\",\n",
       " 'keywords': [{'keyword': '메타', 'count': 18},\n",
       "  {'keyword': '버스', 'count': 10},\n",
       "  {'keyword': '빗썸', 'count': 8},\n",
       "  {'keyword': '플랫폼', 'count': 7},\n",
       "  {'keyword': '패션', 'count': 6},\n",
       "  {'keyword': '서비스', 'count': 6},\n",
       "  {'keyword': '상품', 'count': 6},\n",
       "  {'keyword': '수', 'count': 6},\n",
       "  {'keyword': '커머스', 'count': 5},\n",
       "  {'keyword': '시장', 'count': 5}]}"
      ]
     },
     "execution_count": 14,
     "metadata": {},
     "output_type": "execute_result"
    }
   ],
   "source": [
    "list_articles[0]"
   ]
  },
  {
   "cell_type": "markdown",
   "id": "f5012965",
   "metadata": {},
   "source": [
    "# 검색어를 입력받아서 TF-IDF 구현 및 출력"
   ]
  },
  {
   "cell_type": "code",
   "execution_count": 15,
   "id": "ca578a59",
   "metadata": {},
   "outputs": [],
   "source": [
    "from math import log # IDF 계산을 위해"
   ]
  },
  {
   "cell_type": "code",
   "execution_count": 16,
   "id": "44c697c1",
   "metadata": {
    "scrolled": false
   },
   "outputs": [
    {
     "name": "stdout",
     "output_type": "stream",
     "text": [
      "키워드를 입력하세요 : 반도체\n",
      "\n",
      "[TF] 17, [IDF] 2.7212954278522306, [TF-IDF] 46.26202227348792, [Title] [미래 반도체 유니콘 열전]〈4〉퀄리타스반도체, 대규모 R&D로 '글로벌 인터커넥트 IP 기업' 도전, [URL] https://www.etnews.com/20231003000006\n",
      "[TF] 15, [IDF] 2.7212954278522306, [TF-IDF] 40.819431417783456, [Title] 경북도, 4일 반도체 특화단지 추진단 출범, [URL] https://www.etnews.com/20231004000062\n",
      "[TF] 12, [IDF] 2.7212954278522306, [TF-IDF] 32.65554513422677, [Title] 美, 반도체 투자 3억달러 미만 기업도 지원금…산업부 “韓 기업 지원”, [URL] https://www.etnews.com/20230930000218\n",
      "[TF] 6, [IDF] 2.7212954278522306, [TF-IDF] 16.327772567113385, [Title] 산업부, '무역·기술 안보 종합전략' 세운다…연내 포럼 구성, [URL] https://www.etnews.com/20231004000002\n",
      "[TF] 0, [IDF] 2.7212954278522306, [TF-IDF] 0.0, [Title] 빗썸 메타버스 출격준비 완료…16조 시장 '패션·데이팅' 잡는다, [URL] https://www.etnews.com/20231004000087\n",
      "[TF] 0, [IDF] 2.7212954278522306, [TF-IDF] 0.0, [Title] 아이파트너즈, 혁신 스타트업 유럽진출 지원 시동, [URL] https://www.etnews.com/20231004000053\n",
      "[TF] 0, [IDF] 2.7212954278522306, [TF-IDF] 0.0, [Title] 롯데칠성음료, 필리핀펩시 경영권 취득...글로벌 음료시장 공략, [URL] https://www.etnews.com/20231004000021\n",
      "[TF] 0, [IDF] 2.7212954278522306, [TF-IDF] 0.0, [Title] 사공민 GS리테일 점포운영지원실장 “중기·점주 협업, 친환경 편의점 시대 연다”, [URL] https://www.etnews.com/20230927000112\n",
      "[TF] 0, [IDF] 2.7212954278522306, [TF-IDF] 0.0, [Title] 제주삼다수, 먹는샘물 25년간 부동의 1위 비결은, [URL] https://www.etnews.com/20231004000004\n",
      "[TF] 0, [IDF] 2.7212954278522306, [TF-IDF] 0.0, [Title] [단독] 수자원공사 해외투자 난관…'원금 회수' 적신호, [URL] https://www.etnews.com/20231004000003\n",
      "[TF] 0, [IDF] 2.7212954278522306, [TF-IDF] 0.0, [Title] '100경분의 1초' 빛으로 '전자의 세계' 연 과학자들 노벨 물리학상 수상, [URL] https://www.etnews.com/20231003000103\n",
      "[TF] 0, [IDF] 2.7212954278522306, [TF-IDF] 0.0, [Title] 정부, 디플정 마중물 '전자정부 클라우드 플랫폼' 구축 착수, [URL] https://www.etnews.com/20230926000252\n",
      "[TF] 0, [IDF] 2.7212954278522306, [TF-IDF] 0.0, [Title] [에듀플러스]“특성화고, 신산업·신기술 분야에 맞춘 학과 개편 활발…지난 7년간 372개교 902개과 학과 개편”, [URL] https://www.etnews.com/20231002000054\n",
      "[TF] 0, [IDF] 2.7212954278522306, [TF-IDF] 0.0, [Title] [에듀플러스]특성화고가 진화한다 “기업 협약형 특성화고 설립하고 서울형 마이스터고 전환…취업 품질 높이고 대학 진학도 고려”, [URL] https://www.etnews.com/20231002000053\n",
      "[TF] 0, [IDF] 2.7212954278522306, [TF-IDF] 0.0, [Title] 일본·프랑스 넘어 UAE·네덜란드까지 글로벌 오픈이노베이션 본격화, [URL] https://www.etnews.com/20230926000326\n",
      "[TF] 0, [IDF] 2.7212954278522306, [TF-IDF] 0.0, [Title] 자율주행로봇 시대 눈앞…업계 배송 서비스 마련에 한창, [URL] https://www.etnews.com/20230926000306\n",
      "[TF] 0, [IDF] 2.7212954278522306, [TF-IDF] 0.0, [Title] 유유제약, '2023 CPHI' 첫 참가…안구건조증 실패 딛고 글로벌 네트워크 구축 집중, [URL] https://www.etnews.com/20230926000298\n",
      "[TF] 0, [IDF] 2.7212954278522306, [TF-IDF] 0.0, [Title] 토요타 HEV 마지막 퍼즐 '신형 프리우스' 연말 韓 상륙, [URL] https://www.etnews.com/20231003000057\n",
      "[TF] 0, [IDF] 2.7212954278522306, [TF-IDF] 0.0, [Title] LG유플러스 아이들나라, 킬러콘텐츠 '책'…213만권 돌파, [URL] https://www.etnews.com/20231003000019\n",
      "[TF] 0, [IDF] 2.7212954278522306, [TF-IDF] 0.0, [Title] 문체위, 정치 공방 예고에 게임·콘텐츠 현안 뒷전 우려, [URL] https://www.etnews.com/20231003000017\n",
      "[TF] 0, [IDF] 2.7212954278522306, [TF-IDF] 0.0, [Title] 홍익표 “尹 정부와 여당은 한심… 민생위기로 국민은 한숨”, [URL] https://www.etnews.com/20231003000087\n",
      "[TF] 0, [IDF] 2.7212954278522306, [TF-IDF] 0.0, [Title] 소상공인 80% “韓 경제 작년보다 나빠져”, [URL] https://www.etnews.com/20231003000085\n",
      "[TF] 0, [IDF] 2.7212954278522306, [TF-IDF] 0.0, [Title] [에듀플러스]선배에게 듣는 진학상담〈26〉성균관대 컴퓨터교육과, “전국 정보교사 임용률 최고, 서울·경기권 교사 활동…IT대기업 진출도 활발”, [URL] https://www.etnews.com/20231002000050\n",
      "[TF] 0, [IDF] 2.7212954278522306, [TF-IDF] 0.0, [Title] [에듀플러스] 의약·자연계열 분석〈4〉한의대, 경희·부산대 등 12개대 757명 선발…합격선 의·치대 다음, 지방권 수시 대부분 지역인재 선발, [URL] https://www.etnews.com/20231002000047\n",
      "[TF] 0, [IDF] 2.7212954278522306, [TF-IDF] 0.0, [Title] AI 활용 의료영상 분석기술 급성장…세계 특허출원 10년간 연평균 54.7% 증가, [URL] https://www.etnews.com/20230927000041\n",
      "[TF] 0, [IDF] 2.7212954278522306, [TF-IDF] 0.0, [Title] '박카스의 아버지' 강신호 명예회장 별세, [URL] https://www.etnews.com/20231003000077\n",
      "[TF] 0, [IDF] 2.7212954278522306, [TF-IDF] 0.0, [Title] 총수 지분 3.6%로 기업 지배 여전…사익편취 규제대상도 늘어, [URL] https://www.etnews.com/20231003000056\n",
      "[TF] 0, [IDF] 2.7212954278522306, [TF-IDF] 0.0, [Title] [에듀플러스] 양영재단·삼양그룹 미래 과학 캠프, 11월 4~5일 개최 …대전 초등 5~6학년 대상 무료, 이티에듀 접수 가능, [URL] https://www.etnews.com/20231002000058\n",
      "[TF] 0, [IDF] 2.7212954278522306, [TF-IDF] 0.0, [Title] [에듀플러스]이공계 진로 특강〈2〉 슈퍼컴퓨터 활용한 공학 시뮬레이션 “디지털 트윈 시대 적합한 직업 찾으려면 과학·공학 꾸준히 공부”, [URL] https://www.etnews.com/20231002000057\n",
      "[TF] 0, [IDF] 2.7212954278522306, [TF-IDF] 0.0, [Title] [에듀플러스] SW중심대학을 만나다 ⑦이석환 동아대 SW중심대학단장 “지역사회 협업, 부산 SW생태계 선순환 마련…SW인재 2만명 양성”, [URL] https://www.etnews.com/20231002000056\n",
      "[TF] 0, [IDF] 2.7212954278522306, [TF-IDF] 0.0, [Title] 아이폰15 시리즈, 품귀현상 나타날 것으로 전망, [URL] https://www.etnews.com/20231003000062\n",
      "[TF] 0, [IDF] 2.7212954278522306, [TF-IDF] 0.0, [Title] 진화한 CCTV, 학폭 막고 실종자 찾는다, [URL] https://www.etnews.com/20231003000060\n",
      "[TF] 0, [IDF] 2.7212954278522306, [TF-IDF] 0.0, [Title] '신랑수업' 김지민 \"김준호와 결혼? 연애 들켜서…\", [URL] https://www.etnews.com/20231004000086\n",
      "[TF] 0, [IDF] 2.7212954278522306, [TF-IDF] 0.0, [Title] JT저축은행, '아동학대예방캠페인' 전개, [URL] https://www.etnews.com/20231004000085\n",
      "[TF] 0, [IDF] 2.7212954278522306, [TF-IDF] 0.0, [Title] 방탄소년단 정국, 11월 3일 첫 앨범 'GOLDEN' 발표…'글로벌 팝스타 금빛 정점', [URL] https://www.etnews.com/20231004000083\n",
      "[TF] 0, [IDF] 2.7212954278522306, [TF-IDF] 0.0, [Title] TXT, '현실 향한 찬란한 청춘판타지'…정규3집 최종 콘셉트컷 공개, [URL] https://www.etnews.com/20231004000081\n",
      "[TF] 0, [IDF] 2.7212954278522306, [TF-IDF] 0.0, [Title] '나는 솔로' 16기, 대반전 예고된 '눈물의 최종 선택', [URL] https://www.etnews.com/20231004000084\n",
      "[TF] 0, [IDF] 2.7212954278522306, [TF-IDF] 0.0, [Title] SK온 출범 2년…분기 매출 1조에서 3조로, [URL] https://www.etnews.com/20231004000082\n",
      "[TF] 0, [IDF] 2.7212954278522306, [TF-IDF] 0.0, [Title] LG전자, 13가지 다목적 모드 김치냉장고 출시, [URL] https://www.etnews.com/20231004000080\n",
      "[TF] 0, [IDF] 2.7212954278522306, [TF-IDF] 0.0, [Title] 김병욱 의원 “한수원 해킹 시도, 최근 7년 새 400건 육박”, [URL] https://www.etnews.com/20231004000079\n",
      "[TF] 0, [IDF] 2.7212954278522306, [TF-IDF] 0.0, [Title] '악인전기' 신재하 \"신하균과 함께 작품 출연…꿈★ 이뤘다\", [URL] https://www.etnews.com/20231004000077\n",
      "[TF] 0, [IDF] 2.7212954278522306, [TF-IDF] 0.0, [Title] 김영집 광주테크노파크 원장, 조선대 대학혁신정책세미나 초청 강연, [URL] https://www.etnews.com/20231004000076\n",
      "[TF] 0, [IDF] 2.7212954278522306, [TF-IDF] 0.0, [Title] [인사] 에이티랩, [URL] https://www.etnews.com/20231004000073\n",
      "[TF] 0, [IDF] 2.7212954278522306, [TF-IDF] 0.0, [Title] 자가통신망 대구스마트넷, 구축후 4년간 통신비 443억원 절감, [URL] https://www.etnews.com/20231004000072\n",
      "[TF] 0, [IDF] 2.7212954278522306, [TF-IDF] 0.0, [Title] '불꽃밴드' 사랑과 평화 VS 부활…맞대결 결과는?, [URL] https://www.etnews.com/20231004000071\n",
      "[TF] 0, [IDF] 2.7212954278522306, [TF-IDF] 0.0, [Title] 커넥트웨이브 “가격구독 서비스, 생성형AI로 고도화”, [URL] https://www.etnews.com/20231004000070\n",
      "[TF] 0, [IDF] 2.7212954278522306, [TF-IDF] 0.0, [Title] [ET라씨로]밀리의서재, 상장 2거래일째 급락, [URL] https://www.etnews.com/20231004000069\n",
      "[TF] 0, [IDF] 2.7212954278522306, [TF-IDF] 0.0, [Title] 이차전지 수명 획기적으로 늘렸다…KAIST, “리튬이차전지 전해액 '게임 체인저'될 것”, [URL] https://www.etnews.com/20231004000068\n",
      "[TF] 0, [IDF] 2.7212954278522306, [TF-IDF] 0.0, [Title] '강철부대3' UDT, 정종현 베네핏 획득에도 미 특수부대에 '석패', [URL] https://www.etnews.com/20231004000067\n",
      "[TF] 0, [IDF] 2.7212954278522306, [TF-IDF] 0.0, [Title] 신용평가사도 AI거버넌스 도입...올바른 활용 도모 [숏잇슈], [URL] https://www.etnews.com/20231004000066\n",
      "[TF] 0, [IDF] 2.7212954278522306, [TF-IDF] 0.0, [Title] 인천TP, 자동차 부품기업 간담회 개최, [URL] https://www.etnews.com/20231004000065\n",
      "[TF] 0, [IDF] 2.7212954278522306, [TF-IDF] 0.0, [Title] 카카오페이, 또래와 겨루는 '카드 절약 챌린지' 진행, [URL] https://www.etnews.com/20231004000064\n",
      "[TF] 0, [IDF] 2.7212954278522306, [TF-IDF] 0.0, [Title] LS마린솔루션, 대만에 영업거점...2.5조 해저 시공 수주 추진, [URL] https://www.etnews.com/20231004000063\n",
      "[TF] 0, [IDF] 2.7212954278522306, [TF-IDF] 0.0, [Title] 카카오뱅크, 전산시스템 정기 점검...15일 새벽 금융거래 일시 중단, [URL] https://www.etnews.com/20231004000061\n",
      "[TF] 0, [IDF] 2.7212954278522306, [TF-IDF] 0.0, [Title] 콘티넨탈, 현대차 신형 코나에 'V자형 디스플레이' 공급, [URL] https://www.etnews.com/20231004000060\n",
      "[TF] 0, [IDF] 2.7212954278522306, [TF-IDF] 0.0, [Title] 코드넛-IBK기업은행, '경제 교육 교재' 이벤트 진행, [URL] https://www.etnews.com/20231004000059\n",
      "[TF] 0, [IDF] 2.7212954278522306, [TF-IDF] 0.0, [Title] 금융투자협회, '해외 부동산 투자 실무' 교육생 모집, [URL] https://www.etnews.com/20231004000058\n",
      "[TF] 0, [IDF] 2.7212954278522306, [TF-IDF] 0.0, [Title] SK에코플랜트, 인천공항 폐기물로 석화원료·가스 생산, [URL] https://www.etnews.com/20231004000057\n",
      "[TF] 0, [IDF] 2.7212954278522306, [TF-IDF] 0.0, [Title] 강성묵 하나증권 대표이사, '노 엑시트' 마약 예방 캠페인 동참, [URL] https://www.etnews.com/20231004000056\n",
      "[TF] 0, [IDF] 2.7212954278522306, [TF-IDF] 0.0, [Title] 대한전선, 안마해상풍력 내부망 해저케이블 우선공급대상자 선정, [URL] https://www.etnews.com/20231004000055\n",
      "[TF] 0, [IDF] 2.7212954278522306, [TF-IDF] 0.0, [Title] 대 이은 '무자원 산유국' 뚝심…SK, 해외자원개발 '새역사' 썼다, [URL] https://www.etnews.com/20231002000004\n",
      "[TF] 0, [IDF] 2.7212954278522306, [TF-IDF] 0.0, [Title] 이재용 회장, 명절 현장경영 10년...올 추석엔 '중동 3개국', [URL] https://www.etnews.com/20231002000022\n",
      "[TF] 0, [IDF] 2.7212954278522306, [TF-IDF] 0.0, [Title] 대한민국 팀 LoL 금메달, 항저우 아시안게임 e스포츠 금메달 행진, [URL] https://www.etnews.com/20230930000215\n",
      "[TF] 0, [IDF] 2.7212954278522306, [TF-IDF] 0.0, [Title] 현대차·기아, 상반기 신차 판매량 1위는 미국, [URL] https://www.etnews.com/20231002000027\n",
      "[TF] 0, [IDF] 2.7212954278522306, [TF-IDF] 0.0, [Title] '질병' 취급받던 게임, 아시안게임 e스포츠 메달 행진... 정치권 반색, [URL] https://www.etnews.com/20231001000090\n",
      "[TF] 0, [IDF] 2.7212954278522306, [TF-IDF] 0.0, [Title] “가을 캠핑족 잡아라”... 간편·휴대성 갖춘 HMR 인기, [URL] https://www.etnews.com/20231001000089\n",
      "[TF] 0, [IDF] 2.7212954278522306, [TF-IDF] 0.0, [Title] 일본, 맥주 수입국 1위 재탈환...238% 급증, [URL] https://www.etnews.com/20231002000007\n",
      "[TF] 0, [IDF] 2.7212954278522306, [TF-IDF] 0.0, [Title] 급증하는 전력수요…100GW 넘어 2039년엔 150GW, [URL] https://www.etnews.com/20231002000001\n",
      "[TF] 0, [IDF] 2.7212954278522306, [TF-IDF] 0.0, [Title] 韓 디지털 인프라… OECD 선두 입증, [URL] https://www.etnews.com/20231003000013\n",
      "[TF] 0, [IDF] 2.7212954278522306, [TF-IDF] 0.0, [Title] 프랑스, 전자파위험 아이폰12 사용 허용, [URL] https://www.etnews.com/20230930000013\n",
      "[TF] 0, [IDF] 2.7212954278522306, [TF-IDF] 0.0, [Title] 억대 소득자 143만명, 1년간 23만명 증가, [URL] https://www.etnews.com/20231001000020\n",
      "[TF] 0, [IDF] 2.7212954278522306, [TF-IDF] 0.0, [Title] “'김정은 방러결과' 파일 열었다간”…北해킹조직, 정치·사회적 이슈 공격, [URL] https://www.etnews.com/20231001000005\n",
      "[TF] 0, [IDF] 2.7212954278522306, [TF-IDF] 0.0, [Title] 日, 기업 주도 전기차 중고 배터리 시장 만든다, [URL] https://www.etnews.com/20231001000167\n",
      "[TF] 0, [IDF] 2.7212954278522306, [TF-IDF] 0.0, [Title] 메타에 '매일 1억' 벌금 부과한 노르웨이…EU 전역 확대하나, [URL] https://www.etnews.com/20230930000031\n",
      "[TF] 0, [IDF] 2.7212954278522306, [TF-IDF] 0.0, [Title] “내가 투자한 기업도?”…황금연휴 '올빼미 공시' 4일 재공지된다, [URL] https://www.etnews.com/20230930000032\n",
      "[TF] 0, [IDF] 2.7212954278522306, [TF-IDF] 0.0, [Title] [인터뷰]마이클 비셔 미국 노터데임대 교수, “중이온가속기 인상적...향후 안정된 예산확보로 잘 운영되길”, [URL] https://www.etnews.com/20230927000060\n"
     ]
    }
   ],
   "source": [
    "query = input(\"키워드를 입력하세요 : \")\n",
    "print()\n",
    "\n",
    "sorted_list_articles = []\n",
    "docs_count=0\n",
    "\n",
    "for article in list_articles:\n",
    "    nQuery = search_articles(query, article['keywords'])\n",
    "    if nQuery != 0:\n",
    "        docs_count+=1\n",
    "        \n",
    "    sorted_list_articles.append([article,nQuery])\n",
    "#         print(f\"[TF] {nQuery}, [Title] {article['title']}, [URL] {article['link']}\")\n",
    "\n",
    "# 정렬하여 출력\n",
    "for i in sorted(sorted_list_articles, key=lambda x:x[1], reverse=True):\n",
    "    \n",
    "    tf = i[1]\n",
    "    idf = log(len(sorted_list_articles)/(docs_count+1))\n",
    "    tfidf = tf * idf # tfidf 구현\n",
    "    \n",
    "    print(f\"[TF] {i[1]}, [IDF] {idf}, [TF-IDF] {tfidf}, [Title] {i[0]['title']}, [URL] {i[0]['link']}\")\n",
    "    "
   ]
  },
  {
   "cell_type": "code",
   "execution_count": null,
   "id": "78f7126c",
   "metadata": {},
   "outputs": [],
   "source": []
  },
  {
   "cell_type": "code",
   "execution_count": null,
   "id": "fbd1db7a",
   "metadata": {},
   "outputs": [],
   "source": []
  },
  {
   "cell_type": "code",
   "execution_count": null,
   "id": "3afa7f7c",
   "metadata": {},
   "outputs": [],
   "source": []
  },
  {
   "cell_type": "code",
   "execution_count": null,
   "id": "72f9af3c",
   "metadata": {},
   "outputs": [],
   "source": []
  },
  {
   "cell_type": "code",
   "execution_count": null,
   "id": "d9e01720",
   "metadata": {},
   "outputs": [],
   "source": []
  },
  {
   "cell_type": "code",
   "execution_count": null,
   "id": "65b3220e",
   "metadata": {},
   "outputs": [],
   "source": []
  },
  {
   "cell_type": "code",
   "execution_count": null,
   "id": "079670f9",
   "metadata": {},
   "outputs": [],
   "source": []
  },
  {
   "cell_type": "code",
   "execution_count": null,
   "id": "93b26eba",
   "metadata": {},
   "outputs": [],
   "source": []
  }
 ],
 "metadata": {
  "kernelspec": {
   "display_name": "Python 3 (ipykernel)",
   "language": "python",
   "name": "python3"
  },
  "language_info": {
   "codemirror_mode": {
    "name": "ipython",
    "version": 3
   },
   "file_extension": ".py",
   "mimetype": "text/x-python",
   "name": "python",
   "nbconvert_exporter": "python",
   "pygments_lexer": "ipython3",
   "version": "3.11.5"
  }
 },
 "nbformat": 4,
 "nbformat_minor": 5
}
