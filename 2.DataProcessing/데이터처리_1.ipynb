{
 "cells": [
  {
   "cell_type": "markdown",
   "id": "1817aec2",
   "metadata": {},
   "source": [
    "# 파이썬을 활용한 데이터 처리\n",
    "\n",
    "###### 목차\n",
    "0. 데이터 전처리 Overview\n",
    "1. 데이터 프레임 변경\n",
    "2. 데이터 프레임 결합\n",
    "3. 시계열 데이터 처리\n",
    "4. 데이터 분석 방법론\n",
    "5. 시각화 라이브러리\n",
    "6. 다변량 분석 - 숫자형\n",
    "7. 다변량 분석 - 범주형"
   ]
  },
  {
   "cell_type": "markdown",
   "id": "988f0f37",
   "metadata": {},
   "source": [
    "## 0. 데이터 전처리\n",
    "1. 데이터 구조 만들기\n",
    "2. 모델링을 위한 전처리"
   ]
  },
  {
   "cell_type": "markdown",
   "id": "70de2603",
   "metadata": {},
   "source": [
    "## 1. 데이터 프레임 변경"
   ]
  },
  {
   "cell_type": "markdown",
   "id": "bb60d766",
   "metadata": {},
   "source": [
    "## 2. 데이터 프레임 결합"
   ]
  },
  {
   "cell_type": "markdown",
   "id": "b2f7dfdd",
   "metadata": {},
   "source": [
    "## 3. 시계열 데이터 처리"
   ]
  },
  {
   "cell_type": "markdown",
   "id": "ecc8cfd9",
   "metadata": {},
   "source": [
    "## 4. 데이터 분석 방법론"
   ]
  },
  {
   "cell_type": "markdown",
   "id": "cc7df03d",
   "metadata": {},
   "source": [
    "## 5. 시각화 라이브러리"
   ]
  },
  {
   "cell_type": "markdown",
   "id": "21042c9b",
   "metadata": {},
   "source": [
    "## 6. 다변량 분석 - 숫자형"
   ]
  },
  {
   "cell_type": "markdown",
   "id": "7b607abc",
   "metadata": {},
   "source": [
    "## 7. 다변량 분석 - 범주형"
   ]
  },
  {
   "cell_type": "code",
   "execution_count": null,
   "id": "bbca4352",
   "metadata": {},
   "outputs": [],
   "source": []
  }
 ],
 "metadata": {
  "kernelspec": {
   "display_name": "Python 3 (ipykernel)",
   "language": "python",
   "name": "python3"
  },
  "language_info": {
   "codemirror_mode": {
    "name": "ipython",
    "version": 3
   },
   "file_extension": ".py",
   "mimetype": "text/x-python",
   "name": "python",
   "nbconvert_exporter": "python",
   "pygments_lexer": "ipython3",
   "version": "3.11.3"
  }
 },
 "nbformat": 4,
 "nbformat_minor": 5
}
