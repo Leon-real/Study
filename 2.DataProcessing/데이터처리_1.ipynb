{
 "cells": [
  {
   "cell_type": "markdown",
   "id": "62fa0f09",
   "metadata": {},
   "source": [
    "# 파이썬을 활용한 데이터 처리\n",
    "\n",
    "###### 목차\n",
    "0. 데이터 전처리 Overview\n",
    "1. 데이터 프레임 변경\n",
    "2. 데이터 프레임 결합\n",
    "3. 시계열 데이터 처리\n",
    "4. 데이터 분석 방법론\n",
    "5. 시각화 라이브러리\n",
    "6. 다변량 분석 - 숫자형\n",
    "7. 다변량 분석 - 범주형"
   ]
  },
  {
   "cell_type": "markdown",
   "id": "33bd5bfc",
   "metadata": {},
   "source": [
    "## 0. 데이터 전처리\n",
    "1. 데이터 구조 만들기\n",
    "2. 모델링을 위한 전처리"
   ]
  },
  {
   "cell_type": "markdown",
   "id": "0529a19c",
   "metadata": {},
   "source": [
    "## 1. 데이터 프레임 변경\n",
    "- 열 이름 변경\n",
    "- 열 추가\n",
    "- 열 삭제\n",
    "- map, cut"
   ]
  },
  {
   "cell_type": "markdown",
   "id": "23166f9e",
   "metadata": {},
   "source": [
    "## 2. 데이터 프레임 결합\n",
    "- concat\n",
    "- merge\n"
   ]
  },
  {
   "cell_type": "markdown",
   "id": "90227443",
   "metadata": {},
   "source": [
    "## 3. 시계열 데이터 처리"
   ]
  },
  {
   "cell_type": "markdown",
   "id": "e4acc0cd",
   "metadata": {},
   "source": [
    "## 4. 데이터 분석 방법론"
   ]
  },
  {
   "cell_type": "markdown",
   "id": "984994f7",
   "metadata": {},
   "source": [
    "## 5. 시각화 라이브러리"
   ]
  },
  {
   "cell_type": "markdown",
   "id": "25fe9ed0",
   "metadata": {},
   "source": [
    "## 6. 다변량 분석 - 숫자형"
   ]
  },
  {
   "cell_type": "markdown",
   "id": "b341cccc",
   "metadata": {},
   "source": [
    "## 7. 다변량 분석 - 범주형"
   ]
  },
  {
   "cell_type": "code",
   "execution_count": null,
   "id": "43e2f56b",
   "metadata": {},
   "outputs": [],
   "source": []
  }
 ],
 "metadata": {
  "kernelspec": {
   "display_name": "Python 3 (ipykernel)",
   "language": "python",
   "name": "python3"
  },
  "language_info": {
   "codemirror_mode": {
    "name": "ipython",
    "version": 3
   },
   "file_extension": ".py",
   "mimetype": "text/x-python",
   "name": "python",
   "nbconvert_exporter": "python",
   "pygments_lexer": "ipython3",
   "version": "3.11.3"
  }
 },
 "nbformat": 4,
 "nbformat_minor": 5
}
