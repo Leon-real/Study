{
 "cells": [
  {
   "cell_type": "markdown",
   "id": "9bcaa22d",
   "metadata": {},
   "source": [
    "# 개인 정보 수집 유효기간\n",
    "---\n",
    "### 문제 설명  \n",
    "휴대폰의 자판은 컴퓨터 키보드 자판과는 다르게 하나의 키에 여러 개의 문자가 할당될 수 있습니다. 키 하나에 여러 문자가 할당된 경우, 동일한 키를 연속해서 빠르게 누르면 할당된 순서대로 문자가 바뀝니다.\n",
    "\n",
    "예를 들어, 1번 키에 \"A\", \"B\", \"C\" 순서대로 문자가 할당되어 있다면 1번 키를 한 번 누르면 \"A\", 두 번 누르면 \"B\", 세 번 누르면 \"C\"가 되는 식입니다.\n",
    "\n",
    "같은 규칙을 적용해 아무렇게나 만든 휴대폰 자판이 있습니다. 이 휴대폰 자판은 키의 개수가 1개부터 최대 100개까지 있을 수 있으며, 특정 키를 눌렀을 때 입력되는 문자들도 무작위로 배열되어 있습니다. 또, 같은 문자가 자판 전체에 여러 번 할당된 경우도 있고, 키 하나에 같은 문자가 여러 번 할당된 경우도 있습니다. 심지어 아예 할당되지 않은 경우도 있습니다. 따라서 몇몇 문자열은 작성할 수 없을 수도 있습니다.\n",
    "\n",
    "이 휴대폰 자판을 이용해 특정 문자열을 작성할 때, 키를 최소 몇 번 눌러야 그 문자열을 작성할 수 있는지 알아보고자 합니다.\n",
    "\n",
    "1번 키부터 차례대로 할당된 문자들이 순서대로 담긴 문자열배열 keymap과 입력하려는 문자열들이 담긴 문자열 배열 targets가 주어질 때, 각 문자열을 작성하기 위해 키를 최소 몇 번씩 눌러야 하는지 순서대로 배열에 담아 return 하는 solution 함수를 완성해 주세요.\n",
    "\n",
    "단, 목표 문자열을 작성할 수 없을 때는 -1을 저장합니다.\n",
    "    \n",
    "### 문제 풀이\n",
    "- 필요한 것은 무엇일까 ?  \n",
    "1. 각각의 keymap에서 targets의 거리 차이 -> 거리를 최소화 하기 위해\n",
    "2. 키패드 누른 횟수 -> 몇번 눌렀는지\n",
    "\n",
    "- 첫번째 풀이  \n",
    "1. targets을 한글자씩 순회하기\n",
    "2. 해당 글자에서 각 keymap당 최소 거리 구하기\n"
   ]
  },
  {
   "cell_type": "code",
   "execution_count": 2,
   "id": "ca5e547e",
   "metadata": {},
   "outputs": [],
   "source": [
    "keymap = [\"ABACD\", \"BCEFD\"]\n",
    "targets = [\"ABCD\",\"AABB\"]"
   ]
  },
  {
   "cell_type": "code",
   "execution_count": 4,
   "id": "d6f7297e",
   "metadata": {},
   "outputs": [
    {
     "data": {
      "text/plain": [
       "[9, 4]"
      ]
     },
     "execution_count": 4,
     "metadata": {},
     "output_type": "execute_result"
    }
   ],
   "source": [
    "# 내 풀이\n",
    "def solution(keymap, targets):\n",
    "    answer = []\n",
    "    \n",
    "    for target in targets:\n",
    "        cnt=0 # 총 누른 횟수\n",
    "        for s in target: # 한글자씩 확인\n",
    "            d = float('INF') # 거리 차이\n",
    "            temp_cnt = 0 # 한 글자당 누른 횟수\n",
    "            for k in keymap:\n",
    "                if s in k:\n",
    "                    d = min(d, k.index(s)) # 최소 거리값 갱신\n",
    "            if d != float('INF'): # 최소 거리값이 있을 경우\n",
    "                temp_cnt += (d+1)\n",
    "            else: # 최소 거리값이 없을 경우 -1 반환\n",
    "                cnt = -1\n",
    "                break\n",
    "            \n",
    "            cnt += temp_cnt\n",
    "        answer.append(cnt)\n",
    "    \n",
    "    \n",
    "    return answer\n",
    "\n",
    "solution(keymap, targets)"
   ]
  },
  {
   "cell_type": "code",
   "execution_count": null,
   "id": "7e76c628",
   "metadata": {},
   "outputs": [],
   "source": []
  },
  {
   "cell_type": "code",
   "execution_count": null,
   "id": "95701923",
   "metadata": {},
   "outputs": [],
   "source": []
  }
 ],
 "metadata": {
  "kernelspec": {
   "display_name": "Python 3 (ipykernel)",
   "language": "python",
   "name": "python3"
  },
  "language_info": {
   "codemirror_mode": {
    "name": "ipython",
    "version": 3
   },
   "file_extension": ".py",
   "mimetype": "text/x-python",
   "name": "python",
   "nbconvert_exporter": "python",
   "pygments_lexer": "ipython3",
   "version": "3.9.7"
  }
 },
 "nbformat": 4,
 "nbformat_minor": 5
}
