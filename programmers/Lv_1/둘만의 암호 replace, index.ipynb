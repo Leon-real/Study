{
 "cells": [
  {
   "cell_type": "markdown",
   "id": "cad79725",
   "metadata": {},
   "source": [
    "# 둘만의 암호\n",
    "---\n",
    "### 문제 설명  \n",
    "두 문자열 s와 skip, 그리고 자연수 index가 주어질 때, 다음 규칙에 따라 문자열을 만들려 합니다. 암호의 규칙은 다음과 같습니다.\n",
    "\n",
    "문자열 s의 각 알파벳을 index만큼 뒤의 알파벳으로 바꿔줍니다.\n",
    "index만큼의 뒤의 알파벳이 z를 넘어갈 경우 다시 a로 돌아갑니다.\n",
    "skip에 있는 알파벳은 제외하고 건너뜁니다.\n",
    "예를 들어 s = \"aukks\", skip = \"wbqd\", index = 5일 때, a에서 5만큼 뒤에 있는 알파벳은 f지만 [b, c, d, e, f]에서 'b'와 'd'는 skip에 포함되므로 세지 않습니다. 따라서 'b', 'd'를 제외하고 'a'에서 5만큼 뒤에 있는 알파벳은 [c, e, f, g, h] 순서에 의해 'h'가 됩니다. 나머지 \"ukks\" 또한 위 규칙대로 바꾸면 \"appy\"가 되며 결과는 \"happy\"가 됩니다.\n",
    "\n",
    "두 문자열 s와 skip, 그리고 자연수 index가 매개변수로 주어질 때 위 규칙대로 s를 변환한 결과를 return하도록 solution 함수를 완성해주세요.\n",
    "    \n",
    "### 문제 풀이\n",
    "1. 알파벳 순서의 문자열 생성\n",
    "2. skip문의 글자를 공백(\"\")으로 replace\n",
    "3. s를 한글자씩 순회하며 알파벳 문자열의 인덱스 + index를 해준 값을 answer에 넣어주기\n",
    "\n",
    "=> replace, index 사용"
   ]
  },
  {
   "cell_type": "code",
   "execution_count": 7,
   "id": "424847e8",
   "metadata": {},
   "outputs": [],
   "source": [
    "s = 'aukks'\n",
    "skip = 'wbqd'\n",
    "index = 5"
   ]
  },
  {
   "cell_type": "code",
   "execution_count": 8,
   "id": "b8d25840",
   "metadata": {},
   "outputs": [
    {
     "data": {
      "text/plain": [
       "'happy'"
      ]
     },
     "execution_count": 8,
     "metadata": {},
     "output_type": "execute_result"
    }
   ],
   "source": [
    "# 첫번째 풀이\n",
    "def solution(s, skip, index):\n",
    "    answer = ''\n",
    "    alpha='abcdefghijklmnopqrstuvwxyz'\n",
    "    \n",
    "    for i in skip:\n",
    "        alpha = alpha.replace(i,\"\")\n",
    "    alpha += alpha\n",
    "    \n",
    "    for i in s:\n",
    "        answer += alpha[alpha.index(i)+5]\n",
    "    \n",
    "    return answer\n",
    "\n",
    "solution(s,skip,index)"
   ]
  },
  {
   "cell_type": "markdown",
   "id": "7e8fbe57",
   "metadata": {},
   "source": [
    "##### 런타임 에러  \n",
    "\n",
    "- answer += alpha[alpha.index(i)+5]에서  숫자 5가 아닌, index 매개변수로 수정\n",
    "\n",
    "-  % 기호 활용하여서 문제 풀기"
   ]
  },
  {
   "cell_type": "code",
   "execution_count": 10,
   "id": "ce0b3d8f",
   "metadata": {},
   "outputs": [
    {
     "data": {
      "text/plain": [
       "'happy'"
      ]
     },
     "execution_count": 10,
     "metadata": {},
     "output_type": "execute_result"
    }
   ],
   "source": [
    "# 두번째 풀이\n",
    "def solution(s, skip, index):\n",
    "    answer = ''\n",
    "    alpha='abcdefghijklmnopqrstuvwxyz'\n",
    "    \n",
    "    for i in skip:\n",
    "        alpha = alpha.replace(i,\"\")\n",
    "    alpha += alpha\n",
    "    \n",
    "    for i in s:\n",
    "        answer += alpha[(alpha.index(i) + index) % len(alpha)]\n",
    "    \n",
    "    return answer\n",
    "solution(s,skip,index)"
   ]
  },
  {
   "cell_type": "code",
   "execution_count": null,
   "id": "3f3507da",
   "metadata": {},
   "outputs": [],
   "source": []
  }
 ],
 "metadata": {
  "kernelspec": {
   "display_name": "Python 3 (ipykernel)",
   "language": "python",
   "name": "python3"
  },
  "language_info": {
   "codemirror_mode": {
    "name": "ipython",
    "version": 3
   },
   "file_extension": ".py",
   "mimetype": "text/x-python",
   "name": "python",
   "nbconvert_exporter": "python",
   "pygments_lexer": "ipython3",
   "version": "3.9.7"
  }
 },
 "nbformat": 4,
 "nbformat_minor": 5
}
