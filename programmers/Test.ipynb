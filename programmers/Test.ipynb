{
 "cells": [
  {
   "cell_type": "markdown",
   "id": "cad79725",
   "metadata": {},
   "source": [
    "# 프로그래머스 문제 풀이\n",
    "\n",
    "- [프로그래머스](https://school.programmers.co.kr/learn/challenges?order=acceptance_desc&page=1) 사이트\n",
    "\n",
    "- 프로그래머스 알고리즘 연습 문제 풀이"
   ]
  },
  {
   "cell_type": "code",
   "execution_count": null,
   "id": "424847e8",
   "metadata": {},
   "outputs": [],
   "source": []
  }
 ],
 "metadata": {
  "kernelspec": {
   "display_name": "Python 3 (ipykernel)",
   "language": "python",
   "name": "python3"
  },
  "language_info": {
   "codemirror_mode": {
    "name": "ipython",
    "version": 3
   },
   "file_extension": ".py",
   "mimetype": "text/x-python",
   "name": "python",
   "nbconvert_exporter": "python",
   "pygments_lexer": "ipython3",
   "version": "3.9.7"
  }
 },
 "nbformat": 4,
 "nbformat_minor": 5
}
