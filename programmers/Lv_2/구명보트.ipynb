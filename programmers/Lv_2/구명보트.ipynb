{
 "cells": [
  {
   "cell_type": "markdown",
   "id": "150200e2",
   "metadata": {},
   "source": [
    "# 구명보트\n",
    "  \n",
    "\n",
    "### 문제 설명  \n",
    "무인도에 갇힌 사람들을 구명보트를 이용하여 구출하려고 합니다. 구명보트는 작아서 한 번에 최대 2명씩 밖에 탈 수 없고, 무게 제한도 있습니다.  \n",
    "  \n",
    "예를 들어, 사람들의 몸무게가 [70kg, 50kg, 80kg, 50kg]이고 구명보트의 무게 제한이 100kg이라면 2번째 사람과 4번째 사람은 같이 탈 수 있지만 1번째 사람과 3번째 사람의 무게의 합은 150kg이므로 구명보트의 무게 제한을 초과하여 같이 탈 수 없습니다.  \n",
    "  \n",
    "구명보트를 최대한 적게 사용하여 모든 사람을 구출하려고 합니다.  \n",
    "  \n",
    "사람들의 몸무게를 담은 배열 people과 구명보트의 무게 제한 limit가 매개변수로 주어질 때, 모든 사람을 구출하기 위해 필요한 구명보트 개수의 최솟값을 return 하도록 solution 함수를 작성해주세요.  \n",
    "  \n",
    "제한사항  \n",
    "무인도에 갇힌 사람은 1명 이상 50,000명 이하입니다.  \n",
    "각 사람의 몸무게는 40kg 이상 240kg 이하입니다.  \n",
    "구명보트의 무게 제한은 40kg 이상 240kg 이하입니다.  \n",
    "구명보트의 무게 제한은 항상 사람들의 몸무게 중 최댓값보다 크게 주어지므로 사람들을 구출할 수 없는 경우는 없습니다.  \n",
    "  \n",
    "      \n",
    "### 풀이\n",
    "- 아이디어  \n",
    "     - 구명보트 최대 2명  \n",
    "     - 무게 제한(limit)을 초과하여 탈 수 없음  \n",
    "     - 구명보트 최대한 적게 사용이 목적  \n",
    "     - \n",
    "     \n",
    "     \n",
    "- 풀이 순서\n",
    "- 첫번째 풀이 : 시간초과 1개 => 실패\n",
    "1. 몸무게 많이 나가는 사람 선택\n",
    "2. 무게 제한에 걸리지 않게 한사람 더 선택(최대한 무게 제한에 맞게)\n",
    "3. 구명 보트 +1 카운트\n",
    "4. 1~3번 반복\n",
    "\n",
    "- 두번째 풀이 : from collections import deque 사용 => 성공\n",
    "1. 방법은 위와 같음"
   ]
  },
  {
   "cell_type": "code",
   "execution_count": 1,
   "id": "691f0e29",
   "metadata": {},
   "outputs": [],
   "source": [
    "[50,50,70,80]\n",
    "\n",
    "people = [70,50,80,50]\n",
    "limit = 100"
   ]
  },
  {
   "cell_type": "code",
   "execution_count": 2,
   "id": "bcf6c2ec",
   "metadata": {},
   "outputs": [
    {
     "data": {
      "text/plain": [
       "3"
      ]
     },
     "execution_count": 2,
     "metadata": {},
     "output_type": "execute_result"
    }
   ],
   "source": [
    "def solution(people, limit):\n",
    "    answer = 0\n",
    "    people = sorted(people)\n",
    "    while len(people) > 0:\n",
    "        if len(people) == 1:\n",
    "            answer+=1\n",
    "            break\n",
    "        max_p = people.pop()\n",
    "        if max_p + people[0] > limit:\n",
    "            pass\n",
    "        else:\n",
    "            people.pop(0)\n",
    "        answer += 1\n",
    "    return answer\n",
    "solution(people, limit)"
   ]
  },
  {
   "cell_type": "code",
   "execution_count": null,
   "id": "e79fca08",
   "metadata": {},
   "outputs": [],
   "source": []
  },
  {
   "cell_type": "code",
   "execution_count": 13,
   "id": "cbe06416",
   "metadata": {},
   "outputs": [
    {
     "data": {
      "text/plain": [
       "3"
      ]
     },
     "execution_count": 13,
     "metadata": {},
     "output_type": "execute_result"
    }
   ],
   "source": [
    "from collections import deque\n",
    "\n",
    "def solution(people, limit):\n",
    "    answer = 0\n",
    "    p = deque(sorted(people))\n",
    "    \n",
    "    while len(p) > 0:\n",
    "        if len(p) == 1:\n",
    "            answer+=1\n",
    "            break\n",
    "        max_p = p.pop()\n",
    "        if max_p + p[0] > limit:\n",
    "            pass\n",
    "        else:\n",
    "            p.popleft()\n",
    "        answer += 1\n",
    "    return answer\n",
    "\n",
    "answer = solution(people, limit)\n",
    "answer"
   ]
  },
  {
   "cell_type": "code",
   "execution_count": null,
   "id": "4905ee98",
   "metadata": {},
   "outputs": [],
   "source": [
    "# 다른 사람 풀이\n",
    "def solution(people, limit) :\n",
    "    answer = 0\n",
    "    people.sort()\n",
    "\n",
    "    a = 0\n",
    "    b = len(people) - 1\n",
    "    while a < b :\n",
    "        if people[b] + people[a] <= limit :\n",
    "            a += 1\n",
    "            answer += 1\n",
    "        b -= 1\n",
    "    return len(people) - answer\n"
   ]
  }
 ],
 "metadata": {
  "kernelspec": {
   "display_name": "Python 3 (ipykernel)",
   "language": "python",
   "name": "python3"
  },
  "language_info": {
   "codemirror_mode": {
    "name": "ipython",
    "version": 3
   },
   "file_extension": ".py",
   "mimetype": "text/x-python",
   "name": "python",
   "nbconvert_exporter": "python",
   "pygments_lexer": "ipython3",
   "version": "3.9.7"
  }
 },
 "nbformat": 4,
 "nbformat_minor": 5
}
