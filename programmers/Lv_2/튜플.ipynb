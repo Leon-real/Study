{
 "cells": [
  {
   "cell_type": "markdown",
   "id": "54f4e2c7",
   "metadata": {},
   "source": [
    "# 튜플\n",
    "\n",
    "### 문제 설명  \n",
    "셀수있는 수량의 순서있는 열거 또는 어떤 순서를 따르는 요소들의 모음을 튜플(tuple)이라고 합니다. n개의 요소를 가진 튜플을 n-튜플(n-tuple)이라고 하며, 다음과 같이 표현할 수 있습니다.  \n",
    "\n",
    "(a1, a2, a3, ..., an)  \n",
    "튜플은 다음과 같은 성질을 가지고 있습니다.  \n",
    "  \n",
    "중복된 원소가 있을 수 있습니다. ex : (2, 3, 1, 2)  \n",
    "원소에 정해진 순서가 있으며, 원소의 순서가 다르면 서로 다른 튜플입니다. ex : (1, 2, 3) ≠ (1, 3, 2)  \n",
    "튜플의 원소 개수는 유한합니다.  \n",
    "원소의 개수가 n개이고, 중복되는 원소가 없는 튜플 (a1, a2, a3, ..., an)이 주어질 때(단, a1, a2, ..., an은 자연수), 이는 다음과 같이 집합 기호 '{', '}'를 이용해 표현할 수 있습니다.  \n",
    "  \n",
    "{{a1}, {a1, a2}, {a1, a2, a3}, {a1, a2, a3, a4}, ... {a1, a2, a3, a4, ..., an}}  \n",
    "예를 들어 튜플이 (2, 1, 3, 4)인 경우 이는  \n",
    "  \n",
    "{{2}, {2, 1}, {2, 1, 3}, {2, 1, 3, 4}}  \n",
    "와 같이 표현할 수 있습니다. 이때, 집합은 원소의 순서가 바뀌어도 상관없으므로  \n",
    "  \n",
    "{{2}, {2, 1}, {2, 1, 3}, {2, 1, 3, 4}}  \n",
    "{{2, 1, 3, 4}, {2}, {2, 1, 3}, {2, 1}}  \n",
    "{{1, 2, 3}, {2, 1}, {1, 2, 4, 3}, {2}}  \n",
    "는 모두 같은 튜플 (2, 1, 3, 4)를 나타냅니다.  \n",
    "  \n",
    "특정 튜플을 표현하는 집합이 담긴 문자열 s가 매개변수로 주어질 때, s가 표현하는 튜플을 배열에 담아 return 하도록 solution 함수를 완성해주세요.   \n",
    "      \n",
    "### 풀이\n",
    "- 아이디어  \n",
    "     - 공백   \n",
    "       \n",
    "- 풀이 순서\n",
    "1."
   ]
  },
  {
   "cell_type": "code",
   "execution_count": 59,
   "id": "27de6847",
   "metadata": {},
   "outputs": [],
   "source": [
    "s = \"{{2},{2,1},{2,1,3},{2,1,3,4}}\"\n",
    "s = \"{{4,2,3},{3},{2,3,4,1},{2,3}}\"\n",
    "s = s.replace(\"{{\",\"\").replace(\"}}\",\"\")"
   ]
  },
  {
   "cell_type": "code",
   "execution_count": 60,
   "id": "3b8dd56f",
   "metadata": {},
   "outputs": [],
   "source": [
    "s = s.split(\"},{\")"
   ]
  },
  {
   "cell_type": "code",
   "execution_count": 61,
   "id": "da8d0dee",
   "metadata": {},
   "outputs": [
    {
     "data": {
      "text/plain": [
       "['3', '2,3', '4,2,3', '2,3,4,1']"
      ]
     },
     "execution_count": 61,
     "metadata": {},
     "output_type": "execute_result"
    }
   ],
   "source": [
    "s = sorted(s, key=lambda x:len(x))\n",
    "s"
   ]
  },
  {
   "cell_type": "code",
   "execution_count": 62,
   "id": "814a7947",
   "metadata": {},
   "outputs": [
    {
     "data": {
      "text/plain": [
       "['3', '2', '4', '1']"
      ]
     },
     "execution_count": 62,
     "metadata": {},
     "output_type": "execute_result"
    }
   ],
   "source": [
    "answer = []\n",
    "\n",
    "for i in s:\n",
    "    for j in i.split(\",\"):\n",
    "        if j in answer:\n",
    "            pass\n",
    "        else:\n",
    "            answer.append(j)\n",
    "answer"
   ]
  },
  {
   "cell_type": "code",
   "execution_count": null,
   "id": "f193cd04",
   "metadata": {},
   "outputs": [],
   "source": []
  },
  {
   "cell_type": "code",
   "execution_count": null,
   "id": "ffacccc6",
   "metadata": {},
   "outputs": [],
   "source": []
  },
  {
   "cell_type": "code",
   "execution_count": 63,
   "id": "e8376d1c",
   "metadata": {},
   "outputs": [
    {
     "data": {
      "text/plain": [
       "['2', '1', '3', '4']"
      ]
     },
     "execution_count": 63,
     "metadata": {},
     "output_type": "execute_result"
    }
   ],
   "source": [
    "answer=[]\n",
    "s = \"{{2},{2,1},{2,1,3},{2,1,3,4}}\"\n",
    "\n",
    "s = s.replace(\"{{\",\"\").replace(\"}}\",\"\")\n",
    "s = s.split(\"},{\")\n",
    "s = sorted(s, key=lambda x:len(x))\n",
    "\n",
    "for i in s:\n",
    "    for j in i.split(\",\"):\n",
    "        if int(j) in answer:\n",
    "            pass\n",
    "        else:\n",
    "            answer.append(int(j))\n",
    "answer"
   ]
  },
  {
   "cell_type": "code",
   "execution_count": null,
   "id": "c1eb9852",
   "metadata": {},
   "outputs": [],
   "source": []
  }
 ],
 "metadata": {
  "kernelspec": {
   "display_name": "Python 3 (ipykernel)",
   "language": "python",
   "name": "python3"
  },
  "language_info": {
   "codemirror_mode": {
    "name": "ipython",
    "version": 3
   },
   "file_extension": ".py",
   "mimetype": "text/x-python",
   "name": "python",
   "nbconvert_exporter": "python",
   "pygments_lexer": "ipython3",
   "version": "3.9.7"
  }
 },
 "nbformat": 4,
 "nbformat_minor": 5
}
