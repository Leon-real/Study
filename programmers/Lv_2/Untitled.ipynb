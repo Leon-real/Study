{
 "cells": [
  {
   "cell_type": "markdown",
   "id": "4fa1b407",
   "metadata": {},
   "source": [
    "# 행렬의 곱셈\n",
    "\n",
    "### 문제 설명  \n",
    "2차원 행렬 arr1과 arr2를 입력받아, arr1에 arr2를 곱한 결과를 반환하는 함수, solution을 완성해주세요.  \n",
    "      \n",
    "### 풀이\n",
    "- 아이디어  \n",
    "     - 행과 열이 몇 x 몇인지 구하기  \n",
    "     - 각 행에 해당하는 열값 계산해주기  \n",
    "       \n",
    "- 풀이 순서\n",
    "1."
   ]
  },
  {
   "cell_type": "code",
   "execution_count": 13,
   "id": "d2f4848e",
   "metadata": {},
   "outputs": [],
   "source": [
    "arr1 = [[1, 4], \n",
    "        [3, 2], \n",
    "        [4, 1]]\n",
    "\n",
    "arr2 = [[3, 3], \n",
    "        [3, 3]]\n",
    "\n",
    "# arr1 = [[2, 3, 2], [4, 2, 4], [3, 1, 4]]\n",
    "# arr2 = [[5, 4, 3], [2, 4, 1], [3, 1, 1]]"
   ]
  },
  {
   "cell_type": "code",
   "execution_count": 14,
   "id": "50867c38",
   "metadata": {},
   "outputs": [
    {
     "data": {
      "text/plain": [
       "(3, 2)"
      ]
     },
     "execution_count": 14,
     "metadata": {},
     "output_type": "execute_result"
    }
   ],
   "source": [
    "a = len(arr1) # 행\n",
    "b = len(arr2[0]) # 열\n",
    "a, b    "
   ]
  },
  {
   "cell_type": "code",
   "execution_count": null,
   "id": "f95d6789",
   "metadata": {},
   "outputs": [],
   "source": []
  },
  {
   "cell_type": "code",
   "execution_count": 22,
   "id": "88dff55a",
   "metadata": {},
   "outputs": [
    {
     "data": {
      "text/plain": [
       "[[15, 15], [15, 15], [15, 15]]"
      ]
     },
     "execution_count": 22,
     "metadata": {},
     "output_type": "execute_result"
    }
   ],
   "source": [
    "\n",
    "answer = [[0]*len(arr2[0]) for _ in range(len(arr1))]\n",
    "for i in range(len(arr1)): \n",
    "    for j in range(len(arr2[0])): \n",
    "        for k in range(len(arr1[0])): \n",
    "            answer[i][j] += arr1[i][k] * arr2[k][j]\n",
    "answer"
   ]
  },
  {
   "cell_type": "code",
   "execution_count": null,
   "id": "b27bc404",
   "metadata": {},
   "outputs": [],
   "source": []
  },
  {
   "cell_type": "code",
   "execution_count": null,
   "id": "3d5f0e6c",
   "metadata": {},
   "outputs": [],
   "source": []
  }
 ],
 "metadata": {
  "kernelspec": {
   "display_name": "Python 3 (ipykernel)",
   "language": "python",
   "name": "python3"
  },
  "language_info": {
   "codemirror_mode": {
    "name": "ipython",
    "version": 3
   },
   "file_extension": ".py",
   "mimetype": "text/x-python",
   "name": "python",
   "nbconvert_exporter": "python",
   "pygments_lexer": "ipython3",
   "version": "3.9.7"
  }
 },
 "nbformat": 4,
 "nbformat_minor": 5
}
