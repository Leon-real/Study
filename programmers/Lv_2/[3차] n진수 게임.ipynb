{
 "cells": [
  {
   "cell_type": "markdown",
   "id": "ecce1412",
   "metadata": {},
   "source": [
    "# 문제 제목\n",
    "\n",
    "### 문제 설명  \n",
    "튜브가 활동하는 코딩 동아리에서는 전통적으로 해오는 게임이 있다. 이 게임은 여러 사람이 둥글게 앉아서 숫자를 하나씩 차례대로 말하는 게임인데, 규칙은 다음과 같다.  \n",
    "  \n",
    "숫자를 0부터 시작해서 차례대로 말한다. 첫 번째 사람은 0, 두 번째 사람은 1, … 열 번째 사람은 9를 말한다.  \n",
    "10 이상의 숫자부터는 한 자리씩 끊어서 말한다. 즉 열한 번째 사람은 10의 첫 자리인 1, 열두 번째 사람은 둘째 자리인 0을 말한다.  \n",
    "이렇게 게임을 진행할 경우,  \n",
    "0, 1, 2, 3, 4, 5, 6, 7, 8, 9, 1, 0, 1, 1, 1, 2, 1, 3, 1, 4, …  \n",
    "순으로 숫자를 말하면 된다.  \n",
    "  \n",
    "한편 코딩 동아리 일원들은 컴퓨터를 다루는 사람답게 이진수로 이 게임을 진행하기도 하는데, 이 경우에는  \n",
    "0, 1, 1, 0, 1, 1, 1, 0, 0, 1, 0, 1, 1, 1, 0, 1, 1, 1, …  \n",
    "순으로 숫자를 말하면 된다.  \n",
    "  \n",
    "이진수로 진행하는 게임에 익숙해져 질려가던 사람들은 좀 더 난이도를 높이기 위해 이진법에서 십육진법까지 모든 진법으로 게임을 진행해보기로 했다. 숫자 게임이 익숙하지 않은 튜브는 게임에 져서 벌칙을 받는 굴욕을 피하기 위해, 자신이 말해야 하는 숫자를 스마트폰에 미리 출력해주는 프로그램을 만들려고 한다. 튜브의 프로그램을 구현하라.  \n",
    "  \n",
    "### 풀이\n",
    "- 아이디어  \n",
    "     - 공백   \n",
    "       \n",
    "- 풀이 순서\n",
    "1."
   ]
  },
  {
   "cell_type": "code",
   "execution_count": 1,
   "id": "b02019cd",
   "metadata": {},
   "outputs": [],
   "source": [
    "n = 2\n",
    "t = 4\n",
    "m = 2\n",
    "p = 1"
   ]
  },
  {
   "cell_type": "code",
   "execution_count": 3,
   "id": "43d8aadb",
   "metadata": {},
   "outputs": [],
   "source": [
    "n = 16\n",
    "t = 16\n",
    "m = 2\n",
    "p = 2"
   ]
  },
  {
   "cell_type": "code",
   "execution_count": 4,
   "id": "f2a0553f",
   "metadata": {},
   "outputs": [
    {
     "data": {
      "text/plain": [
       "'13579BDF01234567'"
      ]
     },
     "execution_count": 4,
     "metadata": {},
     "output_type": "execute_result"
    }
   ],
   "source": [
    "def convert_n(number,base):\n",
    "    temp = '0123456789ABCDEF'\n",
    "    q, r = divmod(number, base)\n",
    "    \n",
    "    if q==0:\n",
    "        return temp[r]\n",
    "    else:\n",
    "        # q를 base로 변환\n",
    "        # 즉, n진수의 다음 자리를 구함\n",
    "        return convert_n(q, base) + temp[r]\n",
    "\n",
    "def solution(n, t, m, p):\n",
    "    answer = ''\n",
    "    test = ''\n",
    "    for i in range(t*m):\n",
    "        test += str(convert_n(i,n))\n",
    "    while len(answer) < t:\n",
    "        answer += test[p-1]\n",
    "        p+=m\n",
    "\n",
    "    return answer\n",
    "\n",
    "solution(n, t, m, p)"
   ]
  },
  {
   "cell_type": "code",
   "execution_count": null,
   "id": "2ac48f3d",
   "metadata": {},
   "outputs": [],
   "source": []
  }
 ],
 "metadata": {
  "kernelspec": {
   "display_name": "Python 3 (ipykernel)",
   "language": "python",
   "name": "python3"
  },
  "language_info": {
   "codemirror_mode": {
    "name": "ipython",
    "version": 3
   },
   "file_extension": ".py",
   "mimetype": "text/x-python",
   "name": "python",
   "nbconvert_exporter": "python",
   "pygments_lexer": "ipython3",
   "version": "3.9.7"
  }
 },
 "nbformat": 4,
 "nbformat_minor": 5
}
