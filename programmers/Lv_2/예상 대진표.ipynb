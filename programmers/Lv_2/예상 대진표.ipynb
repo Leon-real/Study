{
 "cells": [
  {
   "cell_type": "markdown",
   "id": "c7e2d78d",
   "metadata": {},
   "source": [
    "# 예상 대진표\n",
    "  \n",
    "\n",
    "### 문제 설명  \n",
    "△△ 게임대회가 개최되었습니다. 이 대회는 N명이 참가하고, 토너먼트 형식으로 진행됩니다. N명의 참가자는 각각 1부터 N번을 차례대로 배정받습니다. 그리고, 1번↔2번, 3번↔4번, ... , N-1번↔N번의 참가자끼리 게임을 진행합니다. 각 게임에서 이긴 사람은 다음 라운드에 진출할 수 있습니다. 이때, 다음 라운드에 진출할 참가자의 번호는 다시 1번부터 N/2번을 차례대로 배정받습니다. 만약 1번↔2번 끼리 겨루는 게임에서 2번이 승리했다면 다음 라운드에서 1번을 부여받고, 3번↔4번에서 겨루는 게임에서 3번이 승리했다면 다음 라운드에서 2번을 부여받게 됩니다. 게임은 최종 한 명이 남을 때까지 진행됩니다.  \n",
    "  \n",
    "이때, 처음 라운드에서 A번을 가진 참가자는 경쟁자로 생각하는 B번 참가자와 몇 번째 라운드에서 만나는지 궁금해졌습니다. 게임 참가자 수 N, 참가자 번호 A, 경쟁자 번호 B가 함수 solution의 매개변수로 주어질 때, 처음 라운드에서 A번을 가진 참가자는 경쟁자로 생각하는 B번 참가자와 몇 번째 라운드에서 만나는지 return 하는 solution 함수를 완성해 주세요. 단, A번 참가자와 B번 참가자는 서로 붙게 되기 전까지 항상 이긴다고 가정합니다.  \n",
    "  \n",
    "제한사항  \n",
    "N : 21 이상 220 이하인 자연수 (2의 지수 승으로 주어지므로 부전승은 발생하지 않습니다.)  \n",
    "A, B : N 이하인 자연수 (단, A ≠ B 입니다.)  \n",
    "  \n",
    "      \n",
    "### 풀이\n",
    "- 아이디어  \n",
    "    \n",
    "     \n",
    "     \n",
    "- 풀이 순서  \n",
    "  \n",
    "1. 첫번째 풀이 : 실패 => 리스트 값이 아닌 range값으로 if문 확인함\n",
    "2. 두번째 풀아 : 런타임 에러 및 실패 =>\n",
    "---\n",
    "- 문제 분석 및 정답 해석  \n",
    "1. N이 2의 제곱과 관련되어 있기 때문에 2와 관련된 규칙 찾기\n",
    "2. 2를 나눈후 몫과 나머지 비교하기"
   ]
  },
  {
   "cell_type": "code",
   "execution_count": 1,
   "id": "86d415ae",
   "metadata": {},
   "outputs": [],
   "source": [
    "n = 8\n",
    "a = 4\n",
    "b = 7"
   ]
  },
  {
   "cell_type": "code",
   "execution_count": 3,
   "id": "c7267e4d",
   "metadata": {},
   "outputs": [
    {
     "name": "stdout",
     "output_type": "stream",
     "text": [
      "[1, 2, 3, 4, 5, 6, 7, 8] 0\n",
      "[1, 3, 4, 7] 1\n",
      "[1, 3] 2\n"
     ]
    },
    {
     "data": {
      "text/plain": [
       "3"
      ]
     },
     "execution_count": 3,
     "metadata": {},
     "output_type": "execute_result"
    }
   ],
   "source": [
    "def solution(n,a,b):\n",
    "    answer = 0\n",
    "    n_lists = [i for i in range(1,n+1)]\n",
    "    while len(n_lists)>1:\n",
    "        print(n_lists, answer)\n",
    "        answer+=1\n",
    "        new_lists=[]\n",
    "        for i in range(0, len(n_lists), 2):\n",
    "            if i==a and i+1==b or i==b and i+1==a:\n",
    "                break\n",
    "            elif i == a or i+1 ==a:\n",
    "                new_lists.append(a)\n",
    "            elif i==b or i+1 ==b:\n",
    "                new_lists.append(b)\n",
    "            else:\n",
    "                new_lists.append(i+1)\n",
    "        n_lists= new_lists\n",
    "\n",
    "    return answer\n",
    "solution(n,a,b)"
   ]
  },
  {
   "cell_type": "code",
   "execution_count": 11,
   "id": "93df4098",
   "metadata": {},
   "outputs": [
    {
     "data": {
      "text/plain": [
       "3"
      ]
     },
     "execution_count": 11,
     "metadata": {},
     "output_type": "execute_result"
    }
   ],
   "source": [
    "# 두번째 풀이\n",
    "def solution(n,a,b):\n",
    "    answer = 0\n",
    "    n_lists = [i for i in range(1,n+1)]\n",
    "    while len(n_lists)>1:\n",
    "        answer+=1\n",
    "        new_lists=[]\n",
    "        for i in range(0, len(n_lists), 2):\n",
    "            if n_lists[i]==a and n_lists[i+1]==b or n_lists[i]==b and n_lists[i+1]==a:\n",
    "                break\n",
    "            elif n_lists[i] == a or n_lists[i+1] ==a:\n",
    "                new_lists.append(a)\n",
    "            elif n_lists[i]==b or n_lists[i+1] ==b:\n",
    "                new_lists.append(b)\n",
    "            else:\n",
    "                new_lists.append(n_lists[i+1])\n",
    "            \n",
    "        n_lists= new_lists\n",
    "\n",
    "    return answer\n",
    "solution(n,a,b)"
   ]
  },
  {
   "cell_type": "code",
   "execution_count": 12,
   "id": "0cd05af4",
   "metadata": {},
   "outputs": [
    {
     "data": {
      "text/plain": [
       "3"
      ]
     },
     "execution_count": 12,
     "metadata": {},
     "output_type": "execute_result"
    }
   ],
   "source": [
    "# 세번째 풀이\n",
    "def solution(n,a,b): \n",
    "    answer = 0\n",
    "    while a != b: \n",
    "        answer += 1\n",
    "        # 1을 더해서 2로 나누었을 때, 자리수를 맞춰줌\n",
    "        # 예) 1, 2의 경우는 2, 3으로 해서 나눴을때 몫이 1이 되도록\n",
    "        a, b = (a+1)//2, (b+1)//2\n",
    "    return answer\n",
    "\n",
    "solution(n,a,b)"
   ]
  },
  {
   "cell_type": "code",
   "execution_count": null,
   "id": "add5ab2d",
   "metadata": {},
   "outputs": [],
   "source": []
  }
 ],
 "metadata": {
  "kernelspec": {
   "display_name": "Python 3 (ipykernel)",
   "language": "python",
   "name": "python3"
  },
  "language_info": {
   "codemirror_mode": {
    "name": "ipython",
    "version": 3
   },
   "file_extension": ".py",
   "mimetype": "text/x-python",
   "name": "python",
   "nbconvert_exporter": "python",
   "pygments_lexer": "ipython3",
   "version": "3.9.7"
  }
 },
 "nbformat": 4,
 "nbformat_minor": 5
}
