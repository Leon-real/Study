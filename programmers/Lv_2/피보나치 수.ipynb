{
 "cells": [
  {
   "cell_type": "markdown",
   "id": "0429a11f",
   "metadata": {},
   "source": [
    "# 피보나치 수\n",
    "\n",
    "### 문제 설명\n",
    "피보나치 수는 F(0) = 0, F(1) = 1일 때, 1 이상의 n에 대하여 F(n) = F(n-1) + F(n-2) 가 적용되는 수 입니다.  \n",
    "  \n",
    "예를들어  \n",
    "  \n",
    "F(2) = F(0) + F(1) = 0 + 1 = 1  \n",
    "F(3) = F(1) + F(2) = 1 + 1 = 2  \n",
    "F(4) = F(2) + F(3) = 1 + 2 = 3  \n",
    "F(5) = F(3) + F(4) = 2 + 3 = 5  \n",
    "와 같이 이어집니다.  \n",
    "  \n",
    "2 이상의 n이 입력되었을 때, n번째 피보나치 수를 1234567으로 나눈 나머지를 리턴하는 함수, solution을 완성해 주세요.  \n",
    "  \n",
    "제한 사항  \n",
    "n은 2 이상 100,000 이하인 자연수입니다.    \n",
    "    \n",
    "### 풀이\n",
    "- 아이디어  \n",
    "    - 재귀를 사용해서 풀 수 있으나, 숫자가 클 수록 시간이 많이 소요 됌  \n",
    "    - 이전의 값을 사용하는 것이니, 피보나치 리스트를 만들어 줘서 풀기 => DP  \n",
    "      \n",
    "- 풀이 순서\n",
    "1. n번째 까지의 피보나치 리스트 만들어주기(각 인덱스당 피보나치 계산 값이 들어있음)\n",
    "2. 피보나치 리스트를 활용하여 문제 풀기"
   ]
  },
  {
   "cell_type": "code",
   "execution_count": 1,
   "id": "a413a9f8",
   "metadata": {},
   "outputs": [],
   "source": [
    "n = 3"
   ]
  },
  {
   "cell_type": "code",
   "execution_count": 3,
   "id": "6d2fe340",
   "metadata": {},
   "outputs": [
    {
     "data": {
      "text/plain": [
       "2"
      ]
     },
     "execution_count": 3,
     "metadata": {},
     "output_type": "execute_result"
    }
   ],
   "source": [
    "# 내 풀이\n",
    "def fibo(num):\n",
    "    fibo_list = [0,1]\n",
    "    for i in range(2,num+1):\n",
    "        fibo_list.append(fibo_list[i-1] + fibo_list[i-2])\n",
    "    return fibo_list\n",
    "\n",
    "def solution(n):\n",
    "    \n",
    "    fibo_list = fibo(n)\n",
    "    \n",
    "    return fibo_list[-1] % 1234567\n",
    "\n",
    "\n",
    "solution(n)"
   ]
  },
  {
   "cell_type": "code",
   "execution_count": 6,
   "id": "6a123668",
   "metadata": {},
   "outputs": [
    {
     "data": {
      "text/plain": [
       "2"
      ]
     },
     "execution_count": 6,
     "metadata": {},
     "output_type": "execute_result"
    }
   ],
   "source": [
    "# 다른 사람 풀이\n",
    "def fibonacci(num):\n",
    "    a, b = 0, 1\n",
    "    for i in range(num):\n",
    "        a, b = b, a+b\n",
    "    return a\n",
    "fibonacci(n)"
   ]
  },
  {
   "cell_type": "code",
   "execution_count": null,
   "id": "5e0b07dd",
   "metadata": {},
   "outputs": [],
   "source": []
  }
 ],
 "metadata": {
  "kernelspec": {
   "display_name": "Python 3 (ipykernel)",
   "language": "python",
   "name": "python3"
  },
  "language_info": {
   "codemirror_mode": {
    "name": "ipython",
    "version": 3
   },
   "file_extension": ".py",
   "mimetype": "text/x-python",
   "name": "python",
   "nbconvert_exporter": "python",
   "pygments_lexer": "ipython3",
   "version": "3.9.7"
  }
 },
 "nbformat": 4,
 "nbformat_minor": 5
}
