{
 "cells": [
  {
   "cell_type": "markdown",
   "id": "c9a6a175",
   "metadata": {},
   "source": [
    "# 최솟값 만들기\n",
    "\n",
    "### 문제 설명\n",
    "길이가 같은 배열 A, B 두개가 있습니다. 각 배열은 자연수로 이루어져 있습니다.\n",
    "배열 A, B에서 각각 한 개의 숫자를 뽑아 두 수를 곱합니다. 이러한 과정을 배열의 길이만큼 반복하며, 두 수를 곱한 값을 누적하여 더합니다. 이때 최종적으로 누적된 값이 최소가 되도록 만드는 것이 목표입니다. (단, 각 배열에서 k번째 숫자를 뽑았다면 다음에 k번째 숫자는 다시 뽑을 수 없습니다.)  \n",
    "\n",
    "예를 들어 A = [1, 4, 2] , B = [5, 4, 4] 라면  \n",
    "\n",
    "A에서 첫번째 숫자인 1, B에서 첫번째 숫자인 5를 뽑아 곱하여 더합니다. (누적된 값 : 0 + 5(1x5) = 5)  \n",
    "A에서 두번째 숫자인 4, B에서 세번째 숫자인 4를 뽑아 곱하여 더합니다. (누적된 값 : 5 + 16(4x4) = 21)  \n",
    "A에서 세번째 숫자인 2, B에서 두번째 숫자인 4를 뽑아 곱하여 더합니다. (누적된 값 : 21 + 8(2x4) = 29)  \n",
    "즉, 이 경우가 최소가 되므로 29를 return 합니다.  \n",
    "  \n",
    "배열 A, B가 주어질 때 최종적으로 누적된 최솟값을 return 하는 solution 함수를 완성해 주세요.  \n",
    "  \n",
    "제한사항  \n",
    "배열 A, B의 크기 : 1,000 이하의 자연수  \n",
    "배열 A, B의 원소의 크기 : 1,000 이하의 자연수  \n",
    "\n",
    "### 풀이\n",
    "- 첫번째 풀이 => 효율성테스트 실패\n",
    "1. A배열 길이만큼 for 문을 돌리는데, \n",
    "2. A에서 가장 작은 수를 뽑고, B에서 가장 작은 수를 뽑아 곱한다.\n",
    "3. 누적값에 더해준다.\n",
    "4. 2,3번과 같은 반복 작업을 진행한다.\n",
    "  \n",
    "- 두번째 풀이 => sort 활용\n",
    "1. A,B 두 배열을 sorting한다. 이때, A는 내림차순, B는 오름차순 정렬한다.\n",
    "2. A,B를 같이 순회하며 누적값을 구한다.\n",
    "---"
   ]
  },
  {
   "cell_type": "code",
   "execution_count": 14,
   "id": "3569e7f8",
   "metadata": {},
   "outputs": [],
   "source": [
    "A = [1,4,2]\n",
    "B = [5,4,4]"
   ]
  },
  {
   "cell_type": "code",
   "execution_count": 12,
   "id": "046a648a",
   "metadata": {},
   "outputs": [
    {
     "data": {
      "text/plain": [
       "29"
      ]
     },
     "execution_count": 12,
     "metadata": {},
     "output_type": "execute_result"
    }
   ],
   "source": [
    "def solution(A,B):\n",
    "    answer = 0\n",
    "    n = len(A)\n",
    "\n",
    "    for i in range(n):\n",
    "        answer += (min(A) * max(B))\n",
    "\n",
    "        A.remove(min(A))\n",
    "        B.remove(max(B))\n",
    "\n",
    "    return answer\n",
    "\n",
    "solution(A,B)"
   ]
  },
  {
   "cell_type": "code",
   "execution_count": 15,
   "id": "a03c9f35",
   "metadata": {},
   "outputs": [
    {
     "data": {
      "text/plain": [
       "29"
      ]
     },
     "execution_count": 15,
     "metadata": {},
     "output_type": "execute_result"
    }
   ],
   "source": [
    "# 두번째 풀이\n",
    "def solution(A,B):\n",
    "    answer = 0\n",
    "    \n",
    "    A = sorted(A)\n",
    "    B = sorted(B, reverse=True)\n",
    "    \n",
    "    for a,b in zip(A,B):\n",
    "        answer += (a*b)\n",
    "\n",
    "    return answer\n",
    "\n",
    "solution(A,B)"
   ]
  },
  {
   "cell_type": "code",
   "execution_count": null,
   "id": "801b1945",
   "metadata": {},
   "outputs": [],
   "source": []
  }
 ],
 "metadata": {
  "kernelspec": {
   "display_name": "Python 3 (ipykernel)",
   "language": "python",
   "name": "python3"
  },
  "language_info": {
   "codemirror_mode": {
    "name": "ipython",
    "version": 3
   },
   "file_extension": ".py",
   "mimetype": "text/x-python",
   "name": "python",
   "nbconvert_exporter": "python",
   "pygments_lexer": "ipython3",
   "version": "3.9.7"
  }
 },
 "nbformat": 4,
 "nbformat_minor": 5
}
