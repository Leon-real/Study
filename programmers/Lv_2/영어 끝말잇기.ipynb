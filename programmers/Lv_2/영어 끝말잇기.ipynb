{
 "cells": [
  {
   "cell_type": "markdown",
   "id": "ebeee29e",
   "metadata": {},
   "source": [
    "# 영어 끝말잇기\n",
    "  \n",
    "\n",
    "### 문제 설명  \n",
    "1부터 n까지 번호가 붙어있는 n명의 사람이 영어 끝말잇기를 하고 있습니다. 영어 끝말잇기는 다음과 같은 규칙으로 진행됩니다.  \n",
    "  \n",
    "1번부터 번호 순서대로 한 사람씩 차례대로 단어를 말합니다.  \n",
    "마지막 사람이 단어를 말한 다음에는 다시 1번부터 시작합니다.  \n",
    "앞사람이 말한 단어의 마지막 문자로 시작하는 단어를 말해야 합니다.  \n",
    "이전에 등장했던 단어는 사용할 수 없습니다.  \n",
    "한 글자인 단어는 인정되지 않습니다.  \n",
    "다음은 3명이 끝말잇기를 하는 상황을 나타냅니다.  \n",
    "  \n",
    "tank → kick → know → wheel → land → dream → mother → robot → tank  \n",
    "  \n",
    "위 끝말잇기는 다음과 같이 진행됩니다.  \n",
    "  \n",
    "1번 사람이 자신의 첫 번째 차례에 tank를 말합니다.  \n",
    "2번 사람이 자신의 첫 번째 차례에 kick을 말합니다.  \n",
    "3번 사람이 자신의 첫 번째 차례에 know를 말합니다.  \n",
    "1번 사람이 자신의 두 번째 차례에 wheel을 말합니다.  \n",
    "(계속 진행)  \n",
    "끝말잇기를 계속 진행해 나가다 보면, 3번 사람이 자신의 세 번째 차례에 말한 tank 라는 단어는 이전에 등장했던 단어이므로 탈락하게 됩니다.  \n",
    "  \n",
    "사람의 수 n과 사람들이 순서대로 말한 단어 words 가 매개변수로 주어질 때, 가장 먼저 탈락하는 사람의 번호와 그 사람이 자신의 몇 번째 차례에 탈락하는지를 구해서 return 하도록 solution 함수를 완성해주세요.  \n",
    "  \n",
    "제한 사항  \n",
    "끝말잇기에 참여하는 사람의 수 n은 2 이상 10 이하의 자연수입니다.  \n",
    "words는 끝말잇기에 사용한 단어들이 순서대로 들어있는 배열이며, 길이는 n 이상 100 이하입니다.  \n",
    "단어의 길이는 2 이상 50 이하입니다.  \n",
    "모든 단어는 알파벳 소문자로만 이루어져 있습니다.  \n",
    "끝말잇기에 사용되는 단어의 뜻(의미)은 신경 쓰지 않으셔도 됩니다.  \n",
    "정답은 [ 번호, 차례 ] 형태로 return 해주세요.  \n",
    "만약 주어진 단어들로 탈락자가 생기지 않는다면, [0, 0]을 return 해주세요.  \n",
    "\n",
    "      \n",
    "### 풀이\n",
    "- 아이디어  \n",
    "    - words의 각 요소의 갯수 파악  \n",
    "    - 요소의 갯수가 2이상일 경우 파악  \n",
    "    - 끝말잇기가 아닌경우 파악\n",
    "    \n",
    "- 풀이 순서\n",
    "1. words의 각 요소 갯수 딕셔너리 만들어주기\n",
    "2. 끝말잇기 제대로 되었는지 파악\n",
    "3. 갯수가 2이상인 경우의 인덱스 값 추출\n"
   ]
  },
  {
   "cell_type": "code",
   "execution_count": 1,
   "id": "362c6e8d",
   "metadata": {},
   "outputs": [],
   "source": [
    "n = 3\n",
    "\n",
    "words=[\"tank\", \"kick\", \"know\", \"wheel\", \"land\", \"dream\", \"mother\", \"robot\", \"tank\"]"
   ]
  },
  {
   "cell_type": "code",
   "execution_count": 3,
   "id": "01c74158",
   "metadata": {},
   "outputs": [
    {
     "data": {
      "text/plain": [
       "[3, 3]"
      ]
     },
     "execution_count": 3,
     "metadata": {},
     "output_type": "execute_result"
    }
   ],
   "source": [
    "def solution(n, words):\n",
    "    answer=[0,0]\n",
    "    dic = dict()\n",
    "    \n",
    "    for i in range(len(words)):\n",
    "        if words[i] in dic:\n",
    "            dic[words[i]] += 1\n",
    "            answer=[i%n+1, i//n +1]\n",
    "            break\n",
    "        else:\n",
    "            dic[words[i]] = 1\n",
    "        if i>0 and words[i-1][-1] != words[i][0]: # 끝말잇기가 아닐 경우\n",
    "            answer=[i%n+1, i//n +1]\n",
    "            break\n",
    "    return answer\n",
    "\n",
    "solution(n, words)"
   ]
  },
  {
   "cell_type": "code",
   "execution_count": null,
   "id": "650bd2a8",
   "metadata": {},
   "outputs": [],
   "source": []
  },
  {
   "cell_type": "code",
   "execution_count": null,
   "id": "afb75e59",
   "metadata": {},
   "outputs": [],
   "source": [
    "def solution(n, words):\n",
    "    for i in range(1, len(words)):\n",
    "        if words[i-1][-1] != words[i][0] or words[i] in words[:i]:\n",
    "            return [(i%n)+1, (i//n)+1]\n",
    "        else:\n",
    "            return [0,0]"
   ]
  },
  {
   "cell_type": "code",
   "execution_count": null,
   "id": "0ee9f5b4",
   "metadata": {},
   "outputs": [],
   "source": []
  },
  {
   "cell_type": "code",
   "execution_count": null,
   "id": "7aab401f",
   "metadata": {},
   "outputs": [],
   "source": []
  },
  {
   "cell_type": "code",
   "execution_count": null,
   "id": "8fa45a49",
   "metadata": {},
   "outputs": [],
   "source": []
  },
  {
   "cell_type": "code",
   "execution_count": null,
   "id": "6d152f6f",
   "metadata": {},
   "outputs": [],
   "source": []
  }
 ],
 "metadata": {
  "kernelspec": {
   "display_name": "Python 3 (ipykernel)",
   "language": "python",
   "name": "python3"
  },
  "language_info": {
   "codemirror_mode": {
    "name": "ipython",
    "version": 3
   },
   "file_extension": ".py",
   "mimetype": "text/x-python",
   "name": "python",
   "nbconvert_exporter": "python",
   "pygments_lexer": "ipython3",
   "version": "3.9.7"
  }
 },
 "nbformat": 4,
 "nbformat_minor": 5
}
