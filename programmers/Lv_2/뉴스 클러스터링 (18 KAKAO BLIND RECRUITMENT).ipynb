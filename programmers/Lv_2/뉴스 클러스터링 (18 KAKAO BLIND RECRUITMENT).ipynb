{
 "cells": [
  {
   "cell_type": "markdown",
   "id": "4d2465f0",
   "metadata": {},
   "source": [
    "# 뉴스 클러스터링\n",
    "\n",
    "### 문제 설명  \n",
    "여러 언론사에서 쏟아지는 뉴스, 특히 속보성 뉴스를 보면 비슷비슷한 제목의 기사가 많아 정작 필요한 기사를 찾기가 어렵다. Daum 뉴스의 개발 업무를 맡게 된 신입사원 튜브는 사용자들이 편리하게 다양한 뉴스를 찾아볼 수 있도록 문제점을 개선하는 업무를 맡게 되었다.  \n",
    "  \n",
    "개발의 방향을 잡기 위해 튜브는 우선 최근 화제가 되고 있는 \"카카오 신입 개발자 공채\" 관련 기사를 검색해보았다.  \n",
    "  \n",
    "카카오 첫 공채..'블라인드' 방식 채용  \n",
    "카카오, 합병 후 첫 공채.. 블라인드 전형으로 개발자 채용  \n",
    "카카오, 블라인드 전형으로 신입 개발자 공채  \n",
    "카카오 공채, 신입 개발자 코딩 능력만 본다  \n",
    "카카오, 신입 공채.. \"코딩 실력만 본다\"  \n",
    "카카오 \"코딩 능력만으로 2018 신입 개발자 뽑는다\"  \n",
    "기사의 제목을 기준으로 \"블라인드 전형\"에 주목하는 기사와 \"코딩 테스트\"에 주목하는 기사로 나뉘는 걸 발견했다. 튜브는 이들을 각각 묶어서 보여주면 카카오 공채 관련 기사를 찾아보는 사용자에게 유용할 듯싶었다.  \n",
    "  \n",
    "유사한 기사를 묶는 기준을 정하기 위해서 논문과 자료를 조사하던 튜브는 \"자카드 유사도\"라는 방법을 찾아냈다.  \n",
    "  \n",
    "자카드 유사도는 집합 간의 유사도를 검사하는 여러 방법 중의 하나로 알려져 있다. 두 집합 A, B 사이의 자카드 유사도 J(A, B)는 두 집합의 교집합 크기를 두 집합의 합집합 크기로 나눈 값으로 정의된다.  \n",
    "  \n",
    "예를 들어 집합 A = {1, 2, 3}, 집합 B = {2, 3, 4}라고 할 때, 교집합 A ∩ B = {2, 3}, 합집합 A ∪ B = {1, 2, 3, 4}이 되므로, 집합 A, B 사이의 자카드 유사도 J(A, B) = 2/4 = 0.5가 된다. 집합 A와 집합 B가 모두 공집합일 경우에는 나눗셈이 정의되지 않으니 따로 J(A, B) = 1로 정의한다.  \n",
    "  \n",
    "자카드 유사도는 원소의 중복을 허용하는 다중집합에 대해서 확장할 수 있다. 다중집합 A는 원소 \"1\"을 3개 가지고 있고, 다중집합 B는 원소 \"1\"을 5개 가지고 있다고 하자. 이 다중집합의 교집합 A ∩ B는 원소 \"1\"을 min(3, 5)인 3개, 합집합 A ∪ B는 원소 \"1\"을 max(3, 5)인 5개 가지게 된다. 다중집합 A = {1, 1, 2, 2, 3}, 다중집합 B = {1, 2, 2, 4, 5}라고 하면, 교집합 A ∩ B = {1, 2, 2}, 합집합 A ∪ B = {1, 1, 2, 2, 3, 4, 5}가 되므로, 자카드 유사도 J(A, B) = 3/7, 약 0.42가 된다.\n",
    "  \n",
    "이를 이용하여 문자열 사이의 유사도를 계산하는데 이용할 수 있다. 문자열 \"FRANCE\"와 \"FRENCH\"가 주어졌을 때, 이를 두 글자씩 끊어서 다중집합을 만들 수 있다. 각각 {FR, RA, AN, NC, CE}, {FR, RE, EN, NC, CH}가 되며, 교집합은 {FR, NC}, 합집합은 {FR, RA, AN, NC, CE, RE, EN, CH}가 되므로, 두 문자열 사이의 자카드 유사도 J(\"FRANCE\", \"FRENCH\") = 2/8 = 0.25가 된다.\n",
    "\n",
    "##### 입력 형식  \n",
    "입력으로는 str1과 str2의 두 문자열이 들어온다. 각 문자열의 길이는 2 이상, 1,000 이하이다.  \n",
    "입력으로 들어온 문자열은 두 글자씩 끊어서 다중집합의 원소로 만든다. 이때 영문자로 된 글자 쌍만 유효하고, 기타 공백이나 숫자, 특수 문자가 들어있는 경우는 그 글자 쌍을 버린다. 예를 들어 \"ab+\"가 입력으로 들어오면, \"ab\"만 다중집합의 원소로 삼고, \"b+\"는 버린다.  \n",
    "다중집합 원소 사이를 비교할 때, 대문자와 소문자의 차이는 무시한다. \"AB\"와 \"Ab\", \"ab\"는 같은 원소로 취급한다.  \n",
    "##### 출력 형식\n",
    "입력으로 들어온 두 문자열의 자카드 유사도를 출력한다. 유사도 값은 0에서 1 사이의 실수이므로, 이를 다루기 쉽도록 65536을 곱한 후에 소수점 아래를 버리고 정수부만 출력한다.  \n",
    "      \n",
    "### 풀이\n",
    "- 아이디어  \n",
    "     - 자카트 유사도 = 두 집합의 교집합의 크기 나누기 두 교집합의 합집합의 크기  \n",
    "     - 다중집합의 경우, 교집합은 최솟값, 합집합은 최대값\n",
    "       \n",
    "- 풀이 순서\n",
    "1. 들어온 문자열 두 글자씩 끊어서 다중 집합의 원로 만들기\n",
    "2. 영문자로 된 글자 쌍만 남기기\n",
    "3. 대소문자 차이 x\n"
   ]
  },
  {
   "cell_type": "code",
   "execution_count": 96,
   "id": "c871e11a",
   "metadata": {},
   "outputs": [],
   "source": [
    "str1 = 'aa1+aa2'\n",
    "str2 = 'AAAA12'"
   ]
  },
  {
   "cell_type": "code",
   "execution_count": 98,
   "id": "972d0018",
   "metadata": {},
   "outputs": [
    {
     "data": {
      "text/plain": [
       "65536.0"
      ]
     },
     "execution_count": 98,
     "metadata": {},
     "output_type": "execute_result"
    }
   ],
   "source": [
    "def solution(str1, str2):\n",
    "    l1 = set([str1[i:i+2].lower() for i in range(len(str1)-1)\n",
    "              if str1[i].isalpha() and str1[i+1].isalpha()])\n",
    "    l2 = set([str2[i:i+2].lower() for i in range(len(str2)-1)\n",
    "              if str2[i].isalpha() and str2[i+1].isalpha()])\n",
    "\n",
    "    l_all = l1 | l2\n",
    "    l_same = l1& l2\n",
    "    if len(l_all)== 0:\n",
    "        return 65536\n",
    "    return (len(l_same) / len(l_all)) * 65536\n",
    "\n",
    "solution(str1, str2)"
   ]
  },
  {
   "cell_type": "code",
   "execution_count": null,
   "id": "19320b13",
   "metadata": {},
   "outputs": [],
   "source": []
  },
  {
   "cell_type": "code",
   "execution_count": null,
   "id": "f264e7c2",
   "metadata": {},
   "outputs": [],
   "source": []
  },
  {
   "cell_type": "code",
   "execution_count": 106,
   "id": "b38b3452",
   "metadata": {},
   "outputs": [
    {
     "data": {
      "text/plain": [
       "43690"
      ]
     },
     "execution_count": 106,
     "metadata": {},
     "output_type": "execute_result"
    }
   ],
   "source": [
    "from collections import Counter\n",
    "\n",
    "def solution(str1, str2):\n",
    "    str1_low = str1.lower()\n",
    "    str2_low = str2.lower()\n",
    "    \n",
    "    str1_lst = []\n",
    "    str2_lst = []\n",
    "    \n",
    "    for i in range(len(str1_low)-1):\n",
    "        if str1_low[i].isalpha() and str1_low[i+1].isalpha():\n",
    "            str1_lst.append(str1_low[i] + str1_low[i+1])\n",
    "    for j in range(len(str2_low)-1):\n",
    "        if str2_low[j].isalpha() and str2_low[j+1].isalpha():\n",
    "            str2_lst.append(str2_low[j] + str2_low[j+1])\n",
    "            \n",
    "    Counter1 = Counter(str1_lst)\n",
    "    Counter2 = Counter(str2_lst)\n",
    "    \n",
    "    inter = list((Counter1 & Counter2).elements())\n",
    "    union = list((Counter1 | Counter2).elements())\n",
    "    \n",
    "    if len(union) == 0 and len(inter) == 0:\n",
    "        return 65536\n",
    "    else:\n",
    "        return int(len(inter) / len(union) * 65536)\n",
    "    \n",
    "solution(str1, str2)"
   ]
  },
  {
   "cell_type": "code",
   "execution_count": null,
   "id": "79d40a6e",
   "metadata": {},
   "outputs": [],
   "source": []
  },
  {
   "cell_type": "code",
   "execution_count": 108,
   "id": "127d7951",
   "metadata": {},
   "outputs": [],
   "source": [
    "Counter1 = Counter([str1[i:i+2].lower() for i in range(len(str1)-1)\n",
    "              if str1[i].isalpha() and str1[i+1].isalpha()])"
   ]
  },
  {
   "cell_type": "code",
   "execution_count": 112,
   "id": "04c69b75",
   "metadata": {},
   "outputs": [
    {
     "data": {
      "text/plain": [
       "['aa', 'aa']"
      ]
     },
     "execution_count": 112,
     "metadata": {},
     "output_type": "execute_result"
    }
   ],
   "source": [
    "list(Counter1.elements())"
   ]
  },
  {
   "cell_type": "code",
   "execution_count": 113,
   "id": "a702736e",
   "metadata": {},
   "outputs": [
    {
     "data": {
      "text/plain": [
       "Counter({'aa': 2})"
      ]
     },
     "execution_count": 113,
     "metadata": {},
     "output_type": "execute_result"
    }
   ],
   "source": [
    "Counter1"
   ]
  },
  {
   "cell_type": "code",
   "execution_count": null,
   "id": "fb04afd2",
   "metadata": {},
   "outputs": [],
   "source": []
  },
  {
   "cell_type": "code",
   "execution_count": null,
   "id": "49ea16e8",
   "metadata": {},
   "outputs": [],
   "source": []
  },
  {
   "cell_type": "code",
   "execution_count": null,
   "id": "8056ffab",
   "metadata": {},
   "outputs": [],
   "source": []
  }
 ],
 "metadata": {
  "kernelspec": {
   "display_name": "Python 3 (ipykernel)",
   "language": "python",
   "name": "python3"
  },
  "language_info": {
   "codemirror_mode": {
    "name": "ipython",
    "version": 3
   },
   "file_extension": ".py",
   "mimetype": "text/x-python",
   "name": "python",
   "nbconvert_exporter": "python",
   "pygments_lexer": "ipython3",
   "version": "3.9.7"
  }
 },
 "nbformat": 4,
 "nbformat_minor": 5
}
