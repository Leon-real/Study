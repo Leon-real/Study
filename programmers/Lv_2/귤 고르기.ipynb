{
 "cells": [
  {
   "cell_type": "markdown",
   "id": "92728ab2",
   "metadata": {},
   "source": [
    "# 귤 고르기\u0003\n",
    "\n",
    "### 문제 설명  \n",
    "경화는 과수원에서 귤을 수확했습니다. 경화는 수확한 귤 중 'k'개를 골라 상자 하나에 담아 판매하려고 합니다. 그런데 수확한 귤의 크기가 일정하지 않아 보기에 좋지 않다고 생각한 경화는 귤을 크기별로 분류했을 때 서로 다른 종류의 수를 최소화하고 싶습니다.  \n",
    "  \n",
    "예를 들어, 경화가 수확한 귤 8개의 크기가 [1, 3, 2, 5, 4, 5, 2, 3] 이라고 합시다. 경화가 귤 6개를 판매하고 싶다면, 크기가 1, 4인 귤을 제외한 여섯 개의 귤을 상자에 담으면, 귤의 크기의 종류가 2, 3, 5로 총 3가지가 되며 이때가 서로 다른 종류가 최소일 때입니다.  \n",
    "  \n",
    "경화가 한 상자에 담으려는 귤의 개수 k와 귤의 크기를 담은 배열 tangerine이 매개변수로 주어집니다. 경화가 귤 k개를 고를 때 크기가 서로 다른 종류의 수의 최솟값을 return 하도록 solution 함수를 작성해주세요.  \n",
    "  \n",
    "      \n",
    "### 풀이\n",
    "- 아이디어  \n",
    "     - 크기순으로 갯수 묶기 => key, value 값 사용   \n",
    "       \n",
    "- 풀이 순서\n",
    "1. 크기순서로 갯수 넣어주기\n",
    "2. 갯수가 많은 것부터 순서대로 갯수 값 더해주기\n",
    "3. k값과 같으면 종류 값 리턴, k값보다 클 경우 패스하기"
   ]
  },
  {
   "cell_type": "code",
   "execution_count": 1,
   "id": "158201c7",
   "metadata": {},
   "outputs": [],
   "source": [
    "k = 6\n",
    "tangerine = [1, 3, 2, 5, 4, 5, 2, 3]"
   ]
  },
  {
   "cell_type": "code",
   "execution_count": 2,
   "id": "6b089e8c",
   "metadata": {},
   "outputs": [
    {
     "data": {
      "text/plain": [
       "3"
      ]
     },
     "execution_count": 2,
     "metadata": {},
     "output_type": "execute_result"
    }
   ],
   "source": [
    "# 내 풀이\n",
    "def solution(k, tangerine):\n",
    "    answer = 0\n",
    "    dic = dict()\n",
    "    for i in tangerine:\n",
    "        if i not in dic:\n",
    "            dic[i] = 1\n",
    "        else:\n",
    "            dic[i] += 1\n",
    "    dic = sorted(dic.items(), key=lambda x: x[1], reverse=True)\n",
    "    temp=0\n",
    "    for i in dic:\n",
    "        # print(i)\n",
    "        if temp == k:\n",
    "            return answer\n",
    "        elif temp < k:\n",
    "            temp += i[1]\n",
    "            answer += 1\n",
    "        else:\n",
    "            pass\n",
    "    \n",
    "    return answer\n",
    "solution(k, tangerine)"
   ]
  },
  {
   "cell_type": "code",
   "execution_count": 3,
   "id": "5e37a852",
   "metadata": {},
   "outputs": [],
   "source": [
    "# 다른 사람 풀이\n",
    "import collections\n",
    "def solution(k, tangerine):\n",
    "    answer = 0\n",
    "    cnt = collections.Counter(tangerine)\n",
    "\n",
    "    for v in sorted(cnt.values(), reverse = True):\n",
    "        k -= v\n",
    "        answer += 1\n",
    "        if k <= 0:\n",
    "            break\n",
    "    return answer"
   ]
  },
  {
   "cell_type": "code",
   "execution_count": null,
   "id": "36e451bb",
   "metadata": {},
   "outputs": [],
   "source": []
  }
 ],
 "metadata": {
  "kernelspec": {
   "display_name": "Python 3 (ipykernel)",
   "language": "python",
   "name": "python3"
  },
  "language_info": {
   "codemirror_mode": {
    "name": "ipython",
    "version": 3
   },
   "file_extension": ".py",
   "mimetype": "text/x-python",
   "name": "python",
   "nbconvert_exporter": "python",
   "pygments_lexer": "ipython3",
   "version": "3.9.7"
  }
 },
 "nbformat": 4,
 "nbformat_minor": 5
}
