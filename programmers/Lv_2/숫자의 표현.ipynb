{
 "cells": [
  {
   "cell_type": "markdown",
   "id": "5c932086",
   "metadata": {},
   "source": [
    "# 숫자의 표현\n",
    "\n",
    "### 문제 설명\n",
    "Finn은 요즘 수학공부에 빠져 있습니다. 수학 공부를 하던 Finn은 자연수 n을 연속한 자연수들로 표현 하는 방법이 여러개라는 사실을 알게 되었습니다. 예를들어 15는 다음과 같이 4가지로 표현 할 수 있습니다.  \n",
    "  \n",
    "1 + 2 + 3 + 4 + 5 = 15  \n",
    "4 + 5 + 6 = 15  \n",
    "7 + 8 = 15  \n",
    "15 = 15  \n",
    "자연수 n이 매개변수로 주어질 때, 연속된 자연수들로 n을 표현하는 방법의 수를 return하는 solution를 완성해주세요.  \n",
    "  \n",
    "제한사항  \n",
    "n은 10,000 이하의 자연수 입니다.  \n",
    "  \n",
    "### 풀이\n",
    "- 첫번째 풀이\n",
    "1. 등차 수열 이용 => 연속한 자연수들로 표현하여야 하기 때문에\n",
    "2. for문을 돌면서 순서대로 등차 수열의 합을 계산하여준다.\n",
    "3. 계산한 값과 n이 같을 경우 count해준다.  "
   ]
  },
  {
   "cell_type": "code",
   "execution_count": 6,
   "id": "6086bfd1",
   "metadata": {},
   "outputs": [],
   "source": [
    "n = 15"
   ]
  },
  {
   "cell_type": "code",
   "execution_count": 7,
   "id": "81c72e51",
   "metadata": {},
   "outputs": [
    {
     "data": {
      "text/plain": [
       "4"
      ]
     },
     "execution_count": 7,
     "metadata": {},
     "output_type": "execute_result"
    }
   ],
   "source": [
    "# 첫번째 풀이\n",
    "def solution(n):\n",
    "    answer = 0\n",
    "    \n",
    "    for i in range(1,n+1):\n",
    "        temp=0\n",
    "        for j in range(i, n+1):\n",
    "            temp+=j\n",
    "            if temp ==n:\n",
    "                answer+=1\n",
    "                break\n",
    "            if temp >n:\n",
    "                break\n",
    "    \n",
    "    return answer\n",
    "solution(n)"
   ]
  },
  {
   "cell_type": "code",
   "execution_count": null,
   "id": "719fec48",
   "metadata": {},
   "outputs": [],
   "source": []
  },
  {
   "cell_type": "code",
   "execution_count": null,
   "id": "11cf9de2",
   "metadata": {},
   "outputs": [],
   "source": []
  }
 ],
 "metadata": {
  "kernelspec": {
   "display_name": "Python 3 (ipykernel)",
   "language": "python",
   "name": "python3"
  },
  "language_info": {
   "codemirror_mode": {
    "name": "ipython",
    "version": 3
   },
   "file_extension": ".py",
   "mimetype": "text/x-python",
   "name": "python",
   "nbconvert_exporter": "python",
   "pygments_lexer": "ipython3",
   "version": "3.9.7"
  }
 },
 "nbformat": 4,
 "nbformat_minor": 5
}
