{
 "cells": [
  {
   "cell_type": "markdown",
   "id": "cd7ce202",
   "metadata": {},
   "source": [
    "# n^ 배열 자르기\n",
    "\n",
    "### 문제 설명  \n",
    "정수 n, left, right가 주어집니다. 다음 과정을 거쳐서 1차원 배열을 만들고자 합니다.  \n",
    "  \n",
    "n행 n열 크기의 비어있는 2차원 배열을 만듭니다.  \n",
    "i = 1, 2, 3, ..., n에 대해서, 다음 과정을 반복합니다.  \n",
    "1행 1열부터 i행 i열까지의 영역 내의 모든 빈 칸을 숫자 i로 채웁니다.  \n",
    "1행, 2행, ..., n행을 잘라내어 모두 이어붙인 새로운 1차원 배열을 만듭니다.  \n",
    "새로운 1차원 배열을 arr이라 할 때, arr[left], arr[left+1], ..., arr[right]만 남기고 나머지는 지웁니다.  \n",
    "정수 n, left, right가 매개변수로 주어집니다. 주어진 과정대로 만들어진 1차원 배열을 return 하도록 solution 함수를 완성해주세요.  \n",
    "  \n",
    "### 풀이\n",
    "- 아이디어  \n",
    "     - 1 : 1\n",
    "     - 222 : 3\n",
    "     - 33333 : 5\n",
    "     - 4444444 : 7\n",
    "     - 555555555 : 9\n",
    "     - 66666666666 : 11\n",
    "     - 갯수가 2씩 늘어남  \n",
    "     \n",
    "- 풀이 순서\n",
    "1. 마지막행은 n * 2 -1 개"
   ]
  },
  {
   "cell_type": "code",
   "execution_count": 41,
   "id": "08223b40",
   "metadata": {},
   "outputs": [],
   "source": [
    "n = 3\n",
    "left = 2\n",
    "right = 5"
   ]
  },
  {
   "cell_type": "code",
   "execution_count": null,
   "id": "84efe431",
   "metadata": {},
   "outputs": [],
   "source": []
  },
  {
   "cell_type": "code",
   "execution_count": 46,
   "id": "b6643e61",
   "metadata": {},
   "outputs": [
    {
     "name": "stdout",
     "output_type": "stream",
     "text": [
      "[3, 2, 2, 3]\n"
     ]
    },
    {
     "data": {
      "text/plain": [
       "[3, 2, 2, 3]"
      ]
     },
     "execution_count": 46,
     "metadata": {},
     "output_type": "execute_result"
    }
   ],
   "source": [
    "def solution(n, left, right):\n",
    "    answer = []\n",
    "    for i in range(left,right+1):\n",
    "        a = i//n # 몫\n",
    "        b = i%n #나머지 \n",
    "        if a<b: a,b =b,a\n",
    "        answer.append(a+1)\n",
    "    print(answer)\n",
    "    return answer\n",
    "solution(n, left, right)"
   ]
  },
  {
   "cell_type": "code",
   "execution_count": null,
   "id": "5a8cd7f6",
   "metadata": {},
   "outputs": [],
   "source": []
  },
  {
   "cell_type": "code",
   "execution_count": null,
   "id": "a2633d5b",
   "metadata": {},
   "outputs": [],
   "source": []
  }
 ],
 "metadata": {
  "kernelspec": {
   "display_name": "Python 3 (ipykernel)",
   "language": "python",
   "name": "python3"
  },
  "language_info": {
   "codemirror_mode": {
    "name": "ipython",
    "version": 3
   },
   "file_extension": ".py",
   "mimetype": "text/x-python",
   "name": "python",
   "nbconvert_exporter": "python",
   "pygments_lexer": "ipython3",
   "version": "3.9.7"
  }
 },
 "nbformat": 4,
 "nbformat_minor": 5
}
