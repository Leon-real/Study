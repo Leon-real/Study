{
 "cells": [
  {
   "cell_type": "markdown",
   "id": "e19234b0",
   "metadata": {},
   "source": [
    "# 최대값과 최솟값\n",
    "\n",
    "### 문제 설명\n",
    "문자열 s에는 공백으로 구분된 숫자들이 저장되어 있습니다. str에 나타나는 숫자 중 최소값과 최대값을 찾아 이를 \"(최소값) (최대값)\"형태의 문자열을 반환하는 함수, solution을 완성하세요.  \n",
    "예를들어 s가 \"1 2 3 4\"라면 \"1 4\"를 리턴하고, \"-1 -2 -3 -4\"라면 \"-4 -1\"을 리턴하면 됩니다.\n",
    "\n",
    "### 풀이\n",
    "1. 문자열 s를 공백 기준으로 분리하여 각각의 값들 리스트에 저장  \n",
    "2. 리스트에서 최솟값과 최대값 찾기 => max, min 함수 사용  \n",
    "3. 반환하기"
   ]
  },
  {
   "cell_type": "code",
   "execution_count": 2,
   "id": "34f1058a",
   "metadata": {},
   "outputs": [],
   "source": [
    "s = \"1 2 3 4\""
   ]
  },
  {
   "cell_type": "code",
   "execution_count": 3,
   "id": "a5cb69a3",
   "metadata": {},
   "outputs": [
    {
     "data": {
      "text/plain": [
       "'1 4'"
      ]
     },
     "execution_count": 3,
     "metadata": {},
     "output_type": "execute_result"
    }
   ],
   "source": [
    "# 풀이\n",
    "def solution(s):\n",
    "    s = list(map(int,s.split(' ')))\n",
    "    return f\"{min(s)} {max(s)}\"\n",
    "\n",
    "solution(s)"
   ]
  },
  {
   "cell_type": "code",
   "execution_count": null,
   "id": "97b2b66d",
   "metadata": {},
   "outputs": [],
   "source": []
  }
 ],
 "metadata": {
  "kernelspec": {
   "display_name": "Python 3 (ipykernel)",
   "language": "python",
   "name": "python3"
  },
  "language_info": {
   "codemirror_mode": {
    "name": "ipython",
    "version": 3
   },
   "file_extension": ".py",
   "mimetype": "text/x-python",
   "name": "python",
   "nbconvert_exporter": "python",
   "pygments_lexer": "ipython3",
   "version": "3.9.7"
  }
 },
 "nbformat": 4,
 "nbformat_minor": 5
}
