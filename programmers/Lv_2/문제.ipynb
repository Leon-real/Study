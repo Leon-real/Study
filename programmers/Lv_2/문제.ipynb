{
 "cells": [
  {
   "cell_type": "markdown",
   "id": "e9a8a8db",
   "metadata": {},
   "source": [
    "# 문제 제목\n",
    "\n",
    "### 문제 설명  \n",
    "문제 내용  \n",
    "      \n",
    "### 풀이\n",
    "- 아이디어  \n",
    "     - 공백   \n",
    "       \n",
    "- 풀이 순서\n",
    "1."
   ]
  },
  {
   "cell_type": "code",
   "execution_count": null,
   "id": "4eba7b86",
   "metadata": {},
   "outputs": [],
   "source": []
  },
  {
   "cell_type": "code",
   "execution_count": null,
   "id": "27a625c5",
   "metadata": {},
   "outputs": [],
   "source": []
  },
  {
   "cell_type": "code",
   "execution_count": null,
   "id": "b39b6a8f",
   "metadata": {},
   "outputs": [],
   "source": []
  }
 ],
 "metadata": {
  "kernelspec": {
   "display_name": "Python 3 (ipykernel)",
   "language": "python",
   "name": "python3"
  },
  "language_info": {
   "codemirror_mode": {
    "name": "ipython",
    "version": 3
   },
   "file_extension": ".py",
   "mimetype": "text/x-python",
   "name": "python",
   "nbconvert_exporter": "python",
   "pygments_lexer": "ipython3",
   "version": "3.9.7"
  }
 },
 "nbformat": 4,
 "nbformat_minor": 5
}
