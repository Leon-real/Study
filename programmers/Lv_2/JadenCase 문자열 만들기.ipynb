{
 "cells": [
  {
   "cell_type": "markdown",
   "id": "b6f86549",
   "metadata": {},
   "source": [
    "# JadenCase 문자열 만들기\n",
    "\n",
    "### 문제 설명\n",
    "JadenCase란 모든 단어의 첫 문자가 대문자이고, 그 외의 알파벳은 소문자인 문자열입니다. 단, 첫 문자가 알파벳이 아닐 때에는 이어지는 알파벳은 소문자로 쓰면 됩니다. (첫 번째 입출력 예 참고)  \n",
    "문자열 s가 주어졌을 때, s를 JadenCase로 바꾼 문자열을 리턴하는 함수, solution을 완성해주세요.  \n",
    "  \n",
    "제한 조건  \n",
    "s는 길이 1 이상 200 이하인 문자열입니다.  \n",
    "s는 알파벳과 숫자, 공백문자(\" \")로 이루어져 있습니다.  \n",
    "숫자는 단어의 첫 문자로만 나옵니다.  \n",
    "숫자로만 이루어진 단어는 없습니다.  \n",
    "공백문자가 연속해서 나올 수 있습니다.  \n",
    "\n",
    "\n",
    "### 풀이\n",
    "1. 문자열 s를 공백을 기준으로 분리\n",
    "2. 앞 글자가 영어일경우 대문자 변환, 아닐경우 pass\n",
    "3. 나머지 글자는 소문자 취급\n",
    "4. 처리한 문자열 반환"
   ]
  },
  {
   "cell_type": "code",
   "execution_count": 2,
   "id": "6b693ceb",
   "metadata": {},
   "outputs": [],
   "source": [
    "s = \"3people unFollowed me\""
   ]
  },
  {
   "cell_type": "code",
   "execution_count": 3,
   "id": "fa5d7b79",
   "metadata": {},
   "outputs": [
    {
     "data": {
      "text/plain": [
       "'3people Unfollowed Me'"
      ]
     },
     "execution_count": 3,
     "metadata": {},
     "output_type": "execute_result"
    }
   ],
   "source": [
    "\n",
    "def solution(s):\n",
    "    new_strings = ''\n",
    "    strings = s.split(\" \")\n",
    "    for s in strings:\n",
    "        for i, s in enumerate(s):\n",
    "            if s.isalpha():\n",
    "                if i == 0:\n",
    "                    new_strings += s.upper()\n",
    "                else:\n",
    "                    new_strings += s.lower()\n",
    "            else:\n",
    "                new_strings+= s\n",
    "        new_strings += \" \"\n",
    "    return new_strings[:-1]\n",
    "\n",
    "solution(s)"
   ]
  },
  {
   "cell_type": "code",
   "execution_count": 4,
   "id": "b25174fb",
   "metadata": {},
   "outputs": [
    {
     "data": {
      "text/plain": [
       "'3People Unfollowed Me'"
      ]
     },
     "execution_count": 4,
     "metadata": {},
     "output_type": "execute_result"
    }
   ],
   "source": [
    "# 다른 사람 풀이\n",
    "def Jaden_Case(s):\n",
    "    # 함수를 완성하세요\n",
    "    return s.title()\n",
    "\n",
    "Jaden_Case(s)"
   ]
  },
  {
   "cell_type": "code",
   "execution_count": null,
   "id": "797fddbf",
   "metadata": {},
   "outputs": [],
   "source": []
  }
 ],
 "metadata": {
  "kernelspec": {
   "display_name": "Python 3 (ipykernel)",
   "language": "python",
   "name": "python3"
  },
  "language_info": {
   "codemirror_mode": {
    "name": "ipython",
    "version": 3
   },
   "file_extension": ".py",
   "mimetype": "text/x-python",
   "name": "python",
   "nbconvert_exporter": "python",
   "pygments_lexer": "ipython3",
   "version": "3.9.7"
  }
 },
 "nbformat": 4,
 "nbformat_minor": 5
}
