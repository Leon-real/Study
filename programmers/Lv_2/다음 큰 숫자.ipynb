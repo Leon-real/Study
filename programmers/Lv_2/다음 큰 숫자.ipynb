{
 "cells": [
  {
   "cell_type": "markdown",
   "id": "e0213322",
   "metadata": {},
   "source": [
    "# 다음 큰 숫자\n",
    "\n",
    "### 문제 설명  \n",
    "자연수 n이 주어졌을 때, n의 다음 큰 숫자는 다음과 같이 정의 합니다.  \n",
    "  \n",
    "조건 1. n의 다음 큰 숫자는 n보다 큰 자연수 입니다.  \n",
    "조건 2. n의 다음 큰 숫자와 n은 2진수로 변환했을 때 1의 갯수가 같습니다.  \n",
    "조건 3. n의 다음 큰 숫자는 조건 1, 2를 만족하는 수 중 가장 작은 수 입니다.  \n",
    "예를 들어서 78(1001110)의 다음 큰 숫자는 83(1010011)입니다.  \n",
    "  \n",
    "자연수 n이 매개변수로 주어질 때, n의 다음 큰 숫자를 return 하는 solution 함수를 완성해주세요.  \n",
    "  \n",
    "제한 사항  \n",
    "n은 1,000,000 이하의 자연수 입니다.  \n",
    "      \n",
    "### 풀이\n",
    "- 아이디어  \n",
    "     - while문, bin함수 사용  \n",
    "       \n",
    "- 풀이 순서\n",
    "1. while문을 통하여 n보다 1증가한 값 넣어주기\n",
    "2. 증가된 값과 n의 값의 이진수 변환\n",
    "3. 변환된 값을 비교하여 1의 갯수가 같은지 확인\n",
    "4. 같다면 증가된 값 return"
   ]
  },
  {
   "cell_type": "code",
   "execution_count": 1,
   "id": "eae5bbde",
   "metadata": {},
   "outputs": [],
   "source": [
    "n = 78"
   ]
  },
  {
   "cell_type": "code",
   "execution_count": 2,
   "id": "06452c16",
   "metadata": {},
   "outputs": [
    {
     "data": {
      "text/plain": [
       "83"
      ]
     },
     "execution_count": 2,
     "metadata": {},
     "output_type": "execute_result"
    }
   ],
   "source": [
    "# 풀이\n",
    "def solution(n):\n",
    "    answer = 0\n",
    "    \n",
    "    next_n = n+1\n",
    "    \n",
    "    while True:\n",
    "        if bin(next_n).count('1') == bin(n).count('1'):\n",
    "            break\n",
    "        next_n += 1\n",
    "    return next_n\n",
    "\n",
    "solution(n)"
   ]
  },
  {
   "cell_type": "code",
   "execution_count": null,
   "id": "17e4dfe3",
   "metadata": {},
   "outputs": [],
   "source": []
  },
  {
   "cell_type": "code",
   "execution_count": null,
   "id": "50001f9b",
   "metadata": {},
   "outputs": [],
   "source": []
  },
  {
   "cell_type": "code",
   "execution_count": null,
   "id": "b9ce927c",
   "metadata": {},
   "outputs": [],
   "source": []
  }
 ],
 "metadata": {
  "kernelspec": {
   "display_name": "Python 3 (ipykernel)",
   "language": "python",
   "name": "python3"
  },
  "language_info": {
   "codemirror_mode": {
    "name": "ipython",
    "version": 3
   },
   "file_extension": ".py",
   "mimetype": "text/x-python",
   "name": "python",
   "nbconvert_exporter": "python",
   "pygments_lexer": "ipython3",
   "version": "3.9.7"
  }
 },
 "nbformat": 4,
 "nbformat_minor": 5
}
