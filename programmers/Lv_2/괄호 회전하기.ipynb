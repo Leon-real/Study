{
 "cells": [
  {
   "cell_type": "markdown",
   "id": "d4762dda",
   "metadata": {},
   "source": [
    "# 괄호 회전하기\n",
    "\n",
    "### 문제 설명  \n",
    "다음 규칙을 지키는 문자열을 올바른 괄호 문자열이라고 정의합니다.  \n",
    "  \n",
    "(), [], {} 는 모두 올바른 괄호 문자열입니다.  \n",
    "만약 A가 올바른 괄호 문자열이라면, (A), [A], {A} 도 올바른 괄호 문자열입니다.  \n",
    "예를 들어, [] 가 올바른 괄호 문자열이므로, ([]) 도 올바른 괄호 문자열입니다.  \n",
    "  \n",
    "만약 A, B가 올바른 괄호 문자열이라면, AB 도 올바른 괄호 문자열입니다.  \n",
    "예를 들어, {} 와 ([]) 가 올바른 괄호 문자열이므로, {}([]) 도 올바른 괄호 문자열입니다.  \n",
    "  \n",
    "대괄호, 중괄호, 그리고 소괄호로 이루어진 문자열 s가 매개변수로 주어집니다.  \n",
    "이 s를 왼쪽으로 x (0 ≤ x < (s의 길이)) 칸만큼 회전시켰을 때  \n",
    "s가 올바른 괄호 문자열이 되게 하는 x의 개수를 return 하도록 solution 함수를 완성해주세요.    \n",
    "      "
   ]
  },
  {
   "cell_type": "code",
   "execution_count": 1,
   "id": "a7e00686",
   "metadata": {},
   "outputs": [],
   "source": [
    "s = \"[](){}\""
   ]
  },
  {
   "cell_type": "code",
   "execution_count": 2,
   "id": "403d1bf6",
   "metadata": {},
   "outputs": [
    {
     "data": {
      "text/plain": [
       "3"
      ]
     },
     "execution_count": 2,
     "metadata": {},
     "output_type": "execute_result"
    }
   ],
   "source": [
    "def solution(s):\n",
    "    answer = 0\n",
    "    \n",
    "    tmp=list(s)\n",
    "    \n",
    "    for _ in range(len(s)):\n",
    "        \n",
    "        stack=[]\n",
    "        for i in range(len(tmp)):\n",
    "            if len(stack) > 0:\n",
    "                if stack[-1] == '[' and tmp[i]==']':\n",
    "                    stack.pop()\n",
    "                elif stack[-1] == '{' and tmp[i]=='}':\n",
    "                    stack.pop()\n",
    "                elif stack[-1] == '(' and tmp[i]==')':\n",
    "                    stack.pop()\n",
    "                else:\n",
    "                    stack.append(tmp[i])\n",
    "            else:\n",
    "                stack.append(tmp[i])\n",
    "        if len(stack)==0:\n",
    "            answer += 1\n",
    "        tmp.append(tmp.pop(0))\n",
    "    return answer\n",
    "\n",
    "solution(s)"
   ]
  },
  {
   "cell_type": "code",
   "execution_count": null,
   "id": "d0e23e88",
   "metadata": {},
   "outputs": [],
   "source": []
  }
 ],
 "metadata": {
  "kernelspec": {
   "display_name": "Python 3 (ipykernel)",
   "language": "python",
   "name": "python3"
  },
  "language_info": {
   "codemirror_mode": {
    "name": "ipython",
    "version": 3
   },
   "file_extension": ".py",
   "mimetype": "text/x-python",
   "name": "python",
   "nbconvert_exporter": "python",
   "pygments_lexer": "ipython3",
   "version": "3.9.7"
  }
 },
 "nbformat": 4,
 "nbformat_minor": 5
}
