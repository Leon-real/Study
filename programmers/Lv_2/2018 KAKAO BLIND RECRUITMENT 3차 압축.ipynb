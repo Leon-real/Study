{
 "cells": [
  {
   "cell_type": "markdown",
   "id": "be6972bb",
   "metadata": {},
   "source": [
    "# 2018 KAKAO BLIND RECRUITMENT 3차 압축\n",
    "\n",
    "### 문제 설명  \n",
    "신입사원 어피치는 카카오톡으로 전송되는 메시지를 압축하여 전송 효율을 높이는 업무를 맡게 되었다. 메시지를 압축하더라도 전달되는 정보가 바뀌어서는 안 되므로, 압축 전의 정보를 완벽하게 복원 가능한 무손실 압축 알고리즘을 구현하기로 했다.  \n",
    "  \n",
    "어피치는 여러 압축 알고리즘 중에서 성능이 좋고 구현이 간단한 LZW(Lempel–Ziv–Welch) 압축을 구현하기로 했다. LZW 압축은 1983년 발표된 알고리즘으로, 이미지 파일 포맷인 GIF 등 다양한 응용에서 사용되었다.  \n",
    "  \n",
    "LZW 압축은 다음 과정을 거친다.  \n",
    "  \n",
    "길이가 1인 모든 단어를 포함하도록 사전을 초기화한다.  \n",
    "사전에서 현재 입력과 일치하는 가장 긴 문자열 w를 찾는다.  \n",
    "w에 해당하는 사전의 색인 번호를 출력하고, 입력에서 w를 제거한다.  \n",
    "입력에서 처리되지 않은 다음 글자가 남아있다면(c), w+c에 해당하는 단어를 사전에 등록한다.  \n",
    "단계 2로 돌아간다.  \n",
    "압축 알고리즘이 영문 대문자만 처리한다고 할 때, 사전은 다음과 같이 초기화된다. 사전의 색인 번호는 정수값으로 주어지며, 1부터 시작한다고 하자.  \n",
    "      \n",
    "### 풀이\n",
    "- 아이디어  \n",
    "     - 공백   \n",
    "       \n",
    "- 풀이 순서\n",
    "1."
   ]
  },
  {
   "cell_type": "code",
   "execution_count": 23,
   "id": "82eba592",
   "metadata": {},
   "outputs": [],
   "source": [
    "msg = 'KAKAO'"
   ]
  },
  {
   "cell_type": "code",
   "execution_count": 24,
   "id": "fcfbc23f",
   "metadata": {},
   "outputs": [],
   "source": []
  },
  {
   "cell_type": "code",
   "execution_count": 25,
   "id": "30de254a",
   "metadata": {},
   "outputs": [
    {
     "data": {
      "text/plain": [
       "{'A': 1,\n",
       " 'B': 2,\n",
       " 'C': 3,\n",
       " 'D': 4,\n",
       " 'E': 5,\n",
       " 'F': 6,\n",
       " 'G': 7,\n",
       " 'H': 8,\n",
       " 'I': 9,\n",
       " 'J': 10,\n",
       " 'K': 11,\n",
       " 'L': 12,\n",
       " 'M': 13,\n",
       " 'N': 14,\n",
       " 'O': 15,\n",
       " 'P': 16,\n",
       " 'Q': 17,\n",
       " 'R': 18,\n",
       " 'S': 19,\n",
       " 'T': 20,\n",
       " 'U': 21,\n",
       " 'V': 22,\n",
       " 'W': 23,\n",
       " 'X': 24,\n",
       " 'Y': 25,\n",
       " 'Z': 26}"
      ]
     },
     "execution_count": 25,
     "metadata": {},
     "output_type": "execute_result"
    }
   ],
   "source": [
    "dic"
   ]
  },
  {
   "cell_type": "code",
   "execution_count": 29,
   "id": "5e6b555e",
   "metadata": {},
   "outputs": [
    {
     "name": "stdout",
     "output_type": "stream",
     "text": [
      "K \n",
      "KA K\n",
      "A \n",
      "AK A\n",
      "K \n",
      "KA K\n",
      "KAO KA\n",
      "O \n"
     ]
    }
   ],
   "source": [
    "dic={}\n",
    "alpha = 'ABCDEFGHIJKLMNOPQRSTUVWXYZ'\n",
    "for i, n in enumerate(alpha):\n",
    "    dic[n]=i+1\n",
    "    \n",
    "idx = 27\n",
    "start, end = 0, 1\n",
    "answer=[]\n",
    "while end < len(msg)+1:\n",
    "    s = msg[start:end]\n",
    "    if s in dic:\n",
    "        end += 1\n",
    "    else:\n",
    "        answer.append(dic[s[:-1]])\n",
    "        dic[s] = idx\n",
    "        start = end - 1\n",
    "answer.append(dic[s])"
   ]
  },
  {
   "cell_type": "code",
   "execution_count": 32,
   "id": "5207063e",
   "metadata": {},
   "outputs": [
    {
     "ename": "TypeError",
     "evalue": "unhashable type: 'slice'",
     "output_type": "error",
     "traceback": [
      "\u001b[0;31m---------------------------------------------------------------------------\u001b[0m",
      "\u001b[0;31mTypeError\u001b[0m                                 Traceback (most recent call last)",
      "\u001b[0;32m/var/folders/6x/wc_7gr0j5wj3d78wrv27n5hc0000gn/T/ipykernel_1075/1285225541.py\u001b[0m in \u001b[0;36m<module>\u001b[0;34m\u001b[0m\n\u001b[1;32m     20\u001b[0m     \u001b[0;32mreturn\u001b[0m \u001b[0manswer\u001b[0m\u001b[0;34m\u001b[0m\u001b[0;34m\u001b[0m\u001b[0m\n\u001b[1;32m     21\u001b[0m \u001b[0;34m\u001b[0m\u001b[0m\n\u001b[0;32m---> 22\u001b[0;31m \u001b[0msolution\u001b[0m\u001b[0;34m(\u001b[0m\u001b[0mmsg\u001b[0m\u001b[0;34m)\u001b[0m\u001b[0;34m\u001b[0m\u001b[0;34m\u001b[0m\u001b[0m\n\u001b[0m",
      "\u001b[0;32m/var/folders/6x/wc_7gr0j5wj3d78wrv27n5hc0000gn/T/ipykernel_1075/1285225541.py\u001b[0m in \u001b[0;36msolution\u001b[0;34m(msg)\u001b[0m\n\u001b[1;32m     14\u001b[0m             \u001b[0mend\u001b[0m\u001b[0;34m+=\u001b[0m\u001b[0;36m1\u001b[0m\u001b[0;34m\u001b[0m\u001b[0;34m\u001b[0m\u001b[0m\n\u001b[1;32m     15\u001b[0m         \u001b[0;32melse\u001b[0m\u001b[0;34m:\u001b[0m\u001b[0;34m\u001b[0m\u001b[0;34m\u001b[0m\u001b[0m\n\u001b[0;32m---> 16\u001b[0;31m             \u001b[0manswer\u001b[0m\u001b[0;34m.\u001b[0m\u001b[0mappend\u001b[0m\u001b[0;34m(\u001b[0m\u001b[0mdic\u001b[0m\u001b[0;34m[\u001b[0m\u001b[0ms\u001b[0m\u001b[0;34m:\u001b[0m\u001b[0;34m-\u001b[0m\u001b[0;36m1\u001b[0m\u001b[0;34m]\u001b[0m\u001b[0;34m)\u001b[0m\u001b[0;34m\u001b[0m\u001b[0;34m\u001b[0m\u001b[0m\n\u001b[0m\u001b[1;32m     17\u001b[0m             \u001b[0mdic\u001b[0m\u001b[0;34m[\u001b[0m\u001b[0ms\u001b[0m\u001b[0;34m]\u001b[0m \u001b[0;34m=\u001b[0m \u001b[0midx\u001b[0m\u001b[0;34m\u001b[0m\u001b[0;34m\u001b[0m\u001b[0m\n\u001b[1;32m     18\u001b[0m             \u001b[0mstart\u001b[0m \u001b[0;34m=\u001b[0m \u001b[0mend\u001b[0m \u001b[0;34m-\u001b[0m \u001b[0;36m1\u001b[0m\u001b[0;34m\u001b[0m\u001b[0;34m\u001b[0m\u001b[0m\n",
      "\u001b[0;31mTypeError\u001b[0m: unhashable type: 'slice'"
     ]
    }
   ],
   "source": [
    "def solution(msg):\n",
    "    dic ={}\n",
    "    alpha = \"ABCDEFGHIJKLMNOPQRSTUVWXYZ\"\n",
    "    for i, n in enumerate(alpha):\n",
    "        dic[n]=i+1\n",
    "        \n",
    "    idx = 27\n",
    "    start, end = 0, 1\n",
    "    answer=[]\n",
    "    \n",
    "    while end < len(msg)+1:\n",
    "        s = msg[start:end]\n",
    "        if s in dic:\n",
    "            end+=1\n",
    "        else:\n",
    "            answer.append(dic[s:-1])\n",
    "            dic[s] = idx\n",
    "            start = end - 1\n",
    "    answer.append(dic[s])\n",
    "    return answer\n",
    "\n",
    "solution(msg)"
   ]
  },
  {
   "cell_type": "code",
   "execution_count": 33,
   "id": "96ea83fe",
   "metadata": {},
   "outputs": [],
   "source": [
    "\n",
    "answer = []\n",
    "d = dict()\n",
    "for c in range(ord('A'), ord('Z') + 1):\n",
    "    d[chr(c)] = c - ord('A') + 1\n",
    "idx = 27\n",
    "start, end = 0, 1\n",
    "\n",
    "while end < len(msg) + 1:\n",
    "    s = msg[start:end]\n",
    "    if s in d:\n",
    "        end += 1\n",
    "    else:\n",
    "        answer.append(d[s[:-1]])\n",
    "        d[s] = idx\n",
    "        idx += 1\n",
    "        start = end - 1\n",
    "answer.append(d[s])\n"
   ]
  },
  {
   "cell_type": "code",
   "execution_count": 34,
   "id": "4cbd65d6",
   "metadata": {},
   "outputs": [
    {
     "data": {
      "text/plain": [
       "{'A': 1,\n",
       " 'B': 2,\n",
       " 'C': 3,\n",
       " 'D': 4,\n",
       " 'E': 5,\n",
       " 'F': 6,\n",
       " 'G': 7,\n",
       " 'H': 8,\n",
       " 'I': 9,\n",
       " 'J': 10,\n",
       " 'K': 11,\n",
       " 'L': 12,\n",
       " 'M': 13,\n",
       " 'N': 14,\n",
       " 'O': 15,\n",
       " 'P': 16,\n",
       " 'Q': 17,\n",
       " 'R': 18,\n",
       " 'S': 19,\n",
       " 'T': 20,\n",
       " 'U': 21,\n",
       " 'V': 22,\n",
       " 'W': 23,\n",
       " 'X': 24,\n",
       " 'Y': 25,\n",
       " 'Z': 26,\n",
       " 'KA': 27,\n",
       " 'AK': 28,\n",
       " 'KAO': 29}"
      ]
     },
     "execution_count": 34,
     "metadata": {},
     "output_type": "execute_result"
    }
   ],
   "source": [
    "d"
   ]
  },
  {
   "cell_type": "code",
   "execution_count": null,
   "id": "9d9db1f1",
   "metadata": {},
   "outputs": [],
   "source": []
  }
 ],
 "metadata": {
  "kernelspec": {
   "display_name": "Python 3 (ipykernel)",
   "language": "python",
   "name": "python3"
  },
  "language_info": {
   "codemirror_mode": {
    "name": "ipython",
    "version": 3
   },
   "file_extension": ".py",
   "mimetype": "text/x-python",
   "name": "python",
   "nbconvert_exporter": "python",
   "pygments_lexer": "ipython3",
   "version": "3.9.7"
  }
 },
 "nbformat": 4,
 "nbformat_minor": 5
}
