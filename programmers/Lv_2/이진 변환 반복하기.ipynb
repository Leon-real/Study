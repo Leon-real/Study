{
 "cells": [
  {
   "cell_type": "markdown",
   "id": "f5109ac6",
   "metadata": {},
   "source": [
    "# 이진 변환 반복하기\n",
    "\n",
    "### 문제 설명\n",
    "0과 1로 이루어진 어떤 문자열 x에 대한 이진 변환을 다음과 같이 정의합니다.  \n",
    "  \n",
    "x의 모든 0을 제거합니다.  \n",
    "x의 길이를 c라고 하면, x를 \"c를 2진법으로 표현한 문자열\"로 바꿉니다.  \n",
    "예를 들어, x = \"0111010\"이라면, x에 이진 변환을 가하면 x = \"0111010\" -> \"1111\" -> \"100\" 이 됩니다.  \n",
    "  \n",
    "0과 1로 이루어진 문자열 s가 매개변수로 주어집니다. s가 \"1\"이 될 때까지 계속해서 s에 이진 변환을 가했을 때, 이진 변환의 횟수와 변환 과정에서 제거된 모든 0의 개수를 각각 배열에 담아 return 하도록 solution 함수를 완성해주세요.  \n",
    "\n",
    "### 풀이\n",
    "- 첫번째 풀이\n",
    "1. s에서 0 제거후 길이 구하기\n",
    "2. bin 함수를 통해 이진 변환하여 s에 저장하기\n",
    "3. 1,2번 반복하여 0의 제거 갯수 카운트해주기 (s의 길이가 1이 될 때까지)\n",
    "\n",
    "---"
   ]
  },
  {
   "cell_type": "code",
   "execution_count": 1,
   "id": "19784c20",
   "metadata": {},
   "outputs": [],
   "source": [
    "s =\"110010101001\""
   ]
  },
  {
   "cell_type": "code",
   "execution_count": 2,
   "id": "9f10f886",
   "metadata": {},
   "outputs": [
    {
     "data": {
      "text/plain": [
       "[3, 8]"
      ]
     },
     "execution_count": 2,
     "metadata": {},
     "output_type": "execute_result"
    }
   ],
   "source": [
    "def solution(s):\n",
    "    cnt = 0 # 이진 변환 갯수\n",
    "    zero_count = 0 # 제거한 0의 갯수 카운트\n",
    "    while len(s) != 1:\n",
    "        zero_count += s.count('0')\n",
    "        s = bin(len(s.replace(\"0\",\"\")))[2:]\n",
    "        cnt+=1\n",
    "        \n",
    "    return [cnt,zero_count]\n",
    "\n",
    "solution(s)"
   ]
  },
  {
   "cell_type": "code",
   "execution_count": 3,
   "id": "826f4544",
   "metadata": {},
   "outputs": [],
   "source": [
    "# 다른 사람 풀이\n",
    "def solution(s):\n",
    "    a, b = 0, 0\n",
    "    while s != '1':\n",
    "        a += 1\n",
    "        num = s.count('1')\n",
    "        b += len(s) - num\n",
    "        s = bin(num)[2:]\n",
    "    return [a, b]"
   ]
  },
  {
   "cell_type": "code",
   "execution_count": null,
   "id": "26760529",
   "metadata": {},
   "outputs": [],
   "source": []
  }
 ],
 "metadata": {
  "kernelspec": {
   "display_name": "Python 3 (ipykernel)",
   "language": "python",
   "name": "python3"
  },
  "language_info": {
   "codemirror_mode": {
    "name": "ipython",
    "version": 3
   },
   "file_extension": ".py",
   "mimetype": "text/x-python",
   "name": "python",
   "nbconvert_exporter": "python",
   "pygments_lexer": "ipython3",
   "version": "3.9.7"
  }
 },
 "nbformat": 4,
 "nbformat_minor": 5
}
