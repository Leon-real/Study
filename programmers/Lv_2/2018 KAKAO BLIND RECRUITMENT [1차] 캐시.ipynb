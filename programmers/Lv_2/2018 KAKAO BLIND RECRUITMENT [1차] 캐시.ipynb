{
 "cells": [
  {
   "cell_type": "markdown",
   "id": "d15fbe28",
   "metadata": {},
   "source": [
    "# 2018 KAKAO BLIND RECRUITMENT\n",
    "[1차] 캐시\n",
    "\n",
    "\n",
    "### 문제 설명  \n",
    "지도개발팀에서 근무하는 제이지는 지도에서 도시 이름을 검색하면 해당 도시와 관련된 맛집 게시물들을 데이터베이스에서 읽어 보여주는 서비스를 개발하고 있다.\n",
    "이 프로그램의 테스팅 업무를 담당하고 있는 어피치는 서비스를 오픈하기 전 각 로직에 대한 성능 측정을 수행하였는데, 제이지가 작성한 부분 중 데이터베이스에서 게시물을 가져오는 부분의 실행시간이 너무 오래 걸린다는 것을 알게 되었다.  \n",
    "어피치는 제이지에게 해당 로직을 개선하라고 닦달하기 시작하였고, 제이지는 DB 캐시를 적용하여 성능 개선을 시도하고 있지만 캐시 크기를 얼마로 해야 효율적인지 몰라 난감한 상황이다.  \n",
    "  \n",
    "어피치에게 시달리는 제이지를 도와, DB 캐시를 적용할 때 캐시 크기에 따른 실행시간 측정 프로그램을 작성하시오.  \n",
    "        \n",
    "### 풀이\n",
    "- 아이디어  \n",
    "     - 공백   \n",
    "       \n",
    "- 풀이 순서\n",
    "1. cache라는 빈 배열을 만든다.\n",
    "2. .lower(): city는 대소문자를 구별하지 않으므로 for문을 돌며 cache 배열에 접근할 때 모두 소문자로 변경하여 저장한다.\n",
    "3. cacheSize가 0인 경우에는 cache에 저장이 불가능 하므로 cache miss만 발생하여 매번 실행 시간이 5초가 되어 time에 5를 계속 더해준다.\n",
    "4. cacheSize가 1 이상인 경우, cache hit인지 cache miss인지 판별을 해야 하므로 cache에 city가 존재하는지 확인해야 한다.\n",
    "5. cache miss인 경우, 먼저 cacheSize와 cache의 길이가 같은 지 확인한다. 만약 같다면 더 이상 cache에 저장할 용량이 없다는 뜻으로 cache.pop(0)으로 cache의 첫 번째 값을 제거한다. 이후, cache에 cache.append(city)로 city를 저장한다. 실행 시간은 5초이므로 time에 5를 더한다.\n",
    "6. cache hit인 경우, 이전에 같은 이름의 city가 존재하므로 이는 가장 최근에 참조 되었다는 의미가 되므로 cache에 있던 city를 삭제한 뒤, 맨 뒤에 city를 다시 저장한다. 실행 시간은 1초이므로 time에 1을 더한다."
   ]
  },
  {
   "cell_type": "code",
   "execution_count": 1,
   "id": "e2182447",
   "metadata": {},
   "outputs": [],
   "source": [
    "cacheSize = 3\n",
    "cities = [\"Jeju\", \"Pangyo\", \"Seoul\", \"NewYork\", \"LA\", \"Jeju\", \"Pangyo\", \"Seoul\", \"NewYork\", \"LA\"]"
   ]
  },
  {
   "cell_type": "code",
   "execution_count": 6,
   "id": "2bbb510a",
   "metadata": {},
   "outputs": [
    {
     "data": {
      "text/plain": [
       "50"
      ]
     },
     "execution_count": 6,
     "metadata": {},
     "output_type": "execute_result"
    }
   ],
   "source": [
    "def solution(cacheSize, cities):\n",
    "    cache=[]\n",
    "    time = 0\n",
    "    \n",
    "    for c in cities:\n",
    "        c = c.lower()\n",
    "        if cacheSize:\n",
    "            if not c in cache:\n",
    "                if len(cache) == cacheSize:\n",
    "                    cache.pop(0)\n",
    "                cache.append(c)\n",
    "                time += 5\n",
    "            else:\n",
    "                cache.pop(cache.index(c))\n",
    "                cache.append(c)\n",
    "                time += 1\n",
    "        else:\n",
    "            time += 5\n",
    "        \n",
    "    \n",
    "    \n",
    "    \n",
    "    return time\n",
    "\n",
    "solution(cacheSize, cities)"
   ]
  },
  {
   "cell_type": "code",
   "execution_count": null,
   "id": "eae59085",
   "metadata": {},
   "outputs": [],
   "source": []
  },
  {
   "cell_type": "code",
   "execution_count": null,
   "id": "6e6a155c",
   "metadata": {},
   "outputs": [],
   "source": []
  }
 ],
 "metadata": {
  "kernelspec": {
   "display_name": "Python 3 (ipykernel)",
   "language": "python",
   "name": "python3"
  },
  "language_info": {
   "codemirror_mode": {
    "name": "ipython",
    "version": 3
   },
   "file_extension": ".py",
   "mimetype": "text/x-python",
   "name": "python",
   "nbconvert_exporter": "python",
   "pygments_lexer": "ipython3",
   "version": "3.9.7"
  }
 },
 "nbformat": 4,
 "nbformat_minor": 5
}
