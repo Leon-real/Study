{
 "cells": [
  {
   "cell_type": "markdown",
   "id": "7d4e7446",
   "metadata": {},
   "source": [
    "# 연속 부분 수열 합의 개수\n",
    "\n",
    "### 문제 설명  \n",
    "철호는 수열을 가지고 놀기 좋아합니다.   \n",
    "어느 날 철호는 어떤 자연수로 이루어진 원형 수열의 연속하는 부분 수열의 합으로 만들 수 있는 수가 모두 몇 가지인지 알아보고 싶어졌습니다. 원형 수열이란 일반적인 수열에서 처음과 끝이 연결된 형태의 수열을 말합니다. 예를 들어 수열 [7, 9, 1, 1, 4] 로 원형 수열을 만들면 다음과 같습니다.  \n",
    "  \n",
    "원형 수열은 처음과 끝이 연결되어 끊기는 부분이 없기 때문에 연속하는 부분 수열도 일반적인 수열보다 많아집니다.  \n",
    "원형 수열의 모든 원소 elements가 순서대로 주어질 때, 원형 수열의 연속 부분 수열 합으로 만들 수 있는 수의 개수를 return 하도록 solution 함수를 완성해주세요.  \n",
    "      \n",
    "### 풀이\n",
    "- 아이디어  \n",
    "     - 중복 제거한 순열의 갯수 파악하기\n",
    "       \n",
    "- 풀이 순서\n",
    "1."
   ]
  },
  {
   "cell_type": "code",
   "execution_count": 66,
   "id": "54191744",
   "metadata": {},
   "outputs": [
    {
     "data": {
      "text/plain": [
       "[7, 9, 1, 1, 4, 7, 9, 1, 1, 4]"
      ]
     },
     "execution_count": 66,
     "metadata": {},
     "output_type": "execute_result"
    }
   ],
   "source": [
    "elements = [7,9,1,1,4]\n",
    "e = elements*2\n",
    "e2 = elements*4\n",
    "e"
   ]
  },
  {
   "cell_type": "code",
   "execution_count": 67,
   "id": "ca9b6e42",
   "metadata": {},
   "outputs": [],
   "source": [
    "import itertools"
   ]
  },
  {
   "cell_type": "code",
   "execution_count": 71,
   "id": "a5ea75dc",
   "metadata": {},
   "outputs": [
    {
     "data": {
      "text/plain": [
       "[1, 2, 4, 5, 6, 7, 8, 9, 10, 11, 12, 13, 14, 15, 16, 17, 18, 20, 21, 22]"
      ]
     },
     "execution_count": 71,
     "metadata": {},
     "output_type": "execute_result"
    }
   ],
   "source": [
    "answer = []\n",
    "for i in range(1,len(elements)+1):\n",
    "    for j in list(itertools.combinations(elements,i)):\n",
    "#         print(j, sum(j))\n",
    "        if sum(j) in answer:\n",
    "            pass\n",
    "        else:\n",
    "            answer.append(sum(j))\n",
    "sorted(answer)"
   ]
  },
  {
   "cell_type": "code",
   "execution_count": 72,
   "id": "2e732fc8",
   "metadata": {},
   "outputs": [
    {
     "data": {
      "text/plain": [
       "20"
      ]
     },
     "execution_count": 72,
     "metadata": {},
     "output_type": "execute_result"
    }
   ],
   "source": [
    "len(answer)"
   ]
  },
  {
   "cell_type": "code",
   "execution_count": 63,
   "id": "acc3109a",
   "metadata": {},
   "outputs": [
    {
     "name": "stdout",
     "output_type": "stream",
     "text": [
      "\n",
      "7 0 2 [7, 9] 16\n",
      "1 2 4 [1, 1] 2\n",
      "4 4 6 [4, 7] 11\n",
      "9 6 8 [9, 1] 10\n",
      "1 8 10 [1, 4] 5\n",
      "\n",
      "7 0 3 [7, 9, 1] 17\n",
      "1 3 6 [1, 4, 7] 12\n",
      "9 6 9 [9, 1, 1] 11\n",
      "4 9 12 [4, 7, 9] 20\n",
      "\n",
      "7 0 4 [7, 9, 1, 1] 18\n",
      "4 4 8 [4, 7, 9, 1] 21\n",
      "1 8 12 [1, 4, 7, 9] 21\n",
      "\n",
      "7 0 5 [7, 9, 1, 1, 4] 22\n",
      "7 5 10 [7, 9, 1, 1, 4] 22\n"
     ]
    },
    {
     "data": {
      "text/plain": [
       "[16, 2, 11, 10, 5, 17, 12, 20, 18, 21, 22]"
      ]
     },
     "execution_count": 63,
     "metadata": {},
     "output_type": "execute_result"
    }
   ],
   "source": [
    "answer=[]\n",
    "for i in range(2,len(elements)+1):\n",
    "    print()\n",
    "    n = i\n",
    "    for j in range(0,len(e),i):\n",
    "        print(e2[j],j,n, e2[j:n],sum(e2[j:n]))\n",
    "        if sum(e2[j:n]) in answer:\n",
    "            pass\n",
    "        else:\n",
    "            answer.append(sum(e2[j:n]))\n",
    "        n += i\n",
    "answer"
   ]
  },
  {
   "cell_type": "code",
   "execution_count": 64,
   "id": "3ab8eb2d",
   "metadata": {},
   "outputs": [
    {
     "data": {
      "text/plain": [
       "11"
      ]
     },
     "execution_count": 64,
     "metadata": {},
     "output_type": "execute_result"
    }
   ],
   "source": [
    "len(answer)"
   ]
  },
  {
   "cell_type": "code",
   "execution_count": 77,
   "id": "32f1d96b",
   "metadata": {},
   "outputs": [
    {
     "name": "stdout",
     "output_type": "stream",
     "text": [
      "0 1 [7]\n",
      "1 2 [9]\n",
      "2 3 [1]\n",
      "3 4 [1]\n",
      "4 5 [4]\n",
      "0 2 [7, 9]\n",
      "1 3 [9, 1]\n",
      "2 4 [1, 1]\n",
      "3 5 [1, 4]\n",
      "4 6 [4, 7]\n",
      "0 3 [7, 9, 1]\n",
      "1 4 [9, 1, 1]\n",
      "2 5 [1, 1, 4]\n",
      "3 6 [1, 4, 7]\n",
      "4 7 [4, 7, 9]\n",
      "0 4 [7, 9, 1, 1]\n",
      "1 5 [9, 1, 1, 4]\n",
      "2 6 [1, 1, 4, 7]\n",
      "3 7 [1, 4, 7, 9]\n",
      "4 8 [4, 7, 9, 1]\n",
      "0 5 [7, 9, 1, 1, 4]\n",
      "1 6 [9, 1, 1, 4, 7]\n",
      "2 7 [1, 1, 4, 7, 9]\n",
      "3 8 [1, 4, 7, 9, 1]\n",
      "4 9 [4, 7, 9, 1, 1]\n"
     ]
    },
    {
     "data": {
      "text/plain": [
       "18"
      ]
     },
     "execution_count": 77,
     "metadata": {},
     "output_type": "execute_result"
    }
   ],
   "source": [
    "def solution(elements):\n",
    "    result = set()\n",
    "    \n",
    "    elementLen = len(elements)\n",
    "    # [7, 9, 1, 1, 4, 7, 9, 1, 1, 4]\n",
    "    elements = elements * 2\n",
    "    \n",
    "    for i in range(elementLen):\n",
    "        for j in range(elementLen):\n",
    "            print(j, j+i+1, elements[j:j+i+1])\n",
    "            result.add(sum(elements[j:j+i+1]))\n",
    "    return len(result)\n",
    "\n",
    "solution(elements)"
   ]
  },
  {
   "cell_type": "code",
   "execution_count": null,
   "id": "abdecd4c",
   "metadata": {},
   "outputs": [],
   "source": []
  }
 ],
 "metadata": {
  "kernelspec": {
   "display_name": "Python 3 (ipykernel)",
   "language": "python",
   "name": "python3"
  },
  "language_info": {
   "codemirror_mode": {
    "name": "ipython",
    "version": 3
   },
   "file_extension": ".py",
   "mimetype": "text/x-python",
   "name": "python",
   "nbconvert_exporter": "python",
   "pygments_lexer": "ipython3",
   "version": "3.9.7"
  }
 },
 "nbformat": 4,
 "nbformat_minor": 5
}
