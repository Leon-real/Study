{
 "cells": [
  {
   "cell_type": "markdown",
   "id": "b373939a",
   "metadata": {},
   "source": [
    "# 할인 행사\n",
    "\n",
    "### 문제 설명  \n",
    "XYZ 마트는 일정한 금액을 지불하면 10일 동안 회원 자격을 부여합니다. XYZ 마트에서는 회원을 대상으로 매일 한 가지 제품을 할인하는 행사를 합니다. 할인하는 제품은 하루에 하나씩만 구매할 수 있습니다. 알뜰한 정현이는 자신이 원하는 제품과 수량이 할인하는 날짜와 10일 연속으로 일치할 경우에 맞춰서 회원가입을 하려 합니다.   \n",
    "  \n",
    "예를 들어, 정현이가 원하는 제품이 바나나 3개, 사과 2개, 쌀 2개, 돼지고기 2개, 냄비 1개이며, XYZ 마트에서 15일간 회원을 대상으로 할인하는 제품이 날짜 순서대로 치킨, 사과, 사과, 바나나, 쌀, 사과, 돼지고기, 바나나, 돼지고기, 쌀, 냄비, 바나나, 사과, 바나나인 경우에 대해 알아봅시다. 첫째 날부터 열흘 간에는 냄비가 할인하지 않기 때문에 첫째 날에는 회원가입을 하지 않습니다. 둘째 날부터 열흘 간에는 바나나를 원하는 만큼 할인구매할 수 없기 때문에 둘째 날에도 회원가입을 하지 않습니다. 셋째 날, 넷째 날, 다섯째 날부터 각각 열흘은 원하는 제품과 수량이 일치하기 때문에 셋 중 하루에 회원가입을 하려 합니다.  \n",
    "  \n",
    "정현이가 원하는 제품을 나타내는 문자열 배열 want와 정현이가 원하는 제품의 수량을 나타내는 정수 배열 number, XYZ 마트에서 할인하는 제품을 나타내는 문자열 배열 discount가 주어졌을 때, 회원등록시 정현이가 원하는 제품을 모두 할인 받을 수 있는 회원등록 날짜의 총 일수를 return 하는 solution 함수를 완성하시오. 가능한 날이 없으면 0을 return 합니다.  \n",
    "      \n",
    "### 풀이\n",
    "- 아이디어  \n",
    "     - 10일동안 회원 자격\n",
    "     - 마트에서 매일 한가지 제품을 할인\n",
    "     - 할인하는 제품은 하루에 하나씩만 구매 가능\n",
    "     - \n",
    "       \n",
    "- 풀이 순서\n",
    "1. 원하는 품목 갯수와 dsicount 갯수가 다를 경우 0 return\n",
    "2. discount목록을 순서대로 순회하며, want목록에 있는 요소가 나올때 시작점으로 하기"
   ]
  },
  {
   "cell_type": "code",
   "execution_count": 46,
   "id": "6bbef8a0",
   "metadata": {},
   "outputs": [],
   "source": [
    "want = [\"banana\", \"apple\", \"rice\", \"pork\", \"pot\"]\n",
    "number = [3, 2, 2, 2, 1]\n",
    "discount = [\"chicken\", \"apple\", \"apple\", \"banana\", \"rice\", \"apple\", \"pork\", \"banana\", \"pork\", \"rice\", \"pot\", \"banana\", \"apple\", \"banana\"]"
   ]
  },
  {
   "cell_type": "code",
   "execution_count": null,
   "id": "85b41dc4",
   "metadata": {},
   "outputs": [],
   "source": []
  },
  {
   "cell_type": "code",
   "execution_count": 44,
   "id": "7ea3b62e",
   "metadata": {},
   "outputs": [
    {
     "name": "stdout",
     "output_type": "stream",
     "text": [
      "2\n",
      "3\n",
      "4\n",
      "5\n",
      "6\n",
      "7\n",
      "8\n",
      "9\n",
      "10\n",
      "11\n",
      "12\n",
      "13\n",
      "14\n"
     ]
    }
   ],
   "source": [
    "dic={}\n",
    "for i in discount:\n",
    "    if i in dic:\n",
    "        dic[i] += 1\n",
    "    else:\n",
    "        dic[i] = 1\n",
    "for i, n in zip(want, number):\n",
    "    if dic[i] < n:\n",
    "        print(0)\n",
    "n=0\n",
    "for i in discount:\n",
    "    n+=1\n",
    "    if i in want:\n",
    "        print(n)"
   ]
  },
  {
   "cell_type": "code",
   "execution_count": 47,
   "id": "e0d083b2",
   "metadata": {},
   "outputs": [
    {
     "data": {
      "text/plain": [
       "3"
      ]
     },
     "execution_count": 47,
     "metadata": {},
     "output_type": "execute_result"
    }
   ],
   "source": [
    "def solution(want, number, discount):\n",
    "    dic={}\n",
    "    for i in discount:\n",
    "        if i in dic:\n",
    "            dic[i] += 1\n",
    "        else:\n",
    "            dic[i] = 1\n",
    "    for i, n in zip(want, number):\n",
    "        if i not in dic:\n",
    "            return 0\n",
    "        if dic[i] < n:\n",
    "            return 0\n",
    "    n=0\n",
    "    for i in discount:\n",
    "        n+=1\n",
    "        if i in want:\n",
    "            return n+1\n",
    "    return answer\n",
    "solution(want, number, discount)"
   ]
  },
  {
   "cell_type": "code",
   "execution_count": 52,
   "id": "7d1f12ca",
   "metadata": {},
   "outputs": [
    {
     "name": "stdout",
     "output_type": "stream",
     "text": [
      "Counter({'apple': 3, 'banana': 2, 'rice': 2, 'pork': 2, 'chicken': 1})\n",
      "Counter({'apple': 3, 'banana': 2, 'rice': 2, 'pork': 2, 'pot': 1})\n",
      "Counter({'banana': 3, 'apple': 2, 'rice': 2, 'pork': 2, 'pot': 1})\n",
      "Counter({'banana': 3, 'rice': 2, 'apple': 2, 'pork': 2, 'pot': 1})\n",
      "Counter({'banana': 3, 'rice': 2, 'apple': 2, 'pork': 2, 'pot': 1})\n"
     ]
    },
    {
     "data": {
      "text/plain": [
       "3"
      ]
     },
     "execution_count": 52,
     "metadata": {},
     "output_type": "execute_result"
    }
   ],
   "source": [
    "from collections import Counter\n",
    "\n",
    "def solution(want, number, discount):\n",
    "    answer = 0\n",
    "    check = {}\n",
    "    for w, n in zip(want, number):\n",
    "        check[w] = n\n",
    "    \n",
    "    for i in range(len(discount)-9):\n",
    "        c = Counter(discount[i:i+10])\n",
    "        print(c)\n",
    "        if c == check:\n",
    "            answer += 1\n",
    "\n",
    "    return answer\n",
    "\n",
    "solution(want, number, discount)"
   ]
  },
  {
   "cell_type": "code",
   "execution_count": 60,
   "id": "fce7c989",
   "metadata": {},
   "outputs": [],
   "source": [
    "a = Counter(discount)"
   ]
  },
  {
   "cell_type": "code",
   "execution_count": null,
   "id": "d3ed7a8d",
   "metadata": {},
   "outputs": [],
   "source": []
  },
  {
   "cell_type": "code",
   "execution_count": null,
   "id": "e93c969d",
   "metadata": {},
   "outputs": [],
   "source": []
  },
  {
   "cell_type": "code",
   "execution_count": null,
   "id": "0780a4ec",
   "metadata": {},
   "outputs": [],
   "source": []
  }
 ],
 "metadata": {
  "kernelspec": {
   "display_name": "Python 3 (ipykernel)",
   "language": "python",
   "name": "python3"
  },
  "language_info": {
   "codemirror_mode": {
    "name": "ipython",
    "version": 3
   },
   "file_extension": ".py",
   "mimetype": "text/x-python",
   "name": "python",
   "nbconvert_exporter": "python",
   "pygments_lexer": "ipython3",
   "version": "3.9.7"
  }
 },
 "nbformat": 4,
 "nbformat_minor": 5
}
