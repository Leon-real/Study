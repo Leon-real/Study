{
 "cells": [
  {
   "cell_type": "markdown",
   "id": "7b8526fc",
   "metadata": {},
   "source": [
    "# 개인 정보 수집 유효기간\n",
    "---\n",
    "### 문제 설명  \n",
    "고객의 약관 동의를 얻어서 수집된 1~n번으로 분류되는 개인정보 n개가 있습니다. 약관 종류는 여러 가지 있으며 각 약관마다 개인정보 보관 유효기간이 정해져 있습니다. 당신은 각 개인정보가 어떤 약관으로 수집됐는지 알고 있습니다. 수집된 개인정보는 유효기간 전까지만 보관 가능하며, 유효기간이 지났다면 반드시 파기해야 합니다.\n",
    "\n",
    "예를 들어, A라는 약관의 유효기간이 12 달이고, 2021년 1월 5일에 수집된 개인정보가 A약관으로 수집되었다면 해당 개인정보는 2022년 1월 4일까지 보관 가능하며 2022년 1월 5일부터 파기해야 할 개인정보입니다.\n",
    "당신은 오늘 날짜로 파기해야 할 개인정보 번호들을 구하려 합니다.\n",
    "\n",
    "모든 달은 28일까지 있다고 가정합니다.\n",
    "\n",
    "다음은 오늘 날짜가 2022.05.19일 때의 예시입니다.\n",
    "\n",
    "약관, 종류,\t유효기간  \n",
    "    A,\t6, 달   \n",
    "    B,\t12, 달   \n",
    "    C,\t3, 달   \n",
    "\n",
    "첫 번째 개인정보는 A약관에 의해 2021년 11월 1일까지 보관 가능하며, 유효기간이 지났으므로 파기해야 할 개인정보입니다.\n",
    "두 번째 개인정보는 B약관에 의해 2022년 6월 28일까지 보관 가능하며, 유효기간이 지나지 않았으므로 아직 보관 가능합니다.\n",
    "세 번째 개인정보는 C약관에 의해 2022년 5월 18일까지 보관 가능하며, 유효기간이 지났으므로 파기해야 할 개인정보입니다.\n",
    "네 번째 개인정보는 C약관에 의해 2022년 5월 19일까지 보관 가능하며, 유효기간이 지나지 않았으므로 아직 보관 가능합니다.\n",
    "따라서 파기해야 할 개인정보 번호는 [1, 3]입니다.\n",
    "\n",
    "오늘 날짜를 의미하는 문자열 today, 약관의 유효기간을 담은 1차원 문자열 배열 terms와 수집된 개인정보의 정보를 담은 1차원 문자열 배열 privacies가 매개변수로 주어집니다. 이때 파기해야 할 개인정보의 번호를 오름차순으로 1차원 정수 배열에 담아 return 하도록 solution 함수를 완성해 주세요.\n",
    "    \n",
    "### 문제 풀이\n",
    "- 첫번째 풀이\n",
    "1. privacies를 순회하며 각 약관에 해당하는 날짜 더해주기\n",
    "2. 더해준 날짜가 today의 기간을 넘었는지 확인\n",
    "\n",
    "---\n",
    "- 두번째 풀이\n",
    "1. 날짜 값을 일수로 통일해주기 => 비교를 위해 모든 날짜를 일수로 변환하여 계산\n",
    "2. privacies를 순회하며 각 약관에 해당하는 날짜 더해주기\n",
    "3. 더해준 날짜가 today의 기간을 넘었는지 확인"
   ]
  },
  {
   "cell_type": "code",
   "execution_count": 8,
   "id": "e078d238",
   "metadata": {},
   "outputs": [],
   "source": [
    "today = \"2022.05.19\"\n",
    "\n",
    "terms = [\"A 6\", \"B 12\", \"C 3\"]\n",
    "\n",
    "privacies = [\"2021.05.02 A\", \"2021.07.01 B\", \"2022.02.19 C\", \"2022.02.20 C\"]"
   ]
  },
  {
   "cell_type": "code",
   "execution_count": 9,
   "id": "69ba2e85",
   "metadata": {},
   "outputs": [
    {
     "data": {
      "text/plain": [
       "[1, 2, 4]"
      ]
     },
     "execution_count": 9,
     "metadata": {},
     "output_type": "execute_result"
    }
   ],
   "source": [
    "# 첫번째 풀이\n",
    "def solution(today, terms, privacies):\n",
    "    answer = []\n",
    "    today = list(map(int, today.split(\".\")))\n",
    "    for idx, val in enumerate(privacies):\n",
    "        dates = val.split(\" \")[0].split(\".\")\n",
    "        term = [i.split(\" \")[1] for i in terms if i.split(\" \")[0] == val.split(\" \")[1]]\n",
    "        \n",
    "        if int(dates[1])+int(term[0]) > 12: # 12달을 넘으면\n",
    "            plus_year = (int(dates[1])+int(term[0])) // 12 # year 값\n",
    "            rest_month = (int(dates[1])+int(term[0])) % 12 # month 남은 값\n",
    "            expiration = [int(dates[0])+plus_year,rest_month,int(dates[2])]\n",
    "        else:\n",
    "            expiration = [int(dates[0]),int(dates[1])+int(term[0]),int(dates[2])]\n",
    "        \n",
    "        for i in range(3):\n",
    "            if expiration[i] > today[i]:\n",
    "                answer.append(idx+1)\n",
    "                break\n",
    "    \n",
    "    return answer\n",
    "\n",
    "solution(today, terms, privacies)"
   ]
  },
  {
   "cell_type": "code",
   "execution_count": 11,
   "id": "31f5d178",
   "metadata": {},
   "outputs": [
    {
     "data": {
      "text/plain": [
       "[1, 3]"
      ]
     },
     "execution_count": 11,
     "metadata": {},
     "output_type": "execute_result"
    }
   ],
   "source": [
    "# 두번째 풀이\n",
    "def day_dates(s):\n",
    "    y, m, d = map(int,s.split(\".\"))\n",
    "    \n",
    "    return (y*12*28) + (m*28) + d\n",
    "    \n",
    "\n",
    "def solution(today, terms, privacies):\n",
    "    answer = []\n",
    "    today = day_dates(today)\n",
    "    dic=dict()\n",
    "    for term in terms:\n",
    "        term = term.split()\n",
    "        dic[term[0]] = int(term[1]) * 28\n",
    "    \n",
    "    for i, val in enumerate(privacies):\n",
    "        date,term = val.split(\" \")\n",
    "        if day_dates(date) + dic[term] <= today:\n",
    "            answer.append(i+1)\n",
    "    \n",
    "    return answer\n",
    "\n",
    "solution(today, terms, privacies)"
   ]
  },
  {
   "cell_type": "code",
   "execution_count": null,
   "id": "d1a69d9f",
   "metadata": {},
   "outputs": [],
   "source": []
  }
 ],
 "metadata": {
  "kernelspec": {
   "display_name": "Python 3 (ipykernel)",
   "language": "python",
   "name": "python3"
  },
  "language_info": {
   "codemirror_mode": {
    "name": "ipython",
    "version": 3
   },
   "file_extension": ".py",
   "mimetype": "text/x-python",
   "name": "python",
   "nbconvert_exporter": "python",
   "pygments_lexer": "ipython3",
   "version": "3.9.7"
  }
 },
 "nbformat": 4,
 "nbformat_minor": 5
}
