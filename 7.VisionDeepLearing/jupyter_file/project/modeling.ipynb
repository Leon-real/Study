{
 "cells": [
  {
   "cell_type": "code",
   "execution_count": 1,
   "id": "f355b0a0",
   "metadata": {},
   "outputs": [],
   "source": [
    "from ultralytics import YOLO\n",
    "import cv2"
   ]
  },
  {
   "cell_type": "markdown",
   "id": "061982f4",
   "metadata": {},
   "source": [
    "# 모델 불러오기 (가중치 불러오기)"
   ]
  },
  {
   "cell_type": "code",
   "execution_count": 18,
   "id": "96ab4401",
   "metadata": {
    "scrolled": false
   },
   "outputs": [],
   "source": [
    "model = YOLO(model='./yolov8n.pt', task='detect')"
   ]
  },
  {
   "cell_type": "markdown",
   "id": "99d60f22",
   "metadata": {},
   "source": [
    "# 모델 학습하기"
   ]
  },
  {
   "cell_type": "code",
   "execution_count": 17,
   "id": "9faa7352",
   "metadata": {},
   "outputs": [],
   "source": [
    "results = model.train(data='./yamdata.yaml',\n",
    "                    epochs=100,\n",
    "                    patience=10,\n",
    "                    pretrained=True,\n",
    "                    verbose=True,\n",
    "                    )"
   ]
  },
  {
   "cell_type": "markdown",
   "id": "5f74cff6",
   "metadata": {},
   "source": [
    "# 예측하기"
   ]
  },
  {
   "cell_type": "code",
   "execution_count": 16,
   "id": "f05908c9",
   "metadata": {},
   "outputs": [
    {
     "name": "stderr",
     "output_type": "stream",
     "text": [
      "\n",
      "image 1/1 C:\\Users\\user\\Desktop\\test_img\\100_1.jpg: 640x640 1 100, 156.3ms\n",
      "Speed: 2.6ms preprocess, 156.3ms inference, 1.0ms postprocess per image at shape (1, 3, 640, 640)\n",
      "Results saved to \u001b[1mruns\\detect\\predict3\u001b[0m\n"
     ]
    },
    {
     "data": {
      "text/plain": [
       "[ultralytics.engine.results.Results object with attributes:\n",
       " \n",
       " boxes: ultralytics.engine.results.Boxes object\n",
       " keypoints: None\n",
       " masks: None\n",
       " names: {0: '10', 1: '50', 2: '100', 3: '500', 4: '1000', 5: '5000', 6: '10000', 7: '50000'}\n",
       " orig_img: array([[[252, 248, 247],\n",
       "         [252, 248, 247],\n",
       "         [252, 248, 247],\n",
       "         ...,\n",
       "         [250, 246, 245],\n",
       "         [250, 246, 245],\n",
       "         [250, 246, 245]],\n",
       " \n",
       "        [[252, 248, 247],\n",
       "         [252, 248, 247],\n",
       "         [252, 248, 247],\n",
       "         ...,\n",
       "         [250, 246, 245],\n",
       "         [250, 246, 245],\n",
       "         [250, 246, 245]],\n",
       " \n",
       "        [[252, 248, 247],\n",
       "         [252, 248, 247],\n",
       "         [252, 248, 247],\n",
       "         ...,\n",
       "         [250, 246, 245],\n",
       "         [250, 246, 245],\n",
       "         [250, 246, 245]],\n",
       " \n",
       "        ...,\n",
       " \n",
       "        [[250, 246, 245],\n",
       "         [250, 246, 245],\n",
       "         [250, 246, 245],\n",
       "         ...,\n",
       "         [248, 244, 243],\n",
       "         [248, 244, 243],\n",
       "         [248, 244, 243]],\n",
       " \n",
       "        [[250, 246, 245],\n",
       "         [250, 246, 245],\n",
       "         [250, 246, 245],\n",
       "         ...,\n",
       "         [248, 244, 243],\n",
       "         [248, 244, 243],\n",
       "         [248, 244, 243]],\n",
       " \n",
       "        [[250, 246, 245],\n",
       "         [250, 246, 245],\n",
       "         [250, 246, 245],\n",
       "         ...,\n",
       "         [248, 244, 243],\n",
       "         [248, 244, 243],\n",
       "         [248, 244, 243]]], dtype=uint8)\n",
       " orig_shape: (340, 340)\n",
       " path: 'C:\\\\Users\\\\user\\\\Desktop\\\\test_img\\\\100_1.jpg'\n",
       " probs: None\n",
       " save_dir: 'runs\\\\detect\\\\predict3'\n",
       " speed: {'preprocess': 2.590656280517578, 'inference': 156.2976837158203, 'postprocess': 0.9748935699462891}]"
      ]
     },
     "execution_count": 16,
     "metadata": {},
     "output_type": "execute_result"
    }
   ],
   "source": [
    "model.predict(source=r'C:\\Users\\user\\Desktop\\test_img\\100_1.jpg',\n",
    "                      conf=0.25,\n",
    "                      iou=0.7,\n",
    "                      save=True,\n",
    "                      line_width=2\n",
    "                      )"
   ]
  },
  {
   "cell_type": "markdown",
   "id": "84a47d87",
   "metadata": {},
   "source": [
    "# 실시간 탐지"
   ]
  },
  {
   "cell_type": "code",
   "execution_count": null,
   "id": "c0858c17",
   "metadata": {},
   "outputs": [],
   "source": [
    "model.predict(source='0',\n",
    "                      conf=0.25,\n",
    "                      iou=0.7,\n",
    "                      show=True,\n",
    "                      line_width=2\n",
    "                      )"
   ]
  },
  {
   "cell_type": "code",
   "execution_count": null,
   "id": "0d71b060",
   "metadata": {},
   "outputs": [],
   "source": []
  }
 ],
 "metadata": {
  "kernelspec": {
   "display_name": "Python 3 (ipykernel)",
   "language": "python",
   "name": "python3"
  },
  "language_info": {
   "codemirror_mode": {
    "name": "ipython",
    "version": 3
   },
   "file_extension": ".py",
   "mimetype": "text/x-python",
   "name": "python",
   "nbconvert_exporter": "python",
   "pygments_lexer": "ipython3",
   "version": "3.11.3"
  }
 },
 "nbformat": 4,
 "nbformat_minor": 5
}
