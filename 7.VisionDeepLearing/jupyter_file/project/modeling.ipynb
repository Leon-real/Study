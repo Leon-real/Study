{
 "cells": [
  {
   "cell_type": "code",
   "execution_count": 2,
   "id": "f355b0a0",
   "metadata": {},
   "outputs": [],
   "source": [
    "from ultralytics import YOLO\n",
    "import cv2"
   ]
  },
  {
   "cell_type": "markdown",
   "id": "061982f4",
   "metadata": {},
   "source": [
    "# 모델 불러오기 (가중치 불러오기)"
   ]
  },
  {
   "cell_type": "code",
   "execution_count": null,
   "id": "96ab4401",
   "metadata": {},
   "outputs": [],
   "source": [
    "model = YOLO(model='yolov8n.yaml', task='detect')"
   ]
  },
  {
   "cell_type": "markdown",
   "id": "99d60f22",
   "metadata": {},
   "source": [
    "# 모델 학습하기"
   ]
  },
  {
   "cell_type": "code",
   "execution_count": null,
   "id": "9faa7352",
   "metadata": {},
   "outputs": [],
   "source": [
    "results = model.train(data='./yamdata.yaml',\n",
    "                    epochs=100,\n",
    "                    patience=10,\n",
    "                    pretrained=True,\n",
    "                    verbose=True,\n",
    "                    )"
   ]
  },
  {
   "cell_type": "markdown",
   "id": "5f74cff6",
   "metadata": {},
   "source": [
    "# 예측하기"
   ]
  },
  {
   "cell_type": "code",
   "execution_count": null,
   "id": "f05908c9",
   "metadata": {},
   "outputs": [],
   "source": [
    "model.predict(source='./test.jpg',\n",
    "                      conf=0.25,\n",
    "                      iou=0.7,\n",
    "                      save=True,\n",
    "                      line_width=2\n",
    "                      )"
   ]
  },
  {
   "cell_type": "markdown",
   "id": "84a47d87",
   "metadata": {},
   "source": [
    "# 실시간 탐지"
   ]
  },
  {
   "cell_type": "code",
   "execution_count": null,
   "id": "c0858c17",
   "metadata": {},
   "outputs": [],
   "source": [
    "model.predict(source='0',\n",
    "                      conf=0.25,\n",
    "                      iou=0.7,\n",
    "                      show=True,\n",
    "                      line_width=2\n",
    "                      )"
   ]
  },
  {
   "cell_type": "code",
   "execution_count": null,
   "id": "0d71b060",
   "metadata": {},
   "outputs": [],
   "source": []
  }
 ],
 "metadata": {
  "kernelspec": {
   "display_name": "Python 3 (ipykernel)",
   "language": "python",
   "name": "python3"
  },
  "language_info": {
   "codemirror_mode": {
    "name": "ipython",
    "version": 3
   },
   "file_extension": ".py",
   "mimetype": "text/x-python",
   "name": "python",
   "nbconvert_exporter": "python",
   "pygments_lexer": "ipython3",
   "version": "3.11.3"
  }
 },
 "nbformat": 4,
 "nbformat_minor": 5
}
