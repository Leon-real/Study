{
 "cells": [
  {
   "cell_type": "markdown",
   "id": "954e211d",
   "metadata": {},
   "source": [
    "# MNIST를 CNN 활용하여 모델링하기\n",
    "- MNIST 데이터 모델링\n",
    "- 모델 저장 및 불러오기\n",
    "- 내 손글씨 테스트하기"
   ]
  },
  {
   "cell_type": "markdown",
   "id": "549f93ad",
   "metadata": {},
   "source": [
    "## 라이브러리불러오기"
   ]
  },
  {
   "cell_type": "code",
   "execution_count": 1,
   "id": "57a794e0",
   "metadata": {},
   "outputs": [],
   "source": [
    "import numpy as np\n",
    "import pandas as pd\n",
    "import matplotlib.pyplot as plt\n",
    "\n",
    "from sklearn.model_selection import train_test_split\n",
    "from sklearn.metrics import accuracy_score\n",
    "\n",
    "import tensorflow as tf\n",
    "from tensorflow import keras\n",
    "\n",
    "from tensorflow.keras.backend import clear_session\n",
    "from tensorflow.keras.models import Sequential, Model\n",
    "from tensorflow.keras.layers import Input, Dense, BatchNormalization, Dropout, Flatten, Conv2D, MaxPool2D\n",
    "from tensorflow.keras.callbacks import EarlyStopping\n",
    "\n",
    "from tensorflow.keras.preprocessing.image import ImageDataGenerator"
   ]
  },
  {
   "cell_type": "markdown",
   "id": "6b543d57",
   "metadata": {},
   "source": [
    "## 데이터 불러오기"
   ]
  },
  {
   "cell_type": "code",
   "execution_count": 2,
   "id": "5e733426",
   "metadata": {},
   "outputs": [],
   "source": [
    "(train_x, train_y), (test_x, test_y) = keras.datasets.mnist.load_data()"
   ]
  },
  {
   "cell_type": "code",
   "execution_count": 3,
   "id": "0e87218b",
   "metadata": {},
   "outputs": [
    {
     "name": "stdout",
     "output_type": "stream",
     "text": [
      "(60000, 28, 28) (60000,) (10000, 28, 28) (10000,)\n"
     ]
    }
   ],
   "source": [
    "print(train_x.shape, train_y.shape, test_x.shape, test_y.shape)"
   ]
  },
  {
   "cell_type": "code",
   "execution_count": 4,
   "id": "6460b878",
   "metadata": {},
   "outputs": [
    {
     "name": "stdout",
     "output_type": "stream",
     "text": [
      "id = 9361\n",
      "다음 그림은 숫자 6 입니다.\n"
     ]
    },
    {
     "data": {
      "image/png": "[encoded data removed]",
      "text/plain": [
       "<Figure size 640x480 with 1 Axes>"
      ]
     },
     "metadata": {},
     "output_type": "display_data"
    }
   ],
   "source": [
    "id = np.random.randint(0, 10000)\n",
    "\n",
    "print(f'id = {id}')\n",
    "print(f'다음 그림은 숫자 {test_y[id]} 입니다.')\n",
    "\n",
    "plt.imshow(test_x[id], cmap='Greys')\n",
    "plt.show()"
   ]
  },
  {
   "cell_type": "markdown",
   "id": "4d516efa",
   "metadata": {},
   "source": [
    "## 데이터 전처리"
   ]
  },
  {
   "cell_type": "code",
   "execution_count": 5,
   "id": "0a9b86f7",
   "metadata": {},
   "outputs": [],
   "source": [
    "train_x, val_x, train_y, val_y = train_test_split(train_x, train_y, test_size=0.2, random_state=2023)"
   ]
  },
  {
   "cell_type": "markdown",
   "id": "0faec777",
   "metadata": {},
   "source": [
    "- Scaling"
   ]
  },
  {
   "cell_type": "code",
   "execution_count": 7,
   "id": "23fbd8ed",
   "metadata": {},
   "outputs": [
    {
     "name": "stdout",
     "output_type": "stream",
     "text": [
      "max : 255   min : 0\n"
     ]
    }
   ],
   "source": [
    "print('max :', train_x.max(),'  min :', train_x.min())"
   ]
  },
  {
   "cell_type": "code",
   "execution_count": 8,
   "id": "df71afa9",
   "metadata": {},
   "outputs": [
    {
     "data": {
      "text/plain": [
       "(255, 0)"
      ]
     },
     "execution_count": 8,
     "metadata": {},
     "output_type": "execute_result"
    }
   ],
   "source": [
    "max_v, min_v = train_x.max(), train_x.min()\n",
    "max_v, min_v"
   ]
  },
  {
   "cell_type": "code",
   "execution_count": 9,
   "id": "0dee0607",
   "metadata": {},
   "outputs": [
    {
     "name": "stdout",
     "output_type": "stream",
     "text": [
      "max : 1.0   min : 0.0\n"
     ]
    }
   ],
   "source": [
    "train_x = (train_x - min_v) / (max_v - min_v)\n",
    "val_x = (val_x - min_v) / (max_v - min_v)\n",
    "test_x = (test_x - min_v) / (max_v - min_v)\n",
    "\n",
    "print('max :', train_x.max(),'  min :', train_x.min())"
   ]
  },
  {
   "cell_type": "markdown",
   "id": "34e87142",
   "metadata": {},
   "source": [
    "- one-hot encoding"
   ]
  },
  {
   "cell_type": "code",
   "execution_count": 10,
   "id": "38d4cf0a",
   "metadata": {},
   "outputs": [],
   "source": [
    "from tensorflow.keras.utils import to_categorical"
   ]
  },
  {
   "cell_type": "code",
   "execution_count": 11,
   "id": "b25530e7",
   "metadata": {},
   "outputs": [
    {
     "data": {
      "text/plain": [
       "((48000, 28, 28), (48000, 10))"
      ]
     },
     "execution_count": 11,
     "metadata": {},
     "output_type": "execute_result"
    }
   ],
   "source": [
    "class_n = len(np.unique(train_y))\n",
    "\n",
    "train_y = to_categorical(train_y, class_n)\n",
    "val_y = to_categorical(val_y, class_n)\n",
    "test_y = to_categorical(test_y, class_n)\n",
    "\n",
    "train_x.shape, train_y.shape"
   ]
  },
  {
   "cell_type": "markdown",
   "id": "4237921e",
   "metadata": {},
   "source": [
    "- reshape"
   ]
  },
  {
   "cell_type": "code",
   "execution_count": 12,
   "id": "b58f2ec2",
   "metadata": {},
   "outputs": [
    {
     "data": {
      "text/plain": [
       "((48000, 28, 28, 1),\n",
       " (48000, 10),\n",
       " (12000, 28, 28, 1),\n",
       " (12000, 10),\n",
       " (10000, 28, 28, 1),\n",
       " (10000, 10))"
      ]
     },
     "execution_count": 12,
     "metadata": {},
     "output_type": "execute_result"
    }
   ],
   "source": [
    "train_x = np.expand_dims(train_x, axis=-1)\n",
    "val_x = np.expand_dims(val_x, axis=-1)\n",
    "test_x = np.expand_dims(test_x, axis=-1)\n",
    "\n",
    "train_x.shape, train_y.shape, val_x.shape, val_y.shape, test_x.shape, test_y.shape"
   ]
  },
  {
   "cell_type": "markdown",
   "id": "ca511d4c",
   "metadata": {},
   "source": [
    "## 이미지 data augmentation"
   ]
  },
  {
   "cell_type": "code",
   "execution_count": 13,
   "id": "5a1f5d33",
   "metadata": {},
   "outputs": [],
   "source": [
    "trainIDG = ImageDataGenerator(rotation_range=15,    # randomly rotate images in the range (degrees, 0 to 180)\n",
    "                            zoom_range = 0.1,       # Randomly zoom image\n",
    "                            width_shift_range=0.1,  # randomly shift images horizontally (fraction of total width)\n",
    "                            height_shift_range=0.1, # randomly shift images vertically (fraction of total height)\n",
    "                            horizontal_flip=False,  # randomly flip images\n",
    "                            vertical_flip=False)    # randomly flip images\n",
    "\n",
    "valIDG = ImageDataGenerator()"
   ]
  },
  {
   "cell_type": "code",
   "execution_count": 14,
   "id": "f7403d94",
   "metadata": {},
   "outputs": [],
   "source": [
    "flow_trainIDG = trainIDG.flow(train_x, train_y, batch_size=256)\n",
    "flow_valIDG = valIDG.flow(val_x, val_y, batch_size=256)"
   ]
  },
  {
   "cell_type": "markdown",
   "id": "595421c4",
   "metadata": {},
   "source": [
    "## 모델링 CNN"
   ]
  },
  {
   "cell_type": "code",
   "execution_count": 20,
   "id": "0745c008",
   "metadata": {},
   "outputs": [
    {
     "name": "stdout",
     "output_type": "stream",
     "text": [
      "Model: \"model\"\n",
      "_________________________________________________________________\n",
      " Layer (type)                Output Shape              Param #   \n",
      "=================================================================\n",
      " input_1 (InputLayer)        [(None, 28, 28, 1)]       0         \n",
      "                                                                 \n",
      " conv2d (Conv2D)             (None, 28, 28, 64)        640       \n",
      "                                                                 \n",
      " conv2d_1 (Conv2D)           (None, 28, 28, 64)        36928     \n",
      "                                                                 \n",
      " max_pooling2d (MaxPooling2  (None, 14, 14, 64)        0         \n",
      " D)                                                              \n",
      "                                                                 \n",
      " batch_normalization (Batch  (None, 14, 14, 64)        256       \n",
      " Normalization)                                                  \n",
      "                                                                 \n",
      " dropout (Dropout)           (None, 14, 14, 64)        0         \n",
      "                                                                 \n",
      " conv2d_2 (Conv2D)           (None, 14, 14, 128)       73856     \n",
      "                                                                 \n",
      " conv2d_3 (Conv2D)           (None, 14, 14, 128)       147584    \n",
      "                                                                 \n",
      " max_pooling2d_1 (MaxPoolin  (None, 7, 7, 128)         0         \n",
      " g2D)                                                            \n",
      "                                                                 \n",
      " batch_normalization_1 (Bat  (None, 7, 7, 128)         512       \n",
      " chNormalization)                                                \n",
      "                                                                 \n",
      " dropout_1 (Dropout)         (None, 7, 7, 128)         0         \n",
      "                                                                 \n",
      " flatten (Flatten)           (None, 6272)              0         \n",
      "                                                                 \n",
      " dense (Dense)               (None, 256)               1605888   \n",
      "                                                                 \n",
      " dense_1 (Dense)             (None, 10)                2570      \n",
      "                                                                 \n",
      "=================================================================\n",
      "Total params: 1868234 (7.13 MB)\n",
      "Trainable params: 1867850 (7.13 MB)\n",
      "Non-trainable params: 384 (1.50 KB)\n",
      "_________________________________________________________________\n"
     ]
    }
   ],
   "source": [
    "# 1. 세션 클리어\n",
    "clear_session()\n",
    "\n",
    "# 2. 레이어 엮기\n",
    "il = Input(shape=(28,28,1))\n",
    "\n",
    "hl = Conv2D(filters=64,          # Conv2D 필터를 통해 새롭게 제작하려는 feature map의 수\n",
    "            kernel_size=(3,3),   # Conv2D 필터의 가로 세로 사이즈\n",
    "            strides=(1,1),       # Conv2D 필터의 이동 보폭\n",
    "            padding='same',      # 1. 기존의 사이즈를 보존하겠다. | 2. 외곽의 정보를 조금 더 반영하려고!\n",
    "            activation='relu',   # 빼먹지 않게 주의!\n",
    "            )(il)\n",
    "hl = Conv2D(filters=64,          # Conv2D 필터를 통해 새롭게 제작하려는 feature map의 수\n",
    "            kernel_size=(3,3),   # Conv2D 필터의 가로 세로 사이즈\n",
    "            strides=(1,1),       # Conv2D 필터의 이동 보폭\n",
    "            padding='same',      # 1. 기존의 사이즈를 보존하겠다. | 2. 외곽의 정보를 조금 더 반영하려고!\n",
    "            activation='relu',   # 빼먹지 않게 주의!\n",
    "            )(hl)\n",
    "hl = MaxPool2D(pool_size=(2,2),  # Maxpool2D 필터의 가로 세로 사이즈\n",
    "               strides=(2,2)     # Maxpool2D 필터의 이동 보폭 : 기본적으로 pool_size를 따른다.\n",
    "               )(hl)\n",
    "hl = BatchNormalization()(hl)\n",
    "hl = Dropout(0.2)(hl)\n",
    "\n",
    "hl = Conv2D(filters=128,         # Conv2D 필터를 통해 새롭게 제작하려는 feature map의 수\n",
    "            kernel_size=(3,3),   # Conv2D 필터의 가로 세로 사이즈\n",
    "            strides=(1,1),       # Conv2D 필터의 이동 보폭\n",
    "            padding='same',      # 1. 기존의 사이즈를 보존하겠다. | 2. 외곽의 정보를 조금 더 반영하려고!\n",
    "            activation='relu',   # 빼먹지 않게 주의!\n",
    "            )(hl)\n",
    "hl = Conv2D(filters=128,         # Conv2D 필터를 통해 새롭게 제작하려는 feature map의 수\n",
    "            kernel_size=(3,3),   # Conv2D 필터의 가로 세로 사이즈\n",
    "            strides=(1,1),       # Conv2D 필터의 이동 보폭\n",
    "            padding='same',      # 1. 기존의 사이즈를 보존하겠다. | 2. 외곽의 정보를 조금 더 반영하려고!\n",
    "            activation='relu',   # 빼먹지 않게 주의!\n",
    "            )(hl)\n",
    "hl = MaxPool2D(pool_size=(2,2),  # Maxpool2D 필터의 가로 세로 사이즈\n",
    "               strides=(2,2)     # Maxpool2D 필터의 이동 보폭 : 기본적으로 pool_size를 따른다.\n",
    "               )(hl)\n",
    "hl = BatchNormalization()(hl)\n",
    "hl = Dropout(0.2)(hl)\n",
    "\n",
    "hl = Flatten()(hl)\n",
    "hl = Dense(256, activation='relu')(hl)\n",
    "ol = Dense(10, activation='softmax')(hl)\n",
    "\n",
    "# 3. 모델의 시작과 끝 지정\n",
    "model = Model(il, ol)\n",
    "\n",
    "# 4. 컴파일\n",
    "model.compile(optimizer='adam', loss='categorical_crossentropy',\n",
    "              metrics=['accuracy'])\n",
    "\n",
    "model.summary()"
   ]
  },
  {
   "cell_type": "markdown",
   "id": "77479848",
   "metadata": {},
   "source": [
    "- Early Stopping"
   ]
  },
  {
   "cell_type": "code",
   "execution_count": 16,
   "id": "ad8b2bc3",
   "metadata": {},
   "outputs": [],
   "source": [
    "es = EarlyStopping(monitor='val_loss',         # 얼리 스토핑을 적용할 관측 대상\n",
    "                   min_delta=0,                # Threshold. 설정한 값 이상으로 변화해야 성능이 개선되었다고 간주.\n",
    "                   patience=3,                 # 성능 개선이 발생하지 않았을 때, 몇 epoch를 더 지켜볼 것인가\n",
    "                   verbose=1,\n",
    "                   restore_best_weights=True)  # 성능이 가장 좋은 epoch의 가중치를 적용함."
   ]
  },
  {
   "cell_type": "markdown",
   "id": "d810abac",
   "metadata": {},
   "source": [
    "- **Model Checkpoint**"
   ]
  },
  {
   "cell_type": "code",
   "execution_count": 17,
   "id": "7e954589",
   "metadata": {},
   "outputs": [],
   "source": [
    "from tensorflow.keras.callbacks import ModelCheckpoint"
   ]
  },
  {
   "cell_type": "code",
   "execution_count": 27,
   "id": "b961f33e",
   "metadata": {},
   "outputs": [],
   "source": [
    "mcp = ModelCheckpoint(filepath='./model_save/model.h5',   # 모델 저장 경로\n",
    "                      monitor='val_loss',              # 모델 저장의 관심 대상\n",
    "                      verbose=1,                       # 어느 시점에서 저장되는지 알려줌\n",
    "                      save_best_only=True,             # 최고 성능 모델만 저장\n",
    "                      save_weights_only=False)         # True : 가중치만 저장 | False : 모델 구조 포함하여 저장"
   ]
  },
  {
   "cell_type": "markdown",
   "id": "4288a65e",
   "metadata": {},
   "source": [
    "- .fit( )"
   ]
  },
  {
   "cell_type": "code",
   "execution_count": 28,
   "id": "e6815a08",
   "metadata": {},
   "outputs": [
    {
     "name": "stdout",
     "output_type": "stream",
     "text": [
      "188/188 [==============================] - ETA: 0s - loss: 0.0355 - accuracy: 0.9891\n",
      "Epoch 1: val_loss improved from inf to 0.03731, saving model to ./model_save\\model.h5\n",
      "188/188 [==============================] - 181s 962ms/step - loss: 0.0355 - accuracy: 0.9891 - val_loss: 0.0373 - val_accuracy: 0.9902\n"
     ]
    }
   ],
   "source": [
    "history = model.fit(flow_trainIDG, epochs=1, verbose=1,\n",
    "                     validation_data=flow_valIDG,\n",
    "                     callbacks=[es, mcp]\n",
    "                     )"
   ]
  },
  {
   "cell_type": "code",
   "execution_count": 29,
   "id": "864c32d6",
   "metadata": {},
   "outputs": [
    {
     "name": "stdout",
     "output_type": "stream",
     "text": [
      "40/40 [==============================] - 9s 213ms/step - loss: 0.0348 - accuracy: 0.9884\n",
      "Test Loss: 0.034770\n",
      "Test Accuracy: 98.840%\n"
     ]
    }
   ],
   "source": [
    "performance_test = model.evaluate(test_x, test_y, batch_size=256)\n",
    "\n",
    "print(f'Test Loss: {performance_test[0]:.6f}')\n",
    "print(f'Test Accuracy: {performance_test[1]*100:.3f}%')"
   ]
  },
  {
   "cell_type": "code",
   "execution_count": 30,
   "id": "5989a66d",
   "metadata": {},
   "outputs": [
    {
     "data": {
      "image/png": "[encoded data removed]",
      "text/plain": [
       "<Figure size 640x480 with 1 Axes>"
      ]
     },
     "metadata": {},
     "output_type": "display_data"
    }
   ],
   "source": [
    "if not isinstance(history, dict):\n",
    "    history = history.history\n",
    "\n",
    "plt.plot(history['accuracy'])\n",
    "plt.plot(history['val_accuracy'])\n",
    "plt.title('Accuracy : Training vs Validation')\n",
    "plt.ylabel('Accuracy')\n",
    "plt.xlabel('Epoch')\n",
    "plt.legend(['Training', 'Validation'], loc=0)\n",
    "plt.show()"
   ]
  },
  {
   "cell_type": "code",
   "execution_count": 31,
   "id": "3580b5af",
   "metadata": {},
   "outputs": [
    {
     "data": {
      "image/png": "[encoded data removed]",
      "text/plain": [
       "<Figure size 640x480 with 1 Axes>"
      ]
     },
     "metadata": {},
     "output_type": "display_data"
    }
   ],
   "source": [
    "if not isinstance(history, dict):\n",
    "    history = history.history\n",
    "\n",
    "plt.plot(history['loss'])\n",
    "plt.plot(history['val_loss'])\n",
    "plt.title('Loss : Training vs Validation')\n",
    "plt.ylabel('Loss')\n",
    "plt.xlabel('Epoch')\n",
    "plt.legend(['Training', 'Validation'], loc=0)\n",
    "plt.show()"
   ]
  },
  {
   "cell_type": "markdown",
   "id": "a78f1155",
   "metadata": {},
   "source": [
    "## 모델 저장 및 로드하기\n",
    "\n",
    "- .save( )\n",
    "- .load_model( )"
   ]
  },
  {
   "cell_type": "markdown",
   "id": "e69d18e1",
   "metadata": {},
   "source": [
    "- .save()"
   ]
  },
  {
   "cell_type": "code",
   "execution_count": 33,
   "id": "2a28e060",
   "metadata": {},
   "outputs": [],
   "source": [
    "model.save('./model_save/saving_model.keras')"
   ]
  },
  {
   "cell_type": "markdown",
   "id": "6ae26fed",
   "metadata": {},
   "source": [
    "- .load_model()"
   ]
  },
  {
   "cell_type": "code",
   "execution_count": 34,
   "id": "b96e9052",
   "metadata": {},
   "outputs": [
    {
     "name": "stdout",
     "output_type": "stream",
     "text": [
      "Model: \"model\"\n",
      "_________________________________________________________________\n",
      " Layer (type)                Output Shape              Param #   \n",
      "=================================================================\n",
      " input_1 (InputLayer)        [(None, 28, 28, 1)]       0         \n",
      "                                                                 \n",
      " conv2d (Conv2D)             (None, 28, 28, 64)        640       \n",
      "                                                                 \n",
      " conv2d_1 (Conv2D)           (None, 28, 28, 64)        36928     \n",
      "                                                                 \n",
      " max_pooling2d (MaxPooling2  (None, 14, 14, 64)        0         \n",
      " D)                                                              \n",
      "                                                                 \n",
      " batch_normalization (Batch  (None, 14, 14, 64)        256       \n",
      " Normalization)                                                  \n",
      "                                                                 \n",
      " dropout (Dropout)           (None, 14, 14, 64)        0         \n",
      "                                                                 \n",
      " conv2d_2 (Conv2D)           (None, 14, 14, 128)       73856     \n",
      "                                                                 \n",
      " conv2d_3 (Conv2D)           (None, 14, 14, 128)       147584    \n",
      "                                                                 \n",
      " max_pooling2d_1 (MaxPoolin  (None, 7, 7, 128)         0         \n",
      " g2D)                                                            \n",
      "                                                                 \n",
      " batch_normalization_1 (Bat  (None, 7, 7, 128)         512       \n",
      " chNormalization)                                                \n",
      "                                                                 \n",
      " dropout_1 (Dropout)         (None, 7, 7, 128)         0         \n",
      "                                                                 \n",
      " flatten (Flatten)           (None, 6272)              0         \n",
      "                                                                 \n",
      " dense (Dense)               (None, 256)               1605888   \n",
      "                                                                 \n",
      " dense_1 (Dense)             (None, 10)                2570      \n",
      "                                                                 \n",
      "=================================================================\n",
      "Total params: 1868234 (7.13 MB)\n",
      "Trainable params: 1867850 (7.13 MB)\n",
      "Non-trainable params: 384 (1.50 KB)\n",
      "_________________________________________________________________\n"
     ]
    }
   ],
   "source": [
    "clear_session()\n",
    "model = keras.models.load_model('./model_save/saving_model.keras')\n",
    "model.summary()"
   ]
  },
  {
   "cell_type": "markdown",
   "id": "46483e48",
   "metadata": {},
   "source": [
    "- .predict( )"
   ]
  },
  {
   "cell_type": "code",
   "execution_count": 35,
   "id": "a4deb05f",
   "metadata": {},
   "outputs": [
    {
     "name": "stdout",
     "output_type": "stream",
     "text": [
      "1500/1500 [==============================] - 59s 39ms/step\n",
      "313/313 [==============================] - 13s 42ms/step\n",
      "CNN\n",
      "트레이닝 정확도 : 99.14%\n",
      "테스트 정확도 : 98.84%\n"
     ]
    }
   ],
   "source": [
    "pred_train = model.predict(train_x)\n",
    "pred_test = model.predict(test_x)\n",
    "\n",
    "single_pred_train = pred_train.argmax(axis=1)\n",
    "single_pred_test = pred_test.argmax(axis=1)\n",
    "\n",
    "logi_train_accuracy = accuracy_score(train_y.argmax(axis=1), single_pred_train)\n",
    "logi_test_accuracy = accuracy_score(test_y.argmax(axis=1), single_pred_test)\n",
    "\n",
    "print('CNN')\n",
    "print(f'트레이닝 정확도 : {logi_train_accuracy*100:.2f}%')\n",
    "print(f'테스트 정확도 : {logi_test_accuracy*100:.2f}%')"
   ]
  },
  {
   "cell_type": "markdown",
   "id": "3b87f6d8",
   "metadata": {},
   "source": [
    "## 데이터 확인"
   ]
  },
  {
   "cell_type": "code",
   "execution_count": 36,
   "id": "98e89757",
   "metadata": {},
   "outputs": [
    {
     "name": "stdout",
     "output_type": "stream",
     "text": [
      "id = 5544\n",
      "다음 그림은 숫자 1 입니다.\n",
      "모델의 예측 : 1\n",
      "모델의 카테고리별 확률 : [ 0. 99.  0.  0.  0.  0.  0.  0.  0.  0.]\n",
      "정답입니다\n"
     ]
    },
    {
     "data": {
      "image/png": "[encoded data removed]",
      "text/plain": [
       "<Figure size 640x480 with 1 Axes>"
      ]
     },
     "metadata": {},
     "output_type": "display_data"
    }
   ],
   "source": [
    "id = np.random.randint(0,10000)\n",
    "\n",
    "print(f'id = {id}')\n",
    "print(f'다음 그림은 숫자 {test_y.argmax(axis=1)[id]} 입니다.')\n",
    "print(f'모델의 예측 : {single_pred_test[id]}')\n",
    "print(f'모델의 카테고리별 확률 : {np.floor(pred_test[id]*100)}')\n",
    "\n",
    "if test_y.argmax(axis=1)[id] == single_pred_test[id] :\n",
    "    print('정답입니다')\n",
    "else :\n",
    "    print('틀렸어요')\n",
    "\n",
    "plt.imshow(test_x[id].reshape([28,-1]), cmap='Greys')\n",
    "plt.show()"
   ]
  },
  {
   "cell_type": "markdown",
   "id": "eac4ee41",
   "metadata": {},
   "source": [
    "- 틀린 이미지만 확인해보기"
   ]
  },
  {
   "cell_type": "code",
   "execution_count": 37,
   "id": "33c94382",
   "metadata": {},
   "outputs": [
    {
     "name": "stdout",
     "output_type": "stream",
     "text": [
      "id = 2414\n",
      "다음 그림은 숫자 9 입니다.\n",
      "모델의 예측 : 4\n",
      "모델의 카테고리별 확률 : [ 0.  0.  0.  0. 60.  0.  0.  0. 23. 16.]\n",
      "틀렸어요\n"
     ]
    },
    {
     "data": {
      "image/png": "[encoded data removed]",
      "text/plain": [
       "<Figure size 640x480 with 1 Axes>"
      ]
     },
     "metadata": {},
     "output_type": "display_data"
    }
   ],
   "source": [
    "true_false = (test_y.argmax(axis=1) == single_pred_test)\n",
    "f_id = np.where(true_false == False)[0]\n",
    "f_n = len(f_id)\n",
    "\n",
    "id = f_id[np.random.randint(0,f_n)]\n",
    "\n",
    "print(f'id = {id}')\n",
    "print(f'다음 그림은 숫자 {test_y.argmax(axis=1)[id]} 입니다.')\n",
    "print(f'모델의 예측 : {single_pred_test[id]}')\n",
    "print(f'모델의 카테고리별 확률 : {np.floor(pred_test[id]*100)}')\n",
    "\n",
    "if test_y.argmax(axis=1)[id] == single_pred_test[id] :\n",
    "    print('정답입니다')\n",
    "else :\n",
    "    print('틀렸어요')\n",
    "\n",
    "plt.imshow(test_x[id].reshape([28,-1]), cmap='Greys')\n",
    "plt.show()"
   ]
  },
  {
   "cell_type": "markdown",
   "id": "251aed18",
   "metadata": {},
   "source": [
    "# 내 손글씨 테스트해보기"
   ]
  },
  {
   "cell_type": "markdown",
   "id": "e0c09195",
   "metadata": {},
   "source": [
    "## 이미지 불러오기"
   ]
  },
  {
   "cell_type": "code",
   "execution_count": 49,
   "id": "e3b39139",
   "metadata": {},
   "outputs": [
    {
     "data": {
      "text/plain": [
       "['./my_data\\\\0.png',\n",
       " './my_data\\\\1.png',\n",
       " './my_data\\\\2.png',\n",
       " './my_data\\\\4.png',\n",
       " './my_data\\\\5.png',\n",
       " './my_data\\\\6.png',\n",
       " './my_data\\\\7.png',\n",
       " './my_data\\\\7_1.png',\n",
       " './my_data\\\\8.png',\n",
       " './my_data\\\\9.png']"
      ]
     },
     "execution_count": 49,
     "metadata": {},
     "output_type": "execute_result"
    }
   ],
   "source": [
    "import glob\n",
    "from tensorflow.keras.preprocessing import image\n",
    "\n",
    "files = glob.glob('./my_data/*')\n",
    "files"
   ]
  },
  {
   "cell_type": "code",
   "execution_count": 50,
   "id": "0653cad5",
   "metadata": {},
   "outputs": [
    {
     "data": {
      "image/png": "[encoded data removed]",
      "text/plain": [
       "<Figure size 640x480 with 1 Axes>"
      ]
     },
     "metadata": {},
     "output_type": "display_data"
    }
   ],
   "source": [
    "img = image.load_img(files[0], color_mode='grayscale', target_size=(28,28) )\n",
    "img = image.img_to_array(img)\n",
    "\n",
    "plt.imshow(img.reshape(img.shape[0], img.shape[1]), cmap='gray')\n",
    "plt.show()"
   ]
  },
  {
   "cell_type": "code",
   "execution_count": 55,
   "id": "aa74f351",
   "metadata": {
    "scrolled": false
   },
   "outputs": [
    {
     "data": {
      "image/png": "[encoded data removed]",
      "text/plain": [
       "<Figure size 640x480 with 1 Axes>"
      ]
     },
     "metadata": {},
     "output_type": "display_data"
    }
   ],
   "source": [
    "img = 255-img\n",
    "plt.imshow(img.reshape(img.shape[0],img.shape[1]), cmap='Greys'  )\n",
    "plt.show()"
   ]
  },
  {
   "cell_type": "code",
   "execution_count": 52,
   "id": "2cd747d3",
   "metadata": {},
   "outputs": [
    {
     "data": {
      "text/plain": [
       "(10, 28, 28, 1)"
      ]
     },
     "execution_count": 52,
     "metadata": {},
     "output_type": "execute_result"
    }
   ],
   "source": [
    "images = []\n",
    "\n",
    "for path in files :\n",
    "    img = image.load_img(path, color_mode='grayscale', target_size=(28,28) )\n",
    "    img = image.img_to_array(img)\n",
    "    img = 255-img\n",
    "    images.append(img)\n",
    "\n",
    "images = np.array(images)\n",
    "images.shape"
   ]
  },
  {
   "cell_type": "markdown",
   "id": "817bba67",
   "metadata": {},
   "source": [
    "- .predict()"
   ]
  },
  {
   "cell_type": "code",
   "execution_count": 53,
   "id": "1a968634",
   "metadata": {},
   "outputs": [
    {
     "name": "stdout",
     "output_type": "stream",
     "text": [
      "1/1 [==============================] - 0s 27ms/step\n"
     ]
    },
    {
     "data": {
      "text/plain": [
       "9"
      ]
     },
     "execution_count": 53,
     "metadata": {},
     "output_type": "execute_result"
    }
   ],
   "source": [
    "model.predict(img.reshape((-1,28,28,1)))[0].argmax()"
   ]
  },
  {
   "cell_type": "code",
   "execution_count": 54,
   "id": "496817c8",
   "metadata": {
    "scrolled": false
   },
   "outputs": [
    {
     "name": "stdout",
     "output_type": "stream",
     "text": [
      "1/1 [==============================] - 0s 37ms/step\n",
      "====================================\n",
      "모델의 예측 : 0\n",
      "모델의 카테고리별 확률 : [100.   0.   0.   0.   0.   0.   0.   0.   0.   0.]\n"
     ]
    },
    {
     "data": {
      "image/png": "[encoded data removed]",
      "text/plain": [
       "<Figure size 640x480 with 1 Axes>"
      ]
     },
     "metadata": {},
     "output_type": "display_data"
    },
    {
     "name": "stdout",
     "output_type": "stream",
     "text": [
      "====================================\n",
      "모델의 예측 : 8\n",
      "모델의 카테고리별 확률 : [  0.   0.   0.   0.   0.   0.   0.   0. 100.   0.]\n"
     ]
    },
    {
     "data": {
      "image/png": "[encoded data removed]",
      "text/plain": [
       "<Figure size 640x480 with 1 Axes>"
      ]
     },
     "metadata": {},
     "output_type": "display_data"
    },
    {
     "name": "stdout",
     "output_type": "stream",
     "text": [
      "====================================\n",
      "모델의 예측 : 2\n",
      "모델의 카테고리별 확률 : [  0.   0. 100.   0.   0.   0.   0.   0.   0.   0.]\n"
     ]
    },
    {
     "data": {
      "image/png": "[encoded data removed]",
      "text/plain": [
       "<Figure size 640x480 with 1 Axes>"
      ]
     },
     "metadata": {},
     "output_type": "display_data"
    },
    {
     "name": "stdout",
     "output_type": "stream",
     "text": [
      "====================================\n",
      "모델의 예측 : 8\n",
      "모델의 카테고리별 확률 : [  0.   0.   0.   0.   0.   0.   0.   0. 100.   0.]\n"
     ]
    },
    {
     "data": {
      "image/png": "[encoded data removed]",
      "text/plain": [
       "<Figure size 640x480 with 1 Axes>"
      ]
     },
     "metadata": {},
     "output_type": "display_data"
    },
    {
     "name": "stdout",
     "output_type": "stream",
     "text": [
      "====================================\n",
      "모델의 예측 : 5\n",
      "모델의 카테고리별 확률 : [  0.   0.   0.   0.   0. 100.   0.   0.   0.   0.]\n"
     ]
    },
    {
     "data": {
      "image/png": "[encoded data removed]",
      "text/plain": [
       "<Figure size 640x480 with 1 Axes>"
      ]
     },
     "metadata": {},
     "output_type": "display_data"
    },
    {
     "name": "stdout",
     "output_type": "stream",
     "text": [
      "====================================\n",
      "모델의 예측 : 6\n",
      "모델의 카테고리별 확률 : [  0.   0.   0.   0.   0.   0. 100.   0.   0.   0.]\n"
     ]
    },
    {
     "data": {
      "image/png": "[encoded data removed]",
      "text/plain": [
       "<Figure size 640x480 with 1 Axes>"
      ]
     },
     "metadata": {},
     "output_type": "display_data"
    },
    {
     "name": "stdout",
     "output_type": "stream",
     "text": [
      "====================================\n",
      "모델의 예측 : 2\n",
      "모델의 카테고리별 확률 : [  0.   0. 100.   0.   0.   0.   0.   0.   0.   0.]\n"
     ]
    },
    {
     "data": {
      "image/png": "[encoded data removed]",
      "text/plain": [
       "<Figure size 640x480 with 1 Axes>"
      ]
     },
     "metadata": {},
     "output_type": "display_data"
    },
    {
     "name": "stdout",
     "output_type": "stream",
     "text": [
      "====================================\n",
      "모델의 예측 : 7\n",
      "모델의 카테고리별 확률 : [  0.   0.   0.   0.   0.   0.   0. 100.   0.   0.]\n"
     ]
    },
    {
     "data": {
      "image/png": "[encoded data removed]",
      "text/plain": [
       "<Figure size 640x480 with 1 Axes>"
      ]
     },
     "metadata": {},
     "output_type": "display_data"
    },
    {
     "name": "stdout",
     "output_type": "stream",
     "text": [
      "====================================\n",
      "모델의 예측 : 8\n",
      "모델의 카테고리별 확률 : [  0.   0.   0.   0.   0.   0.   0.   0. 100.   0.]\n"
     ]
    },
    {
     "data": {
      "image/png": "[encoded data removed]",
      "text/plain": [
       "<Figure size 640x480 with 1 Axes>"
      ]
     },
     "metadata": {},
     "output_type": "display_data"
    },
    {
     "name": "stdout",
     "output_type": "stream",
     "text": [
      "====================================\n",
      "모델의 예측 : 9\n",
      "모델의 카테고리별 확률 : [  0.   0.   0.   0.   0.   0.   0.   0.   0. 100.]\n"
     ]
    },
    {
     "data": {
      "image/png": "[encoded data removed]",
      "text/plain": [
       "<Figure size 640x480 with 1 Axes>"
      ]
     },
     "metadata": {},
     "output_type": "display_data"
    }
   ],
   "source": [
    "pred = model.predict(images)\n",
    "\n",
    "for i in range(images.shape[0]) :\n",
    "    print('====================================')\n",
    "    print(f'모델의 예측 : {pred[i].argmax()}')\n",
    "    print(f'모델의 카테고리별 확률 : {np.floor(pred[i]*100)}')\n",
    "\n",
    "    plt.imshow(images[i].reshape(28,28) , cmap='Greys')\n",
    "    plt.show()"
   ]
  },
  {
   "cell_type": "code",
   "execution_count": null,
   "id": "f2173a92",
   "metadata": {},
   "outputs": [],
   "source": []
  }
 ],
 "metadata": {
  "kernelspec": {
   "display_name": "Python 3 (ipykernel)",
   "language": "python",
   "name": "python3"
  },
  "language_info": {
   "codemirror_mode": {
    "name": "ipython",
    "version": 3
   },
   "file_extension": ".py",
   "mimetype": "text/x-python",
   "name": "python",
   "nbconvert_exporter": "python",
   "pygments_lexer": "ipython3",
   "version": "3.11.3"
  }
 },
 "nbformat": 4,
 "nbformat_minor": 5
}
