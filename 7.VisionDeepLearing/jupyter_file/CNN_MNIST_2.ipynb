{
 "cells": [
  {
   "cell_type": "markdown",
   "id": "693711e3",
   "metadata": {},
   "source": [
    "# 라이브러리 불러오기 및 데이터 로딩"
   ]
  },
  {
   "cell_type": "code",
   "execution_count": 1,
   "id": "98645f54",
   "metadata": {},
   "outputs": [],
   "source": [
    "import numpy as np\n",
    "import pandas as pd\n",
    "import matplotlib.pyplot as plt\n",
    "\n",
    "import random as rd\n",
    "from sklearn.metrics import accuracy_score\n",
    "\n",
    "import tensorflow as tf\n",
    "from tensorflow import keras"
   ]
  },
  {
   "cell_type": "code",
   "execution_count": 36,
   "id": "b5f5d39c",
   "metadata": {},
   "outputs": [],
   "source": [
    "(train_x, train_y), (test_x, test_y) = keras.datasets.fashion_mnist.load_data()"
   ]
  },
  {
   "cell_type": "code",
   "execution_count": 37,
   "id": "d1f3fb3e",
   "metadata": {},
   "outputs": [
    {
     "name": "stdout",
     "output_type": "stream",
     "text": [
      "(60000, 28, 28) (60000,) (10000, 28, 28) (10000,)\n"
     ]
    }
   ],
   "source": [
    "print(train_x.shape, train_y.shape, test_x.shape, test_y.shape)"
   ]
  },
  {
   "cell_type": "code",
   "execution_count": 38,
   "id": "2d0c3bc8",
   "metadata": {},
   "outputs": [
    {
     "name": "stdout",
     "output_type": "stream",
     "text": [
      "['T-shirt/top', 'Trouser', 'Pullover', 'Dress', 'Coat', 'Sandal', 'Shirt', 'Sneaker', 'Bag', 'Ankle boot']\n"
     ]
    }
   ],
   "source": [
    "labels = [\"T-shirt/top\",  # index 0\n",
    "            \"Trouser\",      # index 1\n",
    "            \"Pullover\",     # index 2\n",
    "            \"Dress\",        # index 3\n",
    "            \"Coat\",         # index 4\n",
    "            \"Sandal\",       # index 5\n",
    "            \"Shirt\",        # index 6\n",
    "            \"Sneaker\",      # index 7\n",
    "            \"Bag\",          # index 8\n",
    "            \"Ankle boot\"]   # index 9\n",
    "\n",
    "print(labels)"
   ]
  },
  {
   "cell_type": "code",
   "execution_count": 39,
   "id": "48adc726",
   "metadata": {},
   "outputs": [
    {
     "name": "stdout",
     "output_type": "stream",
     "text": [
      "id = 9338\n",
      "다음 그림은 Coat 입니다.\n"
     ]
    },
    {
     "data": {
      "image/png": "[encoded data removed]",
      "text/plain": [
       "<Figure size 640x480 with 1 Axes>"
      ]
     },
     "metadata": {},
     "output_type": "display_data"
    }
   ],
   "source": [
    "id = rd.randrange(0,10000)\n",
    "\n",
    "print(f'id = {id}')\n",
    "print(f'다음 그림은 {labels[test_y[id]]} 입니다.')\n",
    "\n",
    "plt.imshow(test_x[id], cmap='Greys')\n",
    "plt.show()"
   ]
  },
  {
   "cell_type": "markdown",
   "id": "f1f051f4",
   "metadata": {},
   "source": [
    "# 데이터 처리"
   ]
  },
  {
   "cell_type": "markdown",
   "id": "16e8f11f",
   "metadata": {},
   "source": [
    "## X값 min max 스케일링"
   ]
  },
  {
   "cell_type": "code",
   "execution_count": 40,
   "id": "915d9633",
   "metadata": {},
   "outputs": [
    {
     "data": {
      "text/plain": [
       "(255, 0)"
      ]
     },
     "execution_count": 40,
     "metadata": {},
     "output_type": "execute_result"
    }
   ],
   "source": [
    "max_n, min_n = train_x.max(), train_x.min()\n",
    "max_n, min_n"
   ]
  },
  {
   "cell_type": "code",
   "execution_count": 41,
   "id": "7026c4dc",
   "metadata": {},
   "outputs": [],
   "source": [
    "train_x = (train_x - min_n) / (max_n - min_n)\n",
    "test_x = (test_x - min_n) / (max_n - min_n)"
   ]
  },
  {
   "cell_type": "code",
   "execution_count": 42,
   "id": "8ecb7669",
   "metadata": {},
   "outputs": [
    {
     "data": {
      "text/plain": [
       "(1.0, 0.0)"
      ]
     },
     "execution_count": 42,
     "metadata": {},
     "output_type": "execute_result"
    }
   ],
   "source": [
    "train_x.max(), train_x.min()"
   ]
  },
  {
   "cell_type": "markdown",
   "id": "bfec8c2c",
   "metadata": {},
   "source": [
    "## X 차원 reshape"
   ]
  },
  {
   "cell_type": "code",
   "execution_count": 43,
   "id": "1925cfe7",
   "metadata": {},
   "outputs": [
    {
     "data": {
      "text/plain": [
       "((60000, 28, 28), (10000, 28, 28))"
      ]
     },
     "execution_count": 43,
     "metadata": {},
     "output_type": "execute_result"
    }
   ],
   "source": [
    "train_x.shape, test_x.shape"
   ]
  },
  {
   "cell_type": "code",
   "execution_count": 44,
   "id": "1f6f03e2",
   "metadata": {},
   "outputs": [
    {
     "name": "stdout",
     "output_type": "stream",
     "text": [
      "28 28\n"
     ]
    }
   ],
   "source": [
    "_, h, w = train_x.shape\n",
    "\n",
    "print(h, w)"
   ]
  },
  {
   "cell_type": "code",
   "execution_count": 45,
   "id": "b4b6fac8",
   "metadata": {},
   "outputs": [
    {
     "data": {
      "text/plain": [
       "((60000, 28, 28, 1), (10000, 28, 28, 1))"
      ]
     },
     "execution_count": 45,
     "metadata": {},
     "output_type": "execute_result"
    }
   ],
   "source": [
    "train_x = train_x.reshape(train_x.shape[0],h,w,1)\n",
    "test_x = test_x.reshape(test_x.shape[0],h,w,1)\n",
    "\n",
    "\n",
    "train_x.shape, test_x.shape"
   ]
  },
  {
   "cell_type": "markdown",
   "id": "c2847c85",
   "metadata": {},
   "source": [
    "## Y 원핫인코딩"
   ]
  },
  {
   "cell_type": "code",
   "execution_count": 46,
   "id": "0467beda",
   "metadata": {},
   "outputs": [],
   "source": [
    "from tensorflow.keras.utils import to_categorical\n",
    "\n",
    "class_n = len(np.unique(train_y))\n",
    "class_n"
   ]
  },
  {
   "cell_type": "code",
   "execution_count": 48,
   "id": "5be22ed0",
   "metadata": {},
   "outputs": [
    {
     "data": {
      "text/plain": [
       "((60000, 10), (10000, 10))"
      ]
     },
     "execution_count": 48,
     "metadata": {},
     "output_type": "execute_result"
    }
   ],
   "source": [
    "train_y = to_categorical(train_y, class_n)\n",
    "test_y = to_categorical(test_y, class_n)\n",
    "\n",
    "train_y.shape, test_y.shape"
   ]
  },
  {
   "cell_type": "markdown",
   "id": "86c8fe4c",
   "metadata": {},
   "source": [
    "# 모델링"
   ]
  },
  {
   "cell_type": "code",
   "execution_count": 49,
   "id": "b0c864e7",
   "metadata": {},
   "outputs": [],
   "source": [
    "from tensorflow.keras.backend import clear_session"
   ]
  },
  {
   "cell_type": "code",
   "execution_count": 52,
   "id": "3e8c5e3a",
   "metadata": {},
   "outputs": [
    {
     "name": "stdout",
     "output_type": "stream",
     "text": [
      "Model: \"model\"\n",
      "_________________________________________________________________\n",
      " Layer (type)                Output Shape              Param #   \n",
      "=================================================================\n",
      " input_1 (InputLayer)        [(None, 28, 28, 1)]       0         \n",
      "                                                                 \n",
      " conv2d_2 (Conv2D)           (None, 28, 28, 64)        640       \n",
      "                                                                 \n",
      " batch_normalization_2 (Bat  (None, 28, 28, 64)        256       \n",
      " chNormalization)                                                \n",
      "                                                                 \n",
      " conv2d_3 (Conv2D)           (None, 28, 28, 64)        36928     \n",
      "                                                                 \n",
      " batch_normalization_3 (Bat  (None, 28, 28, 64)        256       \n",
      " chNormalization)                                                \n",
      "                                                                 \n",
      " max_pooling2d_1 (MaxPoolin  (None, 14, 14, 64)        0         \n",
      " g2D)                                                            \n",
      "                                                                 \n",
      " flatten (Flatten)           (None, 12544)             0         \n",
      "                                                                 \n",
      " batch_normalization_4 (Bat  (None, 12544)             50176     \n",
      " chNormalization)                                                \n",
      "                                                                 \n",
      " dense (Dense)               (None, 10)                125450    \n",
      "                                                                 \n",
      "=================================================================\n",
      "Total params: 213706 (834.79 KB)\n",
      "Trainable params: 188362 (735.79 KB)\n",
      "Non-trainable params: 25344 (99.00 KB)\n",
      "_________________________________________________________________\n"
     ]
    }
   ],
   "source": [
    "# 1. 세션 클리어\n",
    "keras.backend.clear_session()\n",
    "\n",
    "# 2. 모델 생성\n",
    "il = tf.keras.Input(shape=[28,28,1])\n",
    "\n",
    "hl = tf.keras.layers.Conv2D(filters=32,\n",
    "                           kernel_size=(3,3),\n",
    "                           strides=(1,1),\n",
    "                           padding='same',\n",
    "                           activation='relu')(il)\n",
    "hl = tf.keras.layers.BatchNormalization()(hl)\n",
    "hl = tf.keras.layers.Conv2D(filters=32,\n",
    "                           kernel_size=(3,3),\n",
    "                           strides=(1,1),\n",
    "                           padding='same',\n",
    "                           activation='relu')(hl)\n",
    "hl = tf.keras.layers.BatchNormalization()(hl)\n",
    "hl = tf.keras.layers.MaxPool2D(pool_size=(2,2),\n",
    "                              strides=(2,2)\n",
    "                              )(hl)\n",
    "hl = tf.keras.layers.Dropout(0.25)(hl)\n",
    "hl = tf.keras.layers.Conv2D(filters=64,\n",
    "                           kernel_size=(3,3),\n",
    "                           strides=(1,1),\n",
    "                           padding='same',\n",
    "                           activation='relu')(il)\n",
    "hl = tf.keras.layers.BatchNormalization()(hl)\n",
    "hl = tf.keras.layers.Conv2D(filters=64,\n",
    "                           kernel_size=(3,3),\n",
    "                           strides=(1,1),\n",
    "                           padding='same',\n",
    "                           activation='relu')(hl)\n",
    "hl = tf.keras.layers.BatchNormalization()(hl)\n",
    "hl = tf.keras.layers.MaxPool2D(pool_size=(2,2),\n",
    "                              strides=(2,2)\n",
    "                              )(hl)\n",
    "hl = tf.keras.layers.Flatten()(hl)\n",
    "hl = tf.keras.layers.BatchNormalization()(hl)\n",
    "\n",
    "ol = tf.keras.layers.Dense(10, activation='softmax')(hl)\n",
    "\n",
    "model = tf.keras.Model(il,ol)\n",
    "model.compile(optimizer='adam',\n",
    "              loss=keras.losses.categorical_crossentropy, \n",
    "              metrics='accuracy')\n",
    "model.summary()"
   ]
  },
  {
   "cell_type": "markdown",
   "id": "993f03f8",
   "metadata": {},
   "source": [
    "### Earlystopping 설정"
   ]
  },
  {
   "cell_type": "code",
   "execution_count": 54,
   "id": "f0914a21",
   "metadata": {},
   "outputs": [],
   "source": [
    "es = tf.keras.callbacks.EarlyStopping(monitor='val_loss',\n",
    "                                       min_delta=0,\n",
    "                                       patience=5,\n",
    "                                       verbose=1,\n",
    "                                       restore_best_weights=True)"
   ]
  },
  {
   "cell_type": "markdown",
   "id": "f91e6d4d",
   "metadata": {},
   "source": [
    "### 데이터 학습하기"
   ]
  },
  {
   "cell_type": "code",
   "execution_count": 55,
   "id": "16e499d1",
   "metadata": {},
   "outputs": [
    {
     "name": "stdout",
     "output_type": "stream",
     "text": [
      "Epoch 1/5\n",
      "1500/1500 [==============================] - 154s 101ms/step - loss: 0.9094 - accuracy: 0.8324 - val_loss: 0.8653 - val_accuracy: 0.8294\n",
      "Epoch 2/5\n",
      "1500/1500 [==============================] - 148s 99ms/step - loss: 0.5974 - accuracy: 0.8709 - val_loss: 0.6240 - val_accuracy: 0.8622\n",
      "Epoch 3/5\n",
      "1500/1500 [==============================] - 158s 106ms/step - loss: 0.4593 - accuracy: 0.8858 - val_loss: 0.7082 - val_accuracy: 0.8516\n",
      "Epoch 4/5\n",
      "1500/1500 [==============================] - 162s 108ms/step - loss: 0.3541 - accuracy: 0.8969 - val_loss: 0.6529 - val_accuracy: 0.8497\n",
      "Epoch 5/5\n",
      "1500/1500 [==============================] - 159s 106ms/step - loss: 0.3013 - accuracy: 0.9067 - val_loss: 0.7069 - val_accuracy: 0.8533\n"
     ]
    }
   ],
   "source": [
    "# 데이터를 넣어서 학습시키자!\n",
    "hist = model.fit(train_x, train_y, validation_split=0.2, epochs=5, verbose=1,\n",
    "                 callbacks=[es])"
   ]
  },
  {
   "cell_type": "markdown",
   "id": "5ff49612",
   "metadata": {},
   "source": [
    "### 데이터 예측하기"
   ]
  },
  {
   "cell_type": "code",
   "execution_count": 56,
   "id": "ccb2053e",
   "metadata": {},
   "outputs": [
    {
     "name": "stdout",
     "output_type": "stream",
     "text": [
      "313/313 [==============================] - 9s 28ms/step\n"
     ]
    },
    {
     "data": {
      "text/plain": [
       "(10000, 10)"
      ]
     },
     "execution_count": 56,
     "metadata": {},
     "output_type": "execute_result"
    }
   ],
   "source": [
    "y_pred = model.predict(test_x)\n",
    "y_pred.shape"
   ]
  },
  {
   "cell_type": "code",
   "execution_count": 57,
   "id": "985b7b17",
   "metadata": {},
   "outputs": [
    {
     "data": {
      "text/plain": [
       "(10000,)"
      ]
     },
     "execution_count": 57,
     "metadata": {},
     "output_type": "execute_result"
    }
   ],
   "source": [
    "single_y_pred = y_pred.argmax(axis=1)\n",
    "single_y_pred.shape"
   ]
  },
  {
   "cell_type": "code",
   "execution_count": 58,
   "id": "bdf61796",
   "metadata": {},
   "outputs": [
    {
     "data": {
      "text/plain": [
       "array([9, 2, 1], dtype=int64)"
      ]
     },
     "execution_count": 58,
     "metadata": {},
     "output_type": "execute_result"
    }
   ],
   "source": [
    "single_y_pred[:3]"
   ]
  },
  {
   "cell_type": "code",
   "execution_count": 59,
   "id": "1c0de9d5",
   "metadata": {},
   "outputs": [
    {
     "name": "stdout",
     "output_type": "stream",
     "text": [
      "(10000, 10)\n",
      "(10000,)\n"
     ]
    }
   ],
   "source": [
    "print(test_y.shape)\n",
    "single_test_y = test_y.argmax(axis=1)\n",
    "print(single_test_y.shape)"
   ]
  },
  {
   "cell_type": "code",
   "execution_count": 60,
   "id": "78943441",
   "metadata": {},
   "outputs": [
    {
     "name": "stdout",
     "output_type": "stream",
     "text": [
      "테스트셋 정확도 : 85.34%\n"
     ]
    }
   ],
   "source": [
    "test_acc = accuracy_score(single_test_y, single_y_pred)\n",
    "\n",
    "print(f'테스트셋 정확도 : {test_acc*100:.2f}%' )"
   ]
  },
  {
   "cell_type": "code",
   "execution_count": 65,
   "id": "93b41a76",
   "metadata": {},
   "outputs": [
    {
     "name": "stdout",
     "output_type": "stream",
     "text": [
      "id = 3739\n",
      "다음 그림은 숫자 3 입니다.\n",
      "모델의 예측 : 0\n",
      "모델의 카테고리별 확률 : [90.  4.  0.  4.  0.  0.  0.  0.  0.  0.]\n",
      "틀렸어요\n"
     ]
    },
    {
     "data": {
      "image/png": "[encoded data removed]",
      "text/plain": [
       "<Figure size 640x480 with 1 Axes>"
      ]
     },
     "metadata": {},
     "output_type": "display_data"
    }
   ],
   "source": [
    "# 틀린 데이터 보기\n",
    "true_false = (single_test_y==single_y_pred)\n",
    "f_id = np.where(true_false==False)[0]        # 틀린 것들의 인덱스 반환\n",
    "f_n = len(f_id)                              # 틀린 것들이 총 몇 개나 될까?\n",
    "\n",
    "id = f_id[rd.randrange(0,f_n)]\n",
    "\n",
    "print(f'id = {id}')\n",
    "print(f'다음 그림은 숫자 {single_test_y[id]} 입니다.')\n",
    "print(f'모델의 예측 : {single_y_pred[id]}')\n",
    "print(f'모델의 카테고리별 확률 : {np.floor(y_pred[id]*100)}')\n",
    "\n",
    "if single_test_y[id] == single_y_pred[id] :\n",
    "    print('정답입니다')\n",
    "else :\n",
    "    print('틀렸어요')\n",
    "\n",
    "plt.imshow(test_x[id].reshape([28,-1]))\n",
    "plt.show()"
   ]
  },
  {
   "cell_type": "code",
   "execution_count": 62,
   "id": "32c04fd9",
   "metadata": {},
   "outputs": [
    {
     "name": "stdout",
     "output_type": "stream",
     "text": [
      "id = 7187\n",
      "다음 그림은 숫자 1 입니다.\n",
      "모델의 예측 : 1\n",
      "모델의 카테고리별 확률 : [  0. 100.   0.   0.   0.   0.   0.   0.   0.   0.]\n",
      "정답입니다\n"
     ]
    },
    {
     "data": {
      "image/png": "[encoded data removed]",
      "text/plain": [
       "<Figure size 640x480 with 1 Axes>"
      ]
     },
     "metadata": {},
     "output_type": "display_data"
    }
   ],
   "source": [
    "'''\n",
    "성능 확인을 위해\n",
    "Ctrl+Enter를 이용하여\n",
    "반복 실행 해보자!\n",
    "'''\n",
    "\n",
    "id = rd.randrange(0,10000)\n",
    "\n",
    "print(f'id = {id}')\n",
    "print(f'다음 그림은 숫자 {single_test_y[id]} 입니다.')\n",
    "print(f'모델의 예측 : {single_y_pred[id]}')\n",
    "print(f'모델의 카테고리별 확률 : {np.floor(y_pred[id]*100)}')\n",
    "\n",
    "if single_test_y[id] == single_y_pred[id] :\n",
    "    print('정답입니다')\n",
    "else :\n",
    "    print('틀렸어요')\n",
    "\n",
    "plt.imshow(test_x[id].reshape([28,-1]))\n",
    "plt.show()"
   ]
  },
  {
   "cell_type": "markdown",
   "id": "08c2b1bd",
   "metadata": {},
   "source": [
    "# 학습정도 시각화\n"
   ]
  },
  {
   "cell_type": "code",
   "execution_count": 63,
   "id": "c5cbc1f1",
   "metadata": {},
   "outputs": [
    {
     "data": {
      "image/png": "[encoded data removed]",
      "text/plain": [
       "<Figure size 1000x500 with 1 Axes>"
      ]
     },
     "metadata": {},
     "output_type": "display_data"
    }
   ],
   "source": [
    "plt.figure(figsize=(10, 5))\n",
    "plt.plot(hist.history['accuracy'])\n",
    "plt.plot(hist.history['val_accuracy'])\n",
    "plt.title('Accuracy : Training vs Validation')\n",
    "plt.ylabel('Accuracy')\n",
    "plt.xlabel('Epoch')\n",
    "plt.legend(['Training', 'Validation'], loc=0)\n",
    "plt.show()"
   ]
  },
  {
   "cell_type": "code",
   "execution_count": 64,
   "id": "91ad6eb5",
   "metadata": {},
   "outputs": [
    {
     "data": {
      "image/png": "[encoded data removed]",
      "text/plain": [
       "<Figure size 1000x500 with 1 Axes>"
      ]
     },
     "metadata": {},
     "output_type": "display_data"
    }
   ],
   "source": [
    "plt.figure(figsize=(10, 5))\n",
    "plt.plot(hist.history['loss'])\n",
    "plt.plot(hist.history['val_loss'])\n",
    "plt.title('Loss : Training vs Validation')\n",
    "plt.ylabel('Loss')\n",
    "plt.xlabel('Epoch')\n",
    "plt.legend(['Training', 'Validation'], loc=0)\n",
    "plt.show()"
   ]
  },
  {
   "cell_type": "code",
   "execution_count": null,
   "id": "1d9a773b",
   "metadata": {},
   "outputs": [],
   "source": []
  },
  {
   "cell_type": "code",
   "execution_count": null,
   "id": "ebc0115f",
   "metadata": {},
   "outputs": [],
   "source": []
  },
  {
   "cell_type": "code",
   "execution_count": null,
   "id": "4f528eae",
   "metadata": {},
   "outputs": [],
   "source": []
  },
  {
   "cell_type": "code",
   "execution_count": null,
   "id": "369d3b21",
   "metadata": {},
   "outputs": [],
   "source": []
  },
  {
   "cell_type": "code",
   "execution_count": null,
   "id": "39f7f2f2",
   "metadata": {},
   "outputs": [],
   "source": []
  },
  {
   "cell_type": "code",
   "execution_count": null,
   "id": "acfa99a2",
   "metadata": {},
   "outputs": [],
   "source": []
  },
  {
   "cell_type": "code",
   "execution_count": null,
   "id": "08ab45f4",
   "metadata": {},
   "outputs": [],
   "source": []
  },
  {
   "cell_type": "code",
   "execution_count": null,
   "id": "e59f4ff6",
   "metadata": {},
   "outputs": [],
   "source": []
  }
 ],
 "metadata": {
  "kernelspec": {
   "display_name": "Python 3 (ipykernel)",
   "language": "python",
   "name": "python3"
  },
  "language_info": {
   "codemirror_mode": {
    "name": "ipython",
    "version": 3
   },
   "file_extension": ".py",
   "mimetype": "text/x-python",
   "name": "python",
   "nbconvert_exporter": "python",
   "pygments_lexer": "ipython3",
   "version": "3.11.3"
  }
 },
 "nbformat": 4,
 "nbformat_minor": 5
}
