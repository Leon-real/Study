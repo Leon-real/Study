{
 "cells": [
  {
   "cell_type": "markdown",
   "id": "de29effe",
   "metadata": {},
   "source": [
    "# 라이브러리 및 데이터 로딩"
   ]
  },
  {
   "cell_type": "code",
   "execution_count": 86,
   "id": "afe90ca4",
   "metadata": {},
   "outputs": [],
   "source": [
    "import numpy as np\n",
    "import pandas as pd\n",
    "import matplotlib.pyplot as plt\n",
    "\n",
    "import random as rd\n",
    "from sklearn.metrics import accuracy_score\n",
    "\n",
    "import tensorflow as tf\n",
    "from tensorflow import keras"
   ]
  },
  {
   "cell_type": "code",
   "execution_count": 87,
   "id": "b62c9548",
   "metadata": {},
   "outputs": [
    {
     "name": "stdout",
     "output_type": "stream",
     "text": [
      "(60000, 28, 28) (60000,) (10000, 28, 28) (10000,)\n"
     ]
    }
   ],
   "source": [
    "# 데이터 로딩\n",
    "(train_x, train_y), (test_x, test_y) = keras.datasets.mnist.load_data()\n",
    "\n",
    "print(train_x.shape, train_y.shape, test_x.shape, test_y.shape)"
   ]
  },
  {
   "cell_type": "code",
   "execution_count": 88,
   "id": "ae94316f",
   "metadata": {},
   "outputs": [
    {
     "name": "stdout",
     "output_type": "stream",
     "text": [
      "id = 2000\n",
      "다음 그림은 숫자 6 입니다.\n"
     ]
    },
    {
     "data": {
      "image/png": "[encoded data removed]",
      "text/plain": [
       "<Figure size 640x480 with 1 Axes>"
      ]
     },
     "metadata": {},
     "output_type": "display_data"
    }
   ],
   "source": [
    "# 이미지 확인해보기\n",
    "id = rd.randrange(0, 10000)\n",
    "\n",
    "print(f'id = {id}')\n",
    "print(f'다음 그림은 숫자 {test_y[id]} 입니다.')\n",
    "plt.imshow(test_x[id])\n",
    "plt.show()"
   ]
  },
  {
   "cell_type": "markdown",
   "id": "470dd9ba",
   "metadata": {},
   "source": [
    "# Convolutional Layer를 사용하기위한 reshape"
   ]
  },
  {
   "cell_type": "code",
   "execution_count": 89,
   "id": "1075f957",
   "metadata": {},
   "outputs": [
    {
     "data": {
      "text/plain": [
       "((60000, 28, 28), (10000, 28, 28))"
      ]
     },
     "execution_count": 89,
     "metadata": {},
     "output_type": "execute_result"
    }
   ],
   "source": [
    "train_x.shape, test_x.shape"
   ]
  },
  {
   "cell_type": "code",
   "execution_count": 90,
   "id": "2a108048",
   "metadata": {},
   "outputs": [
    {
     "name": "stdout",
     "output_type": "stream",
     "text": [
      "28 28\n"
     ]
    }
   ],
   "source": [
    "_, h, w = train_x.shape\n",
    "\n",
    "print(h, w)"
   ]
  },
  {
   "cell_type": "code",
   "execution_count": 91,
   "id": "4c832101",
   "metadata": {},
   "outputs": [
    {
     "name": "stdout",
     "output_type": "stream",
     "text": [
      "(60000, 28, 28, 1) (60000,) (10000, 28, 28, 1) (10000,)\n"
     ]
    }
   ],
   "source": [
    "train_x = train_x.reshape(train_x.shape[0], h, w, 1)\n",
    "test_x = test_x.reshape(test_x.shape[0], h, w, 1)\n",
    "\n",
    "print(train_x.shape, train_y.shape, test_x.shape, test_y.shape)"
   ]
  },
  {
   "cell_type": "markdown",
   "id": "dd839867",
   "metadata": {},
   "source": [
    "### 이미지가 0 ~ 1 사이 값을 갖도록 스케일 조정!"
   ]
  },
  {
   "cell_type": "code",
   "execution_count": 92,
   "id": "b5ea8308",
   "metadata": {},
   "outputs": [
    {
     "name": "stdout",
     "output_type": "stream",
     "text": [
      "max : 255 , min : 0\n"
     ]
    }
   ],
   "source": [
    "print(f'max : {train_x.max()} , min : {train_x.min()}')"
   ]
  },
  {
   "cell_type": "code",
   "execution_count": 93,
   "id": "5ba1fd13",
   "metadata": {},
   "outputs": [],
   "source": [
    "max_num = train_x.max()\n",
    "min_num = train_x.min()\n",
    "\n",
    "train_x = (train_x - min_num)/(max_num - min_num)\n",
    "test_x = (test_x - min_num)/(max_num - min_num)"
   ]
  },
  {
   "cell_type": "code",
   "execution_count": 94,
   "id": "49ae5799",
   "metadata": {},
   "outputs": [
    {
     "name": "stdout",
     "output_type": "stream",
     "text": [
      "max : 1.0 , min : 0.0\n"
     ]
    }
   ],
   "source": [
    "print(f'max : {train_x.max()} , min : {train_x.min()}')"
   ]
  },
  {
   "cell_type": "markdown",
   "id": "9d03d3fc",
   "metadata": {},
   "source": [
    "### 원핫인코딩"
   ]
  },
  {
   "cell_type": "code",
   "execution_count": 63,
   "id": "6f14bbb1",
   "metadata": {},
   "outputs": [],
   "source": [
    "from tensorflow.keras.utils import to_categorical"
   ]
  },
  {
   "cell_type": "code",
   "execution_count": 64,
   "id": "cf9b0f1d",
   "metadata": {},
   "outputs": [],
   "source": [
    "class_n = len(np.unique(train_y))\n",
    "\n",
    "train_y = to_categorical(train_y, class_n)\n",
    "test_y = to_categorical(test_y, class_n)"
   ]
  },
  {
   "cell_type": "code",
   "execution_count": 66,
   "id": "ba5b48de",
   "metadata": {},
   "outputs": [
    {
     "data": {
      "text/plain": [
       "((60000, 28, 28, 1), (10000, 28, 28, 1), (60000, 10), (10000, 10))"
      ]
     },
     "execution_count": 66,
     "metadata": {},
     "output_type": "execute_result"
    }
   ],
   "source": [
    "train_x.shape, test_x.shape, train_y.shape, test_y.shape"
   ]
  },
  {
   "cell_type": "markdown",
   "id": "12774849",
   "metadata": {},
   "source": [
    "# 모델링"
   ]
  },
  {
   "cell_type": "code",
   "execution_count": 95,
   "id": "4db3770a",
   "metadata": {},
   "outputs": [],
   "source": [
    "# 라이브러리 불러오기\n",
    "from tensorflow.keras.backend import clear_session\n",
    "from tensorflow.keras.models import Model\n",
    "import tensorflow as tf\n",
    "from tensorflow import keras\n",
    "from tensorflow.keras.layers import Input, Dense, Conv2D, MaxPool2D, Flatten\n",
    "\n",
    "from tensorflow.keras.callbacks import EarlyStopping"
   ]
  },
  {
   "cell_type": "code",
   "execution_count": 75,
   "id": "81a67d41",
   "metadata": {},
   "outputs": [
    {
     "name": "stdout",
     "output_type": "stream",
     "text": [
      "Model: \"model\"\n",
      "_________________________________________________________________\n",
      " Layer (type)                Output Shape              Param #   \n",
      "=================================================================\n",
      " input_1 (InputLayer)        [(None, 28, 28, 1)]       0         \n",
      "                                                                 \n",
      " conv2d_1 (Conv2D)           (None, 28, 28, 64)        640       \n",
      "                                                                 \n",
      " max_pooling2d (MaxPooling2  (None, 14, 14, 64)        0         \n",
      " D)                                                              \n",
      "                                                                 \n",
      " flatten (Flatten)           (None, 12544)             0         \n",
      "                                                                 \n",
      " dense (Dense)               (None, 10)                125450    \n",
      "                                                                 \n",
      "=================================================================\n",
      "Total params: 126090 (492.54 KB)\n",
      "Trainable params: 126090 (492.54 KB)\n",
      "Non-trainable params: 0 (0.00 Byte)\n",
      "_________________________________________________________________\n"
     ]
    }
   ],
   "source": [
    "# 아래와 같은 코드\n",
    "\n",
    "# # 1번. 세션 클리어\n",
    "# keras.backend.clear_session()\n",
    "\n",
    "# # 2번. 레이어 엮기\n",
    "# il = Input(shape=(28,28,1))\n",
    "# hl = Conv2D(filters=64,              # Conv2D를 통해 제작하려는 Feature map의 수\n",
    "#               kernel_size=(3,3),     # filter size\n",
    "#               strides=(1,1),         # filter가 얼마나 촘촘히 훑을 것인가 (sliding window)\n",
    "#               padding='same',        # filter가 훑기 전에 상하좌우로 픽셀을 덧붙임\n",
    "#               activation='relu')(il) # activation 주의!!!\n",
    "# hl = Conv2D(filters=64,              # Conv2D를 통해 제작하려는 Feature map의 수\n",
    "#               kernel_size=(3,3),     # filter size\n",
    "#               strides=(1,1),         # filter가 얼마나 촘촘히 훑을 것인가 (sliding window)\n",
    "#               padding='same',        # filter가 훑기 전에 상하좌우로 픽셀을 덧붙임\n",
    "#               activation='relu')(il) # activation 주의!!!\n",
    "# hl = MaxPool2D(pool_size=(2,2),      # pooling filter의 가로 세로 크기\n",
    "#               strides=(2,2)          # pooling filter의 이동 보폭\n",
    "#               )(hl)\n",
    "# hl = Flatten()(hl)\n",
    "\n",
    "# ol = Dense(10, activation='softmax')(hl)\n",
    "\n",
    "# # 3. 모델의 시작과 끝 지정\n",
    "# model = Model(il, ol)\n",
    "\n",
    "# model.compile(optimizer='adam',\n",
    "#               loss=keras.losses.categorical_crossentropy, \n",
    "#               metrics='accuracy')\n",
    "# model.summary()"
   ]
  },
  {
   "cell_type": "code",
   "execution_count": 96,
   "id": "de200567",
   "metadata": {},
   "outputs": [
    {
     "name": "stdout",
     "output_type": "stream",
     "text": [
      "Model: \"sequential\"\n",
      "_________________________________________________________________\n",
      " Layer (type)                Output Shape              Param #   \n",
      "=================================================================\n",
      " conv2d (Conv2D)             (None, 28, 28, 64)        640       \n",
      "                                                                 \n",
      " max_pooling2d (MaxPooling2  (None, 14, 14, 64)        0         \n",
      " D)                                                              \n",
      "                                                                 \n",
      " flatten (Flatten)           (None, 12544)             0         \n",
      "                                                                 \n",
      " dense (Dense)               (None, 10)                125450    \n",
      "                                                                 \n",
      "=================================================================\n",
      "Total params: 126090 (492.54 KB)\n",
      "Trainable params: 126090 (492.54 KB)\n",
      "Non-trainable params: 0 (0.00 Byte)\n",
      "_________________________________________________________________\n"
     ]
    }
   ],
   "source": [
    "# 위 코드와 동일\n",
    "## Sequential API\n",
    "# 1번. 세션 클리어\n",
    "keras.backend.clear_session()\n",
    "\n",
    "# 2번. 모델 발판 생성\n",
    "model = keras.models.Sequential()\n",
    "\n",
    "# 3번. 레이어 조립\n",
    "model.add( Input(shape=(28,28,1)) )\n",
    "\n",
    "model.add( Conv2D(filters=64,              # Conv2D를 통해 제작하려는 Feature map의 수\n",
    "                  kernel_size=(3,3),       # filter size\n",
    "                  strides=(1,1),           # filter가 얼마나 촘촘히 훑을 것인가 (sliding window)\n",
    "                  padding='same',          # filter가 훑기 전에 상하좌우로 픽셀을 덧붙임\n",
    "                  activation='relu') )     # activation 주의!!!\n",
    "\n",
    "model.add( MaxPool2D(pool_size=(2,2)) )    # pooling filter 사이즈\n",
    "\n",
    "model.add( Flatten() )\n",
    "model.add( Dense(10, activation='softmax') )\n",
    "\n",
    "# 4번. 컴파일 (원핫인코딩 안할경우 : sparse_categorical_crossentropy)\n",
    "model.compile(loss=keras.losses.sparse_categorical_crossentropy, metrics=['accuracy'],\n",
    "              optimizer='adam')\n",
    "\n",
    "model.summary()"
   ]
  },
  {
   "cell_type": "markdown",
   "id": "13923878",
   "metadata": {},
   "source": [
    "### Earlystopping 설정"
   ]
  },
  {
   "cell_type": "code",
   "execution_count": 97,
   "id": "bf2a2a5c",
   "metadata": {},
   "outputs": [],
   "source": [
    "es = EarlyStopping(monitor='val_loss',\n",
    "                   min_delta=0,\n",
    "                   patience=5,\n",
    "                   verbose=1,\n",
    "                   restore_best_weights=True)"
   ]
  },
  {
   "cell_type": "markdown",
   "id": "edf92551",
   "metadata": {},
   "source": [
    "### 데이터 학습하기"
   ]
  },
  {
   "cell_type": "code",
   "execution_count": 98,
   "id": "af6556ab",
   "metadata": {},
   "outputs": [
    {
     "name": "stdout",
     "output_type": "stream",
     "text": [
      "Epoch 1/5\n",
      "1500/1500 [==============================] - 25s 16ms/step - loss: 0.2119 - accuracy: 0.9378 - val_loss: 0.0865 - val_accuracy: 0.9748\n",
      "Epoch 2/5\n",
      "1500/1500 [==============================] - 25s 16ms/step - loss: 0.0753 - accuracy: 0.9771 - val_loss: 0.0777 - val_accuracy: 0.9774\n",
      "Epoch 3/5\n",
      "1500/1500 [==============================] - 24s 16ms/step - loss: 0.0576 - accuracy: 0.9830 - val_loss: 0.0703 - val_accuracy: 0.9791\n",
      "Epoch 4/5\n",
      "1500/1500 [==============================] - 24s 16ms/step - loss: 0.0463 - accuracy: 0.9856 - val_loss: 0.0659 - val_accuracy: 0.9812\n",
      "Epoch 5/5\n",
      "1500/1500 [==============================] - 25s 16ms/step - loss: 0.0369 - accuracy: 0.9887 - val_loss: 0.0693 - val_accuracy: 0.9797\n"
     ]
    }
   ],
   "source": [
    "# 데이터를 넣어서 학습시키자!\n",
    "hist = model.fit(train_x, train_y, validation_split=0.2, epochs=5, verbose=1,\n",
    "                 callbacks=[es])"
   ]
  },
  {
   "cell_type": "code",
   "execution_count": 99,
   "id": "a6b9f7c9",
   "metadata": {},
   "outputs": [
    {
     "name": "stdout",
     "output_type": "stream",
     "text": [
      "100/100 [==============================] - 2s 13ms/step - loss: 0.0573 - accuracy: 0.9816\n",
      "Test Loss : 0.057309 |  Test Accuracy : 98.16%\n"
     ]
    }
   ],
   "source": [
    "performance_test = model.evaluate(test_x, test_y, batch_size=100)\n",
    "\n",
    "print(f'Test Loss : {performance_test[0]:.6f} |  Test Accuracy : {performance_test[1]*100:.2f}%')"
   ]
  },
  {
   "cell_type": "code",
   "execution_count": 100,
   "id": "8657f249",
   "metadata": {},
   "outputs": [
    {
     "data": {
      "image/png": "[encoded data removed]",
      "text/plain": [
       "<Figure size 1000x500 with 1 Axes>"
      ]
     },
     "metadata": {},
     "output_type": "display_data"
    }
   ],
   "source": [
    "if not isinstance(hist, dict):\n",
    "    history = hist.history\n",
    "\n",
    "plt.figure(figsize=(10, 5))\n",
    "plt.plot(history['accuracy'])\n",
    "plt.plot(history['val_accuracy'])\n",
    "plt.title('Accuracy : Training vs Validation')\n",
    "plt.ylabel('Accuracy')\n",
    "plt.xlabel('Epoch')\n",
    "plt.legend(['Training', 'Validation'], loc=0)\n",
    "plt.show()"
   ]
  },
  {
   "cell_type": "code",
   "execution_count": 101,
   "id": "8c20bd73",
   "metadata": {},
   "outputs": [
    {
     "data": {
      "image/png": "[encoded data removed]",
      "text/plain": [
       "<Figure size 1000x500 with 1 Axes>"
      ]
     },
     "metadata": {},
     "output_type": "display_data"
    }
   ],
   "source": [
    "if not isinstance(hist, dict):\n",
    "    history = hist.history\n",
    "\n",
    "plt.figure(figsize=(10, 5))\n",
    "plt.plot(history['loss'])\n",
    "plt.plot(history['val_loss'])\n",
    "plt.title('Loss : Training vs Validation')\n",
    "plt.ylabel('Loss')\n",
    "plt.xlabel('Epoch')\n",
    "plt.legend(['Training', 'Validation'], loc=0)\n",
    "plt.show()"
   ]
  },
  {
   "cell_type": "markdown",
   "id": "74a38842",
   "metadata": {},
   "source": [
    "### 데이터 예측하기"
   ]
  },
  {
   "cell_type": "code",
   "execution_count": 102,
   "id": "f70ee247",
   "metadata": {},
   "outputs": [
    {
     "name": "stdout",
     "output_type": "stream",
     "text": [
      "1875/1875 [==============================] - 12s 6ms/step\n",
      "313/313 [==============================] - 2s 7ms/step\n",
      "CNN\n",
      "트레이닝 정확도 : 98.86%\n",
      "테스트 정확도 : 98.16%\n"
     ]
    }
   ],
   "source": [
    "pred_train = model.predict(train_x)\n",
    "pred_test = model.predict(test_x)\n",
    "\n",
    "single_pred_train = pred_train.argmax(axis=1)\n",
    "single_pred_test = pred_test.argmax(axis=1)\n",
    "\n",
    "logi_train_accuracy = accuracy_score(train_y, single_pred_train)\n",
    "logi_test_accuracy = accuracy_score(test_y, single_pred_test)\n",
    "\n",
    "print('CNN')\n",
    "print(f'트레이닝 정확도 : {logi_train_accuracy*100:.2f}%' )\n",
    "print(f'테스트 정확도 : {logi_test_accuracy*100:.2f}%' )"
   ]
  },
  {
   "cell_type": "markdown",
   "id": "a04b99b8",
   "metadata": {},
   "source": [
    "## 숫자 이미지 시각화"
   ]
  },
  {
   "cell_type": "code",
   "execution_count": 103,
   "id": "80c9d274",
   "metadata": {},
   "outputs": [
    {
     "name": "stdout",
     "output_type": "stream",
     "text": [
      "id = 3829\n",
      "다음 그림은 숫자 8 입니다.\n",
      "모델의 예측 : 8\n",
      "모델의 카테고리별 확률 : [ 0.  0.  0.  0.  0.  0.  0.  0. 99.  0.]\n",
      "정답입니다\n"
     ]
    },
    {
     "data": {
      "image/png": "[encoded data removed]",
      "text/plain": [
       "<Figure size 640x480 with 1 Axes>"
      ]
     },
     "metadata": {},
     "output_type": "display_data"
    }
   ],
   "source": [
    "id = rd.randrange(0,10000)\n",
    "\n",
    "print(f'id = {id}')\n",
    "print(f'다음 그림은 숫자 {test_y[id]} 입니다.')\n",
    "print(f'모델의 예측 : {single_pred_test[id]}')\n",
    "print(f'모델의 카테고리별 확률 : {np.floor(pred_test[id]*100)}')\n",
    "\n",
    "if test_y[id] == single_pred_test[id]:\n",
    "    print('정답입니다')\n",
    "else:\n",
    "    print('틀렸어요')\n",
    "\n",
    "plt.imshow(test_x[id].reshape([28,-1]))\n",
    "plt.show()"
   ]
  },
  {
   "cell_type": "markdown",
   "id": "61d5eb5d",
   "metadata": {},
   "source": [
    "### 틀린 값만 확인해보기"
   ]
  },
  {
   "cell_type": "code",
   "execution_count": 104,
   "id": "16dad55c",
   "metadata": {},
   "outputs": [
    {
     "name": "stdout",
     "output_type": "stream",
     "text": [
      "id = 2921\n",
      "다음 그림은 숫자 3 입니다.\n",
      "모델의 예측 : 2\n",
      "모델의 카테고리별 확률 : [ 3.  0. 57. 11.  0.  0.  0.  0. 27.  0.]\n",
      "틀렸어요\n"
     ]
    },
    {
     "data": {
      "image/png": "[encoded data removed]",
      "text/plain": [
       "<Figure size 640x480 with 1 Axes>"
      ]
     },
     "metadata": {},
     "output_type": "display_data"
    }
   ],
   "source": [
    "'''\n",
    "틀린 것만 관찰해보자!\n",
    "\n",
    "Ctrl+Enter를 이용하여\n",
    "반복 실행 해보자!\n",
    "'''\n",
    "\n",
    "true_false = (test_y==single_pred_test)\n",
    "f_id = np.where(true_false==False)[0]\n",
    "f_n = len(f_id)\n",
    "\n",
    "id = f_id[rd.randrange(0,f_n)]\n",
    "\n",
    "print(f'id = {id}')\n",
    "print(f'다음 그림은 숫자 {test_y[id]} 입니다.')\n",
    "print(f'모델의 예측 : {single_pred_test[id]}')\n",
    "print(f'모델의 카테고리별 확률 : {np.floor(pred_test[id]*100)}')\n",
    "\n",
    "if test_y[id] == single_pred_test[id]:\n",
    "    print('정답입니다')\n",
    "else:\n",
    "    print('틀렸어요')\n",
    "\n",
    "plt.imshow(test_x[id].reshape([28,-1]))\n",
    "plt.show()"
   ]
  },
  {
   "cell_type": "code",
   "execution_count": null,
   "id": "fbfc1fb0",
   "metadata": {},
   "outputs": [],
   "source": []
  },
  {
   "cell_type": "code",
   "execution_count": null,
   "id": "99aff784",
   "metadata": {},
   "outputs": [],
   "source": []
  },
  {
   "cell_type": "code",
   "execution_count": null,
   "id": "7d427f39",
   "metadata": {},
   "outputs": [],
   "source": []
  },
  {
   "cell_type": "code",
   "execution_count": null,
   "id": "ff39da62",
   "metadata": {},
   "outputs": [],
   "source": []
  },
  {
   "cell_type": "code",
   "execution_count": null,
   "id": "9196aa2e",
   "metadata": {},
   "outputs": [],
   "source": []
  },
  {
   "cell_type": "code",
   "execution_count": null,
   "id": "4553e440",
   "metadata": {},
   "outputs": [],
   "source": []
  }
 ],
 "metadata": {
  "kernelspec": {
   "display_name": "Python 3 (ipykernel)",
   "language": "python",
   "name": "python3"
  },
  "language_info": {
   "codemirror_mode": {
    "name": "ipython",
    "version": 3
   },
   "file_extension": ".py",
   "mimetype": "text/x-python",
   "name": "python",
   "nbconvert_exporter": "python",
   "pygments_lexer": "ipython3",
   "version": "3.11.3"
  }
 },
 "nbformat": 4,
 "nbformat_minor": 5
}
