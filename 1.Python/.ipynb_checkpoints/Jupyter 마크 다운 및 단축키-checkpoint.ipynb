{
 "cells": [
  {
   "cell_type": "markdown",
   "id": "5887a1e3",
   "metadata": {},
   "source": [
    "# Jupyter notebook 사용법"
   ]
  },
  {
   "cell_type": "markdown",
   "id": "6ba2a808",
   "metadata": {},
   "source": [
    "마크다운은 아래와 같다.\n",
    "\n",
    "- Header # : \"#\"의 개수로 header의 크기를 조절할 수 있다(1~6개까지)\n",
    "```\n",
    "# 헤더입니다.\n",
    "```\n",
    "\n",
    "- Quote > : \">\"을 사용하여 인용문을 만들수 있다.\n",
    "```\n",
    "> 인용문입니다.\n",
    "```\n",
    "\n",
    "- List : 순서가 있을 경우, 숫자로 표현하고, 순서가 없을경우 \"+\",\"*\",\"-\"로 표현할 수 있다.\n",
    "```\n",
    "1. 첫번째\n",
    "2. 두번째\n",
    "\n",
    "- 리스트입니다.\n",
    "```\n",
    "\n",
    "- 수평선 : \"---' 또는 \" *** \"로 사용할 수 있다\n",
    "```\n",
    "---\n",
    "```\n",
    "\n",
    "- 줄바꿈 : 띄어쓰기 2번 또는 <br>을 써준다\n",
    "```\n",
    "줄바꿈입니다.<br>오호\n",
    "```\n",
    "\n",
    "- 글꼴 굵기, 기울기 : \" ** \"는 굵기를, \" * \" 는 기울기를 나타낼 수 있다.\n",
    "```\n",
    "**글꼴의 굵기가 굵어져요**\n",
    "*글꼴의 기울기가 기울어져요*\n",
    "```"
   ]
  },
  {
   "cell_type": "markdown",
   "id": "e3ed4316",
   "metadata": {},
   "source": [
    "단축키로는 아래와 같다.\n",
    "\n",
    "- Shift + Enter : 셀 실행, 다음 셀 이동\n",
    "- Ctrl + Enter : 셀 실행\n",
    "- Alt + Enter : 셀 실행, 아래 새 셀 생성\n",
    "---\n",
    "- D, D : 현재 셀 삭제\n",
    "- Z : 셀 삭제 취소\n",
    "- S : 저장\n",
    "---\n",
    "- Y : 코드 셀로 전환\n",
    "- M : 마크다운 셀로 전환\n",
    "---\n",
    "- Shift + M : 아래셀과 합치기\n",
    "- Ctrl + Shift +- : 셀 분할\n",
    "---\n",
    "- A : 현재 셀 위에 빈 셀 추가\n",
    "- B : 현재 셀 아래에 빈 셀 추가\n",
    "---\n",
    "- Shift + Tab : 툴팁 표시\n",
    "- L : 코드 셀에서 라인번호 표시\n",
    "- Ctrl+/ : 주석\n",
    "---\n",
    "- X : 현재 셀 잘라내기\n",
    "- C : 현재 셀 복사\n",
    "- V : 현재 셀 아래에 붙여 넣기\n",
    "\n",
    "*진짜인가*"
   ]
  },
  {
   "cell_type": "code",
   "execution_count": null,
   "id": "0caae329",
   "metadata": {},
   "outputs": [],
   "source": []
  }
 ],
 "metadata": {
  "kernelspec": {
   "display_name": "Python 3 (ipykernel)",
   "language": "python",
   "name": "python3"
  },
  "language_info": {
   "codemirror_mode": {
    "name": "ipython",
    "version": 3
   },
   "file_extension": ".py",
   "mimetype": "text/x-python",
   "name": "python",
   "nbconvert_exporter": "python",
   "pygments_lexer": "ipython3",
   "version": "3.11.3"
  }
 },
 "nbformat": 4,
 "nbformat_minor": 5
}
