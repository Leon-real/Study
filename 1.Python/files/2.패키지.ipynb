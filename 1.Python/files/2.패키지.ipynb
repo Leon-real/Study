{
 "cells": [
  {
   "cell_type": "markdown",
   "id": "6e31dc22",
   "metadata": {},
   "source": [
    "# 패키지\n",
    "\n",
    "## 1. 파이썬 클래스\n",
    "\n",
    "- 클래스: 객체의 구조와 행동을 정의하여 복잡한 문제를 다루기 쉽도록 함\n",
    "\n",
    "- 클래스 정의\n",
    "```\n",
    "class MyClass:\n",
    "    def __init__(self, param):\n",
    "        ...\n",
    "```"
   ]
  },
  {
   "cell_type": "code",
   "execution_count": 2,
   "id": "996851b1",
   "metadata": {},
   "outputs": [
    {
     "name": "stdout",
     "output_type": "stream",
     "text": [
      "sum= 10 sd= 1.25 N= 4\n"
     ]
    }
   ],
   "source": [
    "import numpy as np\n",
    "\n",
    "class statistic:\n",
    "    num_id = 0\n",
    "    def __init__(self, data):\n",
    "        self.data = data\n",
    "        statistic.num_id += 1\n",
    "    def sum(self):\n",
    "        o = sum(self.data)\n",
    "        return (o)\n",
    "    def sd(self):\n",
    "        o = np.var(self.data)\n",
    "        return (o)\n",
    "    def len(self):\n",
    "        o = len(self.data)\n",
    "        return (o)\n",
    "    def view(self):\n",
    "        print(self.data)\n",
    "\n",
    "a = statistic([1,2,3,4])\n",
    "print(\"sum=\", a.sum(), \"sd=\", a.sd(), \"N=\", a.len())"
   ]
  },
  {
   "cell_type": "code",
   "execution_count": 4,
   "id": "818f1058",
   "metadata": {},
   "outputs": [
    {
     "name": "stdout",
     "output_type": "stream",
     "text": [
      "[1, 2, 3, 4]\n"
     ]
    }
   ],
   "source": [
    "a.view()"
   ]
  },
  {
   "cell_type": "markdown",
   "id": "7b27a8b9",
   "metadata": {},
   "source": [
    "## 2. 모듈과 패키지\n",
    "- 여러 함수들을 한꺼번에 불러들여 재사용할 때 이용\n",
    "- 모듈 (module): 파이썬파일(.py)\n",
    "- 패키지 (package): 파이썬 모듈을 담고있는 폴더\n",
    "\n",
    "- 모듈(패키지) 로드  \n",
    "    - import 모듈이름\n",
    "    - from 모듈/패키지 import 함수|클래스"
   ]
  },
  {
   "cell_type": "code",
   "execution_count": 7,
   "id": "b221e5c2",
   "metadata": {},
   "outputs": [
    {
     "name": "stdout",
     "output_type": "stream",
     "text": [
      "Square root of 16 is 4.0\n"
     ]
    }
   ],
   "source": [
    "from math import sqrt # math 모듈의 sqrt함수(클래스) 로드\n",
    "print ('Square root of 16 is',sqrt(16))"
   ]
  },
  {
   "cell_type": "markdown",
   "id": "b080024f",
   "metadata": {},
   "source": [
    "- 주요패키지\n",
    "1. NumPy: 과학 계산을 위한 라이브러리\n",
    "2. Pandas: 데이터 처리 및 분석 라이브러리\n",
    "3. matplotlib: 시각화\n",
    "4. sklearn: 머신러닝 패키지"
   ]
  }
 ],
 "metadata": {
  "kernelspec": {
   "display_name": "Python 3 (ipykernel)",
   "language": "python",
   "name": "python3"
  },
  "language_info": {
   "codemirror_mode": {
    "name": "ipython",
    "version": 3
   },
   "file_extension": ".py",
   "mimetype": "text/x-python",
   "name": "python",
   "nbconvert_exporter": "python",
   "pygments_lexer": "ipython3",
   "version": "3.11.3"
  }
 },
 "nbformat": 4,
 "nbformat_minor": 5
}
