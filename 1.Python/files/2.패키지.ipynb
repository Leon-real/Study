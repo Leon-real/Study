{
 "cells": [
  {
   "cell_type": "markdown",
   "id": "6e31dc22",
   "metadata": {},
   "source": [
    "# 패키지\n",
    "\n",
    "## 1. 파이썬 클래스\n",
    "\n",
    "- 클래스: 객체의 구조와 행동을 정의하여 복잡한 문제를 다루기 쉽도록 함\n",
    "  \n",
    "- 변수, 함수를 묶어서 코드 작성 실행 문법\n",
    "- 객체지향 구현 : 실제세계를 모델링하여 프로그램을 개발하는 방법론\n",
    "- 협업 향상\n",
    "\n",
    "## 사용법\n",
    "1. 클래스 선언 (코드 작성)  \n",
    "    -> 설계도 작성\n",
    "2. 객체 생성(메모리 사용)  \n",
    "    -> 제품 생산\n",
    "3. 메서드호출(코드 실행)  \n",
    "    -> 제품 사용\n",
    "\n",
    "- 클래스 정의\n",
    "```\n",
    "class MyClass:\n",
    "    def __init__(self, param):\n",
    "        ...\n",
    "```"
   ]
  },
  {
   "cell_type": "markdown",
   "id": "5122bcc5",
   "metadata": {},
   "source": [
    "### 클래스 선언 : 코드 작성"
   ]
  },
  {
   "cell_type": "code",
   "execution_count": 1,
   "id": "775582c8",
   "metadata": {},
   "outputs": [],
   "source": [
    "class Account:\n",
    "    balance = 10000\n",
    "    def deposit(self, amount):\n",
    "        self.balance += amount\n",
    "    \n",
    "    def withdraw(self, amount):\n",
    "        self.balance -= amount\n",
    "    "
   ]
  },
  {
   "cell_type": "markdown",
   "id": "3b805bba",
   "metadata": {},
   "source": [
    "### 객체 생성 : 메모리 사용"
   ]
  },
  {
   "cell_type": "code",
   "execution_count": 2,
   "id": "53865618",
   "metadata": {},
   "outputs": [],
   "source": [
    "acc1 = Account()\n",
    "acc2 = Account()"
   ]
  },
  {
   "cell_type": "code",
   "execution_count": 3,
   "id": "cd0c4656",
   "metadata": {},
   "outputs": [
    {
     "data": {
      "text/plain": [
       "['balance', 'deposit', 'withdraw']"
      ]
     },
     "execution_count": 3,
     "metadata": {},
     "output_type": "execute_result"
    }
   ],
   "source": [
    "dir(acc1)[-3:]"
   ]
  },
  {
   "cell_type": "code",
   "execution_count": 4,
   "id": "8583247d",
   "metadata": {},
   "outputs": [
    {
     "data": {
      "text/plain": [
       "(10000, 10000)"
      ]
     },
     "execution_count": 4,
     "metadata": {},
     "output_type": "execute_result"
    }
   ],
   "source": [
    "acc1.balance, acc2.balance"
   ]
  },
  {
   "cell_type": "code",
   "execution_count": 5,
   "id": "049c2471",
   "metadata": {},
   "outputs": [
    {
     "data": {
      "text/plain": [
       "(20000, 10000)"
      ]
     },
     "execution_count": 5,
     "metadata": {},
     "output_type": "execute_result"
    }
   ],
   "source": [
    "acc1.balance = 20000\n",
    "acc1.balance, acc2.balance"
   ]
  },
  {
   "cell_type": "markdown",
   "id": "e3ffa3e1",
   "metadata": {},
   "source": [
    "### 메서드 호출 : 코드 실행"
   ]
  },
  {
   "cell_type": "code",
   "execution_count": 6,
   "id": "5b045723",
   "metadata": {},
   "outputs": [
    {
     "data": {
      "text/plain": [
       "(23000, 6000)"
      ]
     },
     "execution_count": 6,
     "metadata": {},
     "output_type": "execute_result"
    }
   ],
   "source": [
    "acc1.deposit(3000)\n",
    "acc2.withdraw(4000)\n",
    "acc1.balance, acc2.balance"
   ]
  },
  {
   "cell_type": "markdown",
   "id": "07d5bbaf",
   "metadata": {},
   "source": [
    "### 생성자 메서드 _ _ _init_ _ _"
   ]
  },
  {
   "cell_type": "code",
   "execution_count": 12,
   "id": "a65c53e0",
   "metadata": {},
   "outputs": [],
   "source": [
    "class Account:\n",
    "    def __init__(self, balance = 1000):\n",
    "        self.balance = balance\n",
    "        \n",
    "    def deposit(self, amount):\n",
    "        self.balance += amount\n",
    "    \n",
    "    def withdraw(self, amount):\n",
    "        self.balance -= amount\n",
    "    "
   ]
  },
  {
   "cell_type": "code",
   "execution_count": 13,
   "id": "9cac2d35",
   "metadata": {},
   "outputs": [],
   "source": [
    "acc = Account(5000)\n",
    "acc.balance"
   ]
  },
  {
   "cell_type": "code",
   "execution_count": 15,
   "id": "574d8059",
   "metadata": {},
   "outputs": [
    {
     "data": {
      "text/plain": [
       "1000"
      ]
     },
     "execution_count": 15,
     "metadata": {},
     "output_type": "execute_result"
    }
   ],
   "source": [
    "acc_defalut = Account()\n",
    "acc_defalut.balance"
   ]
  },
  {
   "cell_type": "markdown",
   "id": "2c3d9a62",
   "metadata": {},
   "source": [
    "##### 예제"
   ]
  },
  {
   "cell_type": "code",
   "execution_count": 2,
   "id": "996851b1",
   "metadata": {},
   "outputs": [
    {
     "name": "stdout",
     "output_type": "stream",
     "text": [
      "sum= 10 sd= 1.25 N= 4\n"
     ]
    }
   ],
   "source": [
    "import numpy as np\n",
    "\n",
    "class statistic:\n",
    "    num_id = 0\n",
    "    def __init__(self, data):\n",
    "        self.data = data\n",
    "        statistic.num_id += 1\n",
    "    def sum(self):\n",
    "        o = sum(self.data)\n",
    "        return (o)\n",
    "    def sd(self):\n",
    "        o = np.var(self.data)\n",
    "        return (o)\n",
    "    def len(self):\n",
    "        o = len(self.data)\n",
    "        return (o)\n",
    "    def view(self):\n",
    "        print(self.data)\n",
    "\n",
    "a = statistic([1,2,3,4])\n",
    "print(\"sum=\", a.sum(), \"sd=\", a.sd(), \"N=\", a.len())"
   ]
  },
  {
   "cell_type": "code",
   "execution_count": 4,
   "id": "818f1058",
   "metadata": {},
   "outputs": [
    {
     "name": "stdout",
     "output_type": "stream",
     "text": [
      "[1, 2, 3, 4]\n"
     ]
    }
   ],
   "source": [
    "a.view()"
   ]
  },
  {
   "cell_type": "code",
   "execution_count": null,
   "id": "b1eaabc2",
   "metadata": {},
   "outputs": [],
   "source": []
  },
  {
   "cell_type": "code",
   "execution_count": null,
   "id": "3d655a28",
   "metadata": {},
   "outputs": [],
   "source": []
  },
  {
   "cell_type": "markdown",
   "id": "7b27a8b9",
   "metadata": {},
   "source": [
    "## 2. 모듈과 패키지\n",
    "- 여러 함수들을 한꺼번에 불러들여 재사용할 때 이용\n",
    "- 모듈 (module): 파이썬파일(.py)\n",
    "- 패키지 (package): 파이썬 모듈을 담고있는 폴더\n",
    "\n",
    "- 모듈(패키지) 로드  \n",
    "    - import 모듈이름\n",
    "    - from 모듈/패키지 import 함수|클래스"
   ]
  },
  {
   "cell_type": "code",
   "execution_count": 7,
   "id": "b221e5c2",
   "metadata": {},
   "outputs": [
    {
     "name": "stdout",
     "output_type": "stream",
     "text": [
      "Square root of 16 is 4.0\n"
     ]
    }
   ],
   "source": [
    "from math import sqrt # math 모듈의 sqrt함수(클래스) 로드\n",
    "print ('Square root of 16 is',sqrt(16))"
   ]
  },
  {
   "cell_type": "markdown",
   "id": "b080024f",
   "metadata": {},
   "source": [
    "- 주요패키지\n",
    "1. NumPy: 과학 계산을 위한 라이브러리\n",
    "2. Pandas: 데이터 처리 및 분석 라이브러리\n",
    "3. matplotlib: 시각화\n",
    "4. sklearn: 머신러닝 패키지"
   ]
  }
 ],
 "metadata": {
  "kernelspec": {
   "display_name": "Python 3 (ipykernel)",
   "language": "python",
   "name": "python3"
  },
  "language_info": {
   "codemirror_mode": {
    "name": "ipython",
    "version": 3
   },
   "file_extension": ".py",
   "mimetype": "text/x-python",
   "name": "python",
   "nbconvert_exporter": "python",
   "pygments_lexer": "ipython3",
   "version": "3.11.3"
  }
 },
 "nbformat": 4,
 "nbformat_minor": 5
}
