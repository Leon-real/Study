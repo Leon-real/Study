{
 "cells": [
  {
   "cell_type": "markdown",
   "id": "f0cd46cc",
   "metadata": {},
   "source": [
    "# Numpy 넘파이\n",
    "\n",
    "목차\n",
    "1. Numpy 특징\n",
    "2. 배열의 생성\n",
    "3. Numpy 슬라이싱 / 인덱싱\n",
    "4. Numpy 연산\n",
    "5. 실무에서 자주 쓰이는 것\n",
    "\n",
    "### 용어\n",
    "- axis : 배열의 각 축\n",
    "- rank : 축의 개수\n",
    "- shape : 축의 길이, 배열의 크기\n",
    "```\n",
    "[3 x 4 배열의 경우]\n",
    "\n",
    "|-----------|\n",
    "|1  3  2  7 |\n",
    "|3  2  9  1 |\n",
    "|4  6  8  1 |\n",
    "|-----------|\n",
    "axis 0 과 axis 1 을 갖는 2차원 배열 (이때 axis 0은 행, axis 1은 열을 나타낸다)\n",
    "rank 2 array\n",
    "shape는 (3, 4)\n",
    "```"
   ]
  },
  {
   "cell_type": "markdown",
   "id": "47a18eff",
   "metadata": {},
   "source": [
    "## Numpy 특징\n",
    "---\n",
    "- 과학 계산을 위한 라이브러리\n",
    "- 행렬/배열 처리 및 연산\n",
    "- 난수생성"
   ]
  },
  {
   "cell_type": "markdown",
   "id": "a132c2dd",
   "metadata": {},
   "source": [
    "## 배열의 생성\n",
    "---\n",
    "1. 리스트에서 행렬 / 배열 생성\n",
    "- np.array() 함수를 사용해서 배열을 만든다.\n",
    "\n",
    "- 배열의 차원 : ndim\n",
    "- 배열의 크기 : shape\n",
    "- 요소 자료형 확인 : dtype\n",
    "- 배열의 접근"
   ]
  },
  {
   "cell_type": "code",
   "execution_count": 24,
   "id": "c996ea34",
   "metadata": {},
   "outputs": [
    {
     "name": "stdout",
     "output_type": "stream",
     "text": [
      "[[1 2 3]\n",
      " [4 5 6]]\n",
      "-----------\n",
      "2\n",
      "(2, 3)\n",
      "int32\n",
      "1\n"
     ]
    }
   ],
   "source": [
    "import numpy as np # numpy 패키지 로드하여 np로 사용\n",
    "\n",
    "a = [[1,2,3], [4,5,6]] # 리스트에서 행렬생성\n",
    "b = np.array(a) \n",
    "print(b) # 배열 보기\n",
    "print(\"-----------\")\n",
    "print(b.ndim) # 배열의 차원\n",
    "print(b.shape) # 배열의 크기\n",
    "print(b.dtype) # 배열의 크기\n",
    "print(b[0,0]) # 배열의 접근"
   ]
  },
  {
   "cell_type": "markdown",
   "id": "14bae964",
   "metadata": {},
   "source": [
    "2. 특수한 배열의 생성"
   ]
  },
  {
   "cell_type": "code",
   "execution_count": 25,
   "id": "a5c7cf05",
   "metadata": {},
   "outputs": [
    {
     "name": "stdout",
     "output_type": "stream",
     "text": [
      "[0 1 2 3 4 5 6 7 8 9]\n",
      "-----------------------------\n",
      "[5 6 7 8 9]\n",
      "-----------------------------\n",
      "[[0. 0.]\n",
      " [0. 0.]]\n",
      "-----------------------------\n",
      "[[1. 1. 1.]\n",
      " [1. 1. 1.]]\n",
      "-----------------------------\n",
      "[[5 5 5]\n",
      " [5 5 5]]\n",
      "-----------------------------\n",
      "[[1. 0. 0.]\n",
      " [0. 1. 0.]\n",
      " [0. 0. 1.]]\n"
     ]
    }
   ],
   "source": [
    "print(np.arange(10)) # 1씩 증가하는 1차원 배열(시작이 0부터)\n",
    "print(\"-----------------------------\")\n",
    "print(np.arange(5, 10)) # 1씩 증가하는 1차원 배열(시작이 5부터)\n",
    "print(\"-----------------------------\")\n",
    "print(np.zeros((2,2)))  # 영행렬 생성\n",
    "print(\"-----------------------------\")\n",
    "print(np.ones((2,3)))  # 유닛행렬\n",
    "print(\"-----------------------------\")\n",
    "print(np.full((2,3), 5)) # 모든 원소가 5인 2*3행렬\n",
    "print(\"-----------------------------\")\n",
    "print(np.eye(3)) # 단위행렬"
   ]
  },
  {
   "cell_type": "markdown",
   "id": "09249aba",
   "metadata": {},
   "source": [
    "### Reshape\n",
    "- 배열을 사용할 때 다양한 형태(Shape)로 변환할 필요가 있다..\n",
    "- 배열에 포함된 요소가 사라지지 않는 형태라면 자유롭게 변환할 수 있다..\n",
    "- (3, 4) → (2, 6) → (4, 3) → (12, 1) → (6, 2) 등등 요소 개수만 변하지 않으면 된다."
   ]
  },
  {
   "cell_type": "code",
   "execution_count": 28,
   "id": "418bed3c",
   "metadata": {},
   "outputs": [
    {
     "name": "stdout",
     "output_type": "stream",
     "text": [
      "[[1 2 3]\n",
      " [4 5 6]]\n",
      "[[1 2]\n",
      " [3 4]\n",
      " [5 6]]\n"
     ]
    }
   ],
   "source": [
    "# (2, 3) 형태의 2차원 배열 만들기\n",
    "a = np.array([[1, 2, 3], \n",
    "              [4, 5, 6]])\n",
    "\n",
    "# 확인\n",
    "print(a)\n",
    "\n",
    "# (3, 2) 형태의 2차원 배열로 Reshape\n",
    "b = a.reshape(3, 2)\n",
    "\n",
    "# 확인\n",
    "print(b)"
   ]
  },
  {
   "cell_type": "code",
   "execution_count": null,
   "id": "2f3620fb",
   "metadata": {},
   "outputs": [],
   "source": []
  },
  {
   "cell_type": "code",
   "execution_count": 30,
   "id": "ab12b960",
   "metadata": {},
   "outputs": [
    {
     "name": "stdout",
     "output_type": "stream",
     "text": [
      "[[1 2 3]\n",
      " [4 5 6]]\n",
      "[[1 2 3 4 5 6]]\n",
      "\n",
      "[[1 2 3]\n",
      " [4 5 6]]\n",
      "\n",
      "[[1 2]\n",
      " [3 4]\n",
      " [5 6]]\n",
      "\n",
      "[[1]\n",
      " [2]\n",
      " [3]\n",
      " [4]\n",
      " [5]\n",
      " [6]]\n"
     ]
    }
   ],
   "source": [
    "# (2, 3) 형태의 2차원 배열 만들기\n",
    "a = np.array([[1, 2, 3], \n",
    "              [4, 5, 6]])\n",
    "\n",
    "# 확인\n",
    "print(a)\n",
    "\n",
    "# reshape(m, -1) 형태로 지정하여 Reshape 가능\n",
    "print(a.reshape(1, -1))\n",
    "print()\n",
    "\n",
    "print(a.reshape(2, -1))\n",
    "print()\n",
    "\n",
    "print(a.reshape(3, -1))\n",
    "print()\n",
    "\n",
    "#print(a.reshape(4, -1))\n",
    "#print(a.reshape(5, -1))\n",
    "\n",
    "print(a.reshape(6, -1))"
   ]
  },
  {
   "cell_type": "markdown",
   "id": "cb066325",
   "metadata": {},
   "source": [
    "##  Numpy 슬라이싱 / 인덱싱\n",
    "---"
   ]
  },
  {
   "cell_type": "markdown",
   "id": "4998ed06",
   "metadata": {},
   "source": [
    "### 인덱싱\n",
    "- 1차원 배열은 리스트와 방법이 같으므로 설명을 생략한다.\n",
    "- **배열[행, 열]** 형태로 특정 위치의 요소를 조회한다.\n",
    "- **배열[[행1,행2,..], :]** 또는 **배열[[행1,행2,..]]** 형태로 특정 행을 조회한다.\n",
    "- **배열[:, [열1,열2,...]]** 형태로 특정 열을 조회한다.\n",
    "- **배열[[행1,행2,...], [열1,열2,...]]** 형태로 특정 행의 특정 열을 조회한다."
   ]
  },
  {
   "cell_type": "code",
   "execution_count": 37,
   "id": "eb602352",
   "metadata": {},
   "outputs": [
    {
     "name": "stdout",
     "output_type": "stream",
     "text": [
      "[[1 2 3]\n",
      " [4 5 6]\n",
      " [7 8 9]]\n",
      "-----------------------------\n",
      "2\n",
      "-----------------------------\n",
      "[[1 2 3]\n",
      " [4 5 6]]\n",
      "-----------------------------\n",
      "[[1 2]\n",
      " [4 5]\n",
      " [7 8]]\n",
      "-----------------------------\n",
      "[8]\n"
     ]
    }
   ],
   "source": [
    "# (3, 3) 형태의 2차원 배열 만들기\n",
    "a = np.array([[1, 2, 3],\n",
    "              [4, 5, 6], \n",
    "              [7, 8, 9]])\n",
    "\n",
    "# 확인\n",
    "print(a)      \n",
    "print(\"-----------------------------\")\n",
    "# 첫 번째 행, 두 번째 열 요소 조회\n",
    "print(a[0, 1])\n",
    "print(\"-----------------------------\")\n",
    "# 첫 번째, 두 번째 행 조회\n",
    "# print(a[[0, 1], :])\n",
    "print(a[[0, 1]])\n",
    "print(\"-----------------------------\")\n",
    "# 첫 번째, 두 번째 열 조회\n",
    "print(a[:, [0, 1]])\n",
    "print(\"-----------------------------\")\n",
    "# 세 번째 행 두 번째 열의 요소 조회\n",
    "print(a[[2], [1]])"
   ]
  },
  {
   "cell_type": "markdown",
   "id": "722db4e9",
   "metadata": {},
   "source": [
    "### 슬라이싱\n",
    "- **배열[행1:행N,열1:열N]** 형태로 지정해 그 위치의 요소를 조회한다.\n",
    "- 조회 결과는 **2차원 배열**이 된다다.\n",
    "- 마지막 **범위 값은 대상에 포함되지 않는다.**\n",
    "- 즉, **배열[1:M, 2:N]**이라면 1 ~ M-1행, 2 ~ N-1열이 조회 대상이 된다."
   ]
  },
  {
   "cell_type": "code",
   "execution_count": 39,
   "id": "a73c6e8a",
   "metadata": {},
   "outputs": [
    {
     "name": "stdout",
     "output_type": "stream",
     "text": [
      "[[1 2 3]\n",
      " [4 5 6]\n",
      " [7 8 9]]\n",
      "-----------------------------\n",
      "[[1 2 3]\n",
      " [4 5 6]]\n",
      "-----------------------------\n",
      "[1 2]\n",
      "-----------------------------\n",
      "[[2 3]\n",
      " [5 6]\n",
      " [8 9]]\n",
      "-----------------------------\n",
      "[[5 6]\n",
      " [8 9]]\n"
     ]
    }
   ],
   "source": [
    "# (3, 3) 형태의 2차원 배열 만들기\n",
    "a = np.array([[1, 2, 3],\n",
    "              [4, 5, 6], \n",
    "              [7, 8, 9]])\n",
    "\n",
    "# 확인\n",
    "print(a)    \n",
    "print(\"-----------------------------\")\n",
    "# 첫 번째 ~ 두 번째 행 조회\n",
    "# print(a[0:2, :])\n",
    "print(a[0:2])\n",
    "print(\"-----------------------------\")\n",
    "# 첫 번째 행, 첫 번째 ~ 두 번째 열 조회\n",
    "print(a[0, 0:2])\n",
    "print(\"-----------------------------\")\n",
    "# 첫 번째 ~ 세 번째 행, 두 번째 ~ 세 번째 열 조회\n",
    "print(a[0:3, 1:3])\n",
    "print(\"-----------------------------\")\n",
    "# 두 번째 ~ 끝 행, 두 번째 ~ 끝 열 조회\n",
    "print(a[1:, 1:])"
   ]
  },
  {
   "cell_type": "markdown",
   "id": "b1e2c5a2",
   "metadata": {},
   "source": [
    "##### 조건 조회\n",
    "- **조건에 맞는 요소를 선택**하는 방식이며, **불리안 방식**이라고 부른다.\n",
    "- 조회 결과는 **1차원 배열**이 된다.\n",
    "- **배열[조건]** 형태로 해당 조건에 맞는 요소만 조회한다."
   ]
  },
  {
   "cell_type": "code",
   "execution_count": 42,
   "id": "7c7ad864",
   "metadata": {},
   "outputs": [
    {
     "name": "stdout",
     "output_type": "stream",
     "text": [
      "[[78 91 84 89 93 65]\n",
      " [82 87 96 79 91 73]]\n",
      "-----------------------------\n",
      "[91 93 96 91]\n"
     ]
    }
   ],
   "source": [
    "# 2차원 배열 만들기\n",
    "score= np.array([[78, 91, 84, 89, 93, 65],\n",
    "                 [82, 87, 96, 79, 91, 73]])\n",
    "\n",
    "# 확인\n",
    "print(score)\n",
    "print(\"-----------------------------\")\n",
    "# 요소 중에서 90 이상인 것만 조회\n",
    "print(score[score >= 90])"
   ]
  },
  {
   "cell_type": "markdown",
   "id": "ae05f7e8",
   "metadata": {},
   "source": [
    "- 검색 조건을 변수로 선언해 사용할 수 있다."
   ]
  },
  {
   "cell_type": "code",
   "execution_count": 43,
   "id": "7805decf",
   "metadata": {},
   "outputs": [
    {
     "name": "stdout",
     "output_type": "stream",
     "text": [
      "[91 93 96 91]\n"
     ]
    }
   ],
   "source": [
    "# 요소 중에서 90 이상인 것만 조회\n",
    "condition = score >= 90\n",
    "print(score[condition])"
   ]
  },
  {
   "cell_type": "markdown",
   "id": "a0c8521c",
   "metadata": {},
   "source": [
    "- 여러 조건을 & 와 | 로 연결하여 조회할 수 있습니다."
   ]
  },
  {
   "cell_type": "code",
   "execution_count": 45,
   "id": "59ff5d87",
   "metadata": {},
   "outputs": [
    {
     "name": "stdout",
     "output_type": "stream",
     "text": [
      "[91 93 91]\n"
     ]
    }
   ],
   "source": [
    "# 모든 요소 중에서 90 이상 95 미만인 것만 조회\n",
    "print(score[(score >= 90) & (score <= 95)])"
   ]
  },
  {
   "cell_type": "markdown",
   "id": "093f9df4",
   "metadata": {},
   "source": [
    "## Numpy 연산\n",
    "---\n",
    "- 배열간 연산 가능\n",
    "- [ +, -, *, / ]등의 연산자 사용 가능"
   ]
  },
  {
   "cell_type": "code",
   "execution_count": 51,
   "id": "5c07bdeb",
   "metadata": {},
   "outputs": [
    {
     "name": "stdout",
     "output_type": "stream",
     "text": [
      "배열 확인하기\n",
      "[[1 2]\n",
      " [3 4]]\n",
      "[[5 6]\n",
      " [7 8]]\n",
      "-----------------------------\n",
      "배열 더하기\n",
      "[[ 6  8]\n",
      " [10 12]]\n",
      "[[ 6  8]\n",
      " [10 12]]\n",
      "-----------------------------\n",
      "배열 빼기\n",
      "[[-4 -4]\n",
      " [-4 -4]]\n",
      "[[-4 -4]\n",
      " [-4 -4]]\n",
      "-----------------------------\n",
      "배열 곱하기\n",
      "[[ 5 12]\n",
      " [21 32]]\n",
      "[[ 5 12]\n",
      " [21 32]]\n",
      "-----------------------------\n",
      "배열 나누기\n",
      "[[0.2        0.33333333]\n",
      " [0.42857143 0.5       ]]\n",
      "[[0.2        0.33333333]\n",
      " [0.42857143 0.5       ]]\n"
     ]
    }
   ],
   "source": [
    "# 두 개의 (2, 2) 형태의 2차원 배열 만들기\n",
    "x = np.array([[1, 2], [3, 4]])\n",
    "y = np.array([[5, 6], [7, 8]])\n",
    "\n",
    "# 확인\n",
    "print(\"배열 확인하기\")\n",
    "print(x)\n",
    "print(y)\n",
    "print(\"-----------------------------\")\n",
    "# 배열 더하기\n",
    "print(\"배열 더하기\")\n",
    "print(x + y)\n",
    "\n",
    "# 또는\n",
    "print(np.add(x, y))\n",
    "print(\"-----------------------------\")\n",
    "# 배열 빼기\n",
    "print(\"배열 빼기\")\n",
    "print(x - y)\n",
    "\n",
    "# 또는\n",
    "print(np.subtract(x, y))\n",
    "print(\"-----------------------------\")\n",
    "# 배열 곱하기\n",
    "print(\"배열 곱하기\")\n",
    "print(x * y)\n",
    "\n",
    "# 또는\n",
    "print(np.multiply(x, y))\n",
    "print(\"-----------------------------\")\n",
    "# 배열 나누기\n",
    "print(\"배열 나누기\")\n",
    "print(x / y)\n",
    "\n",
    "# 또는\n",
    "print(np.divide(x, y))"
   ]
  },
  {
   "cell_type": "markdown",
   "id": "2618f319",
   "metadata": {},
   "source": [
    "- dot() 함수 : 행렬의 곱\n",
    "- sum() 함수 : 모든 원소의 합\n",
    "- prod() 함수 : 모든 원소의 곱\n",
    "- mean() 함수 : 모든 원소의 평균\n",
    "- std() 함수 : 모든 원소의 표준 편차"
   ]
  },
  {
   "cell_type": "code",
   "execution_count": 57,
   "id": "4aa74466",
   "metadata": {},
   "outputs": [
    {
     "name": "stdout",
     "output_type": "stream",
     "text": [
      "행렬의 곱\n",
      "[[19 22]\n",
      " [43 50]]\n",
      "모든 원소의 합\n",
      "10\n",
      "모든 원소의 곱\n",
      "24\n",
      "모든 원소의 평균\n",
      "2.5\n",
      "모든 원소의 표준편차\n",
      "1.118033988749895\n"
     ]
    }
   ],
   "source": [
    "arr1 = [[1,2],[3,4]]\n",
    "arr2 = [[5,6],[7,8]]\n",
    "a = np.array(arr1)\n",
    "b = np.array(arr2)\n",
    "\n",
    "c= np.dot(a, b)\n",
    "\n",
    "print(\"행렬의 곱\")\n",
    "print(c)\n",
    "\n",
    "print(\"모든 원소의 합\")\n",
    "print(np.sum(a)) \n",
    "\n",
    "print('모든 원소의 곱') \n",
    "print(np.prod(a)) \n",
    "\n",
    "print('모든 원소의 평균') \n",
    "print(np.mean(a)) \n",
    "\n",
    "print('모든 원소의 표준편차') \n",
    "print(np.std(a)) \n"
   ]
  },
  {
   "cell_type": "markdown",
   "id": "5e65de55",
   "metadata": {},
   "source": [
    "## 실무에서 자주 쓰이는 것\n",
    "---\n",
    "\n",
    "1. 배열 집계 함수\n",
    "- np.sum(), 혹은 array.sum()\n",
    "    - axis = 0 : 열 기준 집계\n",
    "    - axis = 1 : 행 기준 집계\n",
    "    - 생략하면 : 전체 집계\n",
    "- 동일한 형태로 사용 가능한 함수 : np.max(), np.min, np.mean(), np.std()\n",
    "- np.argmax() : 전체에서 최대값의 인덱스\n",
    "- np.argmin() : 전체에서 최소값의 인덱스"
   ]
  },
  {
   "cell_type": "code",
   "execution_count": 61,
   "id": "2b71c56c",
   "metadata": {},
   "outputs": [
    {
     "name": "stdout",
     "output_type": "stream",
     "text": [
      "[[1 5 7]\n",
      " [2 3 8]]\n",
      "전체 집계 : 26\n",
      "열기준 집계 : [ 3  8 15]\n",
      "행기준 집계 : [13 13]\n",
      "전체 중에서 가장 큰 값의 인덱스5\n",
      "전체 중에서 가장 작은 값의 인덱스0\n",
      "행 방향 최대값의 인덱스 : [1 0 1]\n",
      "열 방향 최대값의 인덱스 : [2 2]\n"
     ]
    }
   ],
   "source": [
    "# array를 생성합니다.\n",
    "a = np.array([[1,5,7],[2,3,8]])\n",
    "print(a)\n",
    "# 전체 집계\n",
    "print(f\"전체 집계 : {np.sum(a)}\")\n",
    "\n",
    "# 열기준 집계\n",
    "print(f\"열기준 집계 : {np.sum(a, axis = 0)}\")\n",
    "\n",
    "# 행기준 집계\n",
    "print(f\"행기준 집계 : {np.sum(a, axis = 1)}\")\n",
    "\n",
    "# 전체 중에서 가장 큰 값의 인덱스\n",
    "print(f\"전체 중에서 가장 큰 값의 인덱스{np.argmax(a)}\")\n",
    "print(f\"전체 중에서 가장 작은 값의 인덱스{np.argmin(a)}\")\n",
    "\n",
    "# 행 방향 최대값의 인덱스\n",
    "print(f\"행 방향 최대값의 인덱스 : {np.argmax(a, axis = 0)}\")\n",
    "\n",
    "# 열 방향 최대값의 인덱스\n",
    "print(f\"열 방향 최대값의 인덱스 : {np.argmax(a, axis = 1)}\")\n"
   ]
  },
  {
   "cell_type": "markdown",
   "id": "f454042f",
   "metadata": {},
   "source": [
    "2. np.where\n",
    "- np.where(조건문, True일때 값, False일 때 값)"
   ]
  },
  {
   "cell_type": "code",
   "execution_count": 63,
   "id": "3812a432",
   "metadata": {},
   "outputs": [
    {
     "data": {
      "text/plain": [
       "array([0, 1, 0, 1])"
      ]
     },
     "execution_count": 63,
     "metadata": {},
     "output_type": "execute_result"
    }
   ],
   "source": [
    "# 선언\n",
    "a = np.array([1,3,2,7])\n",
    "\n",
    "# 조건\n",
    "np.where(a > 2, 1, 0)"
   ]
  },
  {
   "cell_type": "code",
   "execution_count": null,
   "id": "ba40b735",
   "metadata": {},
   "outputs": [],
   "source": []
  }
 ],
 "metadata": {
  "kernelspec": {
   "display_name": "Python 3 (ipykernel)",
   "language": "python",
   "name": "python3"
  },
  "language_info": {
   "codemirror_mode": {
    "name": "ipython",
    "version": 3
   },
   "file_extension": ".py",
   "mimetype": "text/x-python",
   "name": "python",
   "nbconvert_exporter": "python",
   "pygments_lexer": "ipython3",
   "version": "3.11.3"
  }
 },
 "nbformat": 4,
 "nbformat_minor": 5
}
