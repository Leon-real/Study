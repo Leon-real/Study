{
 "cells": [
  {
   "cell_type": "markdown",
   "id": "a88ae1b3",
   "metadata": {},
   "source": [
    "# 파이썬의 기초\n",
    "\n",
    "## 예외처리\n",
    "\n",
    "- 함수는 입력값이 정해진 규칙에 맞게 입력된 경우만 정상 작동\n",
    "\n",
    "- 잘못된 입력값을 입력하면 오류 발생\n",
    "\n",
    "- 이러한 경우, 입력이 잘못되었더라도 그에 맞는 결과를 출력하도록 코드를 작성하는 것이 필요\n",
    "\n",
    "- R에서 예외처리는 try() 또는 tryCatch() 함수를 이용한다.\n"
   ]
  },
  {
   "cell_type": "markdown",
   "id": "70df53fa",
   "metadata": {},
   "source": [
    "- 정상적인 입력시\n",
    "float('1.414159')"
   ]
  },
  {
   "cell_type": "code",
   "execution_count": 2,
   "id": "eea4ee8c",
   "metadata": {},
   "outputs": [
    {
     "data": {
      "text/plain": [
       "1.414159"
      ]
     },
     "execution_count": 2,
     "metadata": {},
     "output_type": "execute_result"
    }
   ],
   "source": [
    "float('1.414159')"
   ]
  },
  {
   "cell_type": "markdown",
   "id": "226e274d",
   "metadata": {},
   "source": [
    "- 비정상 입력: 오류발생"
   ]
  },
  {
   "cell_type": "code",
   "execution_count": 4,
   "id": "af795984",
   "metadata": {},
   "outputs": [
    {
     "ename": "ValueError",
     "evalue": "could not convert string to float: 'abcd'",
     "output_type": "error",
     "traceback": [
      "\u001b[1;31m---------------------------------------------------------------------------\u001b[0m",
      "\u001b[1;31mValueError\u001b[0m                                Traceback (most recent call last)",
      "Cell \u001b[1;32mIn[4], line 2\u001b[0m\n\u001b[0;32m      1\u001b[0m a \u001b[38;5;241m=\u001b[39m \u001b[38;5;124m'\u001b[39m\u001b[38;5;124mabcd\u001b[39m\u001b[38;5;124m'\u001b[39m\n\u001b[1;32m----> 2\u001b[0m \u001b[38;5;28mfloat\u001b[39m(a)\n",
      "\u001b[1;31mValueError\u001b[0m: could not convert string to float: 'abcd'"
     ]
    }
   ],
   "source": [
    "a = 'abcd'\n",
    "float(a)"
   ]
  },
  {
   "cell_type": "markdown",
   "id": "d101a3ff",
   "metadata": {},
   "source": [
    "### 예외처리 사용법\n",
    "\n",
    "1. try ... except\n",
    "```\n",
    "a = 'abcd'\n",
    "try:\n",
    "    float(a)\n",
    "except:\n",
    "    print(a)\n",
    "```"
   ]
  },
  {
   "cell_type": "code",
   "execution_count": 6,
   "id": "42b86021",
   "metadata": {},
   "outputs": [
    {
     "name": "stdout",
     "output_type": "stream",
     "text": [
      "abcd\n"
     ]
    }
   ],
   "source": [
    "a = 'abcd'\n",
    "try:\n",
    "    float(a)\n",
    "except:\n",
    "    print(a)"
   ]
  },
  {
   "cell_type": "markdown",
   "id": "03ca3e26",
   "metadata": {},
   "source": [
    "2. try ... except ... finally\n",
    "```\n",
    "f = open(path, 'w')\n",
    "try:                 # try\n",
    "  write_to_file(f)\n",
    "except:              # 예외처리\n",
    "  print('Failed')\n",
    "else:\n",
    "  print('Succeeded') # 정상처리\n",
    "finally:             # 정상 및 예외처리\n",
    "  f.close()\n",
    "```"
   ]
  },
  {
   "cell_type": "code",
   "execution_count": null,
   "id": "3e286805",
   "metadata": {},
   "outputs": [],
   "source": []
  },
  {
   "cell_type": "code",
   "execution_count": null,
   "id": "2270620f",
   "metadata": {},
   "outputs": [],
   "source": []
  }
 ],
 "metadata": {
  "kernelspec": {
   "display_name": "Python 3 (ipykernel)",
   "language": "python",
   "name": "python3"
  },
  "language_info": {
   "codemirror_mode": {
    "name": "ipython",
    "version": 3
   },
   "file_extension": ".py",
   "mimetype": "text/x-python",
   "name": "python",
   "nbconvert_exporter": "python",
   "pygments_lexer": "ipython3",
   "version": "3.11.3"
  }
 },
 "nbformat": 4,
 "nbformat_minor": 5
}
