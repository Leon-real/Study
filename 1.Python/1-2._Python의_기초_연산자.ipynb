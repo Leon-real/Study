{
 "cells": [
  {
   "cell_type": "markdown",
   "id": "b2174b5f",
   "metadata": {},
   "source": [
    "# 파이썬의 기초\n",
    "\n",
    "## 연산자\n",
    "- 연산자 이미지 참고\n",
    "\n",
    "1. [사칙연산] +, -, *, /\n",
    "2. [거듭제곱 연산] **\n",
    "3. [나머지 연산] %\n",
    "4. [비트연산] &, |, ^ (and, or, xor)\n",
    "5. [논리연산] <, >, <=, >=, ==, !=, not, and, or"
   ]
  },
  {
   "cell_type": "markdown",
   "id": "f46859d1",
   "metadata": {},
   "source": [
    "![연산자이미지](./img/operator_img.png)"
   ]
  },
  {
   "cell_type": "code",
   "execution_count": null,
   "id": "09af25ad",
   "metadata": {},
   "outputs": [],
   "source": []
  }
 ],
 "metadata": {
  "kernelspec": {
   "display_name": "Python 3 (ipykernel)",
   "language": "python",
   "name": "python3"
  },
  "language_info": {
   "codemirror_mode": {
    "name": "ipython",
    "version": 3
   },
   "file_extension": ".py",
   "mimetype": "text/x-python",
   "name": "python",
   "nbconvert_exporter": "python",
   "pygments_lexer": "ipython3",
   "version": "3.11.3"
  }
 },
 "nbformat": 4,
 "nbformat_minor": 5
}
