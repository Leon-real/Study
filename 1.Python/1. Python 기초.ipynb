{
 "cells": [
  {
   "cell_type": "markdown",
   "id": "af764198",
   "metadata": {},
   "source": [
    "# Python 기초 문법 및 설명"
   ]
  },
  {
   "cell_type": "markdown",
   "id": "5c64a414",
   "metadata": {},
   "source": [
    "#### 목차\n",
    "\n",
    "1. 파이썬의 기초\n",
    "    1. [기본 자료형](./1-1._Python의_기초_기본_자료형.ipynb)\n",
    "    2. [연산자](./1-2._Python의_기초_연산자.ipynb)\n",
    "    3. [제어문](./1-3._Python의_제어문.ipynb)\n",
    "    5. [예외처리](./1-4._Python의_예외처리.ipynb)\n",
    "    6. [파이썬 함수](./1-5._Python의_파이썬_함수.ipynb)\n",
    "    \n",
    "2. 패키지\n",
    "    1. 파이썬 클래스\n",
    "    2. 모듈가 패키지"
   ]
  },
  {
   "cell_type": "markdown",
   "id": "9a8a9d30",
   "metadata": {},
   "source": []
  }
 ],
 "metadata": {
  "kernelspec": {
   "display_name": "Python 3 (ipykernel)",
   "language": "python",
   "name": "python3"
  },
  "language_info": {
   "codemirror_mode": {
    "name": "ipython",
    "version": 3
   },
   "file_extension": ".py",
   "mimetype": "text/x-python",
   "name": "python",
   "nbconvert_exporter": "python",
   "pygments_lexer": "ipython3",
   "version": "3.11.3"
  }
 },
 "nbformat": 4,
 "nbformat_minor": 5
}
