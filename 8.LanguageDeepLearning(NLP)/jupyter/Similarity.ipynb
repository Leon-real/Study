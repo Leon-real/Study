{
 "cells": [
  {
   "cell_type": "markdown",
   "id": "7953579a",
   "metadata": {},
   "source": [
    "# 여러가지 유사도\n",
    "\n",
    "1. 자카드 유사도(Jaccard Similarity)\n",
    "2. 코사인 유사도(Cosine Similarity)\n",
    "3. 유클리디언 유사도(Euclidean Similarity)\n",
    "4. 맨하탄 유사도(Manhattan Similarity)"
   ]
  },
  {
   "cell_type": "code",
   "execution_count": 9,
   "id": "176931cb",
   "metadata": {},
   "outputs": [],
   "source": [
    "import numpy as np\n",
    "from sklearn.metrics import accuracy_score"
   ]
  },
  {
   "cell_type": "markdown",
   "id": "e61d3db0",
   "metadata": {},
   "source": [
    "## 자카드 유사도(Jaccard Similarity)\n",
    "자카드 지수라고도 불리움\n",
    "- 두 문장을 각각 단어의 집합으로 만든 뒤 두 집합을 통해 유사도 측정\n",
    "- 유사도 측정법: A/B\n",
    "    - A: 두 집합의 교집합인 공통된 단어의 개수\n",
    "    - B: 집합이 가지는 단어의 개수\n",
    "- 자카드 유사도는 0과 1사이의 값을 가짐"
   ]
  },
  {
   "cell_type": "code",
   "execution_count": 10,
   "id": "a75f5bd3",
   "metadata": {
    "scrolled": true
   },
   "outputs": [
    {
     "data": {
      "text/plain": [
       "0.3333333333333333"
      ]
     },
     "execution_count": 10,
     "metadata": {},
     "output_type": "execute_result"
    }
   ],
   "source": [
    "accuracy_score(np.array([1,3,2]), np.array([1,4,5]))"
   ]
  },
  {
   "cell_type": "code",
   "execution_count": 3,
   "id": "bfcb7190",
   "metadata": {},
   "outputs": [
    {
     "data": {
      "text/plain": [
       "0.0"
      ]
     },
     "execution_count": 3,
     "metadata": {},
     "output_type": "execute_result"
    }
   ],
   "source": [
    "accuracy_score(np.array([1,3,2]), np.array([4,1,5]))"
   ]
  },
  {
   "cell_type": "code",
   "execution_count": 4,
   "id": "a64202cd",
   "metadata": {},
   "outputs": [
    {
     "data": {
      "text/plain": [
       "0.75"
      ]
     },
     "execution_count": 4,
     "metadata": {},
     "output_type": "execute_result"
    }
   ],
   "source": [
    "accuracy_score(np.array([1,1,0,0]), np.array([1,1,0,2]))"
   ]
  },
  {
   "cell_type": "code",
   "execution_count": 5,
   "id": "1f071641",
   "metadata": {},
   "outputs": [
    {
     "data": {
      "text/plain": [
       "0.75"
      ]
     },
     "execution_count": 5,
     "metadata": {},
     "output_type": "execute_result"
    }
   ],
   "source": [
    "accuracy_score(np.array([1,1,0,0]), np.array([1,1,0,2]))"
   ]
  },
  {
   "cell_type": "markdown",
   "id": "c4cd4ad5",
   "metadata": {},
   "source": [
    "## 코사인 유사도(Cosine Similarity)\n",
    "- 두 개의 벡터값에서 코사인 각도를 구하는 방법\n",
    "- -1에서 1사이의 값을 가짐\n"
   ]
  },
  {
   "cell_type": "code",
   "execution_count": 18,
   "id": "be9285ff",
   "metadata": {},
   "outputs": [],
   "source": [
    "import numpy as np\n",
    "from sklearn.feature_extraction.text import TfidfVectorizer\n",
    "\n",
    "# 테스트할 문장들\n",
    "sentence =('오늘도 폭염이 이어졌는데요, 내일은 반가운 비 소식이 있습니다.',\n",
    "          '오늘도 폭염이 이어졌는데요, 내일은 반가운 비 소식이 있습니다.',\n",
    "          '폭염을 피해 놀러왔다가 갑작스런 비로 망연자실하고 있습니다.') \n",
    "\n",
    "# tfid 벡터 객체 생성\n",
    "tfidf_vector = TfidfVectorizer(max_features=100)\n",
    "\n",
    "# 문장 벡터화 하기\n",
    "tfidf_matrix = tfidf_vector.fit_transform(sentence)"
   ]
  },
  {
   "cell_type": "code",
   "execution_count": 27,
   "id": "c5190f30",
   "metadata": {},
   "outputs": [],
   "source": [
    "from sklearn.metrics.pairwise import cosine_similarity # 코사인 유사도 불러오기"
   ]
  },
  {
   "cell_type": "code",
   "execution_count": 25,
   "id": "736c5112",
   "metadata": {},
   "outputs": [
    {
     "name": "stdout",
     "output_type": "stream",
     "text": [
      "0번째 1번째 : [[1.]]\n"
     ]
    }
   ],
   "source": [
    "print(f\"0번째 1번째 : {cosine_similarity(tfidf_matrix[0], tfidf_matrix[1])}\")"
   ]
  },
  {
   "cell_type": "code",
   "execution_count": 26,
   "id": "8880d7ba",
   "metadata": {},
   "outputs": [
    {
     "name": "stdout",
     "output_type": "stream",
     "text": [
      "0번째 2번째 : [[0.07083962]]\n"
     ]
    }
   ],
   "source": [
    "print(f\"0번째 2번째 : {cosine_similarity(tfidf_matrix[0], tfidf_matrix[2])}\")"
   ]
  },
  {
   "cell_type": "markdown",
   "id": "0edde50f",
   "metadata": {},
   "source": [
    "## 유클리디언 유사도(Euclidean Similarity)\n",
    "- 두 벡터 간의 거리로 유사도를 판단(기준: 유클리디언 거리판단)"
   ]
  },
  {
   "cell_type": "code",
   "execution_count": null,
   "id": "8f531c10",
   "metadata": {},
   "outputs": [],
   "source": []
  },
  {
   "cell_type": "code",
   "execution_count": null,
   "id": "1cb73265",
   "metadata": {},
   "outputs": [],
   "source": []
  },
  {
   "cell_type": "code",
   "execution_count": null,
   "id": "3034d5cf",
   "metadata": {},
   "outputs": [],
   "source": []
  },
  {
   "cell_type": "markdown",
   "id": "c0ab4b1a",
   "metadata": {},
   "source": [
    "## 맨하탄 유사도(Manhattan Similarity)\n",
    "- 두 벡터 간의 거리로 유사도를 판단(기준: 맨하탄 거리판단)"
   ]
  },
  {
   "cell_type": "code",
   "execution_count": null,
   "id": "e085f259",
   "metadata": {},
   "outputs": [],
   "source": []
  },
  {
   "cell_type": "code",
   "execution_count": null,
   "id": "237f1670",
   "metadata": {},
   "outputs": [],
   "source": []
  },
  {
   "cell_type": "code",
   "execution_count": null,
   "id": "5ead17e0",
   "metadata": {},
   "outputs": [],
   "source": []
  },
  {
   "cell_type": "code",
   "execution_count": null,
   "id": "829be870",
   "metadata": {},
   "outputs": [],
   "source": []
  },
  {
   "cell_type": "code",
   "execution_count": null,
   "id": "6f6ce941",
   "metadata": {},
   "outputs": [],
   "source": []
  }
 ],
 "metadata": {
  "kernelspec": {
   "display_name": "Python 3 (ipykernel)",
   "language": "python",
   "name": "python3"
  },
  "language_info": {
   "codemirror_mode": {
    "name": "ipython",
    "version": 3
   },
   "file_extension": ".py",
   "mimetype": "text/x-python",
   "name": "python",
   "nbconvert_exporter": "python",
   "pygments_lexer": "ipython3",
   "version": "3.11.5"
  }
 },
 "nbformat": 4,
 "nbformat_minor": 5
}
