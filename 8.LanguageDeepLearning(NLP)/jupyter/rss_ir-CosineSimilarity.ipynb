{
 "cells": [
  {
   "cell_type": "markdown",
   "id": "bf73e9c7",
   "metadata": {},
   "source": [
    "# RSS Infomation Research"
   ]
  },
  {
   "cell_type": "code",
   "execution_count": 1,
   "id": "bcc065a7",
   "metadata": {},
   "outputs": [],
   "source": [
    "# RSS에서 xml태그 별 정보 추출\n",
    "!pip install feedparser \n",
    "\n",
    "# 인터넷 신문기사 분석(라이브러리 내의 \"Article()\"사용하기 위해)\n",
    "!pip install newspaper3k "
   ]
  },
  {
   "cell_type": "markdown",
   "id": "65217f00",
   "metadata": {},
   "source": [
    "# 라이브러리 불러오기"
   ]
  },
  {
   "cell_type": "code",
   "execution_count": 9,
   "id": "12e4917f",
   "metadata": {},
   "outputs": [],
   "source": [
    "import feedparser # xml 태그별 정보 추출\n",
    "from newspaper import Article # 인터넷 신문 기사 분석\n",
    "from bs4 import BeautifulSoup # 글에 존재할지 모르는 html 태그 삭제를 위해 사용"
   ]
  },
  {
   "cell_type": "markdown",
   "id": "12bb309d",
   "metadata": {},
   "source": [
    "# 정보 수집할 rss 링크 설정 및 정보 수집하기\n",
    "\n",
    "##### 전자신문 (https://www.etnews.com/rss/) 의 오늘의 뉴스 부분 "
   ]
  },
  {
   "cell_type": "markdown",
   "id": "9023fe36",
   "metadata": {},
   "source": [
    "##### 함수 정의"
   ]
  },
  {
   "cell_type": "code",
   "execution_count": 10,
   "id": "f110fa3d",
   "metadata": {},
   "outputs": [],
   "source": [
    "# 제목, 링크 수집 함수\n",
    "def crawl_rss(urls):\n",
    "    array_rss = [] # 모든 기사를 넣을 리스트\n",
    "    set_link = set() # 중복된 기사를 제거하기 위한 기사 제목들 집합\n",
    "    \n",
    "    for url in urls: # url 순회\n",
    "        print(f\"[Crawl Rss] {url}\") # 현재 크롤링하는 rss 링크 출력\n",
    "        parser_rss = feedparser.parse(url) # 현재 url을 파싱해서, 그 결과를 저장\n",
    "        for p in parser_rss.entries:\n",
    "            if p.link not in set_link: # 중복되지 않은 기사 일 경우 if 문 실행\n",
    "                array_rss.append({'link':p.link})\n",
    "                set_link.add(p.link)\n",
    "    return array_rss\n",
    "\n",
    "# 링크를 통해 제목, 본문 내용 추출\n",
    "def crawl_article(url, language='ko'):\n",
    "    print(f\"[Crawling. . .] {url}\") # 현재 크롤링하는 링크 출력\n",
    "    news_paper = Article(url, language=language)\n",
    "    news_paper.download()\n",
    "    news_paper.parse()\n",
    "    return news_paper.title, preprocessing(news_paper.text)\n",
    "\n",
    "# 불용어 전처리\n",
    "def preprocessing(text): \n",
    "    text_article = BeautifulSoup(text, 'html5lib').get_text() # html 태그 제거하기\n",
    "    return text_article"
   ]
  },
  {
   "cell_type": "code",
   "execution_count": 11,
   "id": "e62bcca4",
   "metadata": {
    "scrolled": true
   },
   "outputs": [
    {
     "name": "stdout",
     "output_type": "stream",
     "text": [
      "[Crawl Rss] http://rss.etnews.com/Section901.xml\n",
      "[Crawl Rss] http://rss.etnews.com/Section902.xml\n",
      "[Crawl Rss] http://rss.etnews.com/Section903.xml\n",
      "[Crawl Rss] http://rss.etnews.com/Section904.xml\n",
      "[Crawling. . .] https://www.etnews.com/20230927000056\n",
      "[Crawling. . .] https://www.etnews.com/20230927000047\n",
      "[Crawling. . .] https://www.etnews.com/20230927000039\n",
      "[Crawling. . .] https://www.etnews.com/20230927000013\n",
      "[Crawling. . .] https://www.etnews.com/20230926000368\n",
      "[Crawling. . .] https://www.etnews.com/20230927000007\n",
      "[Crawling. . .] https://www.etnews.com/20230926000363\n",
      "[Crawling. . .] https://www.etnews.com/20230926000316\n",
      "[Crawling. . .] https://www.etnews.com/20230926000189\n",
      "[Crawling. . .] https://www.etnews.com/20230926000364\n",
      "[Crawling. . .] https://www.etnews.com/20230926000344\n",
      "[Crawling. . .] https://www.etnews.com/20230926000205\n",
      "[Crawling. . .] https://www.etnews.com/20230926000340\n",
      "[Crawling. . .] https://www.etnews.com/20230926000328\n",
      "[Crawling. . .] https://www.etnews.com/20230926000101\n",
      "[Crawling. . .] https://www.etnews.com/20230924000164\n",
      "[Crawling. . .] https://www.etnews.com/20230926000288\n",
      "[Crawling. . .] https://www.etnews.com/20230926000275\n",
      "[Crawling. . .] https://www.etnews.com/20230926000178\n",
      "[Crawling. . .] https://www.etnews.com/20230926000231\n",
      "[Crawling. . .] https://www.etnews.com/20230926000185\n",
      "[Crawling. . .] https://www.etnews.com/20230926000069\n",
      "[Crawling. . .] https://www.etnews.com/20230926000282\n",
      "[Crawling. . .] https://www.etnews.com/20230926000266\n",
      "[Crawling. . .] https://www.etnews.com/20230924000163\n",
      "[Crawling. . .] https://www.etnews.com/20230924000162\n",
      "[Crawling. . .] https://www.etnews.com/20230926000249\n",
      "[Crawling. . .] https://www.etnews.com/20230926000246\n",
      "[Crawling. . .] https://www.etnews.com/20230926000234\n",
      "[Crawling. . .] https://www.etnews.com/20230926000212\n",
      "[Crawling. . .] https://www.etnews.com/20230927000058\n",
      "[Crawling. . .] https://www.etnews.com/20230927000057\n",
      "[Crawling. . .] https://www.etnews.com/20230927000055\n",
      "[Crawling. . .] https://www.etnews.com/20230927000054\n",
      "[Crawling. . .] https://www.etnews.com/20230927000052\n",
      "[Crawling. . .] https://www.etnews.com/20230927000051\n",
      "[Crawling. . .] https://www.etnews.com/20230927000050\n",
      "[Crawling. . .] https://www.etnews.com/20230927000053\n",
      "[Crawling. . .] https://www.etnews.com/20230927000049\n",
      "[Crawling. . .] https://www.etnews.com/20230927000048\n",
      "[Crawling. . .] https://www.etnews.com/20230927000046\n",
      "[Crawling. . .] https://www.etnews.com/20230927000045\n",
      "[Crawling. . .] https://www.etnews.com/20230927000044\n",
      "[Crawling. . .] https://www.etnews.com/20230927000042\n",
      "[Crawling. . .] https://www.etnews.com/20230927000038\n",
      "[Crawling. . .] https://www.etnews.com/20230927000037\n",
      "[Crawling. . .] https://www.etnews.com/20230927000036\n",
      "[Crawling. . .] https://www.etnews.com/20230927000033\n",
      "[Crawling. . .] https://www.etnews.com/20230927000032\n",
      "[Crawling. . .] https://www.etnews.com/20230927000029\n",
      "[Crawling. . .] https://www.etnews.com/20230927000028\n",
      "[Crawling. . .] https://www.etnews.com/20230927000031\n",
      "[Crawling. . .] https://www.etnews.com/20230927000030\n",
      "[Crawling. . .] https://www.etnews.com/20230926000210\n",
      "[Crawling. . .] https://www.etnews.com/20230927000027\n",
      "[Crawling. . .] https://www.etnews.com/20230927000025\n",
      "[Crawling. . .] https://www.etnews.com/20230927000024\n",
      "[Crawling. . .] https://www.etnews.com/20230925000231\n",
      "[Crawling. . .] https://www.etnews.com/20230925000090\n",
      "[Crawling. . .] https://www.etnews.com/20230924000040\n",
      "[Crawling. . .] https://www.etnews.com/20230925000207\n",
      "[Crawling. . .] https://www.etnews.com/20230926000006\n",
      "[Crawling. . .] https://www.etnews.com/20230922000215\n",
      "[Crawling. . .] https://www.etnews.com/20230922000198\n",
      "[Crawling. . .] https://www.etnews.com/20230922000216\n",
      "[Crawling. . .] https://www.etnews.com/20230925000171\n",
      "[Crawling. . .] https://www.etnews.com/20230923000006\n",
      "[Crawling. . .] https://www.etnews.com/20230922000217\n",
      "[Crawling. . .] https://www.etnews.com/20230922000187\n",
      "[Crawling. . .] https://www.etnews.com/20230925000232\n",
      "[Crawling. . .] https://www.etnews.com/20230925000313\n",
      "[Crawling. . .] https://www.etnews.com/20230925000191\n"
     ]
    }
   ],
   "source": [
    "# 정보 수집할 rss 링크 모음\n",
    "urls = ['http://rss.etnews.com/Section901.xml',\n",
    "        'http://rss.etnews.com/Section902.xml',\n",
    "        'http://rss.etnews.com/Section903.xml',\n",
    "        'http://rss.etnews.com/Section904.xml']\n",
    "\n",
    "# 제목과 기사 링크 수집하기\n",
    "list_articles = crawl_rss(urls)\n",
    "\n",
    "# 수집한 (제목,기사링크)를 토대로 제목과 본문 내용 수집하기\n",
    "for article in list_articles:\n",
    "    title, text = crawl_article(article['link'])\n",
    "    article['title'] = title\n",
    "    article['text'] = text"
   ]
  },
  {
   "cell_type": "markdown",
   "id": "b18a3360",
   "metadata": {},
   "source": [
    "# 수집 내용 확인하기"
   ]
  },
  {
   "cell_type": "code",
   "execution_count": 12,
   "id": "15ae06d8",
   "metadata": {},
   "outputs": [
    {
     "data": {
      "text/plain": [
       "{'link': 'https://www.etnews.com/20230927000056',\n",
       " 'title': '폴스타, 폴스타3 사막 주행 테스트 완료…내년 1분기 韓 출시',\n",
       " 'text': \"스웨덴 전기차 브랜드 폴스타가 아랍에미리트(UAE)에서 2주간 진행한 '폴스타3' 혹서기 테스트를 성공적으로 완료했다고 27일 밝혔다.\\n\\n폴스타3는 브랜드 최초의 전기 스포츠유틸리티차량(SUV)으로 내년 1분기 국내 출시된다.\\n\\n\\n\\n폴스타3 프로토타입은 지난 7월 영국 최대 자동차 축제 '영국 굿우드 페스티벌 오브 스피드'에서 처음 공개됐다. 가장 더운 환경에서 주행과 공조시스템 등을 미세 조정하기 위해 엔지니어 개발팀과 함께 지난달 UAE를 방문했다.\\n\\n\\n\\n이번 테스트는 폴스타 개발 과정에 진행되는 극한 기후 테스트 중 하나로 50도까지 기온이 올라가는 두바이와 아부다비 대도시, 사막 지역에서 진행됐다.\\n\\n\\n\\n폴스타3는 순수 전기차 디자인과 강력한 성능, 고급 편의 사양과 첨단 주행보조시스템 등 폴스타 역량과 기술을 집약한 플래그십 모델이다. 111kWh 리튬이온 배터리를 탑재해 1회 충전 시 최대 610㎞ 주행거리와 최대 517마력을 발휘한다.\\n\\n\\n\\n폴스타는 내년 1분기 폴스타3 생산을 시작해 전기 쿠페 폴스타까지 출시해 총 3가지 모델 라인업을 갖출 계획이다.\\n\\n토마스 잉엔라트 폴스타 최고경영자(CEO)는 “폴스타3는 여정의 시작 단계에 있으며 한국 고객도 내년 1분기에 폴스타 스페이스를 방문해 뛰어난 디자인과 독보적이고 혁신적인 인테리어를 경험할 수 있을 것”이라고 말했다.\\n\\n김지웅 기자 jw0316@etnews.com\"}"
      ]
     },
     "execution_count": 12,
     "metadata": {},
     "output_type": "execute_result"
    }
   ],
   "source": [
    "list_articles[0]"
   ]
  },
  {
   "cell_type": "markdown",
   "id": "63d9b67d",
   "metadata": {},
   "source": [
    "# 본문 Cosine Similarity 만들기"
   ]
  },
  {
   "cell_type": "code",
   "execution_count": 17,
   "id": "180f8427",
   "metadata": {},
   "outputs": [],
   "source": [
    "from sklearn.feature_extraction.text import TfidfVectorizer # 벡터화\n",
    "from sklearn.metrics.pairwise import cosine_similarity # 코사인 유사도 판단하기"
   ]
  },
  {
   "cell_type": "code",
   "execution_count": 20,
   "id": "170e5331",
   "metadata": {},
   "outputs": [
    {
     "data": {
      "text/plain": [
       "\"스웨덴 전기차 브랜드 폴스타가 아랍에미리트(UAE)에서 2주간 진행한 '폴스타3' 혹서기 테스트를 성공적으로 완료했다고 27일 밝혔다.\\n\\n폴스타3는 브랜드 최초의 전기 스포츠유틸리티차량(SUV)으로 내년 1분기 국내 출시된다.\\n\\n\\n\\n폴스타3 프로토타입은 지난 7월 영국 최대 자동차 축제 '영국 굿우드 페스티벌 오브 스피드'에서 처음 공개됐다. 가장 더운 환경에서 주행과 공조시스템 등을 미세 조정하기 위해 엔지니어 개발팀과 함께 지난달 UAE를 방문했다.\\n\\n\\n\\n이번 테스트는 폴스타 개발 과정에 진행되는 극한 기후 테스트 중 하나로 50도까지 기온이 올라가는 두바이와 아부다비 대도시, 사막 지역에서 진행됐다.\\n\\n\\n\\n폴스타3는 순수 전기차 디자인과 강력한 성능, 고급 편의 사양과 첨단 주행보조시스템 등 폴스타 역량과 기술을 집약한 플래그십 모델이다. 111kWh 리튬이온 배터리를 탑재해 1회 충전 시 최대 610㎞ 주행거리와 최대 517마력을 발휘한다.\\n\\n\\n\\n폴스타는 내년 1분기 폴스타3 생산을 시작해 전기 쿠페 폴스타까지 출시해 총 3가지 모델 라인업을 갖출 계획이다.\\n\\n토마스 잉엔라트 폴스타 최고경영자(CEO)는 “폴스타3는 여정의 시작 단계에 있으며 한국 고객도 내년 1분기에 폴스타 스페이스를 방문해 뛰어난 디자인과 독보적이고 혁신적인 인테리어를 경험할 수 있을 것”이라고 말했다.\\n\\n김지웅 기자 jw0316@etnews.com\""
      ]
     },
     "execution_count": 20,
     "metadata": {},
     "output_type": "execute_result"
    }
   ],
   "source": [
    "# 수집한 내용들에서 본문 내용만 추출한 리스트 만들기\n",
    "text_articles = [article['text'] for article in list_articles]\n",
    "text_articles[0]"
   ]
  },
  {
   "cell_type": "markdown",
   "id": "6b68ae99",
   "metadata": {},
   "source": [
    "##### 벡터만들어주는 객체 선언"
   ]
  },
  {
   "cell_type": "code",
   "execution_count": 21,
   "id": "dd3c4117",
   "metadata": {},
   "outputs": [],
   "source": [
    "# 벡터를 만드는 객체 선언\n",
    "encoder = TfidfVectorizer(max_features=5000)"
   ]
  },
  {
   "cell_type": "markdown",
   "id": "04f6e73d",
   "metadata": {},
   "source": [
    "##### Cosine Similarity에 이용할 본문 벡터 만들기 => Data Matrix만들기"
   ]
  },
  {
   "cell_type": "code",
   "execution_count": 22,
   "id": "359c7f45",
   "metadata": {},
   "outputs": [],
   "source": [
    "# 각 본문들 벡터화 하기 => Data Matrix 만들기\n",
    "matrix_vectors = encoder.fit_transform(text_articles)"
   ]
  },
  {
   "cell_type": "code",
   "execution_count": 24,
   "id": "7daa033b",
   "metadata": {},
   "outputs": [
    {
     "data": {
      "text/plain": [
       "(72, 5000)"
      ]
     },
     "execution_count": 24,
     "metadata": {},
     "output_type": "execute_result"
    }
   ],
   "source": [
    "matrix_vectors.shape\n",
    "\n",
    "# 72개의 본문이 있으며, 각각 5000 size의 벡터로 변환 됌"
   ]
  },
  {
   "cell_type": "markdown",
   "id": "74ea31a3",
   "metadata": {},
   "source": [
    "##### Cosine Similarity를 이용하여 유사도 확안하기"
   ]
  },
  {
   "cell_type": "code",
   "execution_count": 26,
   "id": "87d33dca",
   "metadata": {},
   "outputs": [
    {
     "data": {
      "text/plain": [
       "array([[0.03694741]])"
      ]
     },
     "execution_count": 26,
     "metadata": {},
     "output_type": "execute_result"
    }
   ],
   "source": [
    "# 첫번째와 3번째 벡터의 cosine similarity 비교하기\n",
    "cosine_similarity(matrix_vectors[0], matrix_vectors[2])"
   ]
  },
  {
   "cell_type": "markdown",
   "id": "0d51808b",
   "metadata": {},
   "source": [
    "##### 입력 받은 문장과 유사한 본문 추출하기"
   ]
  },
  {
   "cell_type": "code",
   "execution_count": 44,
   "id": "e6172e7c",
   "metadata": {},
   "outputs": [
    {
     "name": "stdout",
     "output_type": "stream",
     "text": [
      "반도체는 혁명이다. 그러나 반도체가 전부는 아니다. 어떻게 이해해야 할지 잘 모르겠지만, 아마도 이부분은 서러 한번 확인을 해보아야 할 것이라고 생각한다.\n"
     ]
    }
   ],
   "source": [
    "# 문장 입력받기\n",
    "sentence = input()"
   ]
  },
  {
   "cell_type": "code",
   "execution_count": 63,
   "id": "c854407f",
   "metadata": {},
   "outputs": [],
   "source": [
    "# 입력 받은 문장을 비교할 여러 본문 리스트 안에 추가해주기\n",
    "text_articles.append(sentence)"
   ]
  },
  {
   "cell_type": "code",
   "execution_count": 64,
   "id": "12bfc0cd",
   "metadata": {},
   "outputs": [],
   "source": [
    "# 각 본문들 벡터화 하기 => Data Matrix 만들기\n",
    "matrix_vectors = encoder.fit_transform(text_articles)"
   ]
  },
  {
   "cell_type": "code",
   "execution_count": 65,
   "id": "4da83dc3",
   "metadata": {},
   "outputs": [
    {
     "data": {
      "text/plain": [
       "(73, 5000)"
      ]
     },
     "execution_count": 65,
     "metadata": {},
     "output_type": "execute_result"
    }
   ],
   "source": [
    "matrix_vectors.shape"
   ]
  },
  {
   "cell_type": "code",
   "execution_count": 69,
   "id": "8e94236b",
   "metadata": {},
   "outputs": [
    {
     "name": "stdout",
     "output_type": "stream",
     "text": [
      "13번째 와 유사도 : 0.024466509757831788\n",
      "15번째 와 유사도 : 0.014347262791364546\n",
      "22번째 와 유사도 : 0.0189392589037765\n",
      "37번째 와 유사도 : 0.019770073967941792\n",
      "54번째 와 유사도 : 0.017167086542879424\n",
      "55번째 와 유사도 : 0.011424421710647635\n",
      "56번째 와 유사도 : 0.016524701074223994\n",
      "59번째 와 유사도 : 0.04943895057915991\n",
      "61번째 와 유사도 : 0.02918102089997905\n",
      "64번째 와 유사도 : 0.012757044024294551\n",
      "66번째 와 유사도 : 0.012924993053132662\n"
     ]
    }
   ],
   "source": [
    "for i in range(matrix_vectors.shape[0]-1):\n",
    "    cosine_value = cosine_similarity(matrix_vectors[-1], matrix_vectors[i])[0][0]\n",
    "    if cosine_value >0:\n",
    "        print(f\"{i}번째 와 유사도 : {cosine_value}\")"
   ]
  },
  {
   "cell_type": "code",
   "execution_count": null,
   "id": "fbd1db7a",
   "metadata": {},
   "outputs": [],
   "source": []
  },
  {
   "cell_type": "code",
   "execution_count": null,
   "id": "3afa7f7c",
   "metadata": {},
   "outputs": [],
   "source": []
  },
  {
   "cell_type": "code",
   "execution_count": null,
   "id": "72f9af3c",
   "metadata": {},
   "outputs": [],
   "source": []
  },
  {
   "cell_type": "code",
   "execution_count": null,
   "id": "d9e01720",
   "metadata": {},
   "outputs": [],
   "source": []
  },
  {
   "cell_type": "code",
   "execution_count": null,
   "id": "65b3220e",
   "metadata": {},
   "outputs": [],
   "source": []
  },
  {
   "cell_type": "code",
   "execution_count": null,
   "id": "079670f9",
   "metadata": {},
   "outputs": [],
   "source": []
  },
  {
   "cell_type": "code",
   "execution_count": null,
   "id": "93b26eba",
   "metadata": {},
   "outputs": [],
   "source": []
  }
 ],
 "metadata": {
  "kernelspec": {
   "display_name": "Python 3 (ipykernel)",
   "language": "python",
   "name": "python3"
  },
  "language_info": {
   "codemirror_mode": {
    "name": "ipython",
    "version": 3
   },
   "file_extension": ".py",
   "mimetype": "text/x-python",
   "name": "python",
   "nbconvert_exporter": "python",
   "pygments_lexer": "ipython3",
   "version": "3.11.5"
  }
 },
 "nbformat": 4,
 "nbformat_minor": 5
}
