{
 "cells": [
  {
   "cell_type": "markdown",
   "id": "2c776c79",
   "metadata": {},
   "source": [
    "# Test"
   ]
  },
  {
   "cell_type": "code",
   "execution_count": 8,
   "id": "e7dfbb1e",
   "metadata": {},
   "outputs": [],
   "source": [
    "import os\n",
    "import re\n",
    "import pandas as pd\n",
    "import tensorflow as tf\n",
    "from tensorflow.keras import utils\n"
   ]
  },
  {
   "cell_type": "markdown",
   "id": "1afdcb6b",
   "metadata": {},
   "source": [
    "# 데이터 셋 다운"
   ]
  },
  {
   "cell_type": "code",
   "execution_count": 14,
   "id": "ba5f01d2",
   "metadata": {},
   "outputs": [
    {
     "name": "stdout",
     "output_type": "stream",
     "text": [
      "Downloading data from http://ai.stanford.edu/~amaas/data/sentiment/aclImdb_v1.tar.gz\n",
      "84125825/84125825 [==============================] - 78s 1us/step\n"
     ]
    }
   ],
   "source": [
    "# 데이터 셋 다운 받기\n",
    "data_set = tf.keras.utils.get_file(fname=\"imdb.tar.gz\",\n",
    "                                    origin = 'http://ai.stanford.edu/~amaas/data/sentiment/aclImdb_v1.tar.gz',\n",
    "                                    extract = True)"
   ]
  },
  {
   "cell_type": "markdown",
   "id": "7724f135",
   "metadata": {},
   "source": [
    "# Train, Test 데이터 프레임 만들기"
   ]
  },
  {
   "cell_type": "markdown",
   "id": "f8c5d605",
   "metadata": {},
   "source": [
    "##### 함수 정의하기"
   ]
  },
  {
   "cell_type": "code",
   "execution_count": 20,
   "id": "b051b0bb",
   "metadata": {},
   "outputs": [],
   "source": [
    "# 데이터 읽고 데이터 프레임 만들기 함수\n",
    "def directory_data(directory):\n",
    "    data={}\n",
    "    data['review']=[]\n",
    "    \n",
    "    for file_path in os.listdir(directory):\n",
    "        with open(os.path.join(directory, file_path), 'r', encoding='utf=8') as file: # 파일 읽기\n",
    "            data['review'].append(file.read()) # data['review']에 내용 저장하기\n",
    "    return pd.DataFrame.from_dict(data) # 데이터 프레임 반환하기\n",
    "\n",
    "# 긍정, 부정 데이터 프레임 만들기\n",
    "def data(directory):\n",
    "    pos_df = directory_data(os.path.join(directory, 'pos')) # 긍정적 데이터 프레임\n",
    "    neg_df = directory_data(os.path.join(directory, 'neg')) # 부정적 데이터 프레임\n",
    "    \n",
    "    pos_df['sentiment']=1\n",
    "    neg_df['sentiment']=0\n",
    "    \n",
    "    return pd.concat([pos_df, neg_df])"
   ]
  },
  {
   "cell_type": "markdown",
   "id": "3ebdda74",
   "metadata": {},
   "source": [
    "##### Train, Test 데이터 프레임 저장하기"
   ]
  },
  {
   "cell_type": "code",
   "execution_count": null,
   "id": "90a75a1e",
   "metadata": {},
   "outputs": [],
   "source": [
    "train_df = data(os.path.join(os.path.dirname(data_set),\"aclImdb\",\"train\"))\n",
    "test_df = data(os.path.join(os.path.dirname(data_set),\"aclImdb\",\"test\"))"
   ]
  },
  {
   "cell_type": "markdown",
   "id": "77f9a535",
   "metadata": {},
   "source": [
    "##### 분리된 데이터 확인하기"
   ]
  },
  {
   "cell_type": "code",
   "execution_count": null,
   "id": "00d55678",
   "metadata": {},
   "outputs": [],
   "source": []
  }
 ],
 "metadata": {
  "kernelspec": {
   "display_name": "Python 3 (ipykernel)",
   "language": "python",
   "name": "python3"
  },
  "language_info": {
   "codemirror_mode": {
    "name": "ipython",
    "version": 3
   },
   "file_extension": ".py",
   "mimetype": "text/x-python",
   "name": "python",
   "nbconvert_exporter": "python",
   "pygments_lexer": "ipython3",
   "version": "3.11.5"
  }
 },
 "nbformat": 4,
 "nbformat_minor": 5
}
