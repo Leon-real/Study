{
 "cells": [
  {
   "cell_type": "markdown",
   "id": "2c776c79",
   "metadata": {},
   "source": [
    "# [활용] 자연어 처리 : 영화 리뷰 분석하기"
   ]
  },
  {
   "cell_type": "code",
   "execution_count": 2,
   "id": "e7dfbb1e",
   "metadata": {},
   "outputs": [],
   "source": [
    "import os\n",
    "import re\n",
    "import pandas as pd\n",
    "import tensorflow as tf\n",
    "from tensorflow.keras import utils"
   ]
  },
  {
   "cell_type": "markdown",
   "id": "1afdcb6b",
   "metadata": {},
   "source": [
    "# 데이터 셋 다운"
   ]
  },
  {
   "cell_type": "code",
   "execution_count": 4,
   "id": "ba5f01d2",
   "metadata": {},
   "outputs": [],
   "source": [
    "# 데이터 셋 다운 받기\n",
    "data_set = tf.keras.utils.get_file(fname=\"imdb.tar.gz\",\n",
    "                                    origin = 'http://ai.stanford.edu/~amaas/data/sentiment/aclImdb_v1.tar.gz',\n",
    "                                    extract = True)"
   ]
  },
  {
   "cell_type": "markdown",
   "id": "7724f135",
   "metadata": {},
   "source": [
    "# 데이터 셋으로 데이터 프레임 만들기\n",
    "##### 데이터 셋 구성\n",
    "- data_set(폴더)\n",
    "    - aclImdb(폴더)\n",
    "        - train(폴더)\n",
    "            - pos(폴더)\n",
    "            - neg(폴더)\n",
    "        - test(폴더)\n",
    "            - pos(폴더)\n",
    "            - neg(폴더)"
   ]
  },
  {
   "cell_type": "markdown",
   "id": "f8c5d605",
   "metadata": {},
   "source": [
    "##### 함수 정의하기"
   ]
  },
  {
   "cell_type": "code",
   "execution_count": 3,
   "id": "b051b0bb",
   "metadata": {},
   "outputs": [],
   "source": [
    "# 데이터 읽고 데이터 프레임 만들기 함수\n",
    "def directory_data(directory):\n",
    "    data={}\n",
    "    data['review']=[]\n",
    "    \n",
    "    for file_path in os.listdir(directory):\n",
    "        with open(os.path.join(directory, file_path), 'r', encoding='utf=8') as file: # 파일 읽기\n",
    "            data['review'].append(file.read()) # data['review']에 내용 저장하기\n",
    "    return pd.DataFrame.from_dict(data) # 데이터 프레임 반환하기\n",
    "\n",
    "# 긍정, 부정 데이터 프레임 만들기\n",
    "def make_data(directory):\n",
    "    pos_df = directory_data(os.path.join(directory, 'pos')) # 긍정적 데이터 프레임\n",
    "    neg_df = directory_data(os.path.join(directory, 'neg')) # 부정적 데이터 프레임\n",
    "    \n",
    "    pos_df['sentiment']=1\n",
    "    neg_df['sentiment']=0\n",
    "    \n",
    "    return pd.concat([pos_df, neg_df])"
   ]
  },
  {
   "cell_type": "markdown",
   "id": "3ebdda74",
   "metadata": {},
   "source": [
    "##### Train, Test 데이터 프레임 저장하기"
   ]
  },
  {
   "cell_type": "code",
   "execution_count": 5,
   "id": "90a75a1e",
   "metadata": {},
   "outputs": [],
   "source": [
    "train_df = make_data(os.path.join(os.path.dirname(data_set),\"aclImdb\",\"train\"))\n",
    "test_df = make_data(os.path.join(os.path.dirname(data_set),\"aclImdb\",\"test\"))"
   ]
  },
  {
   "cell_type": "markdown",
   "id": "77f9a535",
   "metadata": {},
   "source": [
    "##### 분리된 데이터 확인하기"
   ]
  },
  {
   "cell_type": "code",
   "execution_count": 6,
   "id": "00d55678",
   "metadata": {},
   "outputs": [
    {
     "data": {
      "text/html": [
       "<div>\n",
       "<style scoped>\n",
       "    .dataframe tbody tr th:only-of-type {\n",
       "        vertical-align: middle;\n",
       "    }\n",
       "\n",
       "    .dataframe tbody tr th {\n",
       "        vertical-align: top;\n",
       "    }\n",
       "\n",
       "    .dataframe thead th {\n",
       "        text-align: right;\n",
       "    }\n",
       "</style>\n",
       "<table border=\"1\" class=\"dataframe\">\n",
       "  <thead>\n",
       "    <tr style=\"text-align: right;\">\n",
       "      <th></th>\n",
       "      <th>review</th>\n",
       "      <th>sentiment</th>\n",
       "    </tr>\n",
       "  </thead>\n",
       "  <tbody>\n",
       "    <tr>\n",
       "      <th>0</th>\n",
       "      <td>I went and saw this movie last night after bei...</td>\n",
       "      <td>1</td>\n",
       "    </tr>\n",
       "    <tr>\n",
       "      <th>1</th>\n",
       "      <td>Actor turned director Bill Paxton follows up h...</td>\n",
       "      <td>1</td>\n",
       "    </tr>\n",
       "    <tr>\n",
       "      <th>2</th>\n",
       "      <td>As a recreational golfer with some knowledge o...</td>\n",
       "      <td>1</td>\n",
       "    </tr>\n",
       "    <tr>\n",
       "      <th>3</th>\n",
       "      <td>I saw this film in a sneak preview, and it is ...</td>\n",
       "      <td>1</td>\n",
       "    </tr>\n",
       "    <tr>\n",
       "      <th>4</th>\n",
       "      <td>Bill Paxton has taken the true story of the 19...</td>\n",
       "      <td>1</td>\n",
       "    </tr>\n",
       "  </tbody>\n",
       "</table>\n",
       "</div>"
      ],
      "text/plain": [
       "                                              review  sentiment\n",
       "0  I went and saw this movie last night after bei...          1\n",
       "1  Actor turned director Bill Paxton follows up h...          1\n",
       "2  As a recreational golfer with some knowledge o...          1\n",
       "3  I saw this film in a sneak preview, and it is ...          1\n",
       "4  Bill Paxton has taken the true story of the 19...          1"
      ]
     },
     "execution_count": 6,
     "metadata": {},
     "output_type": "execute_result"
    }
   ],
   "source": [
    "test_df.head()"
   ]
  },
  {
   "cell_type": "code",
   "execution_count": null,
   "id": "47bcf2a2",
   "metadata": {},
   "outputs": [],
   "source": []
  }
 ],
 "metadata": {
  "kernelspec": {
   "display_name": "Python 3 (ipykernel)",
   "language": "python",
   "name": "python3"
  },
  "language_info": {
   "codemirror_mode": {
    "name": "ipython",
    "version": 3
   },
   "file_extension": ".py",
   "mimetype": "text/x-python",
   "name": "python",
   "nbconvert_exporter": "python",
   "pygments_lexer": "ipython3",
   "version": "3.11.5"
  }
 },
 "nbformat": 4,
 "nbformat_minor": 5
}
