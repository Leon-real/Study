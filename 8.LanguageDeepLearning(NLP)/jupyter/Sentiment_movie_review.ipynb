{
 "cells": [
  {
   "cell_type": "markdown",
   "id": "3f7cdc05",
   "metadata": {},
   "source": [
    "# Test"
   ]
  },
  {
   "cell_type": "code",
   "execution_count": 8,
   "id": "49f6fe7e",
   "metadata": {},
   "outputs": [],
   "source": [
    "import os\n",
    "import re\n",
    "import pandas as pd\n",
    "import tensorflow as tf\n",
    "from tensorflow.keras import utils\n"
   ]
  },
  {
   "cell_type": "markdown",
   "id": "0f01961f",
   "metadata": {},
   "source": [
    "# 데이터 셋 다운"
   ]
  },
  {
   "cell_type": "code",
   "execution_count": null,
   "id": "e021555a",
   "metadata": {},
   "outputs": [
    {
     "name": "stdout",
     "output_type": "stream",
     "text": [
      "Downloading data from http://ai.stanford.edu/~amaas/data/sentiment/aclImdb_v1.tar.gz\n",
      "84125825/84125825 [==============================] - 78s 1us/step\n"
     ]
    }
   ],
   "source": [
    "data_set = tf.keras.utils.get_file(fname=\"imdb.tar.gz\",\n",
    "                                    origin = 'http://ai.stanford.edu/~amaas/data/sentiment/aclImdb_v1.tar.gz',\n",
    "                                    extract = True)"
   ]
  },
  {
   "cell_type": "code",
   "execution_count": null,
   "id": "d19274b3",
   "metadata": {},
   "outputs": [],
   "source": []
  }
 ],
 "metadata": {
  "kernelspec": {
   "display_name": "Python 3 (ipykernel)",
   "language": "python",
   "name": "python3"
  },
  "language_info": {
   "codemirror_mode": {
    "name": "ipython",
    "version": 3
   },
   "file_extension": ".py",
   "mimetype": "text/x-python",
   "name": "python",
   "nbconvert_exporter": "python",
   "pygments_lexer": "ipython3",
   "version": "3.11.5"
  }
 },
 "nbformat": 4,
 "nbformat_minor": 5
}
