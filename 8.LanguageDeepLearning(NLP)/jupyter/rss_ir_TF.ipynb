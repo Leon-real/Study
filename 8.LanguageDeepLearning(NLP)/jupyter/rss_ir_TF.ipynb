{
 "cells": [
  {
   "cell_type": "markdown",
   "id": "bf73e9c7",
   "metadata": {},
   "source": [
    "# RSS Infomation Research"
   ]
  },
  {
   "cell_type": "code",
   "execution_count": 1,
   "id": "bcc065a7",
   "metadata": {},
   "outputs": [],
   "source": [
    "# RSS에서 xml태그 별 정보 추출\n",
    "!pip install feedparser \n",
    "\n",
    "# 인터넷 신문기사 분석(라이브러리 내의 \"Article()\"사용하기 위해)\n",
    "!pip install newspaper3k \n",
    "\n",
    "# 한국어 형태소 분석기 (주어진 문장에서 명사만 추출할 목적으로 사용)\n",
    "!pip install konlpy "
   ]
  },
  {
   "cell_type": "markdown",
   "id": "65217f00",
   "metadata": {},
   "source": [
    "# 라이브러리 불러오기"
   ]
  },
  {
   "cell_type": "code",
   "execution_count": 11,
   "id": "12e4917f",
   "metadata": {},
   "outputs": [],
   "source": [
    "import feedparser # xml 태그별 정보 추출\n",
    "from newspaper import Article # 인터넷 신문 기사 분석\n",
    "from konlpy.tag import Okt # 한국어 형태소 분석기\n",
    "from collections import Counter # 갯수 세기(TF계산용)\n",
    "from operator import eq # 동일한 단어인지 여부 확인 위해 사용\n",
    "from bs4 import BeautifulSoup # 글에 존재할지 모르는 html 태그 삭제를 위해 사용"
   ]
  },
  {
   "cell_type": "markdown",
   "id": "12bb309d",
   "metadata": {},
   "source": [
    "# 정보 수집할 rss 링크 설정 및 정보 수집하기\n",
    "\n",
    "##### 전자신문 (https://www.etnews.com/rss/) 의 오늘의 뉴스 부분 "
   ]
  },
  {
   "cell_type": "markdown",
   "id": "9023fe36",
   "metadata": {},
   "source": [
    "##### 함수 정의"
   ]
  },
  {
   "cell_type": "code",
   "execution_count": 2,
   "id": "f110fa3d",
   "metadata": {},
   "outputs": [],
   "source": [
    "# 제목, 링크 수집 함수\n",
    "def crawl_rss(urls):\n",
    "    array_rss = [] # 모든 기사를 넣을 리스트\n",
    "    titles_rss = set() # 중복된 기사를 제거하기 위한 기사 제목들 집합\n",
    "    \n",
    "    for url in urls: # url 순회\n",
    "        print(f\"[Crawl Rss] {url}\") # 현재 크롤링하는 rss 링크 출력\n",
    "        parser_rss = feedparser.parse(url) # 현재 url을 파싱해서, 그 결과를 저장\n",
    "        for p in parser_rss.entries:\n",
    "            if p.title not in titles_rss: # 중복되지 않은 기사 일 경우 if 문 실행\n",
    "                array_rss.append({'title':p.title, 'link':p.link})\n",
    "                titles_rss.add(p.title)\n",
    "#             else:\n",
    "#                 print(f\"Duplicated Title : {p.title}\")\n",
    "    return array_rss\n",
    "\n",
    "# 링크를 통해 제목, 본문 내용 추출\n",
    "def crawl_article(url, language='ko'):\n",
    "    print(f\"[Crawling. . .] {url}\") # 현재 크롤링하는 링크 출력\n",
    "    news_paper = Article(url, language=language)\n",
    "    news_paper.download()\n",
    "    news_paper.parse()\n",
    "    return news_paper.title, preprocessing(news_paper.text)\n",
    "\n",
    "# 불용어 전처리\n",
    "def preprocessing(text): \n",
    "    text_article = BeautifulSoup(text, 'html5lib').get_text() # html 태그 제거하기\n",
    "    return text_article"
   ]
  },
  {
   "cell_type": "code",
   "execution_count": 3,
   "id": "e62bcca4",
   "metadata": {
    "scrolled": true
   },
   "outputs": [
    {
     "name": "stdout",
     "output_type": "stream",
     "text": [
      "[Crawl Rss] http://rss.etnews.com/Section901.xml\n",
      "[Crawl Rss] http://rss.etnews.com/Section902.xml\n",
      "[Crawl Rss] http://rss.etnews.com/Section903.xml\n",
      "[Crawl Rss] http://rss.etnews.com/Section904.xml\n",
      "[Crawling. . .] https://www.etnews.com/20230927000013\n",
      "[Crawling. . .] https://www.etnews.com/20230926000368\n",
      "[Crawling. . .] https://www.etnews.com/20230927000007\n",
      "[Crawling. . .] https://www.etnews.com/20230926000363\n",
      "[Crawling. . .] https://www.etnews.com/20230926000316\n",
      "[Crawling. . .] https://www.etnews.com/20230926000189\n",
      "[Crawling. . .] https://www.etnews.com/20230926000364\n",
      "[Crawling. . .] https://www.etnews.com/20230926000344\n",
      "[Crawling. . .] https://www.etnews.com/20230926000205\n",
      "[Crawling. . .] https://www.etnews.com/20230926000340\n",
      "[Crawling. . .] https://www.etnews.com/20230926000328\n",
      "[Crawling. . .] https://www.etnews.com/20230926000101\n",
      "[Crawling. . .] https://www.etnews.com/20230924000164\n",
      "[Crawling. . .] https://www.etnews.com/20230926000288\n",
      "[Crawling. . .] https://www.etnews.com/20230926000275\n",
      "[Crawling. . .] https://www.etnews.com/20230926000178\n",
      "[Crawling. . .] https://www.etnews.com/20230926000231\n",
      "[Crawling. . .] https://www.etnews.com/20230926000185\n",
      "[Crawling. . .] https://www.etnews.com/20230926000069\n",
      "[Crawling. . .] https://www.etnews.com/20230926000282\n",
      "[Crawling. . .] https://www.etnews.com/20230926000266\n",
      "[Crawling. . .] https://www.etnews.com/20230924000163\n",
      "[Crawling. . .] https://www.etnews.com/20230924000162\n",
      "[Crawling. . .] https://www.etnews.com/20230926000249\n",
      "[Crawling. . .] https://www.etnews.com/20230926000246\n",
      "[Crawling. . .] https://www.etnews.com/20230926000234\n",
      "[Crawling. . .] https://www.etnews.com/20230926000212\n",
      "[Crawling. . .] https://www.etnews.com/20230926000198\n",
      "[Crawling. . .] https://www.etnews.com/20230926000194\n",
      "[Crawling. . .] https://www.etnews.com/20230926000184\n",
      "[Crawling. . .] https://www.etnews.com/20230927000018\n",
      "[Crawling. . .] https://www.etnews.com/20230927000017\n",
      "[Crawling. . .] https://www.etnews.com/20230927000016\n",
      "[Crawling. . .] https://www.etnews.com/20230927000015\n",
      "[Crawling. . .] https://www.etnews.com/20230927000014\n",
      "[Crawling. . .] https://www.etnews.com/20230927000012\n",
      "[Crawling. . .] https://www.etnews.com/20230927000011\n",
      "[Crawling. . .] https://www.etnews.com/20230926000349\n",
      "[Crawling. . .] https://www.etnews.com/20230926000338\n",
      "[Crawling. . .] https://www.etnews.com/20230926000321\n",
      "[Crawling. . .] https://www.etnews.com/20230926000169\n",
      "[Crawling. . .] https://www.etnews.com/20230926000133\n",
      "[Crawling. . .] https://www.etnews.com/20230927000010\n",
      "[Crawling. . .] https://www.etnews.com/20230927000009\n",
      "[Crawling. . .] https://www.etnews.com/20230927000008\n",
      "[Crawling. . .] https://www.etnews.com/20230927000006\n",
      "[Crawling. . .] https://www.etnews.com/20230927000005\n",
      "[Crawling. . .] https://www.etnews.com/20230926000362\n",
      "[Crawling. . .] https://www.etnews.com/20230927000004\n",
      "[Crawling. . .] https://www.etnews.com/20230927000002\n",
      "[Crawling. . .] https://www.etnews.com/20230927000001\n",
      "[Crawling. . .] https://www.etnews.com/20230926000367\n",
      "[Crawling. . .] https://www.etnews.com/20230926000366\n",
      "[Crawling. . .] https://www.etnews.com/20230925000231\n",
      "[Crawling. . .] https://www.etnews.com/20230925000090\n",
      "[Crawling. . .] https://www.etnews.com/20230924000040\n",
      "[Crawling. . .] https://www.etnews.com/20230925000207\n",
      "[Crawling. . .] https://www.etnews.com/20230926000006\n",
      "[Crawling. . .] https://www.etnews.com/20230922000215\n",
      "[Crawling. . .] https://www.etnews.com/20230922000198\n",
      "[Crawling. . .] https://www.etnews.com/20230922000216\n",
      "[Crawling. . .] https://www.etnews.com/20230925000171\n",
      "[Crawling. . .] https://www.etnews.com/20230923000006\n",
      "[Crawling. . .] https://www.etnews.com/20230922000217\n",
      "[Crawling. . .] https://www.etnews.com/20230922000187\n",
      "[Crawling. . .] https://www.etnews.com/20230925000232\n",
      "[Crawling. . .] https://www.etnews.com/20230925000313\n",
      "[Crawling. . .] https://www.etnews.com/20230925000191\n",
      "[Crawling. . .] https://www.etnews.com/20230925000135\n"
     ]
    }
   ],
   "source": [
    "# 정보 수집할 rss 링크 모음\n",
    "urls = ['http://rss.etnews.com/Section901.xml',\n",
    "        'http://rss.etnews.com/Section902.xml',\n",
    "        'http://rss.etnews.com/Section903.xml',\n",
    "        'http://rss.etnews.com/Section904.xml']\n",
    "\n",
    "# 제목과 기사 링크 수집하기\n",
    "list_articles = crawl_rss(urls)\n",
    "\n",
    "# 수집한 (제목,기사링크)를 토대로 제목과 본문 내용 수집하기\n",
    "for article in list_articles:\n",
    "    _, text = crawl_article(article['link'])\n",
    "    article['text'] = text"
   ]
  },
  {
   "cell_type": "markdown",
   "id": "b18a3360",
   "metadata": {},
   "source": [
    "# 수집 내용 확인하기"
   ]
  },
  {
   "cell_type": "code",
   "execution_count": 4,
   "id": "15ae06d8",
   "metadata": {},
   "outputs": [
    {
     "data": {
      "text/plain": [
       "{'title': '부산시 국가 R&D 예산 증액 분야에 전략 대응',\n",
       " 'link': 'https://www.etnews.com/20230927000013',\n",
       " 'text': \"부산시가 정부 연구개발(R&D) 제도 변화에 발맞춰 부산 R&D 체계를 혁신한다.\\n\\n\\n\\n부산시는 최근 지역 내외 산·학·연·관 R&D 관계자 30여명과 '부산 R&D 혁신 정책토론회'을 열고, 정부 R&D 제도 변화에 따른 국비 유치 전략 재정립을 비롯해 R&D 혁신방안을 모색했다고 27일 밝혔다.\\n\\n\\n\\n토론회 참석자들은 부산 R&D 혁신 방안으로 △R&D체계 개선 △12대 국가전략기술 부산 유망 분야 집중 육성 △지역전략산업 글로벌 초격차 R&D 추진 △부산 R&D기획 지원제도 개편 △부산 자체 R&D 디지털플랫폼 마련 등을 제시했다.\\n\\n\\n\\nR&D체계 개선을 위해서는 정부 7개 핵심기술 분야 지역 공동기획·협력사업에 대한 가산점 부여와 상대평가 방식의 성과평가 도입을 제안했다.\\n\\n\\n\\n12대 국가전략기술 가운데 부산 유망 분야를 선정해 기초 원천기술 개발에서 산업 생태계 조성까지 집중 지원해야 한다는 의견도 나왔다. 지역 핵심 거점과 연계한 지역전략산업 초격차 R&D 추진 필요성도 제시됐다.\\n\\n\\n\\n참석자들은 특히 양자, 이차전지, 첨단바이오, 반도체 등 국가 R&D사업 예산이 증액될 분야의 공모사업에 전략적 대응이 필요하다고 입을 모았다. 국비 유치를 위해 산학연관 협력체계와 R&D 기획력 강화를 주문했다.\\n\\n\\n\\n이경덕 부산시 미래산업국장은 “제시된 의견을 수렴해 구체적인 R&D 혁신 방향과 방안을 마련하겠다”며 “국가 R&D 변화에 선도적으로 대응해 신규 R&D 분야에서 국비를 대폭 확보하는 성과를 거두겠다”고 말했다.\\n\\n\\n\\n한편, 정부는 선도형 R&D로 전환을 위해 '정부 R&D 제도혁신 방안'을 수립하고 지난 8월 이를 반영한 '2024년 국가 R&D 예산 배분 조정결과'를 발표했다.\\n\\n\\n\\n정부 R&D 제도혁신 방안은 정부 R&D의 누적된 비효율을 해소하고, 선진국과 함께하는 혁신적 R&D로 유능한 인재를 키워내는 R&D다운 R&D로 탈바꿈이 골자다. 주요 방안으로 △국내 연구 위주에서 글로벌 협력연구로 전환 △정부 R&D 지원시스템 혁신 △평가관리제도 혁신 △재정집행점검, 사업구조조정, 상대평가 전면도입 등을 추진한다.\\n\\n\\n\\n정부는 2024년 국가 주요 R&D사업 예산을 전년 대비 13.9% 줄인 21조원 규모로 편성했다. 반면 글로벌 협력, 첨단바이오, 인공지능, 양자, 우주 등 7대 핵심 분야는 확대했다.\\n\\n\\n\\n부산=임동식 기자 dslim@etnews.com\"}"
      ]
     },
     "execution_count": 4,
     "metadata": {},
     "output_type": "execute_result"
    }
   ],
   "source": [
    "list_articles[0]"
   ]
  },
  {
   "cell_type": "markdown",
   "id": "63d9b67d",
   "metadata": {},
   "source": [
    "# 모든 본문 text에서 명사  (키워드, 빈도수) 추출"
   ]
  },
  {
   "cell_type": "markdown",
   "id": "04f6e73d",
   "metadata": {},
   "source": [
    "##### 키워드와 빈도수 추출하는 함수 정의"
   ]
  },
  {
   "cell_type": "code",
   "execution_count": 5,
   "id": "450e2398",
   "metadata": {},
   "outputs": [],
   "source": [
    "def get_keywords_and_frequency(text,nKeywords=10): #텍스트와  추출할 키워드 개수\n",
    "    spliter = Okt() # Okt 객체 생성\n",
    "    nouns = spliter.nouns(text) # 명사 추출 \n",
    "    count = Counter(nouns) # 명사별 빈도수 추출\n",
    "    list_keywords = []\n",
    "    \n",
    "    for n,c in count.most_common(nKeywords): # 최빈값 높은 명사 순으로, nKeywords까지 출력\n",
    "        item = {'keyword':n, 'count':c}\n",
    "        list_keywords.append(item)\n",
    "    return list_keywords"
   ]
  },
  {
   "cell_type": "markdown",
   "id": "391703b6",
   "metadata": {},
   "source": [
    "##### 추출 내용 저장하기"
   ]
  },
  {
   "cell_type": "code",
   "execution_count": 6,
   "id": "0d12a9ac",
   "metadata": {},
   "outputs": [],
   "source": [
    "for article in list_articles:\n",
    "    keywords = get_keywords_and_frequency(article['text'])\n",
    "    article['keywords'] = keywords"
   ]
  },
  {
   "cell_type": "markdown",
   "id": "8761ff0c",
   "metadata": {},
   "source": [
    "# 검색어를 입력받아서 그 검색어를 가지고 있는 기사를 출력하기"
   ]
  },
  {
   "cell_type": "code",
   "execution_count": 7,
   "id": "3755f33f",
   "metadata": {},
   "outputs": [],
   "source": [
    "# 검색어와 동일한 키워드가 있을 때, 빈도수 반환\n",
    "def search_articles(query, list_keywords): # 쿼리가 키워드 리스트에 있으면 출력 (없으면 0)\n",
    "    nWords = 0 # 키워드 빈도수 초기화\n",
    "    for kw in list_keywords:\n",
    "        if eq(query, kw['keyword']):\n",
    "            nWords = kw['count']\n",
    "    return nWords"
   ]
  },
  {
   "cell_type": "code",
   "execution_count": 10,
   "id": "ab4d2b05",
   "metadata": {},
   "outputs": [
    {
     "name": "stdout",
     "output_type": "stream",
     "text": [
      "키워드를 입력하세요 : 반도체\n",
      "[TF] 6, [Title] 삼성·LG, 강도 높은 재고조정 효과...3분기 실적 개선 기대↑, [URL] https://www.etnews.com/20230926000178\n",
      "[TF] 20, [Title] 전자신문 테크서밋 내달 18일 개막…반도체·디스플레이 미래기술 엿본다, [URL] https://www.etnews.com/20230926000282\n",
      "[TF] 25, [Title] \"中서 현상 유지만 하라는 것…첨단 반도체 대규모 투자 어려워\", [URL] https://www.etnews.com/20230924000040\n",
      "[TF] 8, [Title] 美, '반도체법' 가드레일 규정 최종 발표, [URL] https://www.etnews.com/20230923000006\n",
      "[TF] 6, [Title] 펨트론, 웨이퍼 표면 검사 장비 국산화, [URL] https://www.etnews.com/20230925000191\n"
     ]
    }
   ],
   "source": [
    "query = input(\"키워드를 입력하세요 : \")\n",
    "\n",
    "for article in list_articles:\n",
    "    nQuery = search_articles(query, article['keywords'])\n",
    "    if nQuery != 0:\n",
    "        print(f\"[TF] {nQuery}, [Title] {article['title']}, [URL] {article['link']}\")"
   ]
  },
  {
   "cell_type": "code",
   "execution_count": 9,
   "id": "eae7e75e",
   "metadata": {},
   "outputs": [
    {
     "data": {
      "text/plain": [
       "{'title': '부산시 국가 R&D 예산 증액 분야에 전략 대응',\n",
       " 'link': 'https://www.etnews.com/20230927000013',\n",
       " 'text': \"부산시가 정부 연구개발(R&D) 제도 변화에 발맞춰 부산 R&D 체계를 혁신한다.\\n\\n\\n\\n부산시는 최근 지역 내외 산·학·연·관 R&D 관계자 30여명과 '부산 R&D 혁신 정책토론회'을 열고, 정부 R&D 제도 변화에 따른 국비 유치 전략 재정립을 비롯해 R&D 혁신방안을 모색했다고 27일 밝혔다.\\n\\n\\n\\n토론회 참석자들은 부산 R&D 혁신 방안으로 △R&D체계 개선 △12대 국가전략기술 부산 유망 분야 집중 육성 △지역전략산업 글로벌 초격차 R&D 추진 △부산 R&D기획 지원제도 개편 △부산 자체 R&D 디지털플랫폼 마련 등을 제시했다.\\n\\n\\n\\nR&D체계 개선을 위해서는 정부 7개 핵심기술 분야 지역 공동기획·협력사업에 대한 가산점 부여와 상대평가 방식의 성과평가 도입을 제안했다.\\n\\n\\n\\n12대 국가전략기술 가운데 부산 유망 분야를 선정해 기초 원천기술 개발에서 산업 생태계 조성까지 집중 지원해야 한다는 의견도 나왔다. 지역 핵심 거점과 연계한 지역전략산업 초격차 R&D 추진 필요성도 제시됐다.\\n\\n\\n\\n참석자들은 특히 양자, 이차전지, 첨단바이오, 반도체 등 국가 R&D사업 예산이 증액될 분야의 공모사업에 전략적 대응이 필요하다고 입을 모았다. 국비 유치를 위해 산학연관 협력체계와 R&D 기획력 강화를 주문했다.\\n\\n\\n\\n이경덕 부산시 미래산업국장은 “제시된 의견을 수렴해 구체적인 R&D 혁신 방향과 방안을 마련하겠다”며 “국가 R&D 변화에 선도적으로 대응해 신규 R&D 분야에서 국비를 대폭 확보하는 성과를 거두겠다”고 말했다.\\n\\n\\n\\n한편, 정부는 선도형 R&D로 전환을 위해 '정부 R&D 제도혁신 방안'을 수립하고 지난 8월 이를 반영한 '2024년 국가 R&D 예산 배분 조정결과'를 발표했다.\\n\\n\\n\\n정부 R&D 제도혁신 방안은 정부 R&D의 누적된 비효율을 해소하고, 선진국과 함께하는 혁신적 R&D로 유능한 인재를 키워내는 R&D다운 R&D로 탈바꿈이 골자다. 주요 방안으로 △국내 연구 위주에서 글로벌 협력연구로 전환 △정부 R&D 지원시스템 혁신 △평가관리제도 혁신 △재정집행점검, 사업구조조정, 상대평가 전면도입 등을 추진한다.\\n\\n\\n\\n정부는 2024년 국가 주요 R&D사업 예산을 전년 대비 13.9% 줄인 21조원 규모로 편성했다. 반면 글로벌 협력, 첨단바이오, 인공지능, 양자, 우주 등 7대 핵심 분야는 확대했다.\\n\\n\\n\\n부산=임동식 기자 dslim@etnews.com\",\n",
       " 'keywords': [{'keyword': '혁신', 'count': 10},\n",
       "  {'keyword': '정부', 'count': 9},\n",
       "  {'keyword': '부산', 'count': 8},\n",
       "  {'keyword': '전략', 'count': 6},\n",
       "  {'keyword': '방안', 'count': 6},\n",
       "  {'keyword': '국가', 'count': 6},\n",
       "  {'keyword': '분야', 'count': 6},\n",
       "  {'keyword': '제도', 'count': 5},\n",
       "  {'keyword': '지역', 'count': 5},\n",
       "  {'keyword': '사업', 'count': 5}]}"
      ]
     },
     "execution_count": 9,
     "metadata": {},
     "output_type": "execute_result"
    }
   ],
   "source": [
    "list_articles[0]"
   ]
  },
  {
   "cell_type": "code",
   "execution_count": null,
   "id": "b5b62a16",
   "metadata": {},
   "outputs": [],
   "source": []
  },
  {
   "cell_type": "code",
   "execution_count": null,
   "id": "ca578a59",
   "metadata": {},
   "outputs": [],
   "source": []
  },
  {
   "cell_type": "code",
   "execution_count": null,
   "id": "44c697c1",
   "metadata": {},
   "outputs": [],
   "source": []
  },
  {
   "cell_type": "code",
   "execution_count": null,
   "id": "78f7126c",
   "metadata": {},
   "outputs": [],
   "source": []
  },
  {
   "cell_type": "code",
   "execution_count": null,
   "id": "fbd1db7a",
   "metadata": {},
   "outputs": [],
   "source": []
  },
  {
   "cell_type": "code",
   "execution_count": null,
   "id": "3afa7f7c",
   "metadata": {},
   "outputs": [],
   "source": []
  },
  {
   "cell_type": "code",
   "execution_count": null,
   "id": "72f9af3c",
   "metadata": {},
   "outputs": [],
   "source": []
  },
  {
   "cell_type": "code",
   "execution_count": null,
   "id": "d9e01720",
   "metadata": {},
   "outputs": [],
   "source": []
  },
  {
   "cell_type": "code",
   "execution_count": null,
   "id": "65b3220e",
   "metadata": {},
   "outputs": [],
   "source": []
  },
  {
   "cell_type": "code",
   "execution_count": null,
   "id": "079670f9",
   "metadata": {},
   "outputs": [],
   "source": []
  },
  {
   "cell_type": "code",
   "execution_count": null,
   "id": "93b26eba",
   "metadata": {},
   "outputs": [],
   "source": []
  }
 ],
 "metadata": {
  "kernelspec": {
   "display_name": "Python 3 (ipykernel)",
   "language": "python",
   "name": "python3"
  },
  "language_info": {
   "codemirror_mode": {
    "name": "ipython",
    "version": 3
   },
   "file_extension": ".py",
   "mimetype": "text/x-python",
   "name": "python",
   "nbconvert_exporter": "python",
   "pygments_lexer": "ipython3",
   "version": "3.11.5"
  }
 },
 "nbformat": 4,
 "nbformat_minor": 5
}
