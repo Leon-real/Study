{
 "cells": [
  {
   "cell_type": "markdown",
   "id": "bf73e9c7",
   "metadata": {},
   "source": [
    "# RSS Infomation Research"
   ]
  },
  {
   "cell_type": "code",
   "execution_count": 1,
   "id": "bcc065a7",
   "metadata": {},
   "outputs": [],
   "source": [
    "# RSS에서 xml태그 별 정보 추출\n",
    "!pip install feedparser \n",
    "\n",
    "# 인터넷 신문기사 분석(라이브러리 내의 \"Article()\"사용하기 위해)\n",
    "!pip install newspaper3k \n",
    "\n",
    "# 한국어 형태소 분석기 (주어진 문장에서 명사만 추출할 목적으로 사용)\n",
    "!pip install konlpy "
   ]
  },
  {
   "cell_type": "markdown",
   "id": "65217f00",
   "metadata": {},
   "source": [
    "# 라이브러리 불러오기"
   ]
  },
  {
   "cell_type": "code",
   "execution_count": 4,
   "id": "12e4917f",
   "metadata": {},
   "outputs": [],
   "source": [
    "import feedparser # xml 태그별 정보 추출\n",
    "from newspaper import Article # 인터넷 신문 기사 분석\n",
    "from konlpy.tag import Okt # 한국어 형태소 분석기\n",
    "from collections import Counter # 갯수 세기(TF계산용)\n",
    "from operator import eq # 동일한 단어인지 여부 확인 위해 사용\n",
    "from bs4 import BeautifulSoup # 글에 존재할지 모르는 html 태그 삭제를 위해 사용"
   ]
  },
  {
   "cell_type": "markdown",
   "id": "12bb309d",
   "metadata": {},
   "source": [
    "# 정보 수집할 rss 링크 설정 및 정보 수집하기\n",
    "\n",
    "##### 전자신문 (https://www.etnews.com/rss/) 의 오늘의 뉴스 부분 "
   ]
  },
  {
   "cell_type": "markdown",
   "id": "9023fe36",
   "metadata": {},
   "source": [
    "##### 함수 정의"
   ]
  },
  {
   "cell_type": "code",
   "execution_count": 5,
   "id": "f110fa3d",
   "metadata": {},
   "outputs": [],
   "source": [
    "# 제목, 링크 수집 함수\n",
    "def crawl_rss(urls):\n",
    "    array_rss = [] # 모든 기사를 넣을 리스트\n",
    "    titles_rss = set() # 중복된 기사를 제거하기 위한 기사 제목들 집합\n",
    "    \n",
    "    for url in urls: # url 순회\n",
    "        print(f\"[Crawl Rss] {url}\") # 현재 크롤링하는 rss 링크 출력\n",
    "        parser_rss = feedparser.parse(url) # 현재 url을 파싱해서, 그 결과를 저장\n",
    "        for p in parser_rss.entries:\n",
    "            if p.title not in titles_rss: # 중복되지 않은 기사 일 경우 if 문 실행\n",
    "                array_rss.append({'title':p.title, 'link':p.link})\n",
    "                titles_rss.add(p.title)\n",
    "#             else:\n",
    "#                 print(f\"Duplicated Title : {p.title}\")\n",
    "    return array_rss\n",
    "\n",
    "# 링크를 통해 제목, 본문 내용 추출\n",
    "def crawl_article(url, language='ko'):\n",
    "    print(f\"[Crawling. . .] {url}\") # 현재 크롤링하는 링크 출력\n",
    "    news_paper = Article(url, language=language)\n",
    "    news_paper.download()\n",
    "    news_paper.parse()\n",
    "    return news_paper.title, news_paper.text"
   ]
  },
  {
   "cell_type": "code",
   "execution_count": 6,
   "id": "e62bcca4",
   "metadata": {
    "scrolled": true
   },
   "outputs": [
    {
     "name": "stdout",
     "output_type": "stream",
     "text": [
      "[Crawl Rss] http://rss.etnews.com/Section901.xml\n",
      "[Crawl Rss] http://rss.etnews.com/Section902.xml\n",
      "[Crawl Rss] http://rss.etnews.com/Section903.xml\n",
      "[Crawl Rss] http://rss.etnews.com/Section904.xml\n",
      "[Crawling. . .] https://www.etnews.com/20230926000183\n",
      "[Crawling. . .] https://www.etnews.com/20230926000128\n",
      "[Crawling. . .] https://www.etnews.com/20230926000101\n",
      "[Crawling. . .] https://www.etnews.com/20230926000070\n",
      "[Crawling. . .] https://www.etnews.com/20230926000033\n",
      "[Crawling. . .] https://www.etnews.com/20230926000022\n",
      "[Crawling. . .] https://www.etnews.com/20230924000164\n",
      "[Crawling. . .] https://www.etnews.com/20230926000288\n",
      "[Crawling. . .] https://www.etnews.com/20230926000275\n",
      "[Crawling. . .] https://www.etnews.com/20230926000231\n",
      "[Crawling. . .] https://www.etnews.com/20230926000185\n",
      "[Crawling. . .] https://www.etnews.com/20230926000069\n",
      "[Crawling. . .] https://www.etnews.com/20230926000282\n",
      "[Crawling. . .] https://www.etnews.com/20230926000274\n",
      "[Crawling. . .] https://www.etnews.com/20230926000266\n",
      "[Crawling. . .] https://www.etnews.com/20230924000163\n",
      "[Crawling. . .] https://www.etnews.com/20230924000162\n",
      "[Crawling. . .] https://www.etnews.com/20230926000249\n",
      "[Crawling. . .] https://www.etnews.com/20230926000246\n",
      "[Crawling. . .] https://www.etnews.com/20230926000234\n",
      "[Crawling. . .] https://www.etnews.com/20230926000212\n",
      "[Crawling. . .] https://www.etnews.com/20230926000198\n",
      "[Crawling. . .] https://www.etnews.com/20230926000194\n",
      "[Crawling. . .] https://www.etnews.com/20230926000184\n",
      "[Crawling. . .] https://www.etnews.com/20230926000086\n",
      "[Crawling. . .] https://www.etnews.com/20230925000322\n",
      "[Crawling. . .] https://www.etnews.com/20230925000316\n",
      "[Crawling. . .] https://www.etnews.com/20230925000312\n",
      "[Crawling. . .] https://www.etnews.com/20230925000310\n",
      "[Crawling. . .] https://www.etnews.com/20230926000141\n",
      "[Crawling. . .] https://www.etnews.com/20230926000325\n",
      "[Crawling. . .] https://www.etnews.com/20230926000118\n",
      "[Crawling. . .] https://www.etnews.com/20230926000052\n",
      "[Crawling. . .] https://www.etnews.com/20230926000018\n",
      "[Crawling. . .] https://www.etnews.com/20230926000324\n",
      "[Crawling. . .] https://www.etnews.com/20230926000322\n",
      "[Crawling. . .] https://www.etnews.com/20230926000320\n",
      "[Crawling. . .] https://www.etnews.com/20230926000319\n",
      "[Crawling. . .] https://www.etnews.com/20230926000318\n",
      "[Crawling. . .] https://www.etnews.com/20230926000317\n",
      "[Crawling. . .] https://www.etnews.com/20230926000315\n",
      "[Crawling. . .] https://www.etnews.com/20230926000314\n",
      "[Crawling. . .] https://www.etnews.com/20230926000313\n",
      "[Crawling. . .] https://www.etnews.com/20230926000312\n",
      "[Crawling. . .] https://www.etnews.com/20230926000297\n",
      "[Crawling. . .] https://www.etnews.com/20230926000310\n",
      "[Crawling. . .] https://www.etnews.com/20230926000308\n",
      "[Crawling. . .] https://www.etnews.com/20230926000307\n",
      "[Crawling. . .] https://www.etnews.com/20230926000305\n",
      "[Crawling. . .] https://www.etnews.com/20230926000304\n",
      "[Crawling. . .] https://www.etnews.com/20230926000303\n",
      "[Crawling. . .] https://www.etnews.com/20230926000301\n",
      "[Crawling. . .] https://www.etnews.com/20230925000231\n",
      "[Crawling. . .] https://www.etnews.com/20230924000040\n",
      "[Crawling. . .] https://www.etnews.com/20230925000090\n",
      "[Crawling. . .] https://www.etnews.com/20230922000215\n",
      "[Crawling. . .] https://www.etnews.com/20230925000207\n",
      "[Crawling. . .] https://www.etnews.com/20230922000198\n",
      "[Crawling. . .] https://www.etnews.com/20230922000216\n",
      "[Crawling. . .] https://www.etnews.com/20230922000218\n",
      "[Crawling. . .] https://www.etnews.com/20230926000006\n",
      "[Crawling. . .] https://www.etnews.com/20230925000171\n",
      "[Crawling. . .] https://www.etnews.com/20230923000006\n",
      "[Crawling. . .] https://www.etnews.com/20230922000217\n",
      "[Crawling. . .] https://www.etnews.com/20230922000187\n",
      "[Crawling. . .] https://www.etnews.com/20230922000233\n",
      "[Crawling. . .] https://www.etnews.com/20230925000313\n",
      "[Crawling. . .] https://www.etnews.com/20230925000191\n",
      "[Crawling. . .] https://www.etnews.com/20230922000447\n",
      "[Crawling. . .] https://www.etnews.com/20230922000181\n",
      "[Crawling. . .] https://www.etnews.com/20230925000232\n",
      "[Crawling. . .] https://www.etnews.com/20230925000181\n"
     ]
    }
   ],
   "source": [
    "# 정보 수집할 rss 링크 모음\n",
    "urls = ['http://rss.etnews.com/Section901.xml',\n",
    "        'http://rss.etnews.com/Section902.xml',\n",
    "        'http://rss.etnews.com/Section903.xml',\n",
    "        'http://rss.etnews.com/Section904.xml']\n",
    "\n",
    "# 제목과 기사 링크 수집하기\n",
    "list_articles = crawl_rss(urls)\n",
    "\n",
    "# 수집한 (제목,기사링크)를 토대로 제목과 본문 내용 수집하기\n",
    "for article in list_articles:\n",
    "    _, text = crawl_article(article['link'])\n",
    "    article['text'] = text"
   ]
  },
  {
   "cell_type": "markdown",
   "id": "b18a3360",
   "metadata": {},
   "source": [
    "# 수집 내용 확인하기"
   ]
  },
  {
   "cell_type": "code",
   "execution_count": 7,
   "id": "15ae06d8",
   "metadata": {},
   "outputs": [
    {
     "data": {
      "text/plain": [
       "{'title': '[사설]공공 정보시스템 안정성 제고하길',\n",
       " 'link': 'https://www.etnews.com/20230926000183',\n",
       " 'text': \"행정·공공기관이 보유한 정보시스템 운영시설의 건물, 전기, 소방·방재 등 안정성 기준이 강화된다.\\n\\n\\n\\n행정안전부가 행정·공공기관이 각종 재난과 재해에도 디지털플랫폼정부(디플정) 서비스를 안정적으로 제공하도록 정보시스템 운영시설 안정성 기준을 반영한 '행정기관 및 공공기관 정보자원 통합기준'을 개정해 12월부터 시행한다.\\n\\n\\n\\n새로운 안정성 기준은 건물, 전기, 소방·방재 등 7개 분야 67개 항목이다. 정보시스템 등급별로 운영시설 안정성 수준을 상·중·하로 나누고 점검 항목을 차등 적용했다.\\n\\n\\n\\n점검 항목은 지진에 대비한 내진 적용 여부, 화재를 대비한 소방 화재 진압, 평상시 운영·유지관리 매뉴얼, 업무연속성계획(BCP) 등을 포함했다. 정보시스템 등급에 따라 정보시스템 등급 1·2 등급은 운영시설 안정성 '상' 기준을, 3등급은 '중' 기준을, 4·5 등급은 '하' 이상 기준을 충족해야 한다.\\n\\n\\n\\n행안부는 행정·공공기관 자체 점검결과를 바탕으로 필요하면 현장점검을 실시할 예정이다. 안정성 점검기준을 충족하지 않는 경우에는 개선도 권고한다.\\n\\n\\n\\n행정·공공기관이 차제에 경각심을 상기하고, 성실하게 실천해야 한다. 행정·공공기관의 정보시스템 운영시설에 문제가 발생하면 디플정 서비스는 물론 국민 일상 생활에도 불편을 초래할 수 밖에 없다. 자연재해이든 인재이든 국가적 손실을 감수해야 하는 만큼 안정성은 아무리 강조해도 지나치지 않는다.\\n\\n\\n\\n행안부가 행정·공공기관의 이행을 독려하고, 미진한 부분을 지속 보완하도록 철저하게 파악하고, 꼼꼼하게 점검하길 바란다. 행정·공공기관의 안전의식이 높아졌다고 하지만 만족해선 안된다.\"}"
      ]
     },
     "execution_count": 7,
     "metadata": {},
     "output_type": "execute_result"
    }
   ],
   "source": [
    "list_articles[0]"
   ]
  },
  {
   "cell_type": "markdown",
   "id": "63d9b67d",
   "metadata": {},
   "source": [
    "# 모든 본문 text에서 명사  (키워드, 빈도수) 추출"
   ]
  },
  {
   "cell_type": "markdown",
   "id": "919a6d78",
   "metadata": {},
   "source": [
    "##### 키워드와 빈도수 추출하는 함수 정의"
   ]
  },
  {
   "cell_type": "code",
   "execution_count": 8,
   "id": "450e2398",
   "metadata": {},
   "outputs": [],
   "source": [
    "def get_keywords_and_frequency(text,nKeywords=10): #텍스트와  추출할 키워드 개수\n",
    "    spliter = Okt() # Okt 객체 생성\n",
    "    nouns = spliter.nouns(text) # 명사 추출 \n",
    "    count = Counter(nouns) # 명사별 빈도수 추출\n",
    "    list_keywords = []\n",
    "    \n",
    "    for n,c in count.most_common(nKeywords): # 최빈값 높은 명사 순으로, nKeywords까지 출력\n",
    "        item = {'keyword':n, 'count':c}\n",
    "        list_keywords.append(item)\n",
    "    return list_keywords"
   ]
  },
  {
   "cell_type": "markdown",
   "id": "84bd77ca",
   "metadata": {},
   "source": [
    "##### 추출 내용 저장하기"
   ]
  },
  {
   "cell_type": "code",
   "execution_count": 10,
   "id": "0d12a9ac",
   "metadata": {},
   "outputs": [],
   "source": [
    "for article in list_articles:\n",
    "    keywords = get_keywords_and_frequency(article['text'])\n",
    "    article['keywords'] = keywords"
   ]
  },
  {
   "cell_type": "markdown",
   "id": "cb7eda90",
   "metadata": {},
   "source": [
    "# 검색어를 입력받아서 그 검색어를 가지고 있는 기사를 출력하기"
   ]
  },
  {
   "cell_type": "code",
   "execution_count": 19,
   "id": "3755f33f",
   "metadata": {},
   "outputs": [],
   "source": [
    "# 검색어와 동일한 키워드가 있을 때, 빈도수 반환\n",
    "def search_articles(query, list_keywords): # 쿼리가 키워드 리스트에 있으면 출력 (없으면 0)\n",
    "    nWords = 0 # 키워드 빈도수 초기화\n",
    "    for kw in list_keywords:\n",
    "        if eq(query, kw['keyword']):\n",
    "            nWords = kw['count']\n",
    "    return nWords"
   ]
  },
  {
   "cell_type": "code",
   "execution_count": 22,
   "id": "ab4d2b05",
   "metadata": {},
   "outputs": [
    {
     "name": "stdout",
     "output_type": "stream",
     "text": [
      "키워드를 입력하세요 : 반도체\n",
      "[TF] 20, [Title] 반도체·디스플레이의 '새 시대(New Era)'…전자신문 테크서밋 내달 18일 개막, [URL] https://www.etnews.com/20230926000282\n",
      "[TF] 10, [Title] [에듀플러스]제2회 도쿄일렉트론코리아 드림업 반도체 캠프, 10월 21일·11월 25일 개최…무료 참가 신청은 이티에듀 홈페이지, [URL] https://www.etnews.com/20230925000316\n",
      "[TF] 25, [Title] \"中서 현상 유지만 하라는 것…첨단 반도체 대규모 투자 어려워\", [URL] https://www.etnews.com/20230924000040\n",
      "[TF] 8, [Title] 美, '반도체법' 가드레일 규정 최종 발표, [URL] https://www.etnews.com/20230923000006\n",
      "[TF] 6, [Title] 펨트론, 웨이퍼 표면 검사 장비 국산화, [URL] https://www.etnews.com/20230925000191\n",
      "[TF] 10, [Title] “美 반도체 보조금 받으면 중국 내 생산능력 5%만 확장 가능”, [URL] https://www.etnews.com/20230922000447\n"
     ]
    }
   ],
   "source": [
    "query = input(\"키워드를 입력하세요 : \")\n",
    "\n",
    "for article in list_articles:\n",
    "    nQuery = search_articles(query, article['keywords'])\n",
    "    if nQuery != 0:\n",
    "        print(f\"[TF] {nQuery}, [Title] {article['title']}, [URL] {article['link']}\")"
   ]
  },
  {
   "cell_type": "code",
   "execution_count": 23,
   "id": "eae7e75e",
   "metadata": {},
   "outputs": [
    {
     "data": {
      "text/plain": [
       "{'title': '[사설]공공 정보시스템 안정성 제고하길',\n",
       " 'link': 'https://www.etnews.com/20230926000183',\n",
       " 'text': \"행정·공공기관이 보유한 정보시스템 운영시설의 건물, 전기, 소방·방재 등 안정성 기준이 강화된다.\\n\\n\\n\\n행정안전부가 행정·공공기관이 각종 재난과 재해에도 디지털플랫폼정부(디플정) 서비스를 안정적으로 제공하도록 정보시스템 운영시설 안정성 기준을 반영한 '행정기관 및 공공기관 정보자원 통합기준'을 개정해 12월부터 시행한다.\\n\\n\\n\\n새로운 안정성 기준은 건물, 전기, 소방·방재 등 7개 분야 67개 항목이다. 정보시스템 등급별로 운영시설 안정성 수준을 상·중·하로 나누고 점검 항목을 차등 적용했다.\\n\\n\\n\\n점검 항목은 지진에 대비한 내진 적용 여부, 화재를 대비한 소방 화재 진압, 평상시 운영·유지관리 매뉴얼, 업무연속성계획(BCP) 등을 포함했다. 정보시스템 등급에 따라 정보시스템 등급 1·2 등급은 운영시설 안정성 '상' 기준을, 3등급은 '중' 기준을, 4·5 등급은 '하' 이상 기준을 충족해야 한다.\\n\\n\\n\\n행안부는 행정·공공기관 자체 점검결과를 바탕으로 필요하면 현장점검을 실시할 예정이다. 안정성 점검기준을 충족하지 않는 경우에는 개선도 권고한다.\\n\\n\\n\\n행정·공공기관이 차제에 경각심을 상기하고, 성실하게 실천해야 한다. 행정·공공기관의 정보시스템 운영시설에 문제가 발생하면 디플정 서비스는 물론 국민 일상 생활에도 불편을 초래할 수 밖에 없다. 자연재해이든 인재이든 국가적 손실을 감수해야 하는 만큼 안정성은 아무리 강조해도 지나치지 않는다.\\n\\n\\n\\n행안부가 행정·공공기관의 이행을 독려하고, 미진한 부분을 지속 보완하도록 철저하게 파악하고, 꼼꼼하게 점검하길 바란다. 행정·공공기관의 안전의식이 높아졌다고 하지만 만족해선 안된다.\",\n",
       " 'keywords': [{'keyword': '공공기관', 'count': 8},\n",
       "  {'keyword': '안정', 'count': 8},\n",
       "  {'keyword': '기준', 'count': 8},\n",
       "  {'keyword': '행정', 'count': 7},\n",
       "  {'keyword': '정보', 'count': 7},\n",
       "  {'keyword': '시스템', 'count': 6},\n",
       "  {'keyword': '운영', 'count': 6},\n",
       "  {'keyword': '점검', 'count': 6},\n",
       "  {'keyword': '시설', 'count': 5},\n",
       "  {'keyword': '등급', 'count': 5}]}"
      ]
     },
     "execution_count": 23,
     "metadata": {},
     "output_type": "execute_result"
    }
   ],
   "source": [
    "list_articles[0]"
   ]
  },
  {
   "cell_type": "code",
   "execution_count": null,
   "id": "b5b62a16",
   "metadata": {},
   "outputs": [],
   "source": []
  },
  {
   "cell_type": "code",
   "execution_count": null,
   "id": "ca578a59",
   "metadata": {},
   "outputs": [],
   "source": []
  },
  {
   "cell_type": "code",
   "execution_count": null,
   "id": "44c697c1",
   "metadata": {},
   "outputs": [],
   "source": []
  },
  {
   "cell_type": "code",
   "execution_count": null,
   "id": "78f7126c",
   "metadata": {},
   "outputs": [],
   "source": []
  },
  {
   "cell_type": "code",
   "execution_count": null,
   "id": "fbd1db7a",
   "metadata": {},
   "outputs": [],
   "source": []
  },
  {
   "cell_type": "code",
   "execution_count": null,
   "id": "3afa7f7c",
   "metadata": {},
   "outputs": [],
   "source": []
  },
  {
   "cell_type": "code",
   "execution_count": null,
   "id": "72f9af3c",
   "metadata": {},
   "outputs": [],
   "source": []
  },
  {
   "cell_type": "code",
   "execution_count": null,
   "id": "d9e01720",
   "metadata": {},
   "outputs": [],
   "source": []
  },
  {
   "cell_type": "code",
   "execution_count": null,
   "id": "65b3220e",
   "metadata": {},
   "outputs": [],
   "source": []
  },
  {
   "cell_type": "code",
   "execution_count": null,
   "id": "079670f9",
   "metadata": {},
   "outputs": [],
   "source": []
  },
  {
   "cell_type": "code",
   "execution_count": null,
   "id": "93b26eba",
   "metadata": {},
   "outputs": [],
   "source": []
  }
 ],
 "metadata": {
  "kernelspec": {
   "display_name": "Python 3 (ipykernel)",
   "language": "python",
   "name": "python3"
  },
  "language_info": {
   "codemirror_mode": {
    "name": "ipython",
    "version": 3
   },
   "file_extension": ".py",
   "mimetype": "text/x-python",
   "name": "python",
   "nbconvert_exporter": "python",
   "pygments_lexer": "ipython3",
   "version": "3.11.5"
  }
 },
 "nbformat": 4,
 "nbformat_minor": 5
}
