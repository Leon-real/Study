{
 "cells": [
  {
   "cell_type": "markdown",
   "id": "0a5c85cd",
   "metadata": {},
   "source": [
    "# RSS Infomation Research"
   ]
  },
  {
   "cell_type": "code",
   "execution_count": 4,
   "id": "4fe6d0af",
   "metadata": {},
   "outputs": [],
   "source": [
    "!pip install feedparser # RSS에서 xml태그 별 정보 추출\n",
    "!pip install newspaper3k # 인터넷 신문기사 분석(라이브러리 내의 \"Article()\"사용하기 위해)\n",
    "!pip install konlpy # 한국어 형태소 분석기 (주어진 문장에서 명사만 추출할 목적으로 사용)"
   ]
  },
  {
   "cell_type": "markdown",
   "id": "24a44d17",
   "metadata": {},
   "source": [
    "# 라이브러리 불러오기"
   ]
  },
  {
   "cell_type": "code",
   "execution_count": 10,
   "id": "fb7d96f7",
   "metadata": {},
   "outputs": [],
   "source": [
    "import feedparser # xml 태그별 정보 추출\n",
    "from newspaper import Article # 인터넷 신문 기사 분석\n",
    "from konlpy.tag import Okt # 한국어 형태소 분석기\n",
    "from collections import Counter # 갯수 세기(TF계산용)\n",
    "from operator import eq # 동일한 단어인지 여부 확인 위해 사용\n",
    "from bs4 import BeautifulSoup # 글에 존재할지 모르는 html 태그 삭제를 위해 사용"
   ]
  },
  {
   "cell_type": "markdown",
   "id": "d4282a0e",
   "metadata": {},
   "source": [
    "# 정보 수집할 rss 링크 설정 및 정보 수집하기\n",
    "\n",
    "##### 전자신문 (https://www.etnews.com/rss/) 의 오늘의 뉴스 부분 "
   ]
  },
  {
   "cell_type": "code",
   "execution_count": 14,
   "id": "17787fe5",
   "metadata": {},
   "outputs": [],
   "source": [
    "# RSS 목록의 list를 받아 모든 기사의 title, link를 list로 구성하여 반환하는\n",
    "# 정보 수집 함수 정의\n",
    "def crawl_rss(urls):\n",
    "    array_rss = [] # 모든 기사를 넣을 리스트\n",
    "    titles_rss = set() # 중복된 기사를 제거하기 위한 기사 제목들 집합\n",
    "    \n",
    "    for url in urls: # url 순회\n",
    "        print(f\"[Crawl Rss] {url}\") # 현재 크롤링하는 rss 링크 출력\n",
    "        parser_rss = feedparser.parse(url) # 현재 url을 파싱해서, 그 결과를 저장\n",
    "        for p in parser_rss.entries:\n",
    "            if p.title not in titles_rss: # 중복되지 않은 기사 일 경우 if 문 실행\n",
    "                array_rss.append({'title':p.title, 'link':p.link})\n",
    "                titles_rss.add(p.title)\n",
    "    return array_rss"
   ]
  },
  {
   "cell_type": "code",
   "execution_count": 15,
   "id": "f26b66f0",
   "metadata": {},
   "outputs": [
    {
     "name": "stdout",
     "output_type": "stream",
     "text": [
      "[Crawl Rss] http://rss.etnews.com/Section901.xml\n",
      "[Crawl Rss] http://rss.etnews.com/Section902.xml\n",
      "[Crawl Rss] http://rss.etnews.com/Section903.xml\n",
      "[Crawl Rss] http://rss.etnews.com/Section904.xml\n"
     ]
    }
   ],
   "source": [
    "# 정보 수집할 rss 링크 모음\n",
    "urls = ['http://rss.etnews.com/Section901.xml',\n",
    "        'http://rss.etnews.com/Section902.xml',\n",
    "        'http://rss.etnews.com/Section903.xml',\n",
    "        'http://rss.etnews.com/Section904.xml']\n",
    "\n",
    "# 정보 수집하기\n",
    "rss = crawl_rss(urls)"
   ]
  },
  {
   "cell_type": "code",
   "execution_count": null,
   "id": "42be0ae6",
   "metadata": {},
   "outputs": [],
   "source": []
  },
  {
   "cell_type": "code",
   "execution_count": null,
   "id": "67f9e317",
   "metadata": {},
   "outputs": [],
   "source": []
  },
  {
   "cell_type": "code",
   "execution_count": null,
   "id": "4377bc9d",
   "metadata": {},
   "outputs": [],
   "source": []
  },
  {
   "cell_type": "code",
   "execution_count": null,
   "id": "422527b4",
   "metadata": {},
   "outputs": [],
   "source": []
  },
  {
   "cell_type": "code",
   "execution_count": null,
   "id": "bc0281f9",
   "metadata": {},
   "outputs": [],
   "source": []
  },
  {
   "cell_type": "code",
   "execution_count": null,
   "id": "e002950d",
   "metadata": {},
   "outputs": [],
   "source": []
  },
  {
   "cell_type": "code",
   "execution_count": null,
   "id": "1b2f2b3a",
   "metadata": {},
   "outputs": [],
   "source": []
  },
  {
   "cell_type": "code",
   "execution_count": null,
   "id": "d79d6e5c",
   "metadata": {},
   "outputs": [],
   "source": []
  },
  {
   "cell_type": "code",
   "execution_count": null,
   "id": "d1d8da67",
   "metadata": {},
   "outputs": [],
   "source": []
  },
  {
   "cell_type": "code",
   "execution_count": null,
   "id": "7d40c9e4",
   "metadata": {},
   "outputs": [],
   "source": []
  },
  {
   "cell_type": "code",
   "execution_count": null,
   "id": "2fdc1784",
   "metadata": {},
   "outputs": [],
   "source": []
  },
  {
   "cell_type": "code",
   "execution_count": null,
   "id": "798cea58",
   "metadata": {},
   "outputs": [],
   "source": []
  },
  {
   "cell_type": "code",
   "execution_count": null,
   "id": "a49ed307",
   "metadata": {},
   "outputs": [],
   "source": []
  },
  {
   "cell_type": "code",
   "execution_count": null,
   "id": "d25260d2",
   "metadata": {},
   "outputs": [],
   "source": []
  },
  {
   "cell_type": "code",
   "execution_count": null,
   "id": "b76b8603",
   "metadata": {},
   "outputs": [],
   "source": []
  },
  {
   "cell_type": "code",
   "execution_count": null,
   "id": "1cd317bb",
   "metadata": {},
   "outputs": [],
   "source": []
  },
  {
   "cell_type": "code",
   "execution_count": null,
   "id": "8437f071",
   "metadata": {},
   "outputs": [],
   "source": []
  }
 ],
 "metadata": {
  "kernelspec": {
   "display_name": "Python 3 (ipykernel)",
   "language": "python",
   "name": "python3"
  },
  "language_info": {
   "codemirror_mode": {
    "name": "ipython",
    "version": 3
   },
   "file_extension": ".py",
   "mimetype": "text/x-python",
   "name": "python",
   "nbconvert_exporter": "python",
   "pygments_lexer": "ipython3",
   "version": "3.11.5"
  }
 },
 "nbformat": 4,
 "nbformat_minor": 5
}
